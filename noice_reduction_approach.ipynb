{
 "cells": [
  {
   "cell_type": "markdown",
   "metadata": {},
   "source": [
    "![](./noice.jpg \"noice\")"
   ]
  },
  {
   "cell_type": "markdown",
   "metadata": {},
   "source": [
    "# Reduction Approach"
   ]
  },
  {
   "cell_type": "code",
   "execution_count": 2,
   "metadata": {},
   "outputs": [
    {
     "name": "stderr",
     "output_type": "stream",
     "text": [
      "/Users/lorenzo/opt/anaconda3/envs/data_science/lib/python3.10/site-packages/tqdm/auto.py:22: TqdmWarning: IProgress not found. Please update jupyter and ipywidgets. See https://ipywidgets.readthedocs.io/en/stable/user_install.html\n",
      "  from .autonotebook import tqdm as notebook_tqdm\n"
     ]
    },
    {
     "data": {
      "text/html": [
       "<div>\n",
       "<style scoped>\n",
       "    .dataframe tbody tr th:only-of-type {\n",
       "        vertical-align: middle;\n",
       "    }\n",
       "\n",
       "    .dataframe tbody tr th {\n",
       "        vertical-align: top;\n",
       "    }\n",
       "\n",
       "    .dataframe thead th {\n",
       "        text-align: right;\n",
       "    }\n",
       "</style>\n",
       "<table border=\"1\" class=\"dataframe\">\n",
       "  <thead>\n",
       "    <tr style=\"text-align: right;\">\n",
       "      <th></th>\n",
       "      <th>emotion</th>\n",
       "      <th>filename</th>\n",
       "      <th>encoded_emotion</th>\n",
       "    </tr>\n",
       "  </thead>\n",
       "  <tbody>\n",
       "    <tr>\n",
       "      <th>0</th>\n",
       "      <td>Disgusted</td>\n",
       "      <td>0.wav</td>\n",
       "      <td>0</td>\n",
       "    </tr>\n",
       "    <tr>\n",
       "      <th>1</th>\n",
       "      <td>Fearful</td>\n",
       "      <td>1.wav</td>\n",
       "      <td>1</td>\n",
       "    </tr>\n",
       "    <tr>\n",
       "      <th>2</th>\n",
       "      <td>Neutral</td>\n",
       "      <td>2.wav</td>\n",
       "      <td>2</td>\n",
       "    </tr>\n",
       "    <tr>\n",
       "      <th>3</th>\n",
       "      <td>Happy</td>\n",
       "      <td>3.wav</td>\n",
       "      <td>3</td>\n",
       "    </tr>\n",
       "    <tr>\n",
       "      <th>4</th>\n",
       "      <td>Angry</td>\n",
       "      <td>4.wav</td>\n",
       "      <td>4</td>\n",
       "    </tr>\n",
       "  </tbody>\n",
       "</table>\n",
       "</div>"
      ],
      "text/plain": [
       "     emotion filename  encoded_emotion\n",
       "0  Disgusted    0.wav                0\n",
       "1    Fearful    1.wav                1\n",
       "2    Neutral    2.wav                2\n",
       "3      Happy    3.wav                3\n",
       "4      Angry    4.wav                4"
      ]
     },
     "execution_count": 2,
     "metadata": {},
     "output_type": "execute_result"
    }
   ],
   "source": [
    "import librosa\n",
    "from scipy.io import wavfile\n",
    "import numpy as np\n",
    "import pandas as pd\n",
    "import matplotlib.pyplot as plt\n",
    "import os\n",
    "import seaborn as sns\n",
    "from tqdm import tqdm\n",
    "\n",
    "from utils import *\n",
    "\n",
    "path = './summer_2022_project/'\n",
    "audio_path = path + 'audio/'\n",
    "\n",
    "df = pd.read_csv(path+'development.csv', dtype={'filename':'string', 'emotion':'string'}) # set string as type\n",
    "eval_df = pd.read_csv(path+'evaluation.csv', dtype={'filename':'string'}) # set string as type\n",
    "\n",
    "labels = df.emotion.unique()\n",
    "labels_dict = {v:k for k,v in enumerate(labels)} #needed to transform categorical labels\n",
    "\n",
    "df['encoded_emotion'] = df['emotion'].map(labels_dict)\n",
    "df.head()"
   ]
  },
  {
   "cell_type": "code",
   "execution_count": 15,
   "metadata": {},
   "outputs": [
    {
     "data": {
      "text/plain": [
       "emotion                 Sad\n",
       "filename           8005.wav\n",
       "encoded_emotion           5\n",
       "Name: 8005, dtype: object"
      ]
     },
     "execution_count": 15,
     "metadata": {},
     "output_type": "execute_result"
    }
   ],
   "source": [
    "df.loc[8005]"
   ]
  },
  {
   "cell_type": "code",
   "execution_count": 21,
   "metadata": {},
   "outputs": [],
   "source": [
    "%%capture\n",
    "d = dict()\n",
    "# all the files have been sampled using the same sample rate. Hence we extract it\n",
    "sr, _ = wavfile.read(audio_path + df.filename.iloc[0])\n",
    "for filename in tqdm(df.filename):\n",
    "    d1 = dict()\n",
    "    features = []\n",
    "    signal, _ = librosa.load(audio_path+filename, sr=None, res_type='kaiser_fast')\n",
    "    try:\n",
    "        mfccs = librosa.feature.mfcc(y=signal, sr=sr, n_mfcc=40)\n",
    "        mfccs_mean = np.mean(mfccs, axis=-1) #mean along time axis. 1 value for each coefficient, the mean one\n",
    "        mfccs_std = np.std(mfccs, axis=-1) #std along time axis. 1 value for each coefficient, the std one\n",
    "        res = np.hstack((mfccs_mean, mfccs_std))\n",
    "        delta_mfccs_mean = np.mean(librosa.feature.delta(mfccs), axis=-1)\n",
    "        res = np.hstack((res, delta_mfccs_mean))\n",
    "        delta2_mfccs_mean = np.mean(librosa.feature.delta(mfccs, order=2), axis=-1)\n",
    "        res = np.hstack((res, delta2_mfccs_mean))\n",
    "        #mel_mean = np.mean(librosa.feature.melspectrogram(signal, sr), axis=-1)\n",
    "        #mel_std = np.std(librosa.feature.melspectrogram(signal, sr), axis=-1)\n",
    "        stft = np.abs(librosa.stft(signal))\n",
    "        chroma_stft = np.mean(librosa.feature.chroma_stft(S=stft, sr=sr), axis=-1)\n",
    "        res = np.hstack((res, chroma_stft))\n",
    "        \n",
    "        \n",
    "        \n",
    "        d1 = {f'feature_{k}':v for k,v in enumerate(res)} # extract mfccs\n",
    "        \n",
    "        d1['duration'] = signal.shape[0]/sr\n",
    "        d1['zcr_mean'] = np.mean(librosa.feature.zero_crossing_rate(y=signal), axis=-1)[0]\n",
    "        #d1['zcr_std'] = np.std(librosa.feature.zero_crossing_rate(y=signal), axis=-1)[0]\n",
    "        d1['rms'] = np.mean(librosa.feature.rms(y=signal), axis=-1)[0]\n",
    "    except:\n",
    "        print(filename)\n",
    "        continue\n",
    "    d[(int)(filename.split('.')[0])] = d1\n",
    "    \n",
    "temp_df = pd.DataFrame.from_dict(d).T    \n",
    "\n",
    "temp_df['encoded_emotion'] = df.encoded_emotion\n",
    "#temp_df['max_sample'] = temp_df['samples'].map(lambda x: max(x))\n",
    "temp_df = temp_df.astype({'duration':float})\n",
    "temp_df.head()"
   ]
  },
  {
   "cell_type": "code",
   "execution_count": 6,
   "metadata": {},
   "outputs": [
    {
     "name": "stdout",
     "output_type": "stream",
     "text": [
      "<class 'pandas.core.frame.DataFrame'>\n",
      "Int64Index: 9596 entries, 0 to 9596\n",
      "Data columns (total 96 columns):\n",
      " #   Column           Non-Null Count  Dtype  \n",
      "---  ------           --------------  -----  \n",
      " 0   feature_0        9596 non-null   float64\n",
      " 1   feature_1        9596 non-null   float64\n",
      " 2   feature_2        9596 non-null   float64\n",
      " 3   feature_3        9596 non-null   float64\n",
      " 4   feature_4        9596 non-null   float64\n",
      " 5   feature_5        9596 non-null   float64\n",
      " 6   feature_6        9596 non-null   float64\n",
      " 7   feature_7        9596 non-null   float64\n",
      " 8   feature_8        9596 non-null   float64\n",
      " 9   feature_9        9596 non-null   float64\n",
      " 10  feature_10       9596 non-null   float64\n",
      " 11  feature_11       9596 non-null   float64\n",
      " 12  feature_12       9596 non-null   float64\n",
      " 13  feature_13       9596 non-null   float64\n",
      " 14  feature_14       9596 non-null   float64\n",
      " 15  feature_15       9596 non-null   float64\n",
      " 16  feature_16       9596 non-null   float64\n",
      " 17  feature_17       9596 non-null   float64\n",
      " 18  feature_18       9596 non-null   float64\n",
      " 19  feature_19       9596 non-null   float64\n",
      " 20  feature_20       9596 non-null   float64\n",
      " 21  feature_21       9596 non-null   float64\n",
      " 22  feature_22       9596 non-null   float64\n",
      " 23  feature_23       9596 non-null   float64\n",
      " 24  feature_24       9596 non-null   float64\n",
      " 25  feature_25       9596 non-null   float64\n",
      " 26  feature_26       9596 non-null   float64\n",
      " 27  feature_27       9596 non-null   float64\n",
      " 28  feature_28       9596 non-null   float64\n",
      " 29  feature_29       9596 non-null   float64\n",
      " 30  feature_30       9596 non-null   float64\n",
      " 31  feature_31       9596 non-null   float64\n",
      " 32  feature_32       9596 non-null   float64\n",
      " 33  feature_33       9596 non-null   float64\n",
      " 34  feature_34       9596 non-null   float64\n",
      " 35  feature_35       9596 non-null   float64\n",
      " 36  feature_36       9596 non-null   float64\n",
      " 37  feature_37       9596 non-null   float64\n",
      " 38  feature_38       9596 non-null   float64\n",
      " 39  feature_39       9596 non-null   float64\n",
      " 40  feature_40       9596 non-null   float64\n",
      " 41  feature_41       9596 non-null   float64\n",
      " 42  feature_42       9596 non-null   float64\n",
      " 43  feature_43       9596 non-null   float64\n",
      " 44  feature_44       9596 non-null   float64\n",
      " 45  feature_45       9596 non-null   float64\n",
      " 46  feature_46       9596 non-null   float64\n",
      " 47  feature_47       9596 non-null   float64\n",
      " 48  feature_48       9596 non-null   float64\n",
      " 49  feature_49       9596 non-null   float64\n",
      " 50  feature_50       9596 non-null   float64\n",
      " 51  feature_51       9596 non-null   float64\n",
      " 52  feature_52       9596 non-null   float64\n",
      " 53  feature_53       9596 non-null   float64\n",
      " 54  feature_54       9596 non-null   float64\n",
      " 55  feature_55       9596 non-null   float64\n",
      " 56  feature_56       9596 non-null   float64\n",
      " 57  feature_57       9596 non-null   float64\n",
      " 58  feature_58       9596 non-null   float64\n",
      " 59  feature_59       9596 non-null   float64\n",
      " 60  feature_60       9596 non-null   float64\n",
      " 61  feature_61       9596 non-null   float64\n",
      " 62  feature_62       9596 non-null   float64\n",
      " 63  feature_63       9596 non-null   float64\n",
      " 64  feature_64       9596 non-null   float64\n",
      " 65  feature_65       9596 non-null   float64\n",
      " 66  feature_66       9596 non-null   float64\n",
      " 67  feature_67       9596 non-null   float64\n",
      " 68  feature_68       9596 non-null   float64\n",
      " 69  feature_69       9596 non-null   float64\n",
      " 70  feature_70       9596 non-null   float64\n",
      " 71  feature_71       9596 non-null   float64\n",
      " 72  feature_72       9596 non-null   float64\n",
      " 73  feature_73       9596 non-null   float64\n",
      " 74  feature_74       9596 non-null   float64\n",
      " 75  feature_75       9596 non-null   float64\n",
      " 76  feature_76       9596 non-null   float64\n",
      " 77  feature_77       9596 non-null   float64\n",
      " 78  feature_78       9596 non-null   float64\n",
      " 79  feature_79       9596 non-null   float64\n",
      " 80  feature_80       9596 non-null   float64\n",
      " 81  feature_81       9596 non-null   float64\n",
      " 82  feature_82       9596 non-null   float64\n",
      " 83  feature_83       9596 non-null   float64\n",
      " 84  feature_84       9596 non-null   float64\n",
      " 85  feature_85       9596 non-null   float64\n",
      " 86  feature_86       9596 non-null   float64\n",
      " 87  feature_87       9596 non-null   float64\n",
      " 88  feature_88       9596 non-null   float64\n",
      " 89  feature_89       9596 non-null   float64\n",
      " 90  feature_90       9596 non-null   float64\n",
      " 91  feature_91       9596 non-null   float64\n",
      " 92  duration         9596 non-null   float64\n",
      " 93  zcr_mean         9596 non-null   float64\n",
      " 94  rms              9596 non-null   float64\n",
      " 95  encoded_emotion  9596 non-null   int64  \n",
      "dtypes: float64(95), int64(1)\n",
      "memory usage: 7.1 MB\n"
     ]
    }
   ],
   "source": [
    "temp_df.info()"
   ]
  },
  {
   "cell_type": "code",
   "execution_count": 22,
   "metadata": {},
   "outputs": [
    {
     "name": "stdout",
     "output_type": "stream",
     "text": [
      "Fitting RF...\n",
      "Predicting using RF...\n",
      "RandomForestClassifier() 0.6984523023285376\n",
      "Fitting SVC...\n",
      "Predicting using SVC...\n",
      "SVC() 0.720459349973933\n"
     ]
    }
   ],
   "source": [
    "from sklearn.preprocessing import MinMaxScaler\n",
    "from sklearn.neural_network import MLPClassifier\n",
    "from sklearn.svm import SVC\n",
    "from sklearn.ensemble import RandomForestClassifier\n",
    "from sklearn.neighbors import KNeighborsClassifier\n",
    "from sklearn.model_selection import train_test_split\n",
    "from sklearn.metrics import f1_score\n",
    "from imblearn.over_sampling import SMOTE\n",
    "\n",
    "\n",
    "scores_rf = []\n",
    "scores_svm = []\n",
    "\n",
    "np.random.seed(0) #to make experiments reproducible\n",
    "\n",
    "\n",
    "smote = SMOTE(random_state=42)\n",
    "\n",
    "X, y = temp_df[temp_df.columns[:-1]], temp_df[temp_df.columns[-1]]\n",
    "X_res, y_res = smote.fit_resample(X,y)\n",
    "\n",
    "# ----- PCA ----- #\n",
    "from sklearn.decomposition import PCA\n",
    "\n",
    "n=50\n",
    "pca = PCA(n_components=n)\n",
    "X_res = pca.fit_transform(X_res)\n",
    "# ----- PCA ----- #\n",
    "\n",
    "minmax = MinMaxScaler()\n",
    "svm_X_res = minmax.fit_transform(X_res)\n",
    "\n",
    "X_train, X_test, y_train, y_test = train_test_split(X_res, y_res, test_size=.2, random_state=42)\n",
    "svm_X_train, svm_X_test, svm_y_train, svm_y_test = train_test_split(svm_X_res, y_res, test_size=.2, random_state=42)\n",
    "\n",
    "y_train = y_train.astype(int)\n",
    "y_test = y_test.astype(int)\n",
    "\n",
    "print('Fitting RF...')\n",
    "rf = RandomForestClassifier().fit(X_train, y_train) # plain rf\n",
    "print('Predicting using RF...')\n",
    "preds = rf.predict(X_test)\n",
    "score = f1_score(y_test, preds, average='macro')\n",
    "scores_rf.append(score)\n",
    "print(rf, score)\n",
    "\n",
    "print('Fitting SVC...')\n",
    "svm = SVC().fit(svm_X_train, y_train)\n",
    "print('Predicting using SVC...')\n",
    "svm_preds = svm.predict(svm_X_test)\n",
    "svm_score = f1_score(y_test, svm_preds, average='macro')\n",
    "scores_svm.append(svm_score)\n",
    "print(svm, svm_score)\n",
    "\n"
   ]
  },
  {
   "cell_type": "code",
   "execution_count": 10,
   "metadata": {},
   "outputs": [
    {
     "data": {
      "text/plain": [
       "<AxesSubplot:>"
      ]
     },
     "execution_count": 10,
     "metadata": {},
     "output_type": "execute_result"
    },
    {
     "data": {
      "image/png": "[encoded data removed]",
      "text/plain": [
       "<Figure size 1080x1080 with 2 Axes>"
      ]
     },
     "metadata": {
      "needs_background": "light"
     },
     "output_type": "display_data"
    }
   ],
   "source": [
    "plt.figure(figsize=(15,15))\n",
    "sns.heatmap(temp_df.corr())"
   ]
  },
  {
   "cell_type": "code",
   "execution_count": 23,
   "metadata": {},
   "outputs": [
    {
     "name": "stderr",
     "output_type": "stream",
     "text": [
      "  0%|          | 0/31 [00:00<?, ?it/s]"
     ]
    },
    {
     "name": "stdout",
     "output_type": "stream",
     "text": [
      "20\n",
      "Fitting RF...\n",
      "Predicting using RF...\n",
      "RandomForestClassifier() 0.6913805361355426\n",
      "Fitting SVC...\n",
      "Predicting using SVC...\n"
     ]
    },
    {
     "name": "stderr",
     "output_type": "stream",
     "text": [
      "  3%|▎         | 1/31 [00:06<03:27,  6.90s/it]"
     ]
    },
    {
     "name": "stdout",
     "output_type": "stream",
     "text": [
      "SVC() 0.6747630775988489\n",
      "25\n",
      "Fitting RF...\n",
      "Predicting using RF...\n",
      "RandomForestClassifier() 0.6972626387658091\n",
      "Fitting SVC...\n",
      "Predicting using SVC...\n"
     ]
    },
    {
     "name": "stderr",
     "output_type": "stream",
     "text": [
      "  6%|▋         | 2/31 [00:15<03:42,  7.67s/it]"
     ]
    },
    {
     "name": "stdout",
     "output_type": "stream",
     "text": [
      "SVC() 0.6959274388339969\n",
      "30\n",
      "Fitting RF...\n",
      "Predicting using RF...\n",
      "RandomForestClassifier() 0.6978762406830743\n",
      "Fitting SVC...\n",
      "Predicting using SVC...\n"
     ]
    },
    {
     "name": "stderr",
     "output_type": "stream",
     "text": [
      " 10%|▉         | 3/31 [00:23<03:42,  7.94s/it]"
     ]
    },
    {
     "name": "stdout",
     "output_type": "stream",
     "text": [
      "SVC() 0.6955496460757157\n",
      "35\n",
      "Fitting RF...\n",
      "Predicting using RF...\n",
      "RandomForestClassifier() 0.6980786403059762\n",
      "Fitting SVC...\n",
      "Predicting using SVC...\n"
     ]
    },
    {
     "name": "stderr",
     "output_type": "stream",
     "text": [
      " 13%|█▎        | 4/31 [00:32<03:41,  8.22s/it]"
     ]
    },
    {
     "name": "stdout",
     "output_type": "stream",
     "text": [
      "SVC() 0.7034155346393983\n",
      "40\n",
      "Fitting RF...\n",
      "Predicting using RF...\n",
      "RandomForestClassifier() 0.6960381009262411\n",
      "Fitting SVC...\n",
      "Predicting using SVC...\n"
     ]
    },
    {
     "name": "stderr",
     "output_type": "stream",
     "text": [
      " 16%|█▌        | 5/31 [00:41<03:46,  8.73s/it]"
     ]
    },
    {
     "name": "stdout",
     "output_type": "stream",
     "text": [
      "SVC() 0.715888156072168\n",
      "45\n",
      "Fitting RF...\n",
      "Predicting using RF...\n",
      "RandomForestClassifier() 0.7038638707135908\n",
      "Fitting SVC...\n",
      "Predicting using SVC...\n"
     ]
    },
    {
     "name": "stderr",
     "output_type": "stream",
     "text": [
      " 19%|█▉        | 6/31 [00:51<03:50,  9.23s/it]"
     ]
    },
    {
     "name": "stdout",
     "output_type": "stream",
     "text": [
      "SVC() 0.7171724301236025\n",
      "50\n",
      "Fitting RF...\n",
      "Predicting using RF...\n",
      "RandomForestClassifier() 0.710683491445156\n",
      "Fitting SVC...\n",
      "Predicting using SVC...\n"
     ]
    },
    {
     "name": "stderr",
     "output_type": "stream",
     "text": [
      " 23%|██▎       | 7/31 [01:02<03:52,  9.69s/it]"
     ]
    },
    {
     "name": "stdout",
     "output_type": "stream",
     "text": [
      "SVC() 0.7189440653706256\n",
      "55\n",
      "Fitting RF...\n",
      "Predicting using RF...\n",
      "RandomForestClassifier() 0.7001268073901432\n",
      "Fitting SVC...\n",
      "Predicting using SVC...\n"
     ]
    },
    {
     "name": "stderr",
     "output_type": "stream",
     "text": [
      " 26%|██▌       | 8/31 [01:13<03:52, 10.09s/it]"
     ]
    },
    {
     "name": "stdout",
     "output_type": "stream",
     "text": [
      "SVC() 0.7283334823799157\n",
      "60\n",
      "Fitting RF...\n",
      "Predicting using RF...\n",
      "RandomForestClassifier() 0.6938169894292746\n",
      "Fitting SVC...\n",
      "Predicting using SVC...\n"
     ]
    },
    {
     "name": "stderr",
     "output_type": "stream",
     "text": [
      " 29%|██▉       | 9/31 [01:24<03:51, 10.54s/it]"
     ]
    },
    {
     "name": "stdout",
     "output_type": "stream",
     "text": [
      "SVC() 0.7222166041454788\n",
      "65\n",
      "Fitting RF...\n",
      "Predicting using RF...\n",
      "RandomForestClassifier() 0.7041122186419164\n",
      "Fitting SVC...\n",
      "Predicting using SVC...\n"
     ]
    },
    {
     "name": "stderr",
     "output_type": "stream",
     "text": [
      " 32%|███▏      | 10/31 [01:36<03:48, 10.89s/it]"
     ]
    },
    {
     "name": "stdout",
     "output_type": "stream",
     "text": [
      "SVC() 0.7240059399146495\n",
      "70\n",
      "Fitting RF...\n",
      "Predicting using RF...\n",
      "RandomForestClassifier() 0.6842992532129359\n",
      "Fitting SVC...\n",
      "Predicting using SVC...\n"
     ]
    },
    {
     "name": "stderr",
     "output_type": "stream",
     "text": [
      " 35%|███▌      | 11/31 [01:49<03:47, 11.35s/it]"
     ]
    },
    {
     "name": "stdout",
     "output_type": "stream",
     "text": [
      "SVC() 0.7239566019944198\n",
      "75\n",
      "Fitting RF...\n",
      "Predicting using RF...\n",
      "RandomForestClassifier() 0.6961455647672395\n",
      "Fitting SVC...\n",
      "Predicting using SVC...\n"
     ]
    },
    {
     "name": "stderr",
     "output_type": "stream",
     "text": [
      " 39%|███▊      | 12/31 [02:02<03:45, 11.85s/it]"
     ]
    },
    {
     "name": "stdout",
     "output_type": "stream",
     "text": [
      "SVC() 0.716355947166237\n",
      "80\n",
      "Fitting RF...\n",
      "Predicting using RF...\n",
      "RandomForestClassifier() 0.6955807457758202\n",
      "Fitting SVC...\n",
      "Predicting using SVC...\n"
     ]
    },
    {
     "name": "stderr",
     "output_type": "stream",
     "text": [
      " 42%|████▏     | 13/31 [02:14<03:39, 12.19s/it]"
     ]
    },
    {
     "name": "stdout",
     "output_type": "stream",
     "text": [
      "SVC() 0.7237033222707453\n",
      "85\n",
      "Fitting RF...\n",
      "Predicting using RF...\n",
      "RandomForestClassifier() 0.685325381467125\n",
      "Fitting SVC...\n",
      "Predicting using SVC...\n"
     ]
    },
    {
     "name": "stderr",
     "output_type": "stream",
     "text": [
      " 45%|████▌     | 14/31 [02:28<03:35, 12.66s/it]"
     ]
    },
    {
     "name": "stdout",
     "output_type": "stream",
     "text": [
      "SVC() 0.7192949042089751\n",
      "90\n",
      "Fitting RF...\n",
      "Predicting using RF...\n",
      "RandomForestClassifier() 0.702385705545454\n",
      "Fitting SVC...\n",
      "Predicting using SVC...\n"
     ]
    },
    {
     "name": "stderr",
     "output_type": "stream",
     "text": [
      " 48%|████▊     | 15/31 [02:42<03:28, 13.05s/it]"
     ]
    },
    {
     "name": "stdout",
     "output_type": "stream",
     "text": [
      "SVC() 0.7268420592797187\n",
      "95\n",
      "Fitting RF...\n",
      "Predicting using RF...\n",
      "RandomForestClassifier() 0.6957648406023804\n",
      "Fitting SVC...\n",
      "Predicting using SVC...\n"
     ]
    },
    {
     "name": "stderr",
     "output_type": "stream",
     "text": [
      " 52%|█████▏    | 16/31 [02:57<03:22, 13.47s/it]"
     ]
    },
    {
     "name": "stdout",
     "output_type": "stream",
     "text": [
      "SVC() 0.7265020462796067\n",
      "100\n",
      "Fitting RF...\n",
      "Predicting using RF...\n",
      "RandomForestClassifier() 0.690794664230503\n",
      "Fitting SVC...\n",
      "Predicting using SVC...\n"
     ]
    },
    {
     "name": "stderr",
     "output_type": "stream",
     "text": [
      " 55%|█████▍    | 17/31 [03:11<03:12, 13.75s/it]"
     ]
    },
    {
     "name": "stdout",
     "output_type": "stream",
     "text": [
      "SVC() 0.723794945037198\n",
      "105\n",
      "Fitting RF...\n",
      "Predicting using RF...\n",
      "RandomForestClassifier() 0.6956750118194863\n",
      "Fitting SVC...\n",
      "Predicting using SVC...\n"
     ]
    },
    {
     "name": "stderr",
     "output_type": "stream",
     "text": [
      " 58%|█████▊    | 18/31 [03:26<03:04, 14.16s/it]"
     ]
    },
    {
     "name": "stdout",
     "output_type": "stream",
     "text": [
      "SVC() 0.7223970274159447\n",
      "110\n",
      "Fitting RF...\n",
      "Predicting using RF...\n",
      "RandomForestClassifier() 0.6935754753059147\n",
      "Fitting SVC...\n",
      "Predicting using SVC...\n"
     ]
    },
    {
     "name": "stderr",
     "output_type": "stream",
     "text": [
      " 61%|██████▏   | 19/31 [03:42<02:54, 14.57s/it]"
     ]
    },
    {
     "name": "stdout",
     "output_type": "stream",
     "text": [
      "SVC() 0.7202408426919751\n",
      "115\n",
      "Fitting RF...\n",
      "Predicting using RF...\n",
      "RandomForestClassifier() 0.6829614034397314\n",
      "Fitting SVC...\n",
      "Predicting using SVC...\n"
     ]
    },
    {
     "name": "stderr",
     "output_type": "stream",
     "text": [
      " 65%|██████▍   | 20/31 [03:57<02:42, 14.77s/it]"
     ]
    },
    {
     "name": "stdout",
     "output_type": "stream",
     "text": [
      "SVC() 0.717472107966901\n",
      "120\n",
      "Fitting RF...\n",
      "Predicting using RF...\n",
      "RandomForestClassifier() 0.690985779769225\n",
      "Fitting SVC...\n",
      "Predicting using SVC...\n"
     ]
    },
    {
     "name": "stderr",
     "output_type": "stream",
     "text": [
      " 68%|██████▊   | 21/31 [04:13<02:30, 15.09s/it]"
     ]
    },
    {
     "name": "stdout",
     "output_type": "stream",
     "text": [
      "SVC() 0.7190095282839536\n",
      "125\n",
      "Fitting RF...\n",
      "Predicting using RF...\n",
      "RandomForestClassifier() 0.6911452055025805\n",
      "Fitting SVC...\n",
      "Predicting using SVC...\n"
     ]
    },
    {
     "name": "stderr",
     "output_type": "stream",
     "text": [
      " 71%|███████   | 22/31 [04:30<02:20, 15.59s/it]"
     ]
    },
    {
     "name": "stdout",
     "output_type": "stream",
     "text": [
      "SVC() 0.7204225541596747\n",
      "130\n",
      "Fitting RF...\n",
      "Predicting using RF...\n",
      "RandomForestClassifier() 0.6945732226082445\n",
      "Fitting SVC...\n",
      "Predicting using SVC...\n"
     ]
    },
    {
     "name": "stderr",
     "output_type": "stream",
     "text": [
      " 74%|███████▍  | 23/31 [04:45<02:03, 15.49s/it]"
     ]
    },
    {
     "name": "stdout",
     "output_type": "stream",
     "text": [
      "SVC() 0.7175705160384848\n",
      "135\n",
      "Fitting RF...\n",
      "Predicting using RF...\n",
      "RandomForestClassifier() 0.6920264100780159\n",
      "Fitting SVC...\n",
      "Predicting using SVC...\n"
     ]
    },
    {
     "name": "stderr",
     "output_type": "stream",
     "text": [
      " 77%|███████▋  | 24/31 [05:01<01:50, 15.72s/it]"
     ]
    },
    {
     "name": "stdout",
     "output_type": "stream",
     "text": [
      "SVC() 0.7200209391800063\n",
      "140\n",
      "Fitting RF...\n",
      "Predicting using RF...\n",
      "RandomForestClassifier() 0.6861317525904914\n",
      "Fitting SVC...\n",
      "Predicting using SVC...\n"
     ]
    },
    {
     "name": "stderr",
     "output_type": "stream",
     "text": [
      " 81%|████████  | 25/31 [05:17<01:34, 15.81s/it]"
     ]
    },
    {
     "name": "stdout",
     "output_type": "stream",
     "text": [
      "SVC() 0.7134323721379611\n",
      "145\n",
      "Fitting RF...\n",
      "Predicting using RF...\n",
      "RandomForestClassifier() 0.6765088977084744\n",
      "Fitting SVC...\n",
      "Predicting using SVC...\n"
     ]
    },
    {
     "name": "stderr",
     "output_type": "stream",
     "text": [
      " 84%|████████▍ | 26/31 [05:34<01:20, 16.01s/it]"
     ]
    },
    {
     "name": "stdout",
     "output_type": "stream",
     "text": [
      "SVC() 0.7117112404769268\n",
      "150\n",
      "Fitting RF...\n",
      "Predicting using RF...\n",
      "RandomForestClassifier() 0.686724100346324\n",
      "Fitting SVC...\n",
      "Predicting using SVC...\n"
     ]
    },
    {
     "name": "stderr",
     "output_type": "stream",
     "text": [
      " 87%|████████▋ | 27/31 [05:50<01:04, 16.18s/it]"
     ]
    },
    {
     "name": "stdout",
     "output_type": "stream",
     "text": [
      "SVC() 0.7103988578119668\n",
      "155\n",
      "Fitting RF...\n",
      "Predicting using RF...\n",
      "RandomForestClassifier() 0.6895404083632155\n",
      "Fitting SVC...\n",
      "Predicting using SVC...\n"
     ]
    },
    {
     "name": "stderr",
     "output_type": "stream",
     "text": [
      " 90%|█████████ | 28/31 [06:07<00:49, 16.49s/it]"
     ]
    },
    {
     "name": "stdout",
     "output_type": "stream",
     "text": [
      "SVC() 0.7116704809785636\n",
      "160\n",
      "Fitting RF...\n",
      "Predicting using RF...\n",
      "RandomForestClassifier() 0.678222616285489\n",
      "Fitting SVC...\n",
      "Predicting using SVC...\n"
     ]
    },
    {
     "name": "stderr",
     "output_type": "stream",
     "text": [
      " 94%|█████████▎| 29/31 [06:24<00:33, 16.50s/it]"
     ]
    },
    {
     "name": "stdout",
     "output_type": "stream",
     "text": [
      "SVC() 0.7099988027005123\n",
      "165\n",
      "Fitting RF...\n",
      "Predicting using RF...\n",
      "RandomForestClassifier() 0.6797225766914764\n",
      "Fitting SVC...\n",
      "Predicting using SVC...\n"
     ]
    },
    {
     "name": "stderr",
     "output_type": "stream",
     "text": [
      " 97%|█████████▋| 30/31 [06:41<00:16, 16.76s/it]"
     ]
    },
    {
     "name": "stdout",
     "output_type": "stream",
     "text": [
      "SVC() 0.709734178155949\n",
      "170\n",
      "Fitting RF...\n",
      "Predicting using RF...\n",
      "RandomForestClassifier() 0.6938271469010732\n",
      "Fitting SVC...\n",
      "Predicting using SVC...\n"
     ]
    },
    {
     "name": "stderr",
     "output_type": "stream",
     "text": [
      "100%|██████████| 31/31 [07:00<00:00, 13.55s/it]"
     ]
    },
    {
     "name": "stdout",
     "output_type": "stream",
     "text": [
      "SVC() 0.7065761634126043\n"
     ]
    },
    {
     "name": "stderr",
     "output_type": "stream",
     "text": [
      "\n"
     ]
    },
    {
     "data": {
      "text/plain": [
       "Text(0.5, 1.0, 'F1 macro score as number of PCA components varies')"
      ]
     },
     "execution_count": 23,
     "metadata": {},
     "output_type": "execute_result"
    },
    {
     "data": {
      "image/png": "[encoded data removed]",
      "text/plain": [
       "<Figure size 864x720 with 1 Axes>"
      ]
     },
     "metadata": {
      "needs_background": "light"
     },
     "output_type": "display_data"
    }
   ],
   "source": [
    "# PCA tuning\n",
    "\n",
    "from sklearn.preprocessing import MinMaxScaler\n",
    "from sklearn.neural_network import MLPClassifier\n",
    "from sklearn.svm import SVC\n",
    "from sklearn.ensemble import RandomForestClassifier\n",
    "from sklearn.neighbors import KNeighborsClassifier\n",
    "from sklearn.model_selection import train_test_split\n",
    "from sklearn.metrics import f1_score\n",
    "from imblearn.over_sampling import SMOTE\n",
    "\n",
    "\n",
    "scores_rf = []\n",
    "scores_svm = []\n",
    "\n",
    "np.random.seed(0) #to make experiments reproducible\n",
    "\n",
    "\n",
    "smote = SMOTE(random_state=42)\n",
    "\n",
    "X, y = temp_df[temp_df.columns[:-1]], temp_df[temp_df.columns[-1]]\n",
    "X_res, y_res = smote.fit_resample(X,y)\n",
    "\n",
    "# ----- PCA ----- #\n",
    "from sklearn.decomposition import PCA\n",
    "\n",
    "ns = list(range(20, len(X.columns),5))\n",
    "for n in tqdm(ns):\n",
    "    print(n)\n",
    "    pca = PCA(n_components=n, random_state=42)\n",
    "    pca_X_res = pca.fit_transform(X_res)\n",
    "\n",
    "\n",
    "    minmax = MinMaxScaler()\n",
    "    svm_X_res = minmax.fit_transform(pca_X_res)\n",
    "\n",
    "    X_train, X_test, y_train, y_test = train_test_split(pca_X_res, y_res, test_size=.2, random_state=42)\n",
    "    svm_X_train, svm_X_test, svm_y_train, svm_y_test = train_test_split(svm_X_res, y_res, test_size=.2, random_state=42)\n",
    "\n",
    "    y_train = y_train.astype(int)\n",
    "    y_test = y_test.astype(int)\n",
    "\n",
    "    print('Fitting RF...')\n",
    "    rf = RandomForestClassifier().fit(X_train, y_train) # plain rf\n",
    "    print('Predicting using RF...')\n",
    "    preds = rf.predict(X_test)\n",
    "    score = f1_score(y_test, preds, average='macro')\n",
    "    scores_rf.append(score)\n",
    "    print(rf, score)\n",
    "\n",
    "    print('Fitting SVC...')\n",
    "    svm = SVC().fit(svm_X_train, y_train)\n",
    "    print('Predicting using SVC...')\n",
    "    svm_preds = svm.predict(svm_X_test)\n",
    "    svm_score = f1_score(y_test, svm_preds, average='macro')\n",
    "    scores_svm.append(svm_score)\n",
    "    print(svm, svm_score)\n",
    "\n",
    "# ----- PCA ----- #\n",
    "plt.figure(figsize=(12,10))\n",
    "plt.plot(ns, scores_rf, label='plain RF')\n",
    "plt.plot(ns, scores_svm, label='plain SVM')\n",
    "plt.legend()\n",
    "plt.xlabel('n')\n",
    "plt.ylabel('F1 macro')\n",
    "plt.title('F1 macro score as number of PCA components varies')"
   ]
  },
  {
   "cell_type": "code",
   "execution_count": 25,
   "metadata": {},
   "outputs": [
    {
     "data": {
      "text/plain": [
       "0.7283334823799157"
      ]
     },
     "execution_count": 25,
     "metadata": {},
     "output_type": "execute_result"
    }
   ],
   "source": [
    "best_id = np.argmax(scores_svm)\n",
    "best_n = ns[best_id]\n",
    "best_n\n",
    "scores_svm[best_id]"
   ]
  },
  {
   "cell_type": "code",
   "execution_count": 39,
   "metadata": {},
   "outputs": [
    {
     "data": {
      "text/plain": [
       "55"
      ]
     },
     "execution_count": 39,
     "metadata": {},
     "output_type": "execute_result"
    }
   ],
   "source": [
    "best_n"
   ]
  },
  {
   "cell_type": "code",
   "execution_count": 35,
   "metadata": {},
   "outputs": [
    {
     "name": "stderr",
     "output_type": "stream",
     "text": [
      "  0%|          | 0/14 [00:00<?, ?it/s]"
     ]
    },
    {
     "name": "stdout",
     "output_type": "stream",
     "text": [
      "Fitting SVC...\n",
      "Predicting using SVC...\n"
     ]
    },
    {
     "name": "stderr",
     "output_type": "stream",
     "text": [
      "  7%|▋         | 1/14 [00:06<01:21,  6.25s/it]"
     ]
    },
    {
     "name": "stdout",
     "output_type": "stream",
     "text": [
      "SVC(C=1, random_state=42) 0.7283334823799157\n",
      "Fitting SVC...\n",
      "Predicting using SVC...\n"
     ]
    },
    {
     "name": "stderr",
     "output_type": "stream",
     "text": [
      " 14%|█▍        | 2/14 [00:12<01:15,  6.33s/it]"
     ]
    },
    {
     "name": "stdout",
     "output_type": "stream",
     "text": [
      "SVC(C=2, random_state=42) 0.7369503271186743\n",
      "Fitting SVC...\n",
      "Predicting using SVC...\n"
     ]
    },
    {
     "name": "stderr",
     "output_type": "stream",
     "text": [
      " 21%|██▏       | 3/14 [00:18<01:09,  6.31s/it]"
     ]
    },
    {
     "name": "stdout",
     "output_type": "stream",
     "text": [
      "SVC(C=3, random_state=42) 0.7472682754399623\n",
      "Fitting SVC...\n",
      "Predicting using SVC...\n"
     ]
    },
    {
     "name": "stderr",
     "output_type": "stream",
     "text": [
      " 29%|██▊       | 4/14 [00:25<01:02,  6.29s/it]"
     ]
    },
    {
     "name": "stdout",
     "output_type": "stream",
     "text": [
      "SVC(C=4, random_state=42) 0.7449579679508097\n",
      "Fitting SVC...\n",
      "Predicting using SVC...\n"
     ]
    },
    {
     "name": "stderr",
     "output_type": "stream",
     "text": [
      " 36%|███▌      | 5/14 [00:31<00:55,  6.21s/it]"
     ]
    },
    {
     "name": "stdout",
     "output_type": "stream",
     "text": [
      "SVC(C=5, random_state=42) 0.7429204301939057\n",
      "Fitting SVC...\n",
      "Predicting using SVC...\n"
     ]
    },
    {
     "name": "stderr",
     "output_type": "stream",
     "text": [
      " 43%|████▎     | 6/14 [00:37<00:49,  6.20s/it]"
     ]
    },
    {
     "name": "stdout",
     "output_type": "stream",
     "text": [
      "SVC(C=6, random_state=42) 0.7440971016588501\n",
      "Fitting SVC...\n",
      "Predicting using SVC...\n"
     ]
    },
    {
     "name": "stderr",
     "output_type": "stream",
     "text": [
      " 50%|█████     | 7/14 [00:43<00:43,  6.20s/it]"
     ]
    },
    {
     "name": "stdout",
     "output_type": "stream",
     "text": [
      "SVC(C=7, random_state=42) 0.7453023236726072\n",
      "Fitting SVC...\n",
      "Predicting using SVC...\n"
     ]
    },
    {
     "name": "stderr",
     "output_type": "stream",
     "text": [
      " 57%|█████▋    | 8/14 [00:50<00:37,  6.31s/it]"
     ]
    },
    {
     "name": "stdout",
     "output_type": "stream",
     "text": [
      "SVC(C=8, random_state=42) 0.7423225492670861\n",
      "Fitting SVC...\n",
      "Predicting using SVC...\n"
     ]
    },
    {
     "name": "stderr",
     "output_type": "stream",
     "text": [
      " 64%|██████▍   | 9/14 [00:56<00:31,  6.32s/it]"
     ]
    },
    {
     "name": "stdout",
     "output_type": "stream",
     "text": [
      "SVC(C=9, random_state=42) 0.7419390578680428\n",
      "Fitting SVC...\n",
      "Predicting using SVC...\n"
     ]
    },
    {
     "name": "stderr",
     "output_type": "stream",
     "text": [
      " 71%|███████▏  | 10/14 [01:02<00:25,  6.33s/it]"
     ]
    },
    {
     "name": "stdout",
     "output_type": "stream",
     "text": [
      "SVC(C=10, random_state=42) 0.7393284437819517\n",
      "Fitting SVC...\n",
      "Predicting using SVC...\n"
     ]
    },
    {
     "name": "stderr",
     "output_type": "stream",
     "text": [
      " 79%|███████▊  | 11/14 [01:09<00:19,  6.40s/it]"
     ]
    },
    {
     "name": "stdout",
     "output_type": "stream",
     "text": [
      "SVC(C=15, random_state=42) 0.7393885181239837\n",
      "Fitting SVC...\n",
      "Predicting using SVC...\n"
     ]
    },
    {
     "name": "stderr",
     "output_type": "stream",
     "text": [
      " 86%|████████▌ | 12/14 [01:16<00:13,  6.50s/it]"
     ]
    },
    {
     "name": "stdout",
     "output_type": "stream",
     "text": [
      "SVC(C=20, random_state=42) 0.7420771829891667\n",
      "Fitting SVC...\n",
      "Predicting using SVC...\n"
     ]
    },
    {
     "name": "stderr",
     "output_type": "stream",
     "text": [
      " 93%|█████████▎| 13/14 [01:23<00:06,  6.63s/it]"
     ]
    },
    {
     "name": "stdout",
     "output_type": "stream",
     "text": [
      "SVC(C=30, random_state=42) 0.7366641435761131\n",
      "Fitting SVC...\n",
      "Predicting using SVC...\n"
     ]
    },
    {
     "name": "stderr",
     "output_type": "stream",
     "text": [
      "100%|██████████| 14/14 [01:30<00:00,  6.43s/it]"
     ]
    },
    {
     "name": "stdout",
     "output_type": "stream",
     "text": [
      "SVC(C=50, random_state=42) 0.7354372804390924\n"
     ]
    },
    {
     "name": "stderr",
     "output_type": "stream",
     "text": [
      "\n"
     ]
    }
   ],
   "source": [
    "from sklearn.svm import NuSVC, SVC, LinearSVC\n",
    "from sklearn.model_selection import GridSearchCV, ParameterGrid\n",
    "best_id = np.argmax(scores_svm)\n",
    "best_n = ns[best_id]\n",
    "pca = PCA(n_components=best_n, random_state=42)\n",
    "pca_X_res = pca.fit_transform(X_res)\n",
    "\n",
    "\n",
    "minmax = MinMaxScaler()\n",
    "svm_X_res = minmax.fit_transform(pca_X_res)\n",
    "\n",
    "svm_X_train, svm_X_test, svm_y_train, svm_y_test = train_test_split(svm_X_res, y_res, test_size=.2, random_state=42)\n",
    "\n",
    "param_grid = {'C':[1,2, 3,4, 5,6, 7,8,9, 10, 15, 20, 30, 50],}\n",
    "              #'kernel': ['rbf', 'linear', 'sigmoid']}\n",
    "              \n",
    "\n",
    "clfs = []\n",
    "for configuration in tqdm(ParameterGrid(param_grid)):\n",
    "    print('Fitting SVC...')\n",
    "    svm = SVC(random_state=42, **configuration).fit(svm_X_train, y_train)\n",
    "    print('Predicting using SVC...')\n",
    "    svm_preds = svm.predict(svm_X_test)\n",
    "    svm_score = f1_score(y_test, svm_preds, average='macro')\n",
    "    print(svm, svm_score)\n",
    "    clfs.append((svm, svm_score))\n",
    "#---tutti peggiori---#\n",
    "# print('Fitting NuSVC...')\n",
    "# svm = NuSVC(random_state=42).fit(svm_X_train, y_train)\n",
    "# print('Predicting using NuSVC...')\n",
    "# svm_preds = svm.predict(svm_X_test)\n",
    "# svm_score = f1_score(y_test, svm_preds, average='macro')\n",
    "# print(svm, svm_score)\n",
    "# print('Fitting LinearSVC...')\n",
    "# svm = LinearSVC(random_state=42).fit(svm_X_train, y_train)\n",
    "# print('Predicting using LinearSVC...')\n",
    "# svm_preds = svm.predict(svm_X_test)\n",
    "# svm_score = f1_score(y_test, svm_preds, average='macro')\n",
    "# print(svm, svm_score)"
   ]
  },
  {
   "cell_type": "code",
   "execution_count": 46,
   "metadata": {},
   "outputs": [
    {
     "data": {
      "text/plain": [
       "(SVC(C=3, random_state=42), 0.7472682754399623)"
      ]
     },
     "execution_count": 46,
     "metadata": {},
     "output_type": "execute_result"
    }
   ],
   "source": [
    "clfs[np.argmax([clf[1] for clf in clfs])]"
   ]
  },
  {
   "cell_type": "code",
   "execution_count": 40,
   "metadata": {},
   "outputs": [
    {
     "data": {
      "text/html": [
       "<style>#sk-container-id-1 {color: black;background-color: white;}#sk-container-id-1 pre{padding: 0;}#sk-container-id-1 div.sk-toggleable {background-color: white;}#sk-container-id-1 label.sk-toggleable__label {cursor: pointer;display: block;width: 100%;margin-bottom: 0;padding: 0.3em;box-sizing: border-box;text-align: center;}#sk-container-id-1 label.sk-toggleable__label-arrow:before {content: \"▸\";float: left;margin-right: 0.25em;color: #696969;}#sk-container-id-1 label.sk-toggleable__label-arrow:hover:before {color: black;}#sk-container-id-1 div.sk-estimator:hover label.sk-toggleable__label-arrow:before {color: black;}#sk-container-id-1 div.sk-toggleable__content {max-height: 0;max-width: 0;overflow: hidden;text-align: left;background-color: #f0f8ff;}#sk-container-id-1 div.sk-toggleable__content pre {margin: 0.2em;color: black;border-radius: 0.25em;background-color: #f0f8ff;}#sk-container-id-1 input.sk-toggleable__control:checked~div.sk-toggleable__content {max-height: 200px;max-width: 100%;overflow: auto;}#sk-container-id-1 input.sk-toggleable__control:checked~label.sk-toggleable__label-arrow:before {content: \"▾\";}#sk-container-id-1 div.sk-estimator input.sk-toggleable__control:checked~label.sk-toggleable__label {background-color: #d4ebff;}#sk-container-id-1 div.sk-label input.sk-toggleable__control:checked~label.sk-toggleable__label {background-color: #d4ebff;}#sk-container-id-1 input.sk-hidden--visually {border: 0;clip: rect(1px 1px 1px 1px);clip: rect(1px, 1px, 1px, 1px);height: 1px;margin: -1px;overflow: hidden;padding: 0;position: absolute;width: 1px;}#sk-container-id-1 div.sk-estimator {font-family: monospace;background-color: #f0f8ff;border: 1px dotted black;border-radius: 0.25em;box-sizing: border-box;margin-bottom: 0.5em;}#sk-container-id-1 div.sk-estimator:hover {background-color: #d4ebff;}#sk-container-id-1 div.sk-parallel-item::after {content: \"\";width: 100%;border-bottom: 1px solid gray;flex-grow: 1;}#sk-container-id-1 div.sk-label:hover label.sk-toggleable__label {background-color: #d4ebff;}#sk-container-id-1 div.sk-serial::before {content: \"\";position: absolute;border-left: 1px solid gray;box-sizing: border-box;top: 0;bottom: 0;left: 50%;z-index: 0;}#sk-container-id-1 div.sk-serial {display: flex;flex-direction: column;align-items: center;background-color: white;padding-right: 0.2em;padding-left: 0.2em;position: relative;}#sk-container-id-1 div.sk-item {position: relative;z-index: 1;}#sk-container-id-1 div.sk-parallel {display: flex;align-items: stretch;justify-content: center;background-color: white;position: relative;}#sk-container-id-1 div.sk-item::before, #sk-container-id-1 div.sk-parallel-item::before {content: \"\";position: absolute;border-left: 1px solid gray;box-sizing: border-box;top: 0;bottom: 0;left: 50%;z-index: -1;}#sk-container-id-1 div.sk-parallel-item {display: flex;flex-direction: column;z-index: 1;position: relative;background-color: white;}#sk-container-id-1 div.sk-parallel-item:first-child::after {align-self: flex-end;width: 50%;}#sk-container-id-1 div.sk-parallel-item:last-child::after {align-self: flex-start;width: 50%;}#sk-container-id-1 div.sk-parallel-item:only-child::after {width: 0;}#sk-container-id-1 div.sk-dashed-wrapped {border: 1px dashed gray;margin: 0 0.4em 0.5em 0.4em;box-sizing: border-box;padding-bottom: 0.4em;background-color: white;}#sk-container-id-1 div.sk-label label {font-family: monospace;font-weight: bold;display: inline-block;line-height: 1.2em;}#sk-container-id-1 div.sk-label-container {text-align: center;}#sk-container-id-1 div.sk-container {/* jupyter's `normalize.less` sets `[hidden] { display: none; }` but bootstrap.min.css set `[hidden] { display: none !important; }` so we also need the `!important` here to be able to override the default hidden behavior on the sphinx rendered scikit-learn.org. See: https://github.com/scikit-learn/scikit-learn/issues/21755 */display: inline-block !important;position: relative;}#sk-container-id-1 div.sk-text-repr-fallback {display: none;}</style><div id=\"sk-container-id-1\" class=\"sk-top-container\"><div class=\"sk-text-repr-fallback\"><pre>PCA(n_components=55, random_state=42)</pre><b>In a Jupyter environment, please rerun this cell to show the HTML representation or trust the notebook. <br />On GitHub, the HTML representation is unable to render, please try loading this page with nbviewer.org.</b></div><div class=\"sk-container\" hidden><div class=\"sk-item\"><div class=\"sk-estimator sk-toggleable\"><input class=\"sk-toggleable__control sk-hidden--visually\" id=\"sk-estimator-id-1\" type=\"checkbox\" checked><label for=\"sk-estimator-id-1\" class=\"sk-toggleable__label sk-toggleable__label-arrow\">PCA</label><div class=\"sk-toggleable__content\"><pre>PCA(n_components=55, random_state=42)</pre></div></div></div></div></div>"
      ],
      "text/plain": [
       "PCA(n_components=55, random_state=42)"
      ]
     },
     "execution_count": 40,
     "metadata": {},
     "output_type": "execute_result"
    }
   ],
   "source": [
    "pca"
   ]
  },
  {
   "cell_type": "code",
   "execution_count": 42,
   "metadata": {},
   "outputs": [
    {
     "name": "stderr",
     "output_type": "stream",
     "text": [
      "100%|██████████| 3201/3201 [00:58<00:00, 54.82it/s]\n"
     ]
    }
   ],
   "source": [
    "# eval\n",
    "\n",
    "d = dict()\n",
    "for filename in tqdm(eval_df.filename):\n",
    "    d1 = dict()\n",
    "    features = []\n",
    "    signal, _ = librosa.load(audio_path+filename, sr=None, res_type='kaiser_fast')\n",
    "    try:\n",
    "        mfccs = librosa.feature.mfcc(y=signal, sr=sr, n_mfcc=40)\n",
    "        mfccs_mean = np.mean(mfccs, axis=-1) #mean along time axis. 1 value for each coefficient, the mean one\n",
    "        mfccs_std = np.std(mfccs, axis=-1) #std along time axis. 1 value for each coefficient, the std one\n",
    "        res = np.hstack((mfccs_mean, mfccs_std))\n",
    "        delta_mfccs_mean = np.mean(librosa.feature.delta(mfccs), axis=-1)\n",
    "        res = np.hstack((res, delta_mfccs_mean))\n",
    "        delta2_mfccs_mean = np.mean(librosa.feature.delta(mfccs, order=2), axis=-1)\n",
    "        res = np.hstack((res, delta2_mfccs_mean))\n",
    "        #mel_mean = np.mean(librosa.feature.melspectrogram(signal, sr), axis=-1)\n",
    "        #mel_std = np.std(librosa.feature.melspectrogram(signal, sr), axis=-1)\n",
    "        stft = np.abs(librosa.stft(signal))\n",
    "        chroma_stft = np.mean(librosa.feature.chroma_stft(S=stft, sr=sr), axis=-1)\n",
    "        res = np.hstack((res, chroma_stft))\n",
    "        \n",
    "        \n",
    "        \n",
    "        d1 = {f'feature_{k}':v for k,v in enumerate(res)} # extract mfccs\n",
    "        \n",
    "        d1['duration'] = signal.shape[0]/sr\n",
    "        d1['zcr_mean'] = np.mean(librosa.feature.zero_crossing_rate(y=signal), axis=-1)[0]\n",
    "        #d1['zcr_std'] = np.std(librosa.feature.zero_crossing_rate(y=signal), axis=-1)[0]\n",
    "        d1['rms'] = np.mean(librosa.feature.rms(y=signal), axis=-1)[0]\n",
    "    except:\n",
    "        print(filename)\n",
    "        continue\n",
    "    d[(int)(filename.split('.')[0])] = d1\n",
    "    \n",
    "eval_temp_df = pd.DataFrame.from_dict(d).T    \n",
    "\n",
    "#temp_df['encoded_emotion'] = df.encoded_emotion\n",
    "#temp_df['max_sample'] = temp_df['samples'].map(lambda x: max(x))\n",
    "eval_temp_df = eval_temp_df.astype({'duration':float})\n",
    "eval_temp_df.head()\n",
    "indexes = eval_temp_df.index"
   ]
  },
  {
   "cell_type": "code",
   "execution_count": 52,
   "metadata": {},
   "outputs": [
    {
     "data": {
      "text/html": [
       "<div>\n",
       "<style scoped>\n",
       "    .dataframe tbody tr th:only-of-type {\n",
       "        vertical-align: middle;\n",
       "    }\n",
       "\n",
       "    .dataframe tbody tr th {\n",
       "        vertical-align: top;\n",
       "    }\n",
       "\n",
       "    .dataframe thead th {\n",
       "        text-align: right;\n",
       "    }\n",
       "</style>\n",
       "<table border=\"1\" class=\"dataframe\">\n",
       "  <thead>\n",
       "    <tr style=\"text-align: right;\">\n",
       "      <th></th>\n",
       "      <th>0</th>\n",
       "      <th>1</th>\n",
       "      <th>2</th>\n",
       "      <th>3</th>\n",
       "      <th>4</th>\n",
       "      <th>5</th>\n",
       "      <th>6</th>\n",
       "      <th>7</th>\n",
       "      <th>8</th>\n",
       "      <th>9</th>\n",
       "      <th>...</th>\n",
       "      <th>45</th>\n",
       "      <th>46</th>\n",
       "      <th>47</th>\n",
       "      <th>48</th>\n",
       "      <th>49</th>\n",
       "      <th>50</th>\n",
       "      <th>51</th>\n",
       "      <th>52</th>\n",
       "      <th>53</th>\n",
       "      <th>54</th>\n",
       "    </tr>\n",
       "  </thead>\n",
       "  <tbody>\n",
       "    <tr>\n",
       "      <th>0</th>\n",
       "      <td>0.249479</td>\n",
       "      <td>0.460955</td>\n",
       "      <td>0.488623</td>\n",
       "      <td>0.285264</td>\n",
       "      <td>0.475523</td>\n",
       "      <td>0.640129</td>\n",
       "      <td>0.532603</td>\n",
       "      <td>0.425557</td>\n",
       "      <td>0.277063</td>\n",
       "      <td>0.472352</td>\n",
       "      <td>...</td>\n",
       "      <td>0.558911</td>\n",
       "      <td>0.415129</td>\n",
       "      <td>0.557953</td>\n",
       "      <td>0.446390</td>\n",
       "      <td>0.377057</td>\n",
       "      <td>0.404590</td>\n",
       "      <td>0.285816</td>\n",
       "      <td>0.378112</td>\n",
       "      <td>0.528744</td>\n",
       "      <td>0.467928</td>\n",
       "    </tr>\n",
       "    <tr>\n",
       "      <th>1</th>\n",
       "      <td>0.224750</td>\n",
       "      <td>0.445040</td>\n",
       "      <td>0.239426</td>\n",
       "      <td>0.359362</td>\n",
       "      <td>0.441737</td>\n",
       "      <td>0.554971</td>\n",
       "      <td>0.281784</td>\n",
       "      <td>0.648945</td>\n",
       "      <td>0.360532</td>\n",
       "      <td>0.678501</td>\n",
       "      <td>...</td>\n",
       "      <td>0.457287</td>\n",
       "      <td>0.363020</td>\n",
       "      <td>0.260013</td>\n",
       "      <td>0.289263</td>\n",
       "      <td>0.498363</td>\n",
       "      <td>0.614584</td>\n",
       "      <td>0.368950</td>\n",
       "      <td>0.353893</td>\n",
       "      <td>0.479776</td>\n",
       "      <td>0.332455</td>\n",
       "    </tr>\n",
       "    <tr>\n",
       "      <th>2</th>\n",
       "      <td>0.414452</td>\n",
       "      <td>0.531337</td>\n",
       "      <td>0.591890</td>\n",
       "      <td>0.230686</td>\n",
       "      <td>0.611225</td>\n",
       "      <td>0.597634</td>\n",
       "      <td>0.432847</td>\n",
       "      <td>0.660534</td>\n",
       "      <td>0.185966</td>\n",
       "      <td>0.499201</td>\n",
       "      <td>...</td>\n",
       "      <td>0.408280</td>\n",
       "      <td>0.484735</td>\n",
       "      <td>0.499421</td>\n",
       "      <td>0.418747</td>\n",
       "      <td>0.496031</td>\n",
       "      <td>0.614164</td>\n",
       "      <td>0.318619</td>\n",
       "      <td>0.514875</td>\n",
       "      <td>0.613224</td>\n",
       "      <td>0.609297</td>\n",
       "    </tr>\n",
       "    <tr>\n",
       "      <th>3</th>\n",
       "      <td>0.412585</td>\n",
       "      <td>0.219967</td>\n",
       "      <td>0.224099</td>\n",
       "      <td>0.334351</td>\n",
       "      <td>0.319365</td>\n",
       "      <td>0.423864</td>\n",
       "      <td>0.310607</td>\n",
       "      <td>0.519312</td>\n",
       "      <td>0.506525</td>\n",
       "      <td>0.676614</td>\n",
       "      <td>...</td>\n",
       "      <td>0.541068</td>\n",
       "      <td>0.405020</td>\n",
       "      <td>0.641023</td>\n",
       "      <td>0.426544</td>\n",
       "      <td>0.254058</td>\n",
       "      <td>0.487025</td>\n",
       "      <td>0.505474</td>\n",
       "      <td>0.522390</td>\n",
       "      <td>0.519739</td>\n",
       "      <td>0.432498</td>\n",
       "    </tr>\n",
       "    <tr>\n",
       "      <th>4</th>\n",
       "      <td>0.267336</td>\n",
       "      <td>0.617134</td>\n",
       "      <td>0.365043</td>\n",
       "      <td>0.326685</td>\n",
       "      <td>0.331832</td>\n",
       "      <td>0.354969</td>\n",
       "      <td>0.295488</td>\n",
       "      <td>0.482385</td>\n",
       "      <td>0.364117</td>\n",
       "      <td>0.542957</td>\n",
       "      <td>...</td>\n",
       "      <td>0.552975</td>\n",
       "      <td>0.343814</td>\n",
       "      <td>0.432956</td>\n",
       "      <td>0.392339</td>\n",
       "      <td>0.402297</td>\n",
       "      <td>0.437887</td>\n",
       "      <td>0.406097</td>\n",
       "      <td>0.402890</td>\n",
       "      <td>0.435145</td>\n",
       "      <td>0.465370</td>\n",
       "    </tr>\n",
       "    <tr>\n",
       "      <th>...</th>\n",
       "      <td>...</td>\n",
       "      <td>...</td>\n",
       "      <td>...</td>\n",
       "      <td>...</td>\n",
       "      <td>...</td>\n",
       "      <td>...</td>\n",
       "      <td>...</td>\n",
       "      <td>...</td>\n",
       "      <td>...</td>\n",
       "      <td>...</td>\n",
       "      <td>...</td>\n",
       "      <td>...</td>\n",
       "      <td>...</td>\n",
       "      <td>...</td>\n",
       "      <td>...</td>\n",
       "      <td>...</td>\n",
       "      <td>...</td>\n",
       "      <td>...</td>\n",
       "      <td>...</td>\n",
       "      <td>...</td>\n",
       "      <td>...</td>\n",
       "    </tr>\n",
       "    <tr>\n",
       "      <th>3196</th>\n",
       "      <td>0.474386</td>\n",
       "      <td>0.258731</td>\n",
       "      <td>0.229866</td>\n",
       "      <td>0.405492</td>\n",
       "      <td>0.372265</td>\n",
       "      <td>0.473691</td>\n",
       "      <td>0.405849</td>\n",
       "      <td>0.362569</td>\n",
       "      <td>0.471129</td>\n",
       "      <td>0.396225</td>\n",
       "      <td>...</td>\n",
       "      <td>0.424602</td>\n",
       "      <td>0.362469</td>\n",
       "      <td>0.457027</td>\n",
       "      <td>0.313222</td>\n",
       "      <td>0.458932</td>\n",
       "      <td>0.647072</td>\n",
       "      <td>0.336877</td>\n",
       "      <td>0.364248</td>\n",
       "      <td>0.461353</td>\n",
       "      <td>0.337028</td>\n",
       "    </tr>\n",
       "    <tr>\n",
       "      <th>3197</th>\n",
       "      <td>0.202627</td>\n",
       "      <td>0.437944</td>\n",
       "      <td>0.279579</td>\n",
       "      <td>0.342552</td>\n",
       "      <td>0.445071</td>\n",
       "      <td>0.510615</td>\n",
       "      <td>0.612660</td>\n",
       "      <td>0.284738</td>\n",
       "      <td>0.440163</td>\n",
       "      <td>0.312498</td>\n",
       "      <td>...</td>\n",
       "      <td>0.577923</td>\n",
       "      <td>0.304729</td>\n",
       "      <td>0.469689</td>\n",
       "      <td>0.269570</td>\n",
       "      <td>0.380259</td>\n",
       "      <td>0.407570</td>\n",
       "      <td>0.480612</td>\n",
       "      <td>0.411692</td>\n",
       "      <td>0.520769</td>\n",
       "      <td>0.325716</td>\n",
       "    </tr>\n",
       "    <tr>\n",
       "      <th>3198</th>\n",
       "      <td>0.439883</td>\n",
       "      <td>0.277922</td>\n",
       "      <td>0.316728</td>\n",
       "      <td>0.374890</td>\n",
       "      <td>0.682962</td>\n",
       "      <td>0.458456</td>\n",
       "      <td>0.320537</td>\n",
       "      <td>0.740732</td>\n",
       "      <td>0.261928</td>\n",
       "      <td>0.265256</td>\n",
       "      <td>...</td>\n",
       "      <td>0.397650</td>\n",
       "      <td>0.304433</td>\n",
       "      <td>0.327721</td>\n",
       "      <td>0.405210</td>\n",
       "      <td>0.475768</td>\n",
       "      <td>0.513065</td>\n",
       "      <td>0.421628</td>\n",
       "      <td>0.373251</td>\n",
       "      <td>0.521701</td>\n",
       "      <td>0.462032</td>\n",
       "    </tr>\n",
       "    <tr>\n",
       "      <th>3199</th>\n",
       "      <td>0.305365</td>\n",
       "      <td>0.527842</td>\n",
       "      <td>0.505844</td>\n",
       "      <td>0.367403</td>\n",
       "      <td>0.574721</td>\n",
       "      <td>0.594971</td>\n",
       "      <td>0.542889</td>\n",
       "      <td>0.307699</td>\n",
       "      <td>0.342302</td>\n",
       "      <td>0.371915</td>\n",
       "      <td>...</td>\n",
       "      <td>0.490763</td>\n",
       "      <td>0.577086</td>\n",
       "      <td>0.279401</td>\n",
       "      <td>0.272949</td>\n",
       "      <td>0.512525</td>\n",
       "      <td>0.479126</td>\n",
       "      <td>0.361502</td>\n",
       "      <td>0.528063</td>\n",
       "      <td>0.468140</td>\n",
       "      <td>0.406248</td>\n",
       "    </tr>\n",
       "    <tr>\n",
       "      <th>3200</th>\n",
       "      <td>0.198144</td>\n",
       "      <td>0.357878</td>\n",
       "      <td>0.192830</td>\n",
       "      <td>0.369818</td>\n",
       "      <td>0.499091</td>\n",
       "      <td>0.531530</td>\n",
       "      <td>0.399876</td>\n",
       "      <td>0.456129</td>\n",
       "      <td>0.399113</td>\n",
       "      <td>0.638995</td>\n",
       "      <td>...</td>\n",
       "      <td>0.381759</td>\n",
       "      <td>0.494739</td>\n",
       "      <td>0.392146</td>\n",
       "      <td>0.394790</td>\n",
       "      <td>0.452812</td>\n",
       "      <td>0.429889</td>\n",
       "      <td>0.277843</td>\n",
       "      <td>0.498772</td>\n",
       "      <td>0.427758</td>\n",
       "      <td>0.516609</td>\n",
       "    </tr>\n",
       "  </tbody>\n",
       "</table>\n",
       "<p>3201 rows × 55 columns</p>\n",
       "</div>"
      ],
      "text/plain": [
       "            0         1         2         3         4         5         6   \\\n",
       "0     0.249479  0.460955  0.488623  0.285264  0.475523  0.640129  0.532603   \n",
       "1     0.224750  0.445040  0.239426  0.359362  0.441737  0.554971  0.281784   \n",
       "2     0.414452  0.531337  0.591890  0.230686  0.611225  0.597634  0.432847   \n",
       "3     0.412585  0.219967  0.224099  0.334351  0.319365  0.423864  0.310607   \n",
       "4     0.267336  0.617134  0.365043  0.326685  0.331832  0.354969  0.295488   \n",
       "...        ...       ...       ...       ...       ...       ...       ...   \n",
       "3196  0.474386  0.258731  0.229866  0.405492  0.372265  0.473691  0.405849   \n",
       "3197  0.202627  0.437944  0.279579  0.342552  0.445071  0.510615  0.612660   \n",
       "3198  0.439883  0.277922  0.316728  0.374890  0.682962  0.458456  0.320537   \n",
       "3199  0.305365  0.527842  0.505844  0.367403  0.574721  0.594971  0.542889   \n",
       "3200  0.198144  0.357878  0.192830  0.369818  0.499091  0.531530  0.399876   \n",
       "\n",
       "            7         8         9   ...        45        46        47  \\\n",
       "0     0.425557  0.277063  0.472352  ...  0.558911  0.415129  0.557953   \n",
       "1     0.648945  0.360532  0.678501  ...  0.457287  0.363020  0.260013   \n",
       "2     0.660534  0.185966  0.499201  ...  0.408280  0.484735  0.499421   \n",
       "3     0.519312  0.506525  0.676614  ...  0.541068  0.405020  0.641023   \n",
       "4     0.482385  0.364117  0.542957  ...  0.552975  0.343814  0.432956   \n",
       "...        ...       ...       ...  ...       ...       ...       ...   \n",
       "3196  0.362569  0.471129  0.396225  ...  0.424602  0.362469  0.457027   \n",
       "3197  0.284738  0.440163  0.312498  ...  0.577923  0.304729  0.469689   \n",
       "3198  0.740732  0.261928  0.265256  ...  0.397650  0.304433  0.327721   \n",
       "3199  0.307699  0.342302  0.371915  ...  0.490763  0.577086  0.279401   \n",
       "3200  0.456129  0.399113  0.638995  ...  0.381759  0.494739  0.392146   \n",
       "\n",
       "            48        49        50        51        52        53        54  \n",
       "0     0.446390  0.377057  0.404590  0.285816  0.378112  0.528744  0.467928  \n",
       "1     0.289263  0.498363  0.614584  0.368950  0.353893  0.479776  0.332455  \n",
       "2     0.418747  0.496031  0.614164  0.318619  0.514875  0.613224  0.609297  \n",
       "3     0.426544  0.254058  0.487025  0.505474  0.522390  0.519739  0.432498  \n",
       "4     0.392339  0.402297  0.437887  0.406097  0.402890  0.435145  0.465370  \n",
       "...        ...       ...       ...       ...       ...       ...       ...  \n",
       "3196  0.313222  0.458932  0.647072  0.336877  0.364248  0.461353  0.337028  \n",
       "3197  0.269570  0.380259  0.407570  0.480612  0.411692  0.520769  0.325716  \n",
       "3198  0.405210  0.475768  0.513065  0.421628  0.373251  0.521701  0.462032  \n",
       "3199  0.272949  0.512525  0.479126  0.361502  0.528063  0.468140  0.406248  \n",
       "3200  0.394790  0.452812  0.429889  0.277843  0.498772  0.427758  0.516609  \n",
       "\n",
       "[3201 rows x 55 columns]"
      ]
     },
     "execution_count": 52,
     "metadata": {},
     "output_type": "execute_result"
    }
   ],
   "source": [
    "prova = pca.transform(eval_temp_df)\n",
    "prova = minmax.transform(prova)\n",
    "\n",
    "pd.DataFrame(prova)"
   ]
  },
  {
   "cell_type": "code",
   "execution_count": 51,
   "metadata": {},
   "outputs": [
    {
     "data": {
      "text/plain": [
       "0.7472682754399623"
      ]
     },
     "execution_count": 51,
     "metadata": {},
     "output_type": "execute_result"
    }
   ],
   "source": [
    "f1_score(y_test, clfs[np.argmax([clf[1] for clf in clfs])][0].predict(svm_X_test), average='macro')"
   ]
  },
  {
   "cell_type": "code",
   "execution_count": 53,
   "metadata": {},
   "outputs": [
    {
     "data": {
      "text/plain": [
       "array([5, 3, 5, ..., 5, 5, 3])"
      ]
     },
     "execution_count": 53,
     "metadata": {},
     "output_type": "execute_result"
    }
   ],
   "source": [
    "svm_clf = clfs[np.argmax([clf[1] for clf in clfs])][0]\n",
    "preds = svm_clf.predict(prova)\n",
    "preds "
   ]
  },
  {
   "cell_type": "code",
   "execution_count": 54,
   "metadata": {},
   "outputs": [],
   "source": [
    "lista_finale = []\n",
    "preds_ser = pd.Series(preds)\n",
    "for id, label in zip(eval_temp_df.index, preds_ser.map({v:k for k,v in labels_dict.items()})):\n",
    "    lista_finale.append((f'{id}.wav', label))\n",
    "df_finale = pd.DataFrame(lista_finale, columns=['Id', 'Predicted'])\n",
    "df_finale.to_csv(path_or_buf=path+'/results/svm_pca.csv', header=True, index=False)"
   ]
  },
  {
   "cell_type": "code",
   "execution_count": 55,
   "metadata": {},
   "outputs": [
    {
     "data": {
      "text/plain": [
       "array([5, 3, 5, ..., 5, 5, 3])"
      ]
     },
     "execution_count": 55,
     "metadata": {},
     "output_type": "execute_result"
    }
   ],
   "source": [
    "preds"
   ]
  },
  {
   "cell_type": "code",
   "execution_count": 14,
   "metadata": {},
   "outputs": [],
   "source": [
    "import lightgbm as lgb\n",
    "clf = lgb.LGBMClassifier().fit(X_train, y_train)"
   ]
  },
  {
   "cell_type": "code",
   "execution_count": 38,
   "metadata": {},
   "outputs": [
    {
     "data": {
      "text/plain": [
       "array([5, 6, 3, ..., 5, 1, 4])"
      ]
     },
     "execution_count": 38,
     "metadata": {},
     "output_type": "execute_result"
    }
   ],
   "source": []
  },
  {
   "cell_type": "code",
   "execution_count": null,
   "metadata": {},
   "outputs": [],
   "source": []
  }
 ],
 "metadata": {
  "interpreter": {
   "hash": "afad3e5d60d609398ecce3ba468213674dfc27eda2bcdfe27a1dfdc5eca24277"
  },
  "kernelspec": {
   "display_name": "Python 3.10.2 ('data_science')",
   "language": "python",
   "name": "python3"
  },
  "language_info": {
   "codemirror_mode": {
    "name": "ipython",
    "version": 3
   },
   "file_extension": ".py",
   "mimetype": "text/x-python",
   "name": "python",
   "nbconvert_exporter": "python",
   "pygments_lexer": "ipython3",
   "version": "3.10.2"
  },
  "orig_nbformat": 4
 },
 "nbformat": 4,
 "nbformat_minor": 2
}
