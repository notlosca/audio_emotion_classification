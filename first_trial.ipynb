{
 "cells": [
  {
   "cell_type": "code",
   "execution_count": 1,
   "metadata": {},
   "outputs": [],
   "source": [
    "import numpy as np\n",
    "import pandas as pd\n",
    "import matplotlib.pyplot as plt\n",
    "import os\n",
    "import seaborn as sns\n",
    "from tqdm import tqdm"
   ]
  },
  {
   "cell_type": "code",
   "execution_count": 2,
   "metadata": {},
   "outputs": [],
   "source": [
    "path = './summer_2022_project/'\n",
    "audio_path = path + 'audio/'\n",
    "\n",
    "df = pd.read_csv(path+'development.csv', dtype={'filename':'string', 'emotion':'string'}) # set string as type\n",
    "eval_df = pd.read_csv(path+'evaluation.csv', dtype={'filename':'string'}) # set string as type\n",
    "\n"
   ]
  },
  {
   "cell_type": "code",
   "execution_count": 3,
   "metadata": {},
   "outputs": [
    {
     "data": {
      "text/html": [
       "<div>\n",
       "<style scoped>\n",
       "    .dataframe tbody tr th:only-of-type {\n",
       "        vertical-align: middle;\n",
       "    }\n",
       "\n",
       "    .dataframe tbody tr th {\n",
       "        vertical-align: top;\n",
       "    }\n",
       "\n",
       "    .dataframe thead th {\n",
       "        text-align: right;\n",
       "    }\n",
       "</style>\n",
       "<table border=\"1\" class=\"dataframe\">\n",
       "  <thead>\n",
       "    <tr style=\"text-align: right;\">\n",
       "      <th></th>\n",
       "      <th>filename</th>\n",
       "    </tr>\n",
       "  </thead>\n",
       "  <tbody>\n",
       "    <tr>\n",
       "      <th>0</th>\n",
       "      <td>9597.wav</td>\n",
       "    </tr>\n",
       "    <tr>\n",
       "      <th>1</th>\n",
       "      <td>9598.wav</td>\n",
       "    </tr>\n",
       "    <tr>\n",
       "      <th>2</th>\n",
       "      <td>9599.wav</td>\n",
       "    </tr>\n",
       "    <tr>\n",
       "      <th>3</th>\n",
       "      <td>9600.wav</td>\n",
       "    </tr>\n",
       "    <tr>\n",
       "      <th>4</th>\n",
       "      <td>9601.wav</td>\n",
       "    </tr>\n",
       "  </tbody>\n",
       "</table>\n",
       "</div>"
      ],
      "text/plain": [
       "   filename\n",
       "0  9597.wav\n",
       "1  9598.wav\n",
       "2  9599.wav\n",
       "3  9600.wav\n",
       "4  9601.wav"
      ]
     },
     "execution_count": 3,
     "metadata": {},
     "output_type": "execute_result"
    }
   ],
   "source": [
    "eval_df.head()"
   ]
  },
  {
   "cell_type": "code",
   "execution_count": 4,
   "metadata": {},
   "outputs": [
    {
     "data": {
      "text/html": [
       "<div>\n",
       "<style scoped>\n",
       "    .dataframe tbody tr th:only-of-type {\n",
       "        vertical-align: middle;\n",
       "    }\n",
       "\n",
       "    .dataframe tbody tr th {\n",
       "        vertical-align: top;\n",
       "    }\n",
       "\n",
       "    .dataframe thead th {\n",
       "        text-align: right;\n",
       "    }\n",
       "</style>\n",
       "<table border=\"1\" class=\"dataframe\">\n",
       "  <thead>\n",
       "    <tr style=\"text-align: right;\">\n",
       "      <th></th>\n",
       "      <th>emotion</th>\n",
       "      <th>filename</th>\n",
       "    </tr>\n",
       "  </thead>\n",
       "  <tbody>\n",
       "    <tr>\n",
       "      <th>0</th>\n",
       "      <td>Disgusted</td>\n",
       "      <td>0.wav</td>\n",
       "    </tr>\n",
       "    <tr>\n",
       "      <th>1</th>\n",
       "      <td>Fearful</td>\n",
       "      <td>1.wav</td>\n",
       "    </tr>\n",
       "    <tr>\n",
       "      <th>2</th>\n",
       "      <td>Neutral</td>\n",
       "      <td>2.wav</td>\n",
       "    </tr>\n",
       "    <tr>\n",
       "      <th>3</th>\n",
       "      <td>Happy</td>\n",
       "      <td>3.wav</td>\n",
       "    </tr>\n",
       "    <tr>\n",
       "      <th>4</th>\n",
       "      <td>Angry</td>\n",
       "      <td>4.wav</td>\n",
       "    </tr>\n",
       "  </tbody>\n",
       "</table>\n",
       "</div>"
      ],
      "text/plain": [
       "     emotion filename\n",
       "0  Disgusted    0.wav\n",
       "1    Fearful    1.wav\n",
       "2    Neutral    2.wav\n",
       "3      Happy    3.wav\n",
       "4      Angry    4.wav"
      ]
     },
     "execution_count": 4,
     "metadata": {},
     "output_type": "execute_result"
    }
   ],
   "source": [
    "df.head()"
   ]
  },
  {
   "cell_type": "code",
   "execution_count": 5,
   "metadata": {},
   "outputs": [
    {
     "data": {
      "text/html": [
       "<div>\n",
       "<style scoped>\n",
       "    .dataframe tbody tr th:only-of-type {\n",
       "        vertical-align: middle;\n",
       "    }\n",
       "\n",
       "    .dataframe tbody tr th {\n",
       "        vertical-align: top;\n",
       "    }\n",
       "\n",
       "    .dataframe thead th {\n",
       "        text-align: right;\n",
       "    }\n",
       "</style>\n",
       "<table border=\"1\" class=\"dataframe\">\n",
       "  <thead>\n",
       "    <tr style=\"text-align: right;\">\n",
       "      <th></th>\n",
       "      <th>emotion</th>\n",
       "      <th>filename</th>\n",
       "      <th>encoded_emotion</th>\n",
       "    </tr>\n",
       "  </thead>\n",
       "  <tbody>\n",
       "    <tr>\n",
       "      <th>0</th>\n",
       "      <td>Disgusted</td>\n",
       "      <td>0.wav</td>\n",
       "      <td>0</td>\n",
       "    </tr>\n",
       "    <tr>\n",
       "      <th>1</th>\n",
       "      <td>Fearful</td>\n",
       "      <td>1.wav</td>\n",
       "      <td>1</td>\n",
       "    </tr>\n",
       "    <tr>\n",
       "      <th>2</th>\n",
       "      <td>Neutral</td>\n",
       "      <td>2.wav</td>\n",
       "      <td>2</td>\n",
       "    </tr>\n",
       "    <tr>\n",
       "      <th>3</th>\n",
       "      <td>Happy</td>\n",
       "      <td>3.wav</td>\n",
       "      <td>3</td>\n",
       "    </tr>\n",
       "    <tr>\n",
       "      <th>4</th>\n",
       "      <td>Angry</td>\n",
       "      <td>4.wav</td>\n",
       "      <td>4</td>\n",
       "    </tr>\n",
       "  </tbody>\n",
       "</table>\n",
       "</div>"
      ],
      "text/plain": [
       "     emotion filename  encoded_emotion\n",
       "0  Disgusted    0.wav                0\n",
       "1    Fearful    1.wav                1\n",
       "2    Neutral    2.wav                2\n",
       "3      Happy    3.wav                3\n",
       "4      Angry    4.wav                4"
      ]
     },
     "execution_count": 5,
     "metadata": {},
     "output_type": "execute_result"
    }
   ],
   "source": [
    "labels = df.emotion.unique()\n",
    "labels_dict = {v:k for k,v in enumerate(labels)} #needed to transform categorical labels\n",
    "\n",
    "df['encoded_emotion'] = df['emotion'].map(labels_dict)\n",
    "df.head()"
   ]
  },
  {
   "cell_type": "code",
   "execution_count": 6,
   "metadata": {},
   "outputs": [
    {
     "data": {
      "text/html": [
       "<div>\n",
       "<style scoped>\n",
       "    .dataframe tbody tr th:only-of-type {\n",
       "        vertical-align: middle;\n",
       "    }\n",
       "\n",
       "    .dataframe tbody tr th {\n",
       "        vertical-align: top;\n",
       "    }\n",
       "\n",
       "    .dataframe thead th {\n",
       "        text-align: right;\n",
       "    }\n",
       "</style>\n",
       "<table border=\"1\" class=\"dataframe\">\n",
       "  <thead>\n",
       "    <tr style=\"text-align: right;\">\n",
       "      <th></th>\n",
       "      <th>samples</th>\n",
       "      <th>sample_rate</th>\n",
       "      <th>time_length</th>\n",
       "      <th>frequencies</th>\n",
       "      <th>spectrogram</th>\n",
       "      <th>emotion</th>\n",
       "      <th>encoded_emotion</th>\n",
       "      <th>max_sample</th>\n",
       "    </tr>\n",
       "  </thead>\n",
       "  <tbody>\n",
       "    <tr>\n",
       "      <th>0</th>\n",
       "      <td>[-46, -103, -88, -91, -70, -55, -39, -15, 20, ...</td>\n",
       "      <td>8000</td>\n",
       "      <td>2.169000</td>\n",
       "      <td>[0.0, 31.25, 62.5, 93.75, 125.0, 156.25, 187.5...</td>\n",
       "      <td>[[3.3801324, 12.052663, 0.16704863, 0.397491, ...</td>\n",
       "      <td>Disgusted</td>\n",
       "      <td>0</td>\n",
       "      <td>6632</td>\n",
       "    </tr>\n",
       "    <tr>\n",
       "      <th>1</th>\n",
       "      <td>[117, 301, 296, 302, 275, 264, 244, 213, 161, ...</td>\n",
       "      <td>8000</td>\n",
       "      <td>2.669500</td>\n",
       "      <td>[0.0, 31.25, 62.5, 93.75, 125.0, 156.25, 187.5...</td>\n",
       "      <td>[[0.47520238, 13.986137, 2.8514621, 17.818419,...</td>\n",
       "      <td>Fearful</td>\n",
       "      <td>1</td>\n",
       "      <td>2606</td>\n",
       "    </tr>\n",
       "    <tr>\n",
       "      <th>2</th>\n",
       "      <td>[-1, -2, -2, -2, -2, -2, -2, -2, -2, -2, -2, -...</td>\n",
       "      <td>8000</td>\n",
       "      <td>3.837375</td>\n",
       "      <td>[0.0, 31.25, 62.5, 93.75, 125.0, 156.25, 187.5...</td>\n",
       "      <td>[[0.0001733794, 3.5454577e-05, 9.601911e-06, 7...</td>\n",
       "      <td>Neutral</td>\n",
       "      <td>2</td>\n",
       "      <td>3447</td>\n",
       "    </tr>\n",
       "    <tr>\n",
       "      <th>3</th>\n",
       "      <td>[-1, -1, -1, -1, 0, -1, -1, -1, -1, -1, 0, 0, ...</td>\n",
       "      <td>8000</td>\n",
       "      <td>3.403625</td>\n",
       "      <td>[0.0, 31.25, 62.5, 93.75, 125.0, 156.25, 187.5...</td>\n",
       "      <td>[[0.0003778362, 0.00011231503, 6.29442e-05, 0....</td>\n",
       "      <td>Happy</td>\n",
       "      <td>3</td>\n",
       "      <td>3375</td>\n",
       "    </tr>\n",
       "    <tr>\n",
       "      <th>4</th>\n",
       "      <td>[77, 208, 212, 207, 193, 212, 213, 205, 210, 1...</td>\n",
       "      <td>8000</td>\n",
       "      <td>2.869750</td>\n",
       "      <td>[0.0, 31.25, 62.5, 93.75, 125.0, 156.25, 187.5...</td>\n",
       "      <td>[[4.822137, 6.9771757, 0.14937395, 1.0288435, ...</td>\n",
       "      <td>Angry</td>\n",
       "      <td>4</td>\n",
       "      <td>32767</td>\n",
       "    </tr>\n",
       "  </tbody>\n",
       "</table>\n",
       "</div>"
      ],
      "text/plain": [
       "                                             samples sample_rate  time_length  \\\n",
       "0  [-46, -103, -88, -91, -70, -55, -39, -15, 20, ...        8000     2.169000   \n",
       "1  [117, 301, 296, 302, 275, 264, 244, 213, 161, ...        8000     2.669500   \n",
       "2  [-1, -2, -2, -2, -2, -2, -2, -2, -2, -2, -2, -...        8000     3.837375   \n",
       "3  [-1, -1, -1, -1, 0, -1, -1, -1, -1, -1, 0, 0, ...        8000     3.403625   \n",
       "4  [77, 208, 212, 207, 193, 212, 213, 205, 210, 1...        8000     2.869750   \n",
       "\n",
       "                                         frequencies  \\\n",
       "0  [0.0, 31.25, 62.5, 93.75, 125.0, 156.25, 187.5...   \n",
       "1  [0.0, 31.25, 62.5, 93.75, 125.0, 156.25, 187.5...   \n",
       "2  [0.0, 31.25, 62.5, 93.75, 125.0, 156.25, 187.5...   \n",
       "3  [0.0, 31.25, 62.5, 93.75, 125.0, 156.25, 187.5...   \n",
       "4  [0.0, 31.25, 62.5, 93.75, 125.0, 156.25, 187.5...   \n",
       "\n",
       "                                         spectrogram    emotion  \\\n",
       "0  [[3.3801324, 12.052663, 0.16704863, 0.397491, ...  Disgusted   \n",
       "1  [[0.47520238, 13.986137, 2.8514621, 17.818419,...    Fearful   \n",
       "2  [[0.0001733794, 3.5454577e-05, 9.601911e-06, 7...    Neutral   \n",
       "3  [[0.0003778362, 0.00011231503, 6.29442e-05, 0....      Happy   \n",
       "4  [[4.822137, 6.9771757, 0.14937395, 1.0288435, ...      Angry   \n",
       "\n",
       "   encoded_emotion  max_sample  \n",
       "0                0        6632  \n",
       "1                1        2606  \n",
       "2                2        3447  \n",
       "3                3        3375  \n",
       "4                4       32767  "
      ]
     },
     "execution_count": 6,
     "metadata": {},
     "output_type": "execute_result"
    }
   ],
   "source": [
    "from scipy.io.wavfile import read\n",
    "from scipy import signal\n",
    "\n",
    "d = dict()\n",
    "for filename in df.filename:\n",
    "    sample_rate, samples = read(audio_path+f'/{filename}')\n",
    "    frequencies, times, spectrogram = signal.spectrogram(samples, sample_rate)\n",
    "    d[(int)(filename.split('.')[0])] = {'samples':samples, 'sample_rate':sample_rate, 'time_length':len(samples)/sample_rate, 'frequencies':frequencies, 'spectrogram':spectrogram}  \n",
    "\n",
    "temp_df = pd.DataFrame.from_dict(d).T    \n",
    "temp_df['emotion'] = df.emotion\n",
    "temp_df['encoded_emotion'] = df.encoded_emotion\n",
    "temp_df['max_sample'] = temp_df['samples'].map(lambda x: max(x))\n",
    "temp_df = temp_df.astype({'time_length':float})\n",
    "temp_df.head()"
   ]
  },
  {
   "cell_type": "code",
   "execution_count": 7,
   "metadata": {},
   "outputs": [],
   "source": [
    "def divide_matrix(ary:np.array, num_columns:int, num_rows:int):    \n",
    "    \n",
    "    if (num_columns > ary.shape[1] or num_rows > ary.shape[0]):\n",
    "        return 'Error, the requested number of columns or rows exceed dimensions!'\n",
    "    \n",
    "    first = np.array_split(ary, num_rows, axis=0) # num rows\n",
    "    second = []\n",
    "    for array in first:\n",
    "        second.append(np.array_split(array, num_columns, axis=1)) # num columns\n",
    "    flattened_list = flatten(second)\n",
    "    return flattened_list\n",
    "\n",
    "def flatten(l:list):\n",
    "    flattened_list = []\n",
    "    for item in l:\n",
    "        for i in item:\n",
    "            flattened_list.append(i)\n",
    "    return flattened_list\n",
    "    \n",
    "def compute_feature(list_of_arrays:list) -> dict:\n",
    "    d = dict()\n",
    "    for id in range(len(list_of_arrays)):\n",
    "        d[f'{id}_mean_feature'] = np.mean(list_of_arrays[id])\n",
    "        d[f'{id}_std_feature'] = np.std(list_of_arrays[id])\n",
    "    return d\n",
    "\n",
    "def create_dict_dataset(path:str, is_eval:bool=False) -> dict:\n",
    "    \"\"\"\n",
    "    function used to read the dataset. It creates a dictionary in\n",
    "    the following form:\n",
    "    id: {label, frequencies, times, spectrogram}.\n",
    "    If is_eval == True, no label.\n",
    "\n",
    "    Args:\n",
    "        path (str): path used to read the dataset\n",
    "        is_eval (bool, optional): boolean flag to set to True\n",
    "        if the dataset you want to read is the evaluation one.\n",
    "        Defaults to False.\n",
    "\n",
    "    Returns:\n",
    "        dict: dataset in dictionary form\n",
    "    \"\"\"\n",
    "    all_samples = os.listdir(path)\n",
    "    d = dict()\n",
    "    for sample in all_samples:\n",
    "        if is_eval:\n",
    "            id = int(sample.split('.')[0])\n",
    "        else:\n",
    "            id = int(sample.split('_')[0])\n",
    "        sample_rate, samples = read(path + sample)\n",
    "        frequencies, times, spectrogram = signal.spectrogram(samples, sample_rate)\n",
    "        if is_eval:\n",
    "            d_temp = {'frequencies': frequencies,\n",
    "                      'times': times,\n",
    "                      'spectrogram': spectrogram} \n",
    "        else:\n",
    "            d_temp = {'label': int(sample.split('_')[1][:-4]), # till -4 since it has the .wav extension\n",
    "                    'frequencies': frequencies,\n",
    "                      'times': times,\n",
    "                      'spectrogram': spectrogram} \n",
    "        d[id] = d_temp \n",
    "    return d"
   ]
  },
  {
   "cell_type": "code",
   "execution_count": 8,
   "metadata": {},
   "outputs": [],
   "source": [
    "shrunk_df = temp_df[['time_length', 'spectrogram', 'max_sample', 'encoded_emotion']]\n"
   ]
  },
  {
   "cell_type": "code",
   "execution_count": 9,
   "metadata": {},
   "outputs": [
    {
     "name": "stderr",
     "output_type": "stream",
     "text": [
      "100%|██████████| 9597/9597 [01:11<00:00, 133.88it/s]\n"
     ]
    }
   ],
   "source": [
    "from imblearn.over_sampling import BorderlineSMOTE\n",
    "\n",
    "\n",
    "dictionary = dict()\n",
    "for row in tqdm(shrunk_df.index):\n",
    "    z = compute_feature(divide_matrix(shrunk_df.loc[row].spectrogram, num_rows=12, num_columns=12))\n",
    "    z['time_length'] = shrunk_df.loc[row]['time_length']\n",
    "    z['max_sample'] = shrunk_df.loc[row]['max_sample']\n",
    "    z['encoded_emotion'] = shrunk_df.loc[row].encoded_emotion\n",
    "    dictionary[row] = z\n",
    "    \n",
    "new_df = pd.DataFrame.from_dict(dictionary).T\n",
    "\n",
    "np.random.seed(0) #to make experiments reproducible\n",
    "\n",
    "\n",
    "smote = BorderlineSMOTE(random_state=42)\n",
    "\n",
    "X, y = new_df[new_df.columns[:-1]], new_df[new_df.columns[-1]]\n",
    "X_res, y_res = smote.fit_resample(X,y)\n",
    "y_res = y_res.astype(int)"
   ]
  },
  {
   "cell_type": "code",
   "execution_count": 10,
   "metadata": {},
   "outputs": [
    {
     "data": {
      "text/plain": [
       "0        0\n",
       "1        1\n",
       "2        2\n",
       "3        3\n",
       "4        4\n",
       "        ..\n",
       "11370    6\n",
       "11371    6\n",
       "11372    6\n",
       "11373    6\n",
       "11374    6\n",
       "Name: encoded_emotion, Length: 11375, dtype: int64"
      ]
     },
     "execution_count": 10,
     "metadata": {},
     "output_type": "execute_result"
    }
   ],
   "source": [
    "y_res"
   ]
  },
  {
   "cell_type": "code",
   "execution_count": 11,
   "metadata": {},
   "outputs": [],
   "source": [
    "from sklearn.ensemble import RandomForestClassifier\n",
    "rf = RandomForestClassifier(max_features = 'log2', n_estimators=300).fit(X_res, y_res)\n"
   ]
  },
  {
   "cell_type": "markdown",
   "metadata": {},
   "source": [
    "# eval"
   ]
  },
  {
   "cell_type": "code",
   "execution_count": 12,
   "metadata": {},
   "outputs": [
    {
     "data": {
      "text/html": [
       "<div>\n",
       "<style scoped>\n",
       "    .dataframe tbody tr th:only-of-type {\n",
       "        vertical-align: middle;\n",
       "    }\n",
       "\n",
       "    .dataframe tbody tr th {\n",
       "        vertical-align: top;\n",
       "    }\n",
       "\n",
       "    .dataframe thead th {\n",
       "        text-align: right;\n",
       "    }\n",
       "</style>\n",
       "<table border=\"1\" class=\"dataframe\">\n",
       "  <thead>\n",
       "    <tr style=\"text-align: right;\">\n",
       "      <th></th>\n",
       "      <th>samples</th>\n",
       "      <th>sample_rate</th>\n",
       "      <th>time_length</th>\n",
       "      <th>frequencies</th>\n",
       "      <th>spectrogram</th>\n",
       "      <th>max_sample</th>\n",
       "    </tr>\n",
       "  </thead>\n",
       "  <tbody>\n",
       "    <tr>\n",
       "      <th>9597</th>\n",
       "      <td>[6, 20, 17, 18, 31, 39, 30, 19, 36, 53, 45, 34...</td>\n",
       "      <td>8000</td>\n",
       "      <td>2.282500</td>\n",
       "      <td>[0.0, 31.25, 62.5, 93.75, 125.0, 156.25, 187.5...</td>\n",
       "      <td>[[0.024010094, 0.4403729, 0.7793636, 1.5887632...</td>\n",
       "      <td>3849</td>\n",
       "    </tr>\n",
       "    <tr>\n",
       "      <th>9598</th>\n",
       "      <td>[-106, -232, -300, -415, -417, -342, -314, -43...</td>\n",
       "      <td>8000</td>\n",
       "      <td>2.936375</td>\n",
       "      <td>[0.0, 31.25, 62.5, 93.75, 125.0, 156.25, 187.5...</td>\n",
       "      <td>[[13.073401, 2.9347198, 3.5555453, 2.4982939, ...</td>\n",
       "      <td>9525</td>\n",
       "    </tr>\n",
       "    <tr>\n",
       "      <th>9599</th>\n",
       "      <td>[-2, -4, -3, -4, -2, -2, -1, -1, -1, 0, 1, 1, ...</td>\n",
       "      <td>8000</td>\n",
       "      <td>2.675875</td>\n",
       "      <td>[0.0, 31.25, 62.5, 93.75, 125.0, 156.25, 187.5...</td>\n",
       "      <td>[[0.5504999, 1.1110619, 0.5763831, 0.004715546...</td>\n",
       "      <td>2217</td>\n",
       "    </tr>\n",
       "    <tr>\n",
       "      <th>9600</th>\n",
       "      <td>[0, 0, 0, 0, 0, 0, 0, 0, 0, 0, 0, 0, 0, 0, 0, ...</td>\n",
       "      <td>8000</td>\n",
       "      <td>3.637125</td>\n",
       "      <td>[0.0, 31.25, 62.5, 93.75, 125.0, 156.25, 187.5...</td>\n",
       "      <td>[[0.0, 0.0, 0.0, 0.0, 0.0, 0.0, 0.0, 0.0, 1.79...</td>\n",
       "      <td>6896</td>\n",
       "    </tr>\n",
       "    <tr>\n",
       "      <th>9601</th>\n",
       "      <td>[68, 175, 156, 144, 142, 138, 137, 145, 160, 1...</td>\n",
       "      <td>8000</td>\n",
       "      <td>2.302500</td>\n",
       "      <td>[0.0, 31.25, 62.5, 93.75, 125.0, 156.25, 187.5...</td>\n",
       "      <td>[[0.21942894, 18.0716, 2.2244778, 0.19599216, ...</td>\n",
       "      <td>2090</td>\n",
       "    </tr>\n",
       "  </tbody>\n",
       "</table>\n",
       "</div>"
      ],
      "text/plain": [
       "                                                samples sample_rate  \\\n",
       "9597  [6, 20, 17, 18, 31, 39, 30, 19, 36, 53, 45, 34...        8000   \n",
       "9598  [-106, -232, -300, -415, -417, -342, -314, -43...        8000   \n",
       "9599  [-2, -4, -3, -4, -2, -2, -1, -1, -1, 0, 1, 1, ...        8000   \n",
       "9600  [0, 0, 0, 0, 0, 0, 0, 0, 0, 0, 0, 0, 0, 0, 0, ...        8000   \n",
       "9601  [68, 175, 156, 144, 142, 138, 137, 145, 160, 1...        8000   \n",
       "\n",
       "      time_length                                        frequencies  \\\n",
       "9597     2.282500  [0.0, 31.25, 62.5, 93.75, 125.0, 156.25, 187.5...   \n",
       "9598     2.936375  [0.0, 31.25, 62.5, 93.75, 125.0, 156.25, 187.5...   \n",
       "9599     2.675875  [0.0, 31.25, 62.5, 93.75, 125.0, 156.25, 187.5...   \n",
       "9600     3.637125  [0.0, 31.25, 62.5, 93.75, 125.0, 156.25, 187.5...   \n",
       "9601     2.302500  [0.0, 31.25, 62.5, 93.75, 125.0, 156.25, 187.5...   \n",
       "\n",
       "                                            spectrogram  max_sample  \n",
       "9597  [[0.024010094, 0.4403729, 0.7793636, 1.5887632...        3849  \n",
       "9598  [[13.073401, 2.9347198, 3.5555453, 2.4982939, ...        9525  \n",
       "9599  [[0.5504999, 1.1110619, 0.5763831, 0.004715546...        2217  \n",
       "9600  [[0.0, 0.0, 0.0, 0.0, 0.0, 0.0, 0.0, 0.0, 1.79...        6896  \n",
       "9601  [[0.21942894, 18.0716, 2.2244778, 0.19599216, ...        2090  "
      ]
     },
     "execution_count": 12,
     "metadata": {},
     "output_type": "execute_result"
    }
   ],
   "source": [
    "from scipy.io.wavfile import read\n",
    "from scipy import signal\n",
    "\n",
    "d = dict()\n",
    "for filename in eval_df.filename:\n",
    "    sample_rate, samples = read(audio_path+f'/{filename}')\n",
    "    frequencies, times, spectrogram = signal.spectrogram(samples, sample_rate)\n",
    "    d[(int)(filename.split('.')[0])] = {'samples':samples, 'sample_rate':sample_rate, 'time_length':len(samples)/sample_rate, 'frequencies':frequencies, 'spectrogram':spectrogram}  \n",
    "\n",
    "new_eval_df = pd.DataFrame.from_dict(d).T    \n",
    "new_eval_df['max_sample'] = new_eval_df['samples'].map(lambda x: max(x))\n",
    "new_eval_df = new_eval_df.astype({'time_length':float})\n",
    "new_eval_df.head()"
   ]
  },
  {
   "cell_type": "code",
   "execution_count": 30,
   "metadata": {},
   "outputs": [],
   "source": [
    "eval_shrunk_df = new_eval_df[['time_length', 'spectrogram', 'max_sample']]\n"
   ]
  },
  {
   "cell_type": "code",
   "execution_count": 31,
   "metadata": {},
   "outputs": [
    {
     "name": "stderr",
     "output_type": "stream",
     "text": [
      "100%|██████████| 3201/3201 [00:23<00:00, 136.30it/s]\n"
     ]
    }
   ],
   "source": [
    "dictionary = dict()\n",
    "for row in tqdm(eval_shrunk_df.index):\n",
    "    z = compute_feature(divide_matrix(eval_shrunk_df.loc[row].spectrogram, num_rows=12, num_columns=12))\n",
    "    z['time_length'] = eval_shrunk_df.loc[row]['time_length']\n",
    "    z['max_sample'] = eval_shrunk_df.loc[row]['max_sample']\n",
    "    dictionary[row] = z\n",
    "    \n",
    "eval_features_df = pd.DataFrame.from_dict(dictionary).T\n"
   ]
  },
  {
   "cell_type": "code",
   "execution_count": 50,
   "metadata": {},
   "outputs": [],
   "source": [
    "preds = rf.predict(eval_features_df)"
   ]
  },
  {
   "cell_type": "code",
   "execution_count": 56,
   "metadata": {},
   "outputs": [
    {
     "data": {
      "text/plain": [
       "array([5, 3, 5, ..., 2, 2, 4])"
      ]
     },
     "execution_count": 56,
     "metadata": {},
     "output_type": "execute_result"
    }
   ],
   "source": [
    "preds"
   ]
  },
  {
   "cell_type": "code",
   "execution_count": 33,
   "metadata": {},
   "outputs": [
    {
     "data": {
      "text/plain": [
       "{0: 'Disgusted',\n",
       " 1: 'Fearful',\n",
       " 2: 'Neutral',\n",
       " 3: 'Happy',\n",
       " 4: 'Angry',\n",
       " 5: 'Sad',\n",
       " 6: 'Suprised'}"
      ]
     },
     "execution_count": 33,
     "metadata": {},
     "output_type": "execute_result"
    }
   ],
   "source": [
    "{v:k for k,v in labels_dict.items()}"
   ]
  },
  {
   "cell_type": "code",
   "execution_count": 59,
   "metadata": {},
   "outputs": [],
   "source": [
    "lista_finale = []\n",
    "preds_ser = pd.Series(preds)\n",
    "for id, label in zip(eval_shrunk_df.index, preds_ser.map({v:k for k,v in labels_dict.items()})):\n",
    "    lista_finale.append((f'{id}.wav', label))"
   ]
  },
  {
   "cell_type": "code",
   "execution_count": 62,
   "metadata": {},
   "outputs": [
    {
     "data": {
      "text/html": [
       "<div>\n",
       "<style scoped>\n",
       "    .dataframe tbody tr th:only-of-type {\n",
       "        vertical-align: middle;\n",
       "    }\n",
       "\n",
       "    .dataframe tbody tr th {\n",
       "        vertical-align: top;\n",
       "    }\n",
       "\n",
       "    .dataframe thead th {\n",
       "        text-align: right;\n",
       "    }\n",
       "</style>\n",
       "<table border=\"1\" class=\"dataframe\">\n",
       "  <thead>\n",
       "    <tr style=\"text-align: right;\">\n",
       "      <th></th>\n",
       "      <th>Id</th>\n",
       "      <th>Predicted</th>\n",
       "    </tr>\n",
       "  </thead>\n",
       "  <tbody>\n",
       "    <tr>\n",
       "      <th>0</th>\n",
       "      <td>9597.wav</td>\n",
       "      <td>Sad</td>\n",
       "    </tr>\n",
       "    <tr>\n",
       "      <th>1</th>\n",
       "      <td>9598.wav</td>\n",
       "      <td>Happy</td>\n",
       "    </tr>\n",
       "    <tr>\n",
       "      <th>2</th>\n",
       "      <td>9599.wav</td>\n",
       "      <td>Sad</td>\n",
       "    </tr>\n",
       "    <tr>\n",
       "      <th>3</th>\n",
       "      <td>9600.wav</td>\n",
       "      <td>Suprised</td>\n",
       "    </tr>\n",
       "    <tr>\n",
       "      <th>4</th>\n",
       "      <td>9601.wav</td>\n",
       "      <td>Sad</td>\n",
       "    </tr>\n",
       "    <tr>\n",
       "      <th>...</th>\n",
       "      <td>...</td>\n",
       "      <td>...</td>\n",
       "    </tr>\n",
       "    <tr>\n",
       "      <th>3196</th>\n",
       "      <td>12793.wav</td>\n",
       "      <td>Suprised</td>\n",
       "    </tr>\n",
       "    <tr>\n",
       "      <th>3197</th>\n",
       "      <td>12794.wav</td>\n",
       "      <td>Happy</td>\n",
       "    </tr>\n",
       "    <tr>\n",
       "      <th>3198</th>\n",
       "      <td>12795.wav</td>\n",
       "      <td>Neutral</td>\n",
       "    </tr>\n",
       "    <tr>\n",
       "      <th>3199</th>\n",
       "      <td>12796.wav</td>\n",
       "      <td>Neutral</td>\n",
       "    </tr>\n",
       "    <tr>\n",
       "      <th>3200</th>\n",
       "      <td>12797.wav</td>\n",
       "      <td>Angry</td>\n",
       "    </tr>\n",
       "  </tbody>\n",
       "</table>\n",
       "<p>3201 rows × 2 columns</p>\n",
       "</div>"
      ],
      "text/plain": [
       "             Id Predicted\n",
       "0      9597.wav       Sad\n",
       "1      9598.wav     Happy\n",
       "2      9599.wav       Sad\n",
       "3      9600.wav  Suprised\n",
       "4      9601.wav       Sad\n",
       "...         ...       ...\n",
       "3196  12793.wav  Suprised\n",
       "3197  12794.wav     Happy\n",
       "3198  12795.wav   Neutral\n",
       "3199  12796.wav   Neutral\n",
       "3200  12797.wav     Angry\n",
       "\n",
       "[3201 rows x 2 columns]"
      ]
     },
     "execution_count": 62,
     "metadata": {},
     "output_type": "execute_result"
    }
   ],
   "source": [
    "df_finale = pd.DataFrame(lista_finale, columns=['Id', 'Predicted'])\n",
    "df_finale"
   ]
  },
  {
   "cell_type": "code",
   "execution_count": 67,
   "metadata": {},
   "outputs": [],
   "source": [
    "df_finale.to_csv(path_or_buf=path+'/results.csv', header=True, index=False)"
   ]
  },
  {
   "cell_type": "code",
   "execution_count": 42,
   "metadata": {},
   "outputs": [
    {
     "data": {
      "text/plain": [
       "0            Sad\n",
       "1          Happy\n",
       "2            Sad\n",
       "3       Suprised\n",
       "4            Sad\n",
       "          ...   \n",
       "3196    Suprised\n",
       "3197       Happy\n",
       "3198     Neutral\n",
       "3199     Neutral\n",
       "3200       Angry\n",
       "Length: 3201, dtype: object"
      ]
     },
     "execution_count": 42,
     "metadata": {},
     "output_type": "execute_result"
    }
   ],
   "source": [
    "preds = pd.DataFrame(preds, index=eval_shrunk_df.index)\n",
    "\n",
    "#preds.map({v:k for k,v in labels_dict.items()})\n"
   ]
  },
  {
   "cell_type": "markdown",
   "metadata": {},
   "source": [
    "# risultato 0.619"
   ]
  },
  {
   "cell_type": "markdown",
   "metadata": {},
   "source": [
    "# prova con train test e split\n"
   ]
  },
  {
   "cell_type": "code",
   "execution_count": null,
   "metadata": {},
   "outputs": [
    {
     "name": "stderr",
     "output_type": "stream",
     "text": [
      "100%|██████████| 9597/9597 [01:14<00:00, 128.07it/s]\n"
     ]
    }
   ],
   "source": [
    "'''from imblearn.over_sampling import BorderlineSMOTE\n",
    "from sklearn.model_selection import train_test_split\n",
    "\n",
    "\n",
    "dictionary = dict()\n",
    "for row in tqdm(shrunk_df.index):\n",
    "    # z = compute_feature(divide_matrix(shrunk_df.loc[row].spectrogram, num_rows=n, num_columns=n*ratio)) # with ratio\n",
    "    z = compute_feature(divide_matrix(shrunk_df.loc[row].spectrogram, num_rows=12, num_columns=12))\n",
    "    z['time_length'] = shrunk_df.loc[row]['time_length']\n",
    "    z['max_sample'] = shrunk_df.loc[row]['max_sample']\n",
    "    z['encoded_emotion'] = shrunk_df.loc[row].encoded_emotion\n",
    "    dictionary[row] = z\n",
    "    \n",
    "new_df = pd.DataFrame.from_dict(dictionary).T\n",
    "\n",
    "np.random.seed(0) #to make experiments reproducible\n",
    "\n",
    "\n",
    "smote = BorderlineSMOTE(random_state=42)\n",
    "\n",
    "X, y = new_df[new_df.columns[:-1]], new_df[new_df.columns[-1]]\n",
    "X_res, y_res = smote.fit_resample(X,y)\n",
    "\n",
    "X_train, X_test, y_train, y_test = train_test_split(X_res, y_res, test_size=.2, random_state=42)\n",
    "\n",
    "y_train = y_train.astype(int)\n",
    "y_test = y_test.astype(int)\n",
    "\n",
    "\n",
    "\n",
    "from sklearn.ensemble import RandomForestClassifier\n",
    "\n",
    "rf = RandomForestClassifier(max_features = 'log2', n_estimators=300).fit(X_train, y_train)\n",
    "\n",
    "\n",
    "from sklearn.metrics import f1_score\n",
    "\n",
    "\n",
    "preds_test = rf.predict(X_test)\n",
    "score = f1_score(y_test, preds_test, average='macro')\n",
    "\n",
    "\n",
    "preds = rf.predict(eval_features_df)\n",
    "\n",
    "lista_finale = []\n",
    "preds_ser = pd.Series(preds)\n",
    "for id, label in zip(eval_shrunk_df.index, preds_ser.map({v:k for k,v in labels_dict.items()})):\n",
    "    lista_finale.append((f'{id}.wav', label))\n",
    "    \n",
    "\n",
    "df_finale = pd.DataFrame(lista_finale, columns=['Id', 'Predicted'])\n",
    "df_finale.to_csv(path_or_buf=path+'/train_test_split_results.csv', header=True, index=False)'''"
   ]
  },
  {
   "cell_type": "markdown",
   "metadata": {},
   "source": [
    "con train test e split risulta avere performance inferiori. Trasformo tutto in testo"
   ]
  },
  {
   "cell_type": "markdown",
   "metadata": {},
   "source": []
  }
 ],
 "metadata": {
  "interpreter": {
   "hash": "afad3e5d60d609398ecce3ba468213674dfc27eda2bcdfe27a1dfdc5eca24277"
  },
  "kernelspec": {
   "display_name": "Python 3.10.2 ('data_science')",
   "language": "python",
   "name": "python3"
  },
  "language_info": {
   "codemirror_mode": {
    "name": "ipython",
    "version": 3
   },
   "file_extension": ".py",
   "mimetype": "text/x-python",
   "name": "python",
   "nbconvert_exporter": "python",
   "pygments_lexer": "ipython3",
   "version": "3.10.2"
  },
  "orig_nbformat": 4
 },
 "nbformat": 4,
 "nbformat_minor": 2
}
