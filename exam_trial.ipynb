{
 "cells": [
  {
   "cell_type": "markdown",
   "metadata": {},
   "source": [
    "# Initial inspection of data"
   ]
  },
  {
   "cell_type": "code",
   "execution_count": 1,
   "metadata": {},
   "outputs": [],
   "source": [
    "import numpy as np\n",
    "import pandas as pd\n",
    "import matplotlib.pyplot as plt\n",
    "import os\n",
    "import seaborn as sns\n",
    "from tqdm import tqdm"
   ]
  },
  {
   "cell_type": "code",
   "execution_count": 3,
   "metadata": {},
   "outputs": [
    {
     "data": {
      "text/html": [
       "<div>\n",
       "<style scoped>\n",
       "    .dataframe tbody tr th:only-of-type {\n",
       "        vertical-align: middle;\n",
       "    }\n",
       "\n",
       "    .dataframe tbody tr th {\n",
       "        vertical-align: top;\n",
       "    }\n",
       "\n",
       "    .dataframe thead th {\n",
       "        text-align: right;\n",
       "    }\n",
       "</style>\n",
       "<table border=\"1\" class=\"dataframe\">\n",
       "  <thead>\n",
       "    <tr style=\"text-align: right;\">\n",
       "      <th></th>\n",
       "      <th>emotion</th>\n",
       "      <th>filename</th>\n",
       "    </tr>\n",
       "  </thead>\n",
       "  <tbody>\n",
       "    <tr>\n",
       "      <th>0</th>\n",
       "      <td>Disgusted</td>\n",
       "      <td>0.wav</td>\n",
       "    </tr>\n",
       "    <tr>\n",
       "      <th>1</th>\n",
       "      <td>Fearful</td>\n",
       "      <td>1.wav</td>\n",
       "    </tr>\n",
       "    <tr>\n",
       "      <th>2</th>\n",
       "      <td>Neutral</td>\n",
       "      <td>2.wav</td>\n",
       "    </tr>\n",
       "    <tr>\n",
       "      <th>3</th>\n",
       "      <td>Happy</td>\n",
       "      <td>3.wav</td>\n",
       "    </tr>\n",
       "    <tr>\n",
       "      <th>4</th>\n",
       "      <td>Angry</td>\n",
       "      <td>4.wav</td>\n",
       "    </tr>\n",
       "  </tbody>\n",
       "</table>\n",
       "</div>"
      ],
      "text/plain": [
       "     emotion filename\n",
       "0  Disgusted    0.wav\n",
       "1    Fearful    1.wav\n",
       "2    Neutral    2.wav\n",
       "3      Happy    3.wav\n",
       "4      Angry    4.wav"
      ]
     },
     "execution_count": 3,
     "metadata": {},
     "output_type": "execute_result"
    }
   ],
   "source": [
    "path = './summer_2022_project/'\n",
    "audio_path = path + '/audio'\n",
    "\n",
    "total_dataset = set(os.listdir(audio_path))\n",
    "df = pd.read_csv(path+'development.csv', index_col='filename', dtype={'emotion':'string'}) # set string as type\n",
    "df = pd.read_csv(path+'development.csv', dtype={'filename':'string', 'emotion':'string'}) # set string as type\n",
    "training_set = set(df.index)\n",
    "evaluation_set = total_dataset-training_set\n",
    "\n",
    "df.head()"
   ]
  },
  {
   "cell_type": "code",
   "execution_count": 4,
   "metadata": {},
   "outputs": [
    {
     "name": "stdout",
     "output_type": "stream",
     "text": [
      "<class 'pandas.core.frame.DataFrame'>\n",
      "RangeIndex: 9597 entries, 0 to 9596\n",
      "Data columns (total 2 columns):\n",
      " #   Column    Non-Null Count  Dtype \n",
      "---  ------    --------------  ----- \n",
      " 0   emotion   9597 non-null   string\n",
      " 1   filename  9597 non-null   string\n",
      "dtypes: string(2)\n",
      "memory usage: 150.1 KB\n"
     ]
    }
   ],
   "source": [
    "df.info()"
   ]
  },
  {
   "cell_type": "code",
   "execution_count": 5,
   "metadata": {},
   "outputs": [
    {
     "data": {
      "text/plain": [
       "{'Disgusted': 0,\n",
       " 'Fearful': 1,\n",
       " 'Neutral': 2,\n",
       " 'Happy': 3,\n",
       " 'Angry': 4,\n",
       " 'Sad': 5,\n",
       " 'Suprised': 6}"
      ]
     },
     "execution_count": 5,
     "metadata": {},
     "output_type": "execute_result"
    }
   ],
   "source": [
    "labels = df.emotion.unique()\n",
    "labels_dict = {v:k for k,v in enumerate(labels)} #needed to transform categorical labels\n",
    "labels_dict"
   ]
  },
  {
   "cell_type": "code",
   "execution_count": 6,
   "metadata": {},
   "outputs": [
    {
     "data": {
      "text/html": [
       "<div>\n",
       "<style scoped>\n",
       "    .dataframe tbody tr th:only-of-type {\n",
       "        vertical-align: middle;\n",
       "    }\n",
       "\n",
       "    .dataframe tbody tr th {\n",
       "        vertical-align: top;\n",
       "    }\n",
       "\n",
       "    .dataframe thead th {\n",
       "        text-align: right;\n",
       "    }\n",
       "</style>\n",
       "<table border=\"1\" class=\"dataframe\">\n",
       "  <thead>\n",
       "    <tr style=\"text-align: right;\">\n",
       "      <th></th>\n",
       "      <th>emotion</th>\n",
       "      <th>filename</th>\n",
       "      <th>encoded_emotion</th>\n",
       "    </tr>\n",
       "  </thead>\n",
       "  <tbody>\n",
       "    <tr>\n",
       "      <th>0</th>\n",
       "      <td>Disgusted</td>\n",
       "      <td>0.wav</td>\n",
       "      <td>0</td>\n",
       "    </tr>\n",
       "    <tr>\n",
       "      <th>1</th>\n",
       "      <td>Fearful</td>\n",
       "      <td>1.wav</td>\n",
       "      <td>1</td>\n",
       "    </tr>\n",
       "    <tr>\n",
       "      <th>2</th>\n",
       "      <td>Neutral</td>\n",
       "      <td>2.wav</td>\n",
       "      <td>2</td>\n",
       "    </tr>\n",
       "    <tr>\n",
       "      <th>3</th>\n",
       "      <td>Happy</td>\n",
       "      <td>3.wav</td>\n",
       "      <td>3</td>\n",
       "    </tr>\n",
       "    <tr>\n",
       "      <th>4</th>\n",
       "      <td>Angry</td>\n",
       "      <td>4.wav</td>\n",
       "      <td>4</td>\n",
       "    </tr>\n",
       "  </tbody>\n",
       "</table>\n",
       "</div>"
      ],
      "text/plain": [
       "     emotion filename  encoded_emotion\n",
       "0  Disgusted    0.wav                0\n",
       "1    Fearful    1.wav                1\n",
       "2    Neutral    2.wav                2\n",
       "3      Happy    3.wav                3\n",
       "4      Angry    4.wav                4"
      ]
     },
     "execution_count": 6,
     "metadata": {},
     "output_type": "execute_result"
    }
   ],
   "source": [
    "df['encoded_emotion'] = df['emotion'].map(labels_dict)\n",
    "df.head()"
   ]
  },
  {
   "cell_type": "code",
   "execution_count": 7,
   "metadata": {},
   "outputs": [
    {
     "name": "stdout",
     "output_type": "stream",
     "text": [
      "label\tnumber of samples\n"
     ]
    },
    {
     "data": {
      "text/plain": [
       "Happy        1625\n",
       "Angry        1625\n",
       "Sad          1625\n",
       "Fearful      1535\n",
       "Disgusted    1397\n",
       "Neutral      1346\n",
       "Suprised      444\n",
       "Name: emotion, dtype: Int64"
      ]
     },
     "execution_count": 7,
     "metadata": {},
     "output_type": "execute_result"
    }
   ],
   "source": [
    "emotion_sr = df.emotion.value_counts()\n",
    "emotion_sr.index\n",
    "print('label\\tnumber of samples')\n",
    "emotion_sr"
   ]
  },
  {
   "cell_type": "code",
   "execution_count": 8,
   "metadata": {},
   "outputs": [
    {
     "data": {
      "image/png": "[encoded data removed]",
      "text/plain": [
       "<Figure size 864x720 with 1 Axes>"
      ]
     },
     "metadata": {
      "needs_background": "light"
     },
     "output_type": "display_data"
    }
   ],
   "source": [
    "emotion_val_series = df.emotion.value_counts()\n",
    "emotion_val_series.plot(kind='barh', figsize=(12,10), color='tab:blue')\n",
    "for i, v in enumerate(emotion_val_series):\n",
    "    if i == len(emotion_val_series)-1:\n",
    "        plt.text(v - 90, i -0.05, str(v), color='white', fontweight='bold', fontsize=15)\n",
    "    else:\n",
    "        plt.text(v - 120, i -0.05, str(v), color='white', fontweight='bold', fontsize=15)"
   ]
  },
  {
   "cell_type": "markdown",
   "metadata": {},
   "source": [
    "We have 7 different class labels for a total of 9597 training samples (out of 12798 of the overall dataset):\n",
    "- Surprised (444)\n",
    "- Neutral   (1346)\n",
    "- Disgusted (1397)\n",
    "- Fearful   (1535)\n",
    "- Sad       (1625)\n",
    "- Angry     (1625)\n",
    "- Happy     (1625)\n",
    "\n",
    "Most of them are balanced but \"Surprised\" has way less samples. Hence, we need to deal with it."
   ]
  },
  {
   "cell_type": "markdown",
   "metadata": {},
   "source": [
    "# Data visualization"
   ]
  },
  {
   "cell_type": "code",
   "execution_count": 9,
   "metadata": {},
   "outputs": [],
   "source": [
    "from scipy.io.wavfile import read\n",
    "from scipy import signal\n",
    "\n",
    "d = dict()\n",
    "for filename in df.filename:\n",
    "    sample_rate, samples = read(audio_path+f'/{filename}')\n",
    "    frequencies, times, spectrogram = signal.spectrogram(samples, sample_rate)\n",
    "    d[(int)(filename.split('.')[0])] = {'samples':samples, 'sample_rate':sample_rate, 'time_length':len(samples)/sample_rate, 'frequencies':frequencies, 'spectrogram':spectrogram}  "
   ]
  },
  {
   "cell_type": "code",
   "execution_count": 10,
   "metadata": {},
   "outputs": [
    {
     "data": {
      "text/plain": [
       "Text(0, 0.5, 'Frequency (Hz)')"
      ]
     },
     "execution_count": 10,
     "metadata": {},
     "output_type": "execute_result"
    },
    {
     "data": {
      "image/png": "[encoded data removed]",
      "text/plain": [
       "<Figure size 864x720 with 1 Axes>"
      ]
     },
     "metadata": {
      "needs_background": "light"
     },
     "output_type": "display_data"
    }
   ],
   "source": [
    "samples, sample_rate = d[0]['samples'], d[0]['sample_rate']\n",
    "plt.figure(figsize=(12,10))\n",
    "plt.specgram(x = samples, Fs = sample_rate, cmap='viridis') #x = array of samples, Fs = sample rate\n",
    "plt.title('Spectrogram')\n",
    "plt.xlabel('Time(s)')\n",
    "plt.ylabel('Frequency (Hz)')"
   ]
  },
  {
   "cell_type": "code",
   "execution_count": 11,
   "metadata": {},
   "outputs": [
    {
     "data": {
      "text/plain": [
       "Text(0, 0.5, 'Amplitude')"
      ]
     },
     "execution_count": 11,
     "metadata": {},
     "output_type": "execute_result"
    },
    {
     "data": {
      "image/png": "[encoded data removed]",
      "text/plain": [
       "<Figure size 864x720 with 1 Axes>"
      ]
     },
     "metadata": {
      "needs_background": "light"
     },
     "output_type": "display_data"
    }
   ],
   "source": [
    "time_axis = np.linspace(0, len(samples)/sample_rate, num=len(samples))\n",
    "plt.figure(figsize=(12,10))\n",
    "plt.plot(time_axis, samples, color='tab:blue')\n",
    "plt.title('Normal wavelength')\n",
    "plt.xlabel('Time (s)')\n",
    "plt.ylabel('Amplitude')"
   ]
  },
  {
   "cell_type": "code",
   "execution_count": 12,
   "metadata": {},
   "outputs": [
    {
     "data": {
      "text/plain": [
       "(array([ -46, -103,  -88, ...,    0,    0,    0], dtype=int16), 6632, -7613)"
      ]
     },
     "execution_count": 12,
     "metadata": {},
     "output_type": "execute_result"
    }
   ],
   "source": [
    "samples, samples.max(), samples.min()"
   ]
  },
  {
   "cell_type": "markdown",
   "metadata": {},
   "source": [
    "|WAV format        |Min   |Max   |NumPy dtype|\n",
    "|------------------|------|------|-----------|\n",
    "|16-bit integer PCM|-32768|+32767|int16      |"
   ]
  },
  {
   "cell_type": "code",
   "execution_count": 13,
   "metadata": {},
   "outputs": [
    {
     "data": {
      "text/html": [
       "<div>\n",
       "<style scoped>\n",
       "    .dataframe tbody tr th:only-of-type {\n",
       "        vertical-align: middle;\n",
       "    }\n",
       "\n",
       "    .dataframe tbody tr th {\n",
       "        vertical-align: top;\n",
       "    }\n",
       "\n",
       "    .dataframe thead th {\n",
       "        text-align: right;\n",
       "    }\n",
       "</style>\n",
       "<table border=\"1\" class=\"dataframe\">\n",
       "  <thead>\n",
       "    <tr style=\"text-align: right;\">\n",
       "      <th></th>\n",
       "      <th>samples</th>\n",
       "      <th>sample_rate</th>\n",
       "      <th>time_length</th>\n",
       "      <th>frequencies</th>\n",
       "      <th>spectrogram</th>\n",
       "      <th>emotion</th>\n",
       "      <th>encoded_emotion</th>\n",
       "    </tr>\n",
       "  </thead>\n",
       "  <tbody>\n",
       "    <tr>\n",
       "      <th>0</th>\n",
       "      <td>[-46, -103, -88, -91, -70, -55, -39, -15, 20, ...</td>\n",
       "      <td>8000</td>\n",
       "      <td>2.169000</td>\n",
       "      <td>[0.0, 31.25, 62.5, 93.75, 125.0, 156.25, 187.5...</td>\n",
       "      <td>[[3.3801324, 12.052663, 0.16704863, 0.397491, ...</td>\n",
       "      <td>Disgusted</td>\n",
       "      <td>0</td>\n",
       "    </tr>\n",
       "    <tr>\n",
       "      <th>1</th>\n",
       "      <td>[117, 301, 296, 302, 275, 264, 244, 213, 161, ...</td>\n",
       "      <td>8000</td>\n",
       "      <td>2.669500</td>\n",
       "      <td>[0.0, 31.25, 62.5, 93.75, 125.0, 156.25, 187.5...</td>\n",
       "      <td>[[0.47520238, 13.986137, 2.8514621, 17.818419,...</td>\n",
       "      <td>Fearful</td>\n",
       "      <td>1</td>\n",
       "    </tr>\n",
       "    <tr>\n",
       "      <th>2</th>\n",
       "      <td>[-1, -2, -2, -2, -2, -2, -2, -2, -2, -2, -2, -...</td>\n",
       "      <td>8000</td>\n",
       "      <td>3.837375</td>\n",
       "      <td>[0.0, 31.25, 62.5, 93.75, 125.0, 156.25, 187.5...</td>\n",
       "      <td>[[0.0001733794, 3.5454577e-05, 9.601911e-06, 7...</td>\n",
       "      <td>Neutral</td>\n",
       "      <td>2</td>\n",
       "    </tr>\n",
       "    <tr>\n",
       "      <th>3</th>\n",
       "      <td>[-1, -1, -1, -1, 0, -1, -1, -1, -1, -1, 0, 0, ...</td>\n",
       "      <td>8000</td>\n",
       "      <td>3.403625</td>\n",
       "      <td>[0.0, 31.25, 62.5, 93.75, 125.0, 156.25, 187.5...</td>\n",
       "      <td>[[0.0003778362, 0.00011231503, 6.29442e-05, 0....</td>\n",
       "      <td>Happy</td>\n",
       "      <td>3</td>\n",
       "    </tr>\n",
       "    <tr>\n",
       "      <th>4</th>\n",
       "      <td>[77, 208, 212, 207, 193, 212, 213, 205, 210, 1...</td>\n",
       "      <td>8000</td>\n",
       "      <td>2.869750</td>\n",
       "      <td>[0.0, 31.25, 62.5, 93.75, 125.0, 156.25, 187.5...</td>\n",
       "      <td>[[4.822137, 6.9771757, 0.14937395, 1.0288435, ...</td>\n",
       "      <td>Angry</td>\n",
       "      <td>4</td>\n",
       "    </tr>\n",
       "  </tbody>\n",
       "</table>\n",
       "</div>"
      ],
      "text/plain": [
       "                                             samples sample_rate  time_length  \\\n",
       "0  [-46, -103, -88, -91, -70, -55, -39, -15, 20, ...        8000     2.169000   \n",
       "1  [117, 301, 296, 302, 275, 264, 244, 213, 161, ...        8000     2.669500   \n",
       "2  [-1, -2, -2, -2, -2, -2, -2, -2, -2, -2, -2, -...        8000     3.837375   \n",
       "3  [-1, -1, -1, -1, 0, -1, -1, -1, -1, -1, 0, 0, ...        8000     3.403625   \n",
       "4  [77, 208, 212, 207, 193, 212, 213, 205, 210, 1...        8000     2.869750   \n",
       "\n",
       "                                         frequencies  \\\n",
       "0  [0.0, 31.25, 62.5, 93.75, 125.0, 156.25, 187.5...   \n",
       "1  [0.0, 31.25, 62.5, 93.75, 125.0, 156.25, 187.5...   \n",
       "2  [0.0, 31.25, 62.5, 93.75, 125.0, 156.25, 187.5...   \n",
       "3  [0.0, 31.25, 62.5, 93.75, 125.0, 156.25, 187.5...   \n",
       "4  [0.0, 31.25, 62.5, 93.75, 125.0, 156.25, 187.5...   \n",
       "\n",
       "                                         spectrogram    emotion  \\\n",
       "0  [[3.3801324, 12.052663, 0.16704863, 0.397491, ...  Disgusted   \n",
       "1  [[0.47520238, 13.986137, 2.8514621, 17.818419,...    Fearful   \n",
       "2  [[0.0001733794, 3.5454577e-05, 9.601911e-06, 7...    Neutral   \n",
       "3  [[0.0003778362, 0.00011231503, 6.29442e-05, 0....      Happy   \n",
       "4  [[4.822137, 6.9771757, 0.14937395, 1.0288435, ...      Angry   \n",
       "\n",
       "   encoded_emotion  \n",
       "0                0  \n",
       "1                1  \n",
       "2                2  \n",
       "3                3  \n",
       "4                4  "
      ]
     },
     "execution_count": 13,
     "metadata": {},
     "output_type": "execute_result"
    }
   ],
   "source": [
    "temp_df = pd.DataFrame.from_dict(d).T\n",
    "temp_df['emotion'] = df.emotion\n",
    "temp_df['encoded_emotion'] = df.encoded_emotion\n",
    "temp_df = temp_df.astype({'time_length':float})\n",
    "temp_df.head()"
   ]
  },
  {
   "cell_type": "code",
   "execution_count": 14,
   "metadata": {},
   "outputs": [
    {
     "name": "stdout",
     "output_type": "stream",
     "text": [
      "<class 'pandas.core.frame.DataFrame'>\n",
      "Int64Index: 9597 entries, 0 to 9596\n",
      "Data columns (total 7 columns):\n",
      " #   Column           Non-Null Count  Dtype  \n",
      "---  ------           --------------  -----  \n",
      " 0   samples          9597 non-null   object \n",
      " 1   sample_rate      9597 non-null   object \n",
      " 2   time_length      9597 non-null   float64\n",
      " 3   frequencies      9597 non-null   object \n",
      " 4   spectrogram      9597 non-null   object \n",
      " 5   emotion          9597 non-null   string \n",
      " 6   encoded_emotion  9597 non-null   int64  \n",
      "dtypes: float64(1), int64(1), object(4), string(1)\n",
      "memory usage: 599.8+ KB\n"
     ]
    }
   ],
   "source": [
    "temp_df.info()"
   ]
  },
  {
   "cell_type": "code",
   "execution_count": 15,
   "metadata": {},
   "outputs": [
    {
     "data": {
      "text/plain": [
       "<AxesSubplot:xlabel='emotion', ylabel='time_length'>"
      ]
     },
     "execution_count": 15,
     "metadata": {},
     "output_type": "execute_result"
    },
    {
     "data": {
      "image/png": "[encoded data removed]",
      "text/plain": [
       "<Figure size 864x720 with 1 Axes>"
      ]
     },
     "metadata": {
      "needs_background": "light"
     },
     "output_type": "display_data"
    }
   ],
   "source": [
    "colors = ['kelly green',     # Disgusted\n",
    "          'medium purple',    # Fearful\n",
    "          'grey',             # Neutral\n",
    "          'lemon yellow',     # Happy\n",
    "          'vermillion',       # Angry\n",
    "          'cerulean blue',    # Sad\n",
    "          'powder blue']      # Surprised\n",
    "     \n",
    "my_palette = sns.xkcd_palette(colors)\n",
    "\n",
    "plt.figure(figsize=(12,10))\n",
    "sns.boxplot(x='emotion', y='time_length', data=temp_df, palette=my_palette)\n"
   ]
  },
  {
   "cell_type": "code",
   "execution_count": 16,
   "metadata": {},
   "outputs": [
    {
     "data": {
      "text/plain": [
       "<AxesSubplot:xlabel='emotion', ylabel='time_length'>"
      ]
     },
     "execution_count": 16,
     "metadata": {},
     "output_type": "execute_result"
    },
    {
     "data": {
      "image/png": "[encoded data removed]",
      "text/plain": [
       "<Figure size 864x720 with 1 Axes>"
      ]
     },
     "metadata": {
      "needs_background": "light"
     },
     "output_type": "display_data"
    }
   ],
   "source": [
    "plt.figure(figsize=(12,10))\n",
    "sns.violinplot(x='emotion', y='time_length', data=temp_df, palette=my_palette)"
   ]
  },
  {
   "cell_type": "markdown",
   "metadata": {},
   "source": [
    "Colors found at: https://xkcd.com/color/rgb/\n",
    "\n",
    "Custom categorical palettes using dictionary gave me errors. Found this alternative route."
   ]
  },
  {
   "cell_type": "code",
   "execution_count": 17,
   "metadata": {},
   "outputs": [
    {
     "data": {
      "text/html": [
       "<div>\n",
       "<style scoped>\n",
       "    .dataframe tbody tr th:only-of-type {\n",
       "        vertical-align: middle;\n",
       "    }\n",
       "\n",
       "    .dataframe tbody tr th {\n",
       "        vertical-align: top;\n",
       "    }\n",
       "\n",
       "    .dataframe thead th {\n",
       "        text-align: right;\n",
       "    }\n",
       "</style>\n",
       "<table border=\"1\" class=\"dataframe\">\n",
       "  <thead>\n",
       "    <tr style=\"text-align: right;\">\n",
       "      <th></th>\n",
       "      <th>count</th>\n",
       "      <th>mean</th>\n",
       "      <th>std</th>\n",
       "      <th>min</th>\n",
       "      <th>25%</th>\n",
       "      <th>50%</th>\n",
       "      <th>75%</th>\n",
       "      <th>max</th>\n",
       "    </tr>\n",
       "    <tr>\n",
       "      <th>emotion</th>\n",
       "      <th></th>\n",
       "      <th></th>\n",
       "      <th></th>\n",
       "      <th></th>\n",
       "      <th></th>\n",
       "      <th></th>\n",
       "      <th></th>\n",
       "      <th></th>\n",
       "    </tr>\n",
       "  </thead>\n",
       "  <tbody>\n",
       "    <tr>\n",
       "      <th>Angry</th>\n",
       "      <td>1625.0</td>\n",
       "      <td>2.758348</td>\n",
       "      <td>0.889712</td>\n",
       "      <td>1.326625</td>\n",
       "      <td>2.127500</td>\n",
       "      <td>2.569375</td>\n",
       "      <td>3.203250</td>\n",
       "      <td>5.527875</td>\n",
       "    </tr>\n",
       "    <tr>\n",
       "      <th>Disgusted</th>\n",
       "      <td>1397.0</td>\n",
       "      <td>2.830282</td>\n",
       "      <td>0.638181</td>\n",
       "      <td>1.268000</td>\n",
       "      <td>2.382000</td>\n",
       "      <td>2.669375</td>\n",
       "      <td>3.136500</td>\n",
       "      <td>4.938500</td>\n",
       "    </tr>\n",
       "    <tr>\n",
       "      <th>Fearful</th>\n",
       "      <td>1535.0</td>\n",
       "      <td>2.615037</td>\n",
       "      <td>0.833615</td>\n",
       "      <td>1.254125</td>\n",
       "      <td>1.935375</td>\n",
       "      <td>2.469250</td>\n",
       "      <td>3.103250</td>\n",
       "      <td>5.071750</td>\n",
       "    </tr>\n",
       "    <tr>\n",
       "      <th>Happy</th>\n",
       "      <td>1625.0</td>\n",
       "      <td>2.669564</td>\n",
       "      <td>0.906174</td>\n",
       "      <td>1.334750</td>\n",
       "      <td>2.002125</td>\n",
       "      <td>2.335750</td>\n",
       "      <td>3.103250</td>\n",
       "      <td>7.012625</td>\n",
       "    </tr>\n",
       "    <tr>\n",
       "      <th>Neutral</th>\n",
       "      <td>1346.0</td>\n",
       "      <td>2.602233</td>\n",
       "      <td>0.785585</td>\n",
       "      <td>1.334750</td>\n",
       "      <td>2.070938</td>\n",
       "      <td>2.335750</td>\n",
       "      <td>2.836250</td>\n",
       "      <td>6.226500</td>\n",
       "    </tr>\n",
       "    <tr>\n",
       "      <th>Sad</th>\n",
       "      <td>1625.0</td>\n",
       "      <td>2.941256</td>\n",
       "      <td>0.900640</td>\n",
       "      <td>1.468250</td>\n",
       "      <td>2.310125</td>\n",
       "      <td>2.607125</td>\n",
       "      <td>3.375375</td>\n",
       "      <td>7.138750</td>\n",
       "    </tr>\n",
       "    <tr>\n",
       "      <th>Suprised</th>\n",
       "      <td>444.0</td>\n",
       "      <td>2.468897</td>\n",
       "      <td>0.704724</td>\n",
       "      <td>1.650125</td>\n",
       "      <td>1.927719</td>\n",
       "      <td>2.127813</td>\n",
       "      <td>3.278344</td>\n",
       "      <td>4.638125</td>\n",
       "    </tr>\n",
       "  </tbody>\n",
       "</table>\n",
       "</div>"
      ],
      "text/plain": [
       "            count      mean       std       min       25%       50%       75%  \\\n",
       "emotion                                                                         \n",
       "Angry      1625.0  2.758348  0.889712  1.326625  2.127500  2.569375  3.203250   \n",
       "Disgusted  1397.0  2.830282  0.638181  1.268000  2.382000  2.669375  3.136500   \n",
       "Fearful    1535.0  2.615037  0.833615  1.254125  1.935375  2.469250  3.103250   \n",
       "Happy      1625.0  2.669564  0.906174  1.334750  2.002125  2.335750  3.103250   \n",
       "Neutral    1346.0  2.602233  0.785585  1.334750  2.070938  2.335750  2.836250   \n",
       "Sad        1625.0  2.941256  0.900640  1.468250  2.310125  2.607125  3.375375   \n",
       "Suprised    444.0  2.468897  0.704724  1.650125  1.927719  2.127813  3.278344   \n",
       "\n",
       "                max  \n",
       "emotion              \n",
       "Angry      5.527875  \n",
       "Disgusted  4.938500  \n",
       "Fearful    5.071750  \n",
       "Happy      7.012625  \n",
       "Neutral    6.226500  \n",
       "Sad        7.138750  \n",
       "Suprised   4.638125  "
      ]
     },
     "execution_count": 17,
     "metadata": {},
     "output_type": "execute_result"
    },
    {
     "data": {
      "text/plain": [
       "<Figure size 864x720 with 0 Axes>"
      ]
     },
     "metadata": {},
     "output_type": "display_data"
    }
   ],
   "source": [
    "plt.figure(figsize=(12,10))\n",
    "temp_df.groupby('emotion')['time_length'].describe()"
   ]
  },
  {
   "cell_type": "markdown",
   "metadata": {},
   "source": [
    "Happy and Sad are the ones with maximum length. We can think that if someone is happy, he wants to talk. Same thing concerning sad."
   ]
  },
  {
   "cell_type": "code",
   "execution_count": 18,
   "metadata": {},
   "outputs": [
    {
     "data": {
      "text/plain": [
       "<AxesSubplot:xlabel='time_length', ylabel='Count'>"
      ]
     },
     "execution_count": 18,
     "metadata": {},
     "output_type": "execute_result"
    },
    {
     "data": {
      "image/png": "[encoded data removed]",
      "text/plain": [
       "<Figure size 864x720 with 1 Axes>"
      ]
     },
     "metadata": {
      "needs_background": "light"
     },
     "output_type": "display_data"
    }
   ],
   "source": [
    "plt.figure(figsize=(12,10))\n",
    "sns.histplot(temp_df.time_length, bins=30, kde=True, color='tab:blue')"
   ]
  },
  {
   "cell_type": "code",
   "execution_count": 19,
   "metadata": {},
   "outputs": [
    {
     "data": {
      "text/html": [
       "<div>\n",
       "<style scoped>\n",
       "    .dataframe tbody tr th:only-of-type {\n",
       "        vertical-align: middle;\n",
       "    }\n",
       "\n",
       "    .dataframe tbody tr th {\n",
       "        vertical-align: top;\n",
       "    }\n",
       "\n",
       "    .dataframe thead th {\n",
       "        text-align: right;\n",
       "    }\n",
       "</style>\n",
       "<table border=\"1\" class=\"dataframe\">\n",
       "  <thead>\n",
       "    <tr style=\"text-align: right;\">\n",
       "      <th></th>\n",
       "      <th>time_length</th>\n",
       "      <th>emotion</th>\n",
       "    </tr>\n",
       "  </thead>\n",
       "  <tbody>\n",
       "    <tr>\n",
       "      <th>434</th>\n",
       "      <td>6.039500</td>\n",
       "      <td>Sad</td>\n",
       "    </tr>\n",
       "    <tr>\n",
       "      <th>494</th>\n",
       "      <td>6.242250</td>\n",
       "      <td>Happy</td>\n",
       "    </tr>\n",
       "    <tr>\n",
       "      <th>1921</th>\n",
       "      <td>6.032750</td>\n",
       "      <td>Sad</td>\n",
       "    </tr>\n",
       "    <tr>\n",
       "      <th>1985</th>\n",
       "      <td>6.129625</td>\n",
       "      <td>Sad</td>\n",
       "    </tr>\n",
       "    <tr>\n",
       "      <th>2039</th>\n",
       "      <td>6.289375</td>\n",
       "      <td>Happy</td>\n",
       "    </tr>\n",
       "    <tr>\n",
       "      <th>2391</th>\n",
       "      <td>6.058750</td>\n",
       "      <td>Happy</td>\n",
       "    </tr>\n",
       "    <tr>\n",
       "      <th>2669</th>\n",
       "      <td>6.156625</td>\n",
       "      <td>Neutral</td>\n",
       "    </tr>\n",
       "    <tr>\n",
       "      <th>2751</th>\n",
       "      <td>6.289375</td>\n",
       "      <td>Happy</td>\n",
       "    </tr>\n",
       "    <tr>\n",
       "      <th>3824</th>\n",
       "      <td>6.226500</td>\n",
       "      <td>Neutral</td>\n",
       "    </tr>\n",
       "    <tr>\n",
       "      <th>4672</th>\n",
       "      <td>7.012625</td>\n",
       "      <td>Happy</td>\n",
       "    </tr>\n",
       "    <tr>\n",
       "      <th>5288</th>\n",
       "      <td>6.055875</td>\n",
       "      <td>Neutral</td>\n",
       "    </tr>\n",
       "    <tr>\n",
       "      <th>6026</th>\n",
       "      <td>7.024875</td>\n",
       "      <td>Sad</td>\n",
       "    </tr>\n",
       "    <tr>\n",
       "      <th>6709</th>\n",
       "      <td>6.242875</td>\n",
       "      <td>Sad</td>\n",
       "    </tr>\n",
       "    <tr>\n",
       "      <th>6979</th>\n",
       "      <td>6.079750</td>\n",
       "      <td>Happy</td>\n",
       "    </tr>\n",
       "    <tr>\n",
       "      <th>7409</th>\n",
       "      <td>6.005875</td>\n",
       "      <td>Sad</td>\n",
       "    </tr>\n",
       "    <tr>\n",
       "      <th>8256</th>\n",
       "      <td>7.138750</td>\n",
       "      <td>Sad</td>\n",
       "    </tr>\n",
       "    <tr>\n",
       "      <th>8944</th>\n",
       "      <td>6.107000</td>\n",
       "      <td>Sad</td>\n",
       "    </tr>\n",
       "  </tbody>\n",
       "</table>\n",
       "</div>"
      ],
      "text/plain": [
       "      time_length  emotion\n",
       "434      6.039500      Sad\n",
       "494      6.242250    Happy\n",
       "1921     6.032750      Sad\n",
       "1985     6.129625      Sad\n",
       "2039     6.289375    Happy\n",
       "2391     6.058750    Happy\n",
       "2669     6.156625  Neutral\n",
       "2751     6.289375    Happy\n",
       "3824     6.226500  Neutral\n",
       "4672     7.012625    Happy\n",
       "5288     6.055875  Neutral\n",
       "6026     7.024875      Sad\n",
       "6709     6.242875      Sad\n",
       "6979     6.079750    Happy\n",
       "7409     6.005875      Sad\n",
       "8256     7.138750      Sad\n",
       "8944     6.107000      Sad"
      ]
     },
     "execution_count": 19,
     "metadata": {},
     "output_type": "execute_result"
    }
   ],
   "source": [
    "mask = temp_df.time_length > 6\n",
    "temp_df[mask][['time_length','emotion']]"
   ]
  },
  {
   "cell_type": "markdown",
   "metadata": {},
   "source": [
    "By manual inspection, they don't have silences."
   ]
  },
  {
   "cell_type": "code",
   "execution_count": 20,
   "metadata": {},
   "outputs": [
    {
     "name": "stdout",
     "output_type": "stream",
     "text": [
      "Sad        8\n",
      "Happy      6\n",
      "Neutral    3\n",
      "Name: emotion, dtype: Int64\n"
     ]
    }
   ],
   "source": [
    "print(temp_df[mask].emotion.value_counts())"
   ]
  },
  {
   "cell_type": "code",
   "execution_count": 21,
   "metadata": {},
   "outputs": [
    {
     "name": "stdout",
     "output_type": "stream",
     "text": [
      "3 seconds threshold\n",
      "Sad          541\n",
      "Angry        511\n",
      "Disgusted    444\n",
      "Happy        431\n",
      "Fearful      424\n",
      "Neutral      290\n",
      "Suprised     137\n",
      "Name: emotion, dtype: Int64\n",
      "4 seconds threshold\n",
      "Sad          215\n",
      "Angry        207\n",
      "Happy        187\n",
      "Fearful      137\n",
      "Neutral      106\n",
      "Disgusted     92\n",
      "Suprised       3\n",
      "Name: emotion, dtype: Int64\n",
      "5 seconds threshold\n",
      "Sad        74\n",
      "Happy      27\n",
      "Neutral    21\n",
      "Angry      17\n",
      "Fearful     3\n",
      "Name: emotion, dtype: Int64\n",
      "6 seconds threshold\n",
      "Sad        8\n",
      "Happy      6\n",
      "Neutral    3\n",
      "Name: emotion, dtype: Int64\n",
      "7 seconds threshold\n",
      "Sad      2\n",
      "Happy    1\n",
      "Name: emotion, dtype: Int64\n"
     ]
    }
   ],
   "source": [
    "for i in range(3,8):\n",
    "    print(f'{i} seconds threshold')\n",
    "    mask = temp_df.time_length > i\n",
    "    print(temp_df[mask].emotion.value_counts())"
   ]
  },
  {
   "cell_type": "code",
   "execution_count": 22,
   "metadata": {},
   "outputs": [
    {
     "data": {
      "image/png": "[encoded data removed]",
      "text/plain": [
       "<Figure size 432x288 with 1 Axes>"
      ]
     },
     "metadata": {
      "needs_background": "light"
     },
     "output_type": "display_data"
    },
    {
     "data": {
      "image/png": "[encoded data removed]",
      "text/plain": [
       "<Figure size 432x288 with 1 Axes>"
      ]
     },
     "metadata": {
      "needs_background": "light"
     },
     "output_type": "display_data"
    },
    {
     "data": {
      "image/png": "[encoded data removed]",
      "text/plain": [
       "<Figure size 432x288 with 1 Axes>"
      ]
     },
     "metadata": {
      "needs_background": "light"
     },
     "output_type": "display_data"
    },
    {
     "data": {
      "image/png": "[encoded data removed]",
      "text/plain": [
       "<Figure size 432x288 with 1 Axes>"
      ]
     },
     "metadata": {
      "needs_background": "light"
     },
     "output_type": "display_data"
    },
    {
     "data": {
      "image/png": "[encoded data removed]",
      "text/plain": [
       "<Figure size 432x288 with 1 Axes>"
      ]
     },
     "metadata": {
      "needs_background": "light"
     },
     "output_type": "display_data"
    },
    {
     "data": {
      "image/png": "[encoded data removed]",
      "text/plain": [
       "<Figure size 432x288 with 1 Axes>"
      ]
     },
     "metadata": {
      "needs_background": "light"
     },
     "output_type": "display_data"
    },
    {
     "data": {
      "image/png": "[encoded data removed]",
      "text/plain": [
       "<Figure size 432x288 with 1 Axes>"
      ]
     },
     "metadata": {
      "needs_background": "light"
     },
     "output_type": "display_data"
    }
   ],
   "source": [
    "for i in range(len(labels)):\n",
    "    mask = temp_df.emotion == labels[i]\n",
    "    sns.histplot(temp_df[mask].time_length, bins=30, color='tab:blue')\n",
    "    plt.title(labels[i] + f' ({len(temp_df[mask])} entries)')\n",
    "    plt.show()"
   ]
  },
  {
   "cell_type": "markdown",
   "metadata": {},
   "source": [
    "Seguono tutti una gamma distribution, possibile che in surprised manchino dei sample nel range 2.5-3?\n"
   ]
  },
  {
   "cell_type": "markdown",
   "metadata": {},
   "source": [
    "# Feature extraction"
   ]
  },
  {
   "cell_type": "code",
   "execution_count": 23,
   "metadata": {},
   "outputs": [
    {
     "data": {
      "text/plain": [
       "dict_keys(['samples', 'sample_rate', 'time_length', 'frequencies', 'spectrogram'])"
      ]
     },
     "execution_count": 23,
     "metadata": {},
     "output_type": "execute_result"
    }
   ],
   "source": [
    "d[0].keys()"
   ]
  },
  {
   "cell_type": "code",
   "execution_count": 24,
   "metadata": {},
   "outputs": [],
   "source": [
    "def divide_matrix(ary:np.array, num_columns:int, num_rows:int):    \n",
    "    \n",
    "    if (num_columns > ary.shape[1] or num_rows > ary.shape[0]):\n",
    "        return 'Error, the requested number of columns or rows exceed dimensions!'\n",
    "    \n",
    "    first = np.array_split(ary, num_rows, axis=0) # num rows\n",
    "    second = []\n",
    "    for array in first:\n",
    "        second.append(np.array_split(array, num_columns, axis=1)) # num columns\n",
    "    flattened_list = flatten(second)\n",
    "    return flattened_list\n",
    "\n",
    "def flatten(l:list):\n",
    "    flattened_list = []\n",
    "    for item in l:\n",
    "        for i in item:\n",
    "            flattened_list.append(i)\n",
    "    return flattened_list\n",
    "    \n",
    "def compute_feature(list_of_arrays:list) -> dict:\n",
    "    d = dict()\n",
    "    for id in range(len(list_of_arrays)):\n",
    "        d[f'{id}_mean_feature'] = np.mean(list_of_arrays[id])\n",
    "        d[f'{id}_std_feature'] = np.std(list_of_arrays[id])\n",
    "    return d\n",
    "\n",
    "def create_dict_dataset(path:str, is_eval:bool=False) -> dict:\n",
    "    \"\"\"\n",
    "    function used to read the dataset. It creates a dictionary in\n",
    "    the following form:\n",
    "    id: {label, frequencies, times, spectrogram}.\n",
    "    If is_eval == True, no label.\n",
    "\n",
    "    Args:\n",
    "        path (str): path used to read the dataset\n",
    "        is_eval (bool, optional): boolean flag to set to True\n",
    "        if the dataset you want to read is the evaluation one.\n",
    "        Defaults to False.\n",
    "\n",
    "    Returns:\n",
    "        dict: dataset in dictionary form\n",
    "    \"\"\"\n",
    "    all_samples = os.listdir(path)\n",
    "    d = dict()\n",
    "    for sample in all_samples:\n",
    "        if is_eval:\n",
    "            id = int(sample.split('.')[0])\n",
    "        else:\n",
    "            id = int(sample.split('_')[0])\n",
    "        sample_rate, samples = read(path + sample)\n",
    "        frequencies, times, spectrogram = signal.spectrogram(samples, sample_rate)\n",
    "        if is_eval:\n",
    "            d_temp = {'frequencies': frequencies,\n",
    "                      'times': times,\n",
    "                      'spectrogram': spectrogram} \n",
    "        else:\n",
    "            d_temp = {'label': int(sample.split('_')[1][:-4]), # till -4 since it has the .wav extension\n",
    "                    'frequencies': frequencies,\n",
    "                      'times': times,\n",
    "                      'spectrogram': spectrogram} \n",
    "        d[id] = d_temp \n",
    "    return d"
   ]
  },
  {
   "cell_type": "code",
   "execution_count": 25,
   "metadata": {},
   "outputs": [
    {
     "data": {
      "text/html": [
       "<div>\n",
       "<style scoped>\n",
       "    .dataframe tbody tr th:only-of-type {\n",
       "        vertical-align: middle;\n",
       "    }\n",
       "\n",
       "    .dataframe tbody tr th {\n",
       "        vertical-align: top;\n",
       "    }\n",
       "\n",
       "    .dataframe thead th {\n",
       "        text-align: right;\n",
       "    }\n",
       "</style>\n",
       "<table border=\"1\" class=\"dataframe\">\n",
       "  <thead>\n",
       "    <tr style=\"text-align: right;\">\n",
       "      <th></th>\n",
       "      <th>samples</th>\n",
       "      <th>sample_rate</th>\n",
       "      <th>time_length</th>\n",
       "      <th>frequencies</th>\n",
       "      <th>spectrogram</th>\n",
       "      <th>emotion</th>\n",
       "      <th>encoded_emotion</th>\n",
       "    </tr>\n",
       "  </thead>\n",
       "  <tbody>\n",
       "    <tr>\n",
       "      <th>0</th>\n",
       "      <td>[-46, -103, -88, -91, -70, -55, -39, -15, 20, ...</td>\n",
       "      <td>8000</td>\n",
       "      <td>2.169000</td>\n",
       "      <td>[0.0, 31.25, 62.5, 93.75, 125.0, 156.25, 187.5...</td>\n",
       "      <td>[[3.3801324, 12.052663, 0.16704863, 0.397491, ...</td>\n",
       "      <td>Disgusted</td>\n",
       "      <td>0</td>\n",
       "    </tr>\n",
       "    <tr>\n",
       "      <th>1</th>\n",
       "      <td>[117, 301, 296, 302, 275, 264, 244, 213, 161, ...</td>\n",
       "      <td>8000</td>\n",
       "      <td>2.669500</td>\n",
       "      <td>[0.0, 31.25, 62.5, 93.75, 125.0, 156.25, 187.5...</td>\n",
       "      <td>[[0.47520238, 13.986137, 2.8514621, 17.818419,...</td>\n",
       "      <td>Fearful</td>\n",
       "      <td>1</td>\n",
       "    </tr>\n",
       "    <tr>\n",
       "      <th>2</th>\n",
       "      <td>[-1, -2, -2, -2, -2, -2, -2, -2, -2, -2, -2, -...</td>\n",
       "      <td>8000</td>\n",
       "      <td>3.837375</td>\n",
       "      <td>[0.0, 31.25, 62.5, 93.75, 125.0, 156.25, 187.5...</td>\n",
       "      <td>[[0.0001733794, 3.5454577e-05, 9.601911e-06, 7...</td>\n",
       "      <td>Neutral</td>\n",
       "      <td>2</td>\n",
       "    </tr>\n",
       "    <tr>\n",
       "      <th>3</th>\n",
       "      <td>[-1, -1, -1, -1, 0, -1, -1, -1, -1, -1, 0, 0, ...</td>\n",
       "      <td>8000</td>\n",
       "      <td>3.403625</td>\n",
       "      <td>[0.0, 31.25, 62.5, 93.75, 125.0, 156.25, 187.5...</td>\n",
       "      <td>[[0.0003778362, 0.00011231503, 6.29442e-05, 0....</td>\n",
       "      <td>Happy</td>\n",
       "      <td>3</td>\n",
       "    </tr>\n",
       "    <tr>\n",
       "      <th>4</th>\n",
       "      <td>[77, 208, 212, 207, 193, 212, 213, 205, 210, 1...</td>\n",
       "      <td>8000</td>\n",
       "      <td>2.869750</td>\n",
       "      <td>[0.0, 31.25, 62.5, 93.75, 125.0, 156.25, 187.5...</td>\n",
       "      <td>[[4.822137, 6.9771757, 0.14937395, 1.0288435, ...</td>\n",
       "      <td>Angry</td>\n",
       "      <td>4</td>\n",
       "    </tr>\n",
       "  </tbody>\n",
       "</table>\n",
       "</div>"
      ],
      "text/plain": [
       "                                             samples sample_rate  time_length  \\\n",
       "0  [-46, -103, -88, -91, -70, -55, -39, -15, 20, ...        8000     2.169000   \n",
       "1  [117, 301, 296, 302, 275, 264, 244, 213, 161, ...        8000     2.669500   \n",
       "2  [-1, -2, -2, -2, -2, -2, -2, -2, -2, -2, -2, -...        8000     3.837375   \n",
       "3  [-1, -1, -1, -1, 0, -1, -1, -1, -1, -1, 0, 0, ...        8000     3.403625   \n",
       "4  [77, 208, 212, 207, 193, 212, 213, 205, 210, 1...        8000     2.869750   \n",
       "\n",
       "                                         frequencies  \\\n",
       "0  [0.0, 31.25, 62.5, 93.75, 125.0, 156.25, 187.5...   \n",
       "1  [0.0, 31.25, 62.5, 93.75, 125.0, 156.25, 187.5...   \n",
       "2  [0.0, 31.25, 62.5, 93.75, 125.0, 156.25, 187.5...   \n",
       "3  [0.0, 31.25, 62.5, 93.75, 125.0, 156.25, 187.5...   \n",
       "4  [0.0, 31.25, 62.5, 93.75, 125.0, 156.25, 187.5...   \n",
       "\n",
       "                                         spectrogram    emotion  \\\n",
       "0  [[3.3801324, 12.052663, 0.16704863, 0.397491, ...  Disgusted   \n",
       "1  [[0.47520238, 13.986137, 2.8514621, 17.818419,...    Fearful   \n",
       "2  [[0.0001733794, 3.5454577e-05, 9.601911e-06, 7...    Neutral   \n",
       "3  [[0.0003778362, 0.00011231503, 6.29442e-05, 0....      Happy   \n",
       "4  [[4.822137, 6.9771757, 0.14937395, 1.0288435, ...      Angry   \n",
       "\n",
       "   encoded_emotion  \n",
       "0                0  \n",
       "1                1  \n",
       "2                2  \n",
       "3                3  \n",
       "4                4  "
      ]
     },
     "execution_count": 25,
     "metadata": {},
     "output_type": "execute_result"
    }
   ],
   "source": [
    "temp_df.head()"
   ]
  },
  {
   "cell_type": "code",
   "execution_count": 26,
   "metadata": {},
   "outputs": [
    {
     "data": {
      "text/plain": [
       "Int64Index([   0,    1,    2,    3,    4,    5,    6,    7,    8,    9,\n",
       "            ...\n",
       "            9587, 9588, 9589, 9590, 9591, 9592, 9593, 9594, 9595, 9596],\n",
       "           dtype='int64', length=9597)"
      ]
     },
     "execution_count": 26,
     "metadata": {},
     "output_type": "execute_result"
    }
   ],
   "source": [
    "shrunk_df = temp_df[['spectrogram', 'encoded_emotion']]\n",
    "shrunk_df.index"
   ]
  },
  {
   "cell_type": "code",
   "execution_count": 27,
   "metadata": {},
   "outputs": [
    {
     "data": {
      "text/html": [
       "<div>\n",
       "<style scoped>\n",
       "    .dataframe tbody tr th:only-of-type {\n",
       "        vertical-align: middle;\n",
       "    }\n",
       "\n",
       "    .dataframe tbody tr th {\n",
       "        vertical-align: top;\n",
       "    }\n",
       "\n",
       "    .dataframe thead th {\n",
       "        text-align: right;\n",
       "    }\n",
       "</style>\n",
       "<table border=\"1\" class=\"dataframe\">\n",
       "  <thead>\n",
       "    <tr style=\"text-align: right;\">\n",
       "      <th></th>\n",
       "      <th>spectrogram</th>\n",
       "      <th>encoded_emotion</th>\n",
       "    </tr>\n",
       "  </thead>\n",
       "  <tbody>\n",
       "    <tr>\n",
       "      <th>0</th>\n",
       "      <td>[[3.3801324, 12.052663, 0.16704863, 0.397491, ...</td>\n",
       "      <td>0</td>\n",
       "    </tr>\n",
       "    <tr>\n",
       "      <th>1</th>\n",
       "      <td>[[0.47520238, 13.986137, 2.8514621, 17.818419,...</td>\n",
       "      <td>1</td>\n",
       "    </tr>\n",
       "    <tr>\n",
       "      <th>2</th>\n",
       "      <td>[[0.0001733794, 3.5454577e-05, 9.601911e-06, 7...</td>\n",
       "      <td>2</td>\n",
       "    </tr>\n",
       "    <tr>\n",
       "      <th>3</th>\n",
       "      <td>[[0.0003778362, 0.00011231503, 6.29442e-05, 0....</td>\n",
       "      <td>3</td>\n",
       "    </tr>\n",
       "    <tr>\n",
       "      <th>4</th>\n",
       "      <td>[[4.822137, 6.9771757, 0.14937395, 1.0288435, ...</td>\n",
       "      <td>4</td>\n",
       "    </tr>\n",
       "  </tbody>\n",
       "</table>\n",
       "</div>"
      ],
      "text/plain": [
       "                                         spectrogram  encoded_emotion\n",
       "0  [[3.3801324, 12.052663, 0.16704863, 0.397491, ...                0\n",
       "1  [[0.47520238, 13.986137, 2.8514621, 17.818419,...                1\n",
       "2  [[0.0001733794, 3.5454577e-05, 9.601911e-06, 7...                2\n",
       "3  [[0.0003778362, 0.00011231503, 6.29442e-05, 0....                3\n",
       "4  [[4.822137, 6.9771757, 0.14937395, 1.0288435, ...                4"
      ]
     },
     "execution_count": 27,
     "metadata": {},
     "output_type": "execute_result"
    }
   ],
   "source": [
    "shrunk_df.head()"
   ]
  },
  {
   "cell_type": "markdown",
   "metadata": {},
   "source": [
    "---------------\n",
    "prove"
   ]
  },
  {
   "cell_type": "code",
   "execution_count": 41,
   "metadata": {},
   "outputs": [],
   "source": [
    "# ho più 'colonne' che valori. \n",
    "# Ho un rettangolo.\n",
    "# Voglio provare a mantenere lo stesso rapporto tra numero colonne e numero righe\n",
    "# Questo è però indicativo di un solo sample. \n",
    "# Forse mi conviene fare una media delle righe e delle colonne degli spettrogrammi\n",
    "ratio = spectrogram.shape[0]/spectrogram.shape[1]\n"
   ]
  },
  {
   "cell_type": "code",
   "execution_count": 42,
   "metadata": {},
   "outputs": [
    {
     "data": {
      "text/plain": [
       "False"
      ]
     },
     "execution_count": 42,
     "metadata": {},
     "output_type": "execute_result"
    }
   ],
   "source": [
    "a = shrunk_df.loc[0]['spectrogram']\n",
    "n = 5\n",
    "b = divide_matrix(a, num_rows=n, num_columns=n*ratio)\n",
    "len(b[0]) == len(b[-1]) # not always true"
   ]
  },
  {
   "cell_type": "code",
   "execution_count": 43,
   "metadata": {},
   "outputs": [
    {
     "data": {
      "text/html": [
       "<div>\n",
       "<style scoped>\n",
       "    .dataframe tbody tr th:only-of-type {\n",
       "        vertical-align: middle;\n",
       "    }\n",
       "\n",
       "    .dataframe tbody tr th {\n",
       "        vertical-align: top;\n",
       "    }\n",
       "\n",
       "    .dataframe thead th {\n",
       "        text-align: right;\n",
       "    }\n",
       "</style>\n",
       "<table border=\"1\" class=\"dataframe\">\n",
       "  <thead>\n",
       "    <tr style=\"text-align: right;\">\n",
       "      <th></th>\n",
       "      <th>0_mean_feature</th>\n",
       "      <th>0_std_feature</th>\n",
       "      <th>10_mean_feature</th>\n",
       "      <th>10_std_feature</th>\n",
       "      <th>11_mean_feature</th>\n",
       "      <th>11_std_feature</th>\n",
       "      <th>12_mean_feature</th>\n",
       "      <th>12_std_feature</th>\n",
       "      <th>13_mean_feature</th>\n",
       "      <th>13_std_feature</th>\n",
       "      <th>...</th>\n",
       "      <th>5_mean_feature</th>\n",
       "      <th>5_std_feature</th>\n",
       "      <th>6_mean_feature</th>\n",
       "      <th>6_std_feature</th>\n",
       "      <th>7_mean_feature</th>\n",
       "      <th>7_std_feature</th>\n",
       "      <th>8_mean_feature</th>\n",
       "      <th>8_std_feature</th>\n",
       "      <th>9_mean_feature</th>\n",
       "      <th>9_std_feature</th>\n",
       "    </tr>\n",
       "  </thead>\n",
       "  <tbody>\n",
       "    <tr>\n",
       "      <th>0</th>\n",
       "      <td>29.383663</td>\n",
       "      <td>63.51403</td>\n",
       "      <td>28.703026</td>\n",
       "      <td>90.561371</td>\n",
       "      <td>122.246475</td>\n",
       "      <td>679.788269</td>\n",
       "      <td>547.270203</td>\n",
       "      <td>4128.12207</td>\n",
       "      <td>0.082377</td>\n",
       "      <td>0.132282</td>\n",
       "      <td>...</td>\n",
       "      <td>236.692505</td>\n",
       "      <td>584.722107</td>\n",
       "      <td>25.477348</td>\n",
       "      <td>67.48336</td>\n",
       "      <td>0.063999</td>\n",
       "      <td>0.069886</td>\n",
       "      <td>25.764494</td>\n",
       "      <td>102.989449</td>\n",
       "      <td>315.2052</td>\n",
       "      <td>916.397278</td>\n",
       "    </tr>\n",
       "  </tbody>\n",
       "</table>\n",
       "<p>1 rows × 70 columns</p>\n",
       "</div>"
      ],
      "text/plain": [
       "   0_mean_feature  0_std_feature  10_mean_feature  10_std_feature  \\\n",
       "0       29.383663       63.51403        28.703026       90.561371   \n",
       "\n",
       "   11_mean_feature  11_std_feature  12_mean_feature  12_std_feature  \\\n",
       "0       122.246475      679.788269       547.270203      4128.12207   \n",
       "\n",
       "   13_mean_feature  13_std_feature  ...  5_mean_feature  5_std_feature  \\\n",
       "0         0.082377        0.132282  ...      236.692505     584.722107   \n",
       "\n",
       "   6_mean_feature  6_std_feature  7_mean_feature  7_std_feature  \\\n",
       "0       25.477348       67.48336        0.063999       0.069886   \n",
       "\n",
       "   8_mean_feature  8_std_feature  9_mean_feature  9_std_feature  \n",
       "0       25.764494     102.989449        315.2052     916.397278  \n",
       "\n",
       "[1 rows x 70 columns]"
      ]
     },
     "execution_count": 43,
     "metadata": {},
     "output_type": "execute_result"
    }
   ],
   "source": [
    "c = dict()\n",
    "c[0] =  compute_feature(b)\n",
    "cacca_df = pd.DataFrame.from_dict(c).T\n",
    "cacca_df"
   ]
  },
  {
   "cell_type": "code",
   "execution_count": 61,
   "metadata": {},
   "outputs": [
    {
     "name": "stderr",
     "output_type": "stream",
     "text": [
      "100%|██████████| 9597/9597 [00:15<00:00, 637.90it/s]\n"
     ]
    }
   ],
   "source": [
    "dictionary = dict()\n",
    "for row in tqdm(shrunk_df.index):\n",
    "    # z = compute_feature(divide_matrix(shrunk_df.loc[row].spectrogram, num_rows=n, num_columns=n*ratio)) # with ratio\n",
    "    z = compute_feature(divide_matrix(shrunk_df.loc[row].spectrogram, num_rows=n, num_columns=n))\n",
    "    z['encoded_emotion'] = shrunk_df.loc[row].encoded_emotion\n",
    "    dictionary[row] = z\n",
    "    \n",
    "new_df = pd.DataFrame.from_dict(dictionary).T\n",
    "new_df"
   ]
  },
  {
   "cell_type": "code",
   "execution_count": 63,
   "metadata": {},
   "outputs": [
    {
     "name": "stdout",
     "output_type": "stream",
     "text": [
      "Fitting...\n",
      "Predicting...\n"
     ]
    },
    {
     "data": {
      "text/plain": [
       "0.5651521612665257"
      ]
     },
     "execution_count": 63,
     "metadata": {},
     "output_type": "execute_result"
    }
   ],
   "source": [
    "from sklearn.model_selection import train_test_split, ParameterGrid\n",
    "from sklearn.ensemble import RandomForestClassifier\n",
    "\n",
    "from sklearn.metrics import f1_score\n",
    "\n",
    "np.random.seed(0) #to make experiments reproducible\n",
    "\n",
    "X_train, X_test, y_train, y_test = train_test_split(new_df[new_df.columns[:-1]], new_df[new_df.columns[-1]], test_size=.2)\n",
    "\n",
    "y_train = y_train.astype(int)\n",
    "y_test = y_test.astype(int)\n",
    "\n",
    "rf = RandomForestClassifier(n_estimators=100, max_features='sqrt', max_depth=30).fit(X_train, y_train)\n",
    "print('Fitting...')\n",
    "#rf = RandomForestClassifier().fit(X_train, y_train)\n",
    "print('Predicting...')\n",
    "preds = rf.predict(X_test)\n",
    "f1_score(y_test, preds, average='macro')"
   ]
  },
  {
   "cell_type": "markdown",
   "metadata": {},
   "source": [
    "------------\n",
    "# OVERSAMPLING"
   ]
  },
  {
   "cell_type": "code",
   "execution_count": 28,
   "metadata": {},
   "outputs": [],
   "source": [
    "from sklearn.model_selection import train_test_split, ParameterGrid\n",
    "from sklearn.ensemble import RandomForestClassifier\n",
    "\n",
    "from sklearn.metrics import f1_score\n",
    "\n",
    "np.random.seed(0) #to make experiments reproducible\n"
   ]
  },
  {
   "cell_type": "code",
   "execution_count": 81,
   "metadata": {},
   "outputs": [
    {
     "name": "stdout",
     "output_type": "stream",
     "text": [
      "SMOTE(random_state=42)\n",
      "Fitting...\n",
      "Predicting...\n",
      "SMOTE(random_state=42) 0.6271223329528377\n",
      "BorderlineSMOTE(random_state=42)\n",
      "Fitting...\n",
      "Predicting...\n",
      "BorderlineSMOTE(random_state=42) 0.6269937102259139\n",
      "SVMSMOTE(random_state=42)\n",
      "Fitting...\n",
      "Predicting...\n",
      "SVMSMOTE(random_state=42) 0.6405991338429862\n",
      "ADASYN(random_state=42, sampling_strategy='minority')\n",
      "Fitting...\n",
      "Predicting...\n",
      "ADASYN(random_state=42, sampling_strategy='minority') 0.6041570654316654\n"
     ]
    }
   ],
   "source": [
    "from imblearn.over_sampling import SMOTE\n",
    "from imblearn.over_sampling import BorderlineSMOTE\n",
    "from imblearn.over_sampling import SVMSMOTE\n",
    "from imblearn.over_sampling import ADASYN\n",
    "from imblearn.over_sampling import KMeansSMOTE\n",
    "\n",
    "np.random.seed(0) #to make experiments reproducible\n",
    "\n",
    "smote = SMOTE(random_state=42)\n",
    "blsmote = BorderlineSMOTE(random_state=42)\n",
    "svmsmote = SVMSMOTE(random_state=42)\n",
    "adasyn = ADASYN(random_state=42, sampling_strategy='minority')\n",
    "\n",
    "\n",
    "#print(ksmote.cluster_balance_threshold)\n",
    "#over_samplers = [smote, blsmote, svmsmote, adasyn, ksmote]\n",
    "over_samplers = [smote, blsmote, svmsmote, adasyn]\n",
    "\n",
    "for sm in over_samplers:\n",
    "    print(sm)\n",
    "    X, y = new_df[new_df.columns[:-1]], new_df[new_df.columns[-1]]\n",
    "    X_res, y_res = sm.fit_resample(X,y)\n",
    "\n",
    "    X_train, X_test, y_train, y_test = train_test_split(X_res, y_res, test_size=.2, random_state=42)\n",
    "\n",
    "    y_train = y_train.astype(int)\n",
    "    y_test = y_test.astype(int)\n",
    "\n",
    "    #rf = RandomForestClassifier(n_estimators=100, max_features='sqrt', max_depth=30).fit(X_train, y_train)\n",
    "    print('Fitting...')\n",
    "    rf = RandomForestClassifier().fit(X_train, y_train) # plain rf\n",
    "    print('Predicting...')\n",
    "    preds = rf.predict(X_test)\n",
    "    score = f1_score(y_test, preds, average='macro')\n",
    "    print(sm, score)"
   ]
  },
  {
   "cell_type": "markdown",
   "metadata": {},
   "source": [
    "random_state = 42\n",
    "\n",
    "|Model          |F1 macro   |Random state   |Sampling strategy|\n",
    "|---------------|-----------|---------------|-----------------|\n",
    "|SMOTE          |0.62712    |42             |auto             |\n",
    "|BorderlineSMOTE|0.62699    |42             |auto             |\n",
    "|SVMSMOTE       |0.6406     |42             |auto             |\n",
    "|ADASYN         |0.6042     |42             |minority         |"
   ]
  },
  {
   "cell_type": "code",
   "execution_count": 65,
   "metadata": {},
   "outputs": [
    {
     "name": "stdout",
     "output_type": "stream",
     "text": [
      "Fitting...\n",
      "Predicting...\n"
     ]
    },
    {
     "data": {
      "text/plain": [
       "0.6399871679137196"
      ]
     },
     "execution_count": 65,
     "metadata": {},
     "output_type": "execute_result"
    }
   ],
   "source": [
    "from sklearn.model_selection import train_test_split, ParameterGrid\n",
    "from sklearn.ensemble import RandomForestClassifier\n",
    "\n",
    "from sklearn.metrics import f1_score\n",
    "\n",
    "np.random.seed(0) #to make experiments reproducible\n",
    "\n",
    "X_train, X_test, y_train, y_test = train_test_split(X_res, y_res, test_size=.2)\n",
    "\n",
    "y_train = y_train.astype(int)\n",
    "y_test = y_test.astype(int)\n",
    "\n",
    "#rf = RandomForestClassifier(n_estimators=100, max_features='sqrt', max_depth=30).fit(X_train, y_train)\n",
    "print('Fitting...')\n",
    "rf = RandomForestClassifier().fit(X_train, y_train) # plain rf\n",
    "print('Predicting...')\n",
    "preds = rf.predict(X_test)\n",
    "f1_score(y_test, preds, average='macro')"
   ]
  },
  {
   "cell_type": "markdown",
   "metadata": {},
   "source": [
    "# Choice of n (no ratio)"
   ]
  },
  {
   "cell_type": "code",
   "execution_count": 87,
   "metadata": {},
   "outputs": [
    {
     "name": "stderr",
     "output_type": "stream",
     "text": [
      "100%|██████████| 9597/9597 [00:05<00:00, 1664.49it/s]\n"
     ]
    },
    {
     "name": "stdout",
     "output_type": "stream",
     "text": [
      "Fitting...\n",
      "Predicting...\n",
      "SVMSMOTE(random_state=42) 0.4912382939567546\n"
     ]
    },
    {
     "name": "stderr",
     "output_type": "stream",
     "text": [
      "100%|██████████| 9597/9597 [00:11<00:00, 853.60it/s]\n"
     ]
    },
    {
     "name": "stdout",
     "output_type": "stream",
     "text": [
      "Fitting...\n",
      "Predicting...\n",
      "SVMSMOTE(random_state=42) 0.6231015218490865\n"
     ]
    },
    {
     "name": "stderr",
     "output_type": "stream",
     "text": [
      "100%|██████████| 9597/9597 [00:19<00:00, 495.22it/s]\n"
     ]
    },
    {
     "name": "stdout",
     "output_type": "stream",
     "text": [
      "Fitting...\n",
      "Predicting...\n",
      "SVMSMOTE(random_state=42) 0.6401842304003212\n"
     ]
    },
    {
     "name": "stderr",
     "output_type": "stream",
     "text": [
      "100%|██████████| 9597/9597 [00:30<00:00, 309.87it/s]\n"
     ]
    },
    {
     "name": "stdout",
     "output_type": "stream",
     "text": [
      "Fitting...\n",
      "Predicting...\n",
      "SVMSMOTE(random_state=42) 0.6442178275192486\n"
     ]
    },
    {
     "name": "stderr",
     "output_type": "stream",
     "text": [
      "100%|██████████| 9597/9597 [00:48<00:00, 195.93it/s]\n"
     ]
    },
    {
     "name": "stdout",
     "output_type": "stream",
     "text": [
      "Fitting...\n",
      "Predicting...\n",
      "SVMSMOTE(random_state=42) 0.6586590672251484\n"
     ]
    },
    {
     "name": "stderr",
     "output_type": "stream",
     "text": [
      "100%|██████████| 9597/9597 [01:05<00:00, 147.23it/s]\n"
     ]
    },
    {
     "name": "stdout",
     "output_type": "stream",
     "text": [
      "Fitting...\n",
      "Predicting...\n",
      "SVMSMOTE(random_state=42) 0.6693744733417247\n"
     ]
    },
    {
     "name": "stderr",
     "output_type": "stream",
     "text": [
      "100%|██████████| 9597/9597 [01:27<00:00, 109.87it/s]\n"
     ]
    },
    {
     "name": "stdout",
     "output_type": "stream",
     "text": [
      "Fitting...\n",
      "Predicting...\n",
      "SVMSMOTE(random_state=42) 0.6618251252140112\n"
     ]
    },
    {
     "name": "stderr",
     "output_type": "stream",
     "text": [
      "100%|██████████| 9597/9597 [01:54<00:00, 84.06it/s]\n"
     ]
    },
    {
     "name": "stdout",
     "output_type": "stream",
     "text": [
      "Fitting...\n",
      "Predicting...\n",
      "SVMSMOTE(random_state=42) 0.6569554211395364\n"
     ]
    },
    {
     "name": "stderr",
     "output_type": "stream",
     "text": [
      "100%|██████████| 9597/9597 [02:19<00:00, 68.91it/s]\n",
      "OpenBLAS warning: precompiled NUM_THREADS exceeded, adding auxiliary array for thread metadata.\n",
      "OpenBLAS warning: precompiled NUM_THREADS exceeded, adding auxiliary array for thread metadata.\n",
      "OpenBLAS warning: precompiled NUM_THREADS exceeded, adding auxiliary array for thread metadata.\n"
     ]
    },
    {
     "name": "stdout",
     "output_type": "stream",
     "text": [
      "Fitting...\n",
      "Predicting...\n",
      "SVMSMOTE(random_state=42) 0.654884464998913\n"
     ]
    },
    {
     "name": "stderr",
     "output_type": "stream",
     "text": [
      "100%|██████████| 9597/9597 [03:13<00:00, 49.57it/s]\n"
     ]
    },
    {
     "name": "stdout",
     "output_type": "stream",
     "text": [
      "Fitting...\n",
      "Predicting...\n",
      "SVMSMOTE(random_state=42) 0.6558135353635192\n"
     ]
    },
    {
     "data": {
      "text/plain": [
       "[<matplotlib.lines.Line2D at 0x607ab93c0>]"
      ]
     },
     "execution_count": 87,
     "metadata": {},
     "output_type": "execute_result"
    },
    {
     "data": {
      "image/png": "[encoded data removed]",
      "text/plain": [
       "<Figure size 864x720 with 1 Axes>"
      ]
     },
     "metadata": {
      "needs_background": "light"
     },
     "output_type": "display_data"
    }
   ],
   "source": [
    "ns = list(range(2,22,2))\n",
    "scores = []\n",
    "for n in ns:\n",
    "    dictionary = dict()\n",
    "    for row in tqdm(shrunk_df.index):\n",
    "        # z = compute_feature(divide_matrix(shrunk_df.loc[row].spectrogram, num_rows=n, num_columns=n*ratio)) # with ratio\n",
    "        z = compute_feature(divide_matrix(shrunk_df.loc[row].spectrogram, num_rows=n, num_columns=n))\n",
    "        z['encoded_emotion'] = shrunk_df.loc[row].encoded_emotion\n",
    "        dictionary[row] = z\n",
    "        \n",
    "    new_df = pd.DataFrame.from_dict(dictionary).T\n",
    "    \n",
    "    np.random.seed(0) #to make experiments reproducible\n",
    "\n",
    "\n",
    "    svmsmote = SVMSMOTE(random_state=42)\n",
    "\n",
    "    X, y = new_df[new_df.columns[:-1]], new_df[new_df.columns[-1]]\n",
    "    X_res, y_res = svmsmote.fit_resample(X,y)\n",
    "\n",
    "    X_train, X_test, y_train, y_test = train_test_split(X_res, y_res, test_size=.2, random_state=42)\n",
    "\n",
    "    y_train = y_train.astype(int)\n",
    "    y_test = y_test.astype(int)\n",
    "\n",
    "    #rf = RandomForestClassifier(n_estimators=100, max_features='sqrt', max_depth=30).fit(X_train, y_train)\n",
    "    print('Fitting...')\n",
    "    rf = RandomForestClassifier().fit(X_train, y_train) # plain rf\n",
    "    print('Predicting...')\n",
    "    preds = rf.predict(X_test)\n",
    "    score = f1_score(y_test, preds, average='macro')\n",
    "    scores.append(score)\n",
    "    print(svmsmote, score)\n",
    "    \n",
    "plt.figure(figsize=(12,10))\n",
    "plt.plot(ns, scores, label='F1 macro')"
   ]
  },
  {
   "cell_type": "code",
   "execution_count": 88,
   "metadata": {},
   "outputs": [
    {
     "name": "stdout",
     "output_type": "stream",
     "text": [
      "[0.4912382939567546, 0.6231015218490865, 0.6401842304003212, 0.6442178275192486, 0.6586590672251484, 0.6693744733417247, 0.6618251252140112, 0.6569554211395364, 0.654884464998913, 0.6558135353635192]\n",
      "[2, 4, 6, 8, 10, 12, 14, 16, 18, 20]\n"
     ]
    }
   ],
   "source": [
    "print(scores)\n",
    "print(ns)"
   ]
  },
  {
   "cell_type": "code",
   "execution_count": 91,
   "metadata": {},
   "outputs": [
    {
     "data": {
      "text/plain": [
       "12"
      ]
     },
     "execution_count": 91,
     "metadata": {},
     "output_type": "execute_result"
    }
   ],
   "source": [
    "idx = np.argmax(scores)\n",
    "ns[idx]"
   ]
  },
  {
   "cell_type": "code",
   "execution_count": 29,
   "metadata": {},
   "outputs": [
    {
     "name": "stdout",
     "output_type": "stream",
     "text": [
      "n: 10\n"
     ]
    },
    {
     "name": "stderr",
     "output_type": "stream",
     "text": [
      "100%|██████████| 9597/9597 [00:43<00:00, 219.69it/s]\n"
     ]
    },
    {
     "name": "stdout",
     "output_type": "stream",
     "text": [
      "Fitting...\n",
      "Predicting...\n",
      "SVMSMOTE(random_state=42) 0.6586590672251484\n",
      "n: 11\n"
     ]
    },
    {
     "name": "stderr",
     "output_type": "stream",
     "text": [
      "100%|██████████| 9597/9597 [00:52<00:00, 184.48it/s]\n"
     ]
    },
    {
     "name": "stdout",
     "output_type": "stream",
     "text": [
      "Fitting...\n",
      "Predicting...\n",
      "SVMSMOTE(random_state=42) 0.6513656126798544\n",
      "n: 12\n"
     ]
    },
    {
     "name": "stderr",
     "output_type": "stream",
     "text": [
      "100%|██████████| 9597/9597 [01:00<00:00, 157.76it/s]\n"
     ]
    },
    {
     "name": "stdout",
     "output_type": "stream",
     "text": [
      "Fitting...\n",
      "Predicting...\n",
      "SVMSMOTE(random_state=42) 0.6693744733417247\n",
      "n: 13\n"
     ]
    },
    {
     "name": "stderr",
     "output_type": "stream",
     "text": [
      "100%|██████████| 9597/9597 [01:13<00:00, 130.44it/s]\n"
     ]
    },
    {
     "name": "stdout",
     "output_type": "stream",
     "text": [
      "Fitting...\n",
      "Predicting...\n",
      "SVMSMOTE(random_state=42) 0.6627617336284641\n",
      "n: 14\n"
     ]
    },
    {
     "name": "stderr",
     "output_type": "stream",
     "text": [
      "100%|██████████| 9597/9597 [01:28<00:00, 108.86it/s]\n"
     ]
    },
    {
     "name": "stdout",
     "output_type": "stream",
     "text": [
      "Fitting...\n",
      "Predicting...\n",
      "SVMSMOTE(random_state=42) 0.6618251252140112\n"
     ]
    },
    {
     "data": {
      "text/plain": [
       "[<matplotlib.lines.Line2D at 0x1b1e6d180>]"
      ]
     },
     "execution_count": 29,
     "metadata": {},
     "output_type": "execute_result"
    },
    {
     "data": {
      "image/png": "[encoded data removed]",
      "text/plain": [
       "<Figure size 864x720 with 1 Axes>"
      ]
     },
     "metadata": {
      "needs_background": "light"
     },
     "output_type": "display_data"
    }
   ],
   "source": [
    "from sklearn.model_selection import train_test_split, ParameterGrid\n",
    "from sklearn.ensemble import RandomForestClassifier\n",
    "from imblearn.over_sampling import SVMSMOTE\n",
    "from sklearn.metrics import f1_score\n",
    "\n",
    "\n",
    "\n",
    "ns = [10,11,12,13,14]\n",
    "scores = []\n",
    "for n in ns:\n",
    "    print('n:', n)\n",
    "    dictionary = dict()\n",
    "    for row in tqdm(shrunk_df.index):\n",
    "        # z = compute_feature(divide_matrix(shrunk_df.loc[row].spectrogram, num_rows=n, num_columns=n*ratio)) # with ratio\n",
    "        z = compute_feature(divide_matrix(shrunk_df.loc[row].spectrogram, num_rows=n, num_columns=n))\n",
    "        z['encoded_emotion'] = shrunk_df.loc[row].encoded_emotion\n",
    "        dictionary[row] = z\n",
    "        \n",
    "    new_df = pd.DataFrame.from_dict(dictionary).T\n",
    "    \n",
    "    np.random.seed(0) #to make experiments reproducible\n",
    "\n",
    "\n",
    "    svmsmote = SVMSMOTE(random_state=42)\n",
    "\n",
    "    X, y = new_df[new_df.columns[:-1]], new_df[new_df.columns[-1]]\n",
    "    X_res, y_res = svmsmote.fit_resample(X,y)\n",
    "\n",
    "    X_train, X_test, y_train, y_test = train_test_split(X_res, y_res, test_size=.2, random_state=42)\n",
    "\n",
    "    y_train = y_train.astype(int)\n",
    "    y_test = y_test.astype(int)\n",
    "\n",
    "    #rf = RandomForestClassifier(n_estimators=100, max_features='sqrt', max_depth=30).fit(X_train, y_train)\n",
    "    print('Fitting...')\n",
    "    rf = RandomForestClassifier().fit(X_train, y_train) # plain rf\n",
    "    print('Predicting...')\n",
    "    preds = rf.predict(X_test)\n",
    "    score = f1_score(y_test, preds, average='macro')\n",
    "    scores.append(score)\n",
    "    print(svmsmote, score)\n",
    "    \n",
    "plt.figure(figsize=(12,10))\n",
    "plt.plot(ns, scores, label='F1 macro')"
   ]
  },
  {
   "cell_type": "markdown",
   "metadata": {},
   "source": [
    "n = 12"
   ]
  },
  {
   "cell_type": "markdown",
   "metadata": {},
   "source": [
    "# Choice of n using ratio (and seeing if this improves results)"
   ]
  },
  {
   "cell_type": "code",
   "execution_count": 33,
   "metadata": {},
   "outputs": [],
   "source": [
    "shrunk_df.spectrogram.map(lambda x: (x.shape[0],x.shape[1]))\n",
    "row_mean_shape = spectrogram.shape[0] # any spectrogram is ok since they have the same shape[0]"
   ]
  },
  {
   "cell_type": "code",
   "execution_count": 34,
   "metadata": {},
   "outputs": [],
   "source": [
    "column_mean_shape = shrunk_df.spectrogram.map(lambda x: x.shape[1]).mean() # mean number of columns (time dimension)"
   ]
  },
  {
   "cell_type": "code",
   "execution_count": 35,
   "metadata": {},
   "outputs": [],
   "source": [
    "ratio_rows_columns = row_mean_shape/column_mean_shape "
   ]
  },
  {
   "cell_type": "code",
   "execution_count": 36,
   "metadata": {},
   "outputs": [
    {
     "data": {
      "text/plain": [
       "1.3334033416589388"
      ]
     },
     "execution_count": 36,
     "metadata": {},
     "output_type": "execute_result"
    }
   ],
   "source": [
    "ratio_rows_columns "
   ]
  },
  {
   "cell_type": "code",
   "execution_count": 39,
   "metadata": {},
   "outputs": [
    {
     "data": {
      "text/plain": [
       "19"
      ]
     },
     "execution_count": 39,
     "metadata": {},
     "output_type": "execute_result"
    }
   ],
   "source": [
    "round(n*ratio_rows_columns)"
   ]
  },
  {
   "cell_type": "code",
   "execution_count": 41,
   "metadata": {},
   "outputs": [
    {
     "name": "stdout",
     "output_type": "stream",
     "text": [
      "n_rows: 2\n",
      "n_columns: 3\n"
     ]
    },
    {
     "name": "stderr",
     "output_type": "stream",
     "text": [
      "100%|██████████| 9597/9597 [00:06<00:00, 1547.78it/s]\n"
     ]
    },
    {
     "name": "stdout",
     "output_type": "stream",
     "text": [
      "Fitting...\n",
      "Predicting...\n",
      "SVMSMOTE(random_state=42) 0.56988846997342\n",
      "---------\n",
      "n_rows: 4\n",
      "n_columns: 5\n"
     ]
    },
    {
     "name": "stderr",
     "output_type": "stream",
     "text": [
      "100%|██████████| 9597/9597 [00:12<00:00, 757.26it/s]\n"
     ]
    },
    {
     "name": "stdout",
     "output_type": "stream",
     "text": [
      "Fitting...\n",
      "Predicting...\n",
      "SVMSMOTE(random_state=42) 0.6347832319861043\n",
      "---------\n",
      "n_rows: 6\n",
      "n_columns: 8\n"
     ]
    },
    {
     "name": "stderr",
     "output_type": "stream",
     "text": [
      "100%|██████████| 9597/9597 [00:22<00:00, 420.86it/s]\n"
     ]
    },
    {
     "name": "stdout",
     "output_type": "stream",
     "text": [
      "Fitting...\n",
      "Predicting...\n",
      "SVMSMOTE(random_state=42) 0.6469532504667039\n",
      "---------\n",
      "n_rows: 8\n",
      "n_columns: 11\n"
     ]
    },
    {
     "name": "stderr",
     "output_type": "stream",
     "text": [
      "100%|██████████| 9597/9597 [00:39<00:00, 242.16it/s]\n"
     ]
    },
    {
     "name": "stdout",
     "output_type": "stream",
     "text": [
      "Fitting...\n",
      "Predicting...\n",
      "SVMSMOTE(random_state=42) 0.658220820420042\n",
      "---------\n",
      "n_rows: 10\n",
      "n_columns: 13\n"
     ]
    },
    {
     "name": "stderr",
     "output_type": "stream",
     "text": [
      "100%|██████████| 9597/9597 [00:56<00:00, 169.58it/s]\n"
     ]
    },
    {
     "name": "stdout",
     "output_type": "stream",
     "text": [
      "Fitting...\n",
      "Predicting...\n",
      "SVMSMOTE(random_state=42) 0.6630939096973315\n",
      "---------\n",
      "n_rows: 12\n",
      "n_columns: 16\n"
     ]
    },
    {
     "name": "stderr",
     "output_type": "stream",
     "text": [
      "100%|██████████| 9597/9597 [01:29<00:00, 107.05it/s]\n"
     ]
    },
    {
     "name": "stdout",
     "output_type": "stream",
     "text": [
      "Fitting...\n",
      "Predicting...\n",
      "SVMSMOTE(random_state=42) 0.6592045602103448\n",
      "---------\n",
      "n_rows: 14\n",
      "n_columns: 19\n"
     ]
    },
    {
     "name": "stderr",
     "output_type": "stream",
     "text": [
      "100%|██████████| 9597/9597 [02:01<00:00, 79.03it/s]\n"
     ]
    },
    {
     "name": "stdout",
     "output_type": "stream",
     "text": [
      "Fitting...\n",
      "Predicting...\n",
      "SVMSMOTE(random_state=42) 0.6663751107548033\n",
      "---------\n",
      "n_rows: 16\n",
      "n_columns: 21\n"
     ]
    },
    {
     "name": "stderr",
     "output_type": "stream",
     "text": [
      "100%|██████████| 9597/9597 [02:19<00:00, 69.01it/s]\n"
     ]
    },
    {
     "name": "stdout",
     "output_type": "stream",
     "text": [
      "Fitting...\n",
      "Predicting...\n",
      "SVMSMOTE(random_state=42) 0.6455261827034425\n",
      "---------\n",
      "n_rows: 18\n",
      "n_columns: 24\n"
     ]
    },
    {
     "name": "stderr",
     "output_type": "stream",
     "text": [
      "100%|██████████| 9597/9597 [03:03<00:00, 52.32it/s]\n"
     ]
    },
    {
     "name": "stdout",
     "output_type": "stream",
     "text": [
      "Fitting...\n",
      "Predicting...\n",
      "SVMSMOTE(random_state=42) 0.6567670895663614\n",
      "---------\n",
      "n_rows: 20\n",
      "n_columns: 27\n"
     ]
    },
    {
     "name": "stderr",
     "output_type": "stream",
     "text": [
      "100%|██████████| 9597/9597 [03:49<00:00, 41.87it/s]\n"
     ]
    },
    {
     "name": "stdout",
     "output_type": "stream",
     "text": [
      "Fitting...\n",
      "Predicting...\n",
      "SVMSMOTE(random_state=42) 0.6591547694226103\n",
      "---------\n"
     ]
    },
    {
     "data": {
      "text/plain": [
       "[<matplotlib.lines.Line2D at 0x1afef9f60>]"
      ]
     },
     "execution_count": 41,
     "metadata": {},
     "output_type": "execute_result"
    },
    {
     "data": {
      "image/png": "[encoded data removed]",
      "text/plain": [
       "<Figure size 864x720 with 1 Axes>"
      ]
     },
     "metadata": {
      "needs_background": "light"
     },
     "output_type": "display_data"
    }
   ],
   "source": [
    "ns = list(range(2,22,2))\n",
    "scores = []\n",
    "for n in ns:\n",
    "    print('n_rows:',n)\n",
    "    print('n_columns:', round(n*ratio_rows_columns))\n",
    "    dictionary = dict()\n",
    "    for row in tqdm(shrunk_df.index):\n",
    "        # z = compute_feature(divide_matrix(shrunk_df.loc[row].spectrogram, num_rows=n, num_columns=n*ratio)) # with ratio\n",
    "        z = compute_feature(divide_matrix(shrunk_df.loc[row].spectrogram, num_rows=n, num_columns=round(n*ratio_rows_columns)))\n",
    "        z['encoded_emotion'] = shrunk_df.loc[row].encoded_emotion\n",
    "        dictionary[row] = z\n",
    "        \n",
    "    new_df = pd.DataFrame.from_dict(dictionary).T\n",
    "    \n",
    "    np.random.seed(0) #to make experiments reproducible\n",
    "\n",
    "\n",
    "    svmsmote = SVMSMOTE(random_state=42)\n",
    "\n",
    "    X, y = new_df[new_df.columns[:-1]], new_df[new_df.columns[-1]]\n",
    "    X_res, y_res = svmsmote.fit_resample(X,y)\n",
    "\n",
    "    X_train, X_test, y_train, y_test = train_test_split(X_res, y_res, test_size=.2, random_state=42)\n",
    "\n",
    "    y_train = y_train.astype(int)\n",
    "    y_test = y_test.astype(int)\n",
    "\n",
    "    #rf = RandomForestClassifier(n_estimators=100, max_features='sqrt', max_depth=30).fit(X_train, y_train)\n",
    "    print('Fitting...')\n",
    "    rf = RandomForestClassifier().fit(X_train, y_train) # plain rf\n",
    "    print('Predicting...')\n",
    "    preds = rf.predict(X_test)\n",
    "    score = f1_score(y_test, preds, average='macro')\n",
    "    scores.append(score)\n",
    "    print(svmsmote, score)\n",
    "    print('---------')\n",
    "plt.figure(figsize=(12,10))\n",
    "plt.plot(ns, scores, label='F1 macro')"
   ]
  },
  {
   "cell_type": "markdown",
   "metadata": {},
   "source": [
    "----------\n",
    "try to keep n_rows fixed to 12 and tune n_columns"
   ]
  },
  {
   "cell_type": "code",
   "execution_count": 29,
   "metadata": {},
   "outputs": [
    {
     "name": "stdout",
     "output_type": "stream",
     "text": [
      "n_rows: 12\n",
      "n_columns: 2\n"
     ]
    },
    {
     "name": "stderr",
     "output_type": "stream",
     "text": [
      "100%|██████████| 9597/9597 [00:16<00:00, 598.64it/s]\n"
     ]
    },
    {
     "name": "stdout",
     "output_type": "stream",
     "text": [
      "Fitting...\n",
      "Predicting...\n",
      "SVMSMOTE(random_state=42) 0.6213896118652759\n",
      "---------\n",
      "n_rows: 12\n",
      "n_columns: 4\n"
     ]
    },
    {
     "name": "stderr",
     "output_type": "stream",
     "text": [
      "100%|██████████| 9597/9597 [00:24<00:00, 386.08it/s]\n"
     ]
    },
    {
     "name": "stdout",
     "output_type": "stream",
     "text": [
      "Fitting...\n",
      "Predicting...\n",
      "SVMSMOTE(random_state=42) 0.6449480512774619\n",
      "---------\n",
      "n_rows: 12\n",
      "n_columns: 6\n"
     ]
    },
    {
     "name": "stderr",
     "output_type": "stream",
     "text": [
      "100%|██████████| 9597/9597 [00:35<00:00, 270.24it/s]\n"
     ]
    },
    {
     "name": "stdout",
     "output_type": "stream",
     "text": [
      "Fitting...\n",
      "Predicting...\n",
      "SVMSMOTE(random_state=42) 0.6626204262867369\n",
      "---------\n",
      "n_rows: 12\n",
      "n_columns: 8\n"
     ]
    },
    {
     "name": "stderr",
     "output_type": "stream",
     "text": [
      "100%|██████████| 9597/9597 [00:46<00:00, 208.05it/s]\n"
     ]
    },
    {
     "name": "stdout",
     "output_type": "stream",
     "text": [
      "Fitting...\n",
      "Predicting...\n",
      "SVMSMOTE(random_state=42) 0.6612620468235911\n",
      "---------\n",
      "n_rows: 12\n",
      "n_columns: 10\n"
     ]
    },
    {
     "name": "stderr",
     "output_type": "stream",
     "text": [
      "100%|██████████| 9597/9597 [00:55<00:00, 173.71it/s]\n"
     ]
    },
    {
     "name": "stdout",
     "output_type": "stream",
     "text": [
      "Fitting...\n",
      "Predicting...\n",
      "SVMSMOTE(random_state=42) 0.670094204597392\n",
      "---------\n",
      "n_rows: 12\n",
      "n_columns: 12\n"
     ]
    },
    {
     "name": "stderr",
     "output_type": "stream",
     "text": [
      "100%|██████████| 9597/9597 [01:06<00:00, 144.83it/s]\n"
     ]
    },
    {
     "name": "stdout",
     "output_type": "stream",
     "text": [
      "Fitting...\n",
      "Predicting...\n",
      "SVMSMOTE(random_state=42) 0.6693744733417247\n",
      "---------\n",
      "n_rows: 12\n",
      "n_columns: 14\n"
     ]
    },
    {
     "name": "stderr",
     "output_type": "stream",
     "text": [
      "100%|██████████| 9597/9597 [01:17<00:00, 123.85it/s]\n"
     ]
    },
    {
     "name": "stdout",
     "output_type": "stream",
     "text": [
      "Fitting...\n",
      "Predicting...\n",
      "SVMSMOTE(random_state=42) 0.6605858456896044\n",
      "---------\n",
      "n_rows: 12\n",
      "n_columns: 16\n"
     ]
    },
    {
     "name": "stderr",
     "output_type": "stream",
     "text": [
      "100%|██████████| 9597/9597 [01:28<00:00, 108.51it/s]\n"
     ]
    },
    {
     "name": "stdout",
     "output_type": "stream",
     "text": [
      "Fitting...\n",
      "Predicting...\n",
      "SVMSMOTE(random_state=42) 0.6592045602103448\n",
      "---------\n",
      "n_rows: 12\n",
      "n_columns: 18\n"
     ]
    },
    {
     "name": "stderr",
     "output_type": "stream",
     "text": [
      "100%|██████████| 9597/9597 [01:32<00:00, 103.70it/s]\n"
     ]
    },
    {
     "name": "stdout",
     "output_type": "stream",
     "text": [
      "Fitting...\n",
      "Predicting...\n",
      "SVMSMOTE(random_state=42) 0.6517397027932625\n",
      "---------\n",
      "n_rows: 12\n",
      "n_columns: 20\n"
     ]
    },
    {
     "name": "stderr",
     "output_type": "stream",
     "text": [
      "100%|██████████| 9597/9597 [01:41<00:00, 94.73it/s]\n"
     ]
    },
    {
     "name": "stdout",
     "output_type": "stream",
     "text": [
      "Fitting...\n",
      "Predicting...\n",
      "SVMSMOTE(random_state=42) 0.66579149204816\n",
      "---------\n"
     ]
    },
    {
     "data": {
      "text/plain": [
       "[<matplotlib.lines.Line2D at 0x1a55d7880>]"
      ]
     },
     "execution_count": 29,
     "metadata": {},
     "output_type": "execute_result"
    },
    {
     "data": {
      "image/png": "[encoded data removed]",
      "text/plain": [
       "<Figure size 864x720 with 1 Axes>"
      ]
     },
     "metadata": {
      "needs_background": "light"
     },
     "output_type": "display_data"
    }
   ],
   "source": [
    "from sklearn.model_selection import train_test_split, ParameterGrid\n",
    "from sklearn.ensemble import RandomForestClassifier\n",
    "from imblearn.over_sampling import SVMSMOTE\n",
    "from sklearn.metrics import f1_score\n",
    "\n",
    "ns = list(range(2,22,2))\n",
    "scores = []\n",
    "for n in ns:\n",
    "    print('n_rows:',12)\n",
    "    print('n_columns:', n)\n",
    "    dictionary = dict()\n",
    "    for row in tqdm(shrunk_df.index):\n",
    "        # z = compute_feature(divide_matrix(shrunk_df.loc[row].spectrogram, num_rows=n, num_columns=n*ratio)) # with ratio\n",
    "        z = compute_feature(divide_matrix(shrunk_df.loc[row].spectrogram, num_rows=12, num_columns=n))\n",
    "        z['encoded_emotion'] = shrunk_df.loc[row].encoded_emotion\n",
    "        dictionary[row] = z\n",
    "        \n",
    "    new_df = pd.DataFrame.from_dict(dictionary).T\n",
    "    \n",
    "    np.random.seed(0) #to make experiments reproducible\n",
    "\n",
    "\n",
    "    svmsmote = SVMSMOTE(random_state=42)\n",
    "\n",
    "    X, y = new_df[new_df.columns[:-1]], new_df[new_df.columns[-1]]\n",
    "    X_res, y_res = svmsmote.fit_resample(X,y)\n",
    "\n",
    "    X_train, X_test, y_train, y_test = train_test_split(X_res, y_res, test_size=.2, random_state=42)\n",
    "\n",
    "    y_train = y_train.astype(int)\n",
    "    y_test = y_test.astype(int)\n",
    "\n",
    "    #rf = RandomForestClassifier(n_estimators=100, max_features='sqrt', max_depth=30).fit(X_train, y_train)\n",
    "    print('Fitting...')\n",
    "    rf = RandomForestClassifier().fit(X_train, y_train) # plain rf\n",
    "    print('Predicting...')\n",
    "    preds = rf.predict(X_test)\n",
    "    score = f1_score(y_test, preds, average='macro')\n",
    "    scores.append(score)\n",
    "    print(svmsmote, score)\n",
    "    print('---------')\n",
    "plt.figure(figsize=(12,10))\n",
    "plt.plot(ns, scores, label='F1 macro')"
   ]
  },
  {
   "cell_type": "code",
   "execution_count": 30,
   "metadata": {},
   "outputs": [
    {
     "name": "stdout",
     "output_type": "stream",
     "text": [
      "n_rows: 12\n",
      "n_columns: 6\n"
     ]
    },
    {
     "name": "stderr",
     "output_type": "stream",
     "text": [
      "100%|██████████| 9597/9597 [00:36<00:00, 264.77it/s]\n"
     ]
    },
    {
     "name": "stdout",
     "output_type": "stream",
     "text": [
      "Fitting...\n",
      "Predicting...\n",
      "SVMSMOTE(random_state=42) 0.6626204262867369\n",
      "---------\n",
      "n_rows: 12\n",
      "n_columns: 7\n"
     ]
    },
    {
     "name": "stderr",
     "output_type": "stream",
     "text": [
      "100%|██████████| 9597/9597 [00:38<00:00, 247.00it/s]\n"
     ]
    },
    {
     "name": "stdout",
     "output_type": "stream",
     "text": [
      "Fitting...\n",
      "Predicting...\n",
      "SVMSMOTE(random_state=42) 0.6565646189354476\n",
      "---------\n",
      "n_rows: 12\n",
      "n_columns: 8\n"
     ]
    },
    {
     "name": "stderr",
     "output_type": "stream",
     "text": [
      "100%|██████████| 9597/9597 [00:47<00:00, 202.40it/s]\n"
     ]
    },
    {
     "name": "stdout",
     "output_type": "stream",
     "text": [
      "Fitting...\n",
      "Predicting...\n",
      "SVMSMOTE(random_state=42) 0.6612620468235911\n",
      "---------\n",
      "n_rows: 12\n",
      "n_columns: 9\n"
     ]
    },
    {
     "name": "stderr",
     "output_type": "stream",
     "text": [
      "100%|██████████| 9597/9597 [00:52<00:00, 181.29it/s]\n"
     ]
    },
    {
     "name": "stdout",
     "output_type": "stream",
     "text": [
      "Fitting...\n",
      "Predicting...\n",
      "SVMSMOTE(random_state=42) 0.6643977302689266\n",
      "---------\n",
      "n_rows: 12\n",
      "n_columns: 10\n"
     ]
    },
    {
     "name": "stderr",
     "output_type": "stream",
     "text": [
      "100%|██████████| 9597/9597 [00:55<00:00, 174.31it/s]\n"
     ]
    },
    {
     "name": "stdout",
     "output_type": "stream",
     "text": [
      "Fitting...\n",
      "Predicting...\n",
      "SVMSMOTE(random_state=42) 0.670094204597392\n",
      "---------\n",
      "n_rows: 12\n",
      "n_columns: 11\n"
     ]
    },
    {
     "name": "stderr",
     "output_type": "stream",
     "text": [
      "100%|██████████| 9597/9597 [00:59<00:00, 161.42it/s]\n"
     ]
    },
    {
     "name": "stdout",
     "output_type": "stream",
     "text": [
      "Fitting...\n",
      "Predicting...\n",
      "SVMSMOTE(random_state=42) 0.6638803884730098\n",
      "---------\n",
      "n_rows: 12\n",
      "n_columns: 12\n"
     ]
    },
    {
     "name": "stderr",
     "output_type": "stream",
     "text": [
      "100%|██████████| 9597/9597 [01:05<00:00, 145.98it/s]\n"
     ]
    },
    {
     "name": "stdout",
     "output_type": "stream",
     "text": [
      "Fitting...\n",
      "Predicting...\n",
      "SVMSMOTE(random_state=42) 0.6693744733417247\n",
      "---------\n",
      "n_rows: 12\n",
      "n_columns: 13\n"
     ]
    },
    {
     "name": "stderr",
     "output_type": "stream",
     "text": [
      "100%|██████████| 9597/9597 [01:12<00:00, 133.05it/s]\n"
     ]
    },
    {
     "name": "stdout",
     "output_type": "stream",
     "text": [
      "Fitting...\n",
      "Predicting...\n",
      "SVMSMOTE(random_state=42) 0.6580045050631218\n",
      "---------\n",
      "n_rows: 12\n",
      "n_columns: 14\n"
     ]
    },
    {
     "name": "stderr",
     "output_type": "stream",
     "text": [
      "100%|██████████| 9597/9597 [01:16<00:00, 125.28it/s]\n"
     ]
    },
    {
     "name": "stdout",
     "output_type": "stream",
     "text": [
      "Fitting...\n",
      "Predicting...\n",
      "SVMSMOTE(random_state=42) 0.6605858456896044\n",
      "---------\n"
     ]
    },
    {
     "data": {
      "text/plain": [
       "[<matplotlib.lines.Line2D at 0x30f11ac80>]"
      ]
     },
     "execution_count": 30,
     "metadata": {},
     "output_type": "execute_result"
    },
    {
     "data": {
      "image/png": "[encoded data removed]",
      "text/plain": [
       "<Figure size 864x720 with 1 Axes>"
      ]
     },
     "metadata": {
      "needs_background": "light"
     },
     "output_type": "display_data"
    }
   ],
   "source": [
    "from sklearn.model_selection import train_test_split, ParameterGrid\n",
    "from sklearn.ensemble import RandomForestClassifier\n",
    "from imblearn.over_sampling import SVMSMOTE\n",
    "from sklearn.metrics import f1_score\n",
    "\n",
    "ns = [6,7,8,9,10,11,12,13,14]\n",
    "scores = []\n",
    "for n in ns:\n",
    "    print('n_rows:',12)\n",
    "    print('n_columns:', n)\n",
    "    dictionary = dict()\n",
    "    for row in tqdm(shrunk_df.index):\n",
    "        # z = compute_feature(divide_matrix(shrunk_df.loc[row].spectrogram, num_rows=n, num_columns=n*ratio)) # with ratio\n",
    "        z = compute_feature(divide_matrix(shrunk_df.loc[row].spectrogram, num_rows=12, num_columns=n))\n",
    "        z['encoded_emotion'] = shrunk_df.loc[row].encoded_emotion\n",
    "        dictionary[row] = z\n",
    "        \n",
    "    new_df = pd.DataFrame.from_dict(dictionary).T\n",
    "    \n",
    "    np.random.seed(0) #to make experiments reproducible\n",
    "\n",
    "\n",
    "    svmsmote = SVMSMOTE(random_state=42)\n",
    "\n",
    "    X, y = new_df[new_df.columns[:-1]], new_df[new_df.columns[-1]]\n",
    "    X_res, y_res = svmsmote.fit_resample(X,y)\n",
    "\n",
    "    X_train, X_test, y_train, y_test = train_test_split(X_res, y_res, test_size=.2, random_state=42)\n",
    "\n",
    "    y_train = y_train.astype(int)\n",
    "    y_test = y_test.astype(int)\n",
    "\n",
    "    #rf = RandomForestClassifier(n_estimators=100, max_features='sqrt', max_depth=30).fit(X_train, y_train)\n",
    "    print('Fitting...')\n",
    "    rf = RandomForestClassifier().fit(X_train, y_train) # plain rf\n",
    "    print('Predicting...')\n",
    "    preds = rf.predict(X_test)\n",
    "    score = f1_score(y_test, preds, average='macro')\n",
    "    scores.append(score)\n",
    "    print(svmsmote, score)\n",
    "    print('---------')\n",
    "plt.figure(figsize=(12,10))\n",
    "plt.plot(ns, scores, label='F1 macro')"
   ]
  },
  {
   "cell_type": "markdown",
   "metadata": {},
   "source": [
    "best:\n",
    "- n_rows = 12, \n",
    "- n_cols = 10"
   ]
  },
  {
   "cell_type": "markdown",
   "metadata": {},
   "source": [
    "# random forest hyper parameters tuning wth gridsearch\n",
    "\n"
   ]
  },
  {
   "cell_type": "code",
   "execution_count": null,
   "metadata": {},
   "outputs": [],
   "source": [
    "from sklearn.model_selection import train_test_split, ParameterGrid\n",
    "from sklearn.ensemble import RandomForestClassifier\n",
    "from imblearn.over_sampling import SVMSMOTE\n",
    "from sklearn.metrics import f1_score"
   ]
  },
  {
   "cell_type": "code",
   "execution_count": 31,
   "metadata": {},
   "outputs": [
    {
     "name": "stderr",
     "output_type": "stream",
     "text": [
      "100%|██████████| 9597/9597 [01:04<00:00, 148.94it/s]\n"
     ]
    }
   ],
   "source": [
    "from sklearn.model_selection import train_test_split, ParameterGrid\n",
    "from sklearn.ensemble import RandomForestClassifier\n",
    "from imblearn.over_sampling import SVMSMOTE\n",
    "from sklearn.metrics import f1_score\n",
    "\n",
    "\n",
    "dictionary = dict()\n",
    "for row in tqdm(shrunk_df.index):\n",
    "    z = compute_feature(divide_matrix(shrunk_df.loc[row].spectrogram, num_rows=12, num_columns=10))\n",
    "    z['encoded_emotion'] = shrunk_df.loc[row].encoded_emotion\n",
    "    dictionary[row] = z\n",
    "    \n",
    "new_df = pd.DataFrame.from_dict(dictionary).T\n",
    "\n",
    "np.random.seed(0) #to make experiments reproducible\n",
    "\n",
    "\n",
    "svmsmote = SVMSMOTE(random_state=42)\n",
    "\n",
    "X, y = new_df[new_df.columns[:-1]], new_df[new_df.columns[-1]]\n",
    "X_res, y_res = svmsmote.fit_resample(X,y)\n",
    "\n",
    "X_train, X_test, y_train, y_test = train_test_split(X_res, y_res, test_size=.2, random_state=42)\n",
    "\n",
    "y_train = y_train.astype(int)\n",
    "y_test = y_test.astype(int)\n"
   ]
  },
  {
   "cell_type": "code",
   "execution_count": 36,
   "metadata": {},
   "outputs": [
    {
     "name": "stderr",
     "output_type": "stream",
     "text": [
      "  0%|          | 0/216 [00:00<?, ?it/s]"
     ]
    },
    {
     "name": "stdout",
     "output_type": "stream",
     "text": [
      "Fitting...\n"
     ]
    },
    {
     "name": "stderr",
     "output_type": "stream",
     "text": [
      "  0%|          | 1/216 [00:00<02:48,  1.27it/s]"
     ]
    },
    {
     "name": "stdout",
     "output_type": "stream",
     "text": [
      "Predicting...\n",
      "RandomForestClassifier(max_depth=10, n_estimators=10) 0.5722473791749938\n",
      "---------\n",
      "Fitting...\n"
     ]
    },
    {
     "name": "stderr",
     "output_type": "stream",
     "text": [
      "  1%|          | 2/216 [00:02<04:36,  1.29s/it]"
     ]
    },
    {
     "name": "stdout",
     "output_type": "stream",
     "text": [
      "Predicting...\n",
      "RandomForestClassifier(max_depth=10, n_estimators=20) 0.6346609545227576\n",
      "---------\n",
      "Fitting...\n"
     ]
    },
    {
     "name": "stderr",
     "output_type": "stream",
     "text": [
      "  1%|▏         | 3/216 [00:05<08:12,  2.31s/it]"
     ]
    },
    {
     "name": "stdout",
     "output_type": "stream",
     "text": [
      "Predicting...\n",
      "RandomForestClassifier(max_depth=10, n_estimators=50) 0.6249339454350838\n",
      "---------\n",
      "Fitting...\n"
     ]
    },
    {
     "name": "stderr",
     "output_type": "stream",
     "text": [
      "  2%|▏         | 4/216 [00:12<14:36,  4.13s/it]"
     ]
    },
    {
     "name": "stdout",
     "output_type": "stream",
     "text": [
      "Predicting...\n",
      "RandomForestClassifier(max_depth=10) 0.6307233336034984\n",
      "---------\n",
      "Fitting...\n"
     ]
    },
    {
     "name": "stderr",
     "output_type": "stream",
     "text": [
      "  2%|▏         | 5/216 [00:23<23:04,  6.56s/it]"
     ]
    },
    {
     "name": "stdout",
     "output_type": "stream",
     "text": [
      "Predicting...\n",
      "RandomForestClassifier(max_depth=10, n_estimators=150) 0.6286117654840989\n",
      "---------\n",
      "Fitting...\n"
     ]
    },
    {
     "name": "stderr",
     "output_type": "stream",
     "text": [
      "  3%|▎         | 6/216 [00:44<40:01, 11.44s/it]"
     ]
    },
    {
     "name": "stdout",
     "output_type": "stream",
     "text": [
      "Predicting...\n",
      "RandomForestClassifier(max_depth=10, n_estimators=300) 0.6316974798178698\n",
      "---------\n",
      "Fitting...\n"
     ]
    },
    {
     "name": "stderr",
     "output_type": "stream",
     "text": [
      "  3%|▎         | 7/216 [00:45<27:13,  7.82s/it]"
     ]
    },
    {
     "name": "stdout",
     "output_type": "stream",
     "text": [
      "Predicting...\n",
      "RandomForestClassifier(max_depth=10, max_features='log2', n_estimators=10) 0.5682797941306764\n",
      "---------\n",
      "Fitting...\n"
     ]
    },
    {
     "name": "stderr",
     "output_type": "stream",
     "text": [
      "  4%|▎         | 8/216 [00:45<19:14,  5.55s/it]"
     ]
    },
    {
     "name": "stdout",
     "output_type": "stream",
     "text": [
      "Predicting...\n",
      "RandomForestClassifier(max_depth=10, max_features='log2', n_estimators=20) 0.6129550012618509\n",
      "---------\n",
      "Fitting...\n"
     ]
    },
    {
     "name": "stderr",
     "output_type": "stream",
     "text": [
      "  4%|▍         | 9/216 [00:47<15:04,  4.37s/it]"
     ]
    },
    {
     "name": "stdout",
     "output_type": "stream",
     "text": [
      "Predicting...\n",
      "RandomForestClassifier(max_depth=10, max_features='log2', n_estimators=50) 0.6232600357010052\n",
      "---------\n",
      "Fitting...\n"
     ]
    },
    {
     "name": "stderr",
     "output_type": "stream",
     "text": [
      "  5%|▍         | 10/216 [00:51<14:13,  4.14s/it]"
     ]
    },
    {
     "name": "stdout",
     "output_type": "stream",
     "text": [
      "Predicting...\n",
      "RandomForestClassifier(max_depth=10, max_features='log2') 0.6235135065573526\n",
      "---------\n",
      "Fitting...\n"
     ]
    },
    {
     "name": "stderr",
     "output_type": "stream",
     "text": [
      "  5%|▌         | 11/216 [00:56<15:04,  4.41s/it]"
     ]
    },
    {
     "name": "stdout",
     "output_type": "stream",
     "text": [
      "Predicting...\n",
      "RandomForestClassifier(max_depth=10, max_features='log2', n_estimators=150) 0.6255926852360997\n",
      "---------\n",
      "Fitting...\n"
     ]
    },
    {
     "name": "stderr",
     "output_type": "stream",
     "text": [
      "  6%|▌         | 12/216 [01:06<20:49,  6.13s/it]"
     ]
    },
    {
     "name": "stdout",
     "output_type": "stream",
     "text": [
      "Predicting...\n",
      "RandomForestClassifier(max_depth=10, max_features='log2', n_estimators=300) 0.6258311305514003\n",
      "---------\n",
      "Fitting...\n"
     ]
    },
    {
     "name": "stderr",
     "output_type": "stream",
     "text": [
      "  6%|▌         | 13/216 [01:16<25:01,  7.40s/it]"
     ]
    },
    {
     "name": "stdout",
     "output_type": "stream",
     "text": [
      "Predicting...\n",
      "RandomForestClassifier(max_depth=10, max_features=None, n_estimators=10) 0.5976305642657335\n",
      "---------\n",
      "Fitting...\n"
     ]
    },
    {
     "name": "stderr",
     "output_type": "stream",
     "text": [
      "  6%|▋         | 14/216 [01:36<38:07, 11.32s/it]"
     ]
    },
    {
     "name": "stdout",
     "output_type": "stream",
     "text": [
      "Predicting...\n",
      "RandomForestClassifier(max_depth=10, max_features=None, n_estimators=20) 0.6104040480911179\n",
      "---------\n",
      "Fitting...\n"
     ]
    },
    {
     "name": "stderr",
     "output_type": "stream",
     "text": [
      "  7%|▋         | 15/216 [02:27<1:18:01, 23.29s/it]"
     ]
    },
    {
     "name": "stdout",
     "output_type": "stream",
     "text": [
      "Predicting...\n",
      "RandomForestClassifier(max_depth=10, max_features=None, n_estimators=50) 0.6188011889775021\n",
      "---------\n",
      "Fitting...\n"
     ]
    },
    {
     "name": "stderr",
     "output_type": "stream",
     "text": [
      "  7%|▋         | 16/216 [04:09<2:36:39, 47.00s/it]"
     ]
    },
    {
     "name": "stdout",
     "output_type": "stream",
     "text": [
      "Predicting...\n",
      "RandomForestClassifier(max_depth=10, max_features=None) 0.6266505418304353\n",
      "---------\n",
      "Fitting...\n"
     ]
    },
    {
     "name": "stderr",
     "output_type": "stream",
     "text": [
      "  8%|▊         | 17/216 [06:42<4:21:23, 78.81s/it]"
     ]
    },
    {
     "name": "stdout",
     "output_type": "stream",
     "text": [
      "Predicting...\n",
      "RandomForestClassifier(max_depth=10, max_features=None, n_estimators=150) 0.6252880668532992\n",
      "---------\n",
      "Fitting...\n",
      "Predicting...\n"
     ]
    },
    {
     "name": "stderr",
     "output_type": "stream",
     "text": [
      "  8%|▊         | 18/216 [12:22<8:38:47, 157.21s/it]"
     ]
    },
    {
     "name": "stdout",
     "output_type": "stream",
     "text": [
      "RandomForestClassifier(max_depth=10, max_features=None, n_estimators=300) 0.6301961510200048\n",
      "---------\n",
      "Fitting...\n"
     ]
    },
    {
     "name": "stderr",
     "output_type": "stream",
     "text": [
      "  9%|▉         | 19/216 [12:24<6:02:40, 110.46s/it]"
     ]
    },
    {
     "name": "stdout",
     "output_type": "stream",
     "text": [
      "Predicting...\n",
      "RandomForestClassifier(max_depth=20, n_estimators=10) 0.6057724317834224\n",
      "---------\n",
      "Fitting...\n"
     ]
    },
    {
     "name": "stderr",
     "output_type": "stream",
     "text": [
      "  9%|▉         | 20/216 [12:26<4:15:14, 78.13s/it] "
     ]
    },
    {
     "name": "stdout",
     "output_type": "stream",
     "text": [
      "Predicting...\n",
      "RandomForestClassifier(max_depth=20, n_estimators=20) 0.6222559571387911\n",
      "---------\n",
      "Fitting...\n"
     ]
    },
    {
     "name": "stderr",
     "output_type": "stream",
     "text": [
      " 10%|▉         | 21/216 [12:33<3:04:23, 56.74s/it]"
     ]
    },
    {
     "name": "stdout",
     "output_type": "stream",
     "text": [
      "Predicting...\n",
      "RandomForestClassifier(max_depth=20, n_estimators=50) 0.6514159269548134\n",
      "---------\n",
      "Fitting...\n"
     ]
    },
    {
     "name": "stderr",
     "output_type": "stream",
     "text": [
      " 10%|█         | 22/216 [12:47<2:22:12, 43.98s/it]"
     ]
    },
    {
     "name": "stdout",
     "output_type": "stream",
     "text": [
      "Predicting...\n",
      "RandomForestClassifier(max_depth=20) 0.6531757387756869\n",
      "---------\n",
      "Fitting...\n"
     ]
    },
    {
     "name": "stderr",
     "output_type": "stream",
     "text": [
      " 11%|█         | 23/216 [13:09<1:59:46, 37.23s/it]"
     ]
    },
    {
     "name": "stdout",
     "output_type": "stream",
     "text": [
      "Predicting...\n",
      "RandomForestClassifier(max_depth=20, n_estimators=150) 0.6674447163482883\n",
      "---------\n",
      "Fitting...\n",
      "Predicting...\n"
     ]
    },
    {
     "name": "stderr",
     "output_type": "stream",
     "text": [
      " 11%|█         | 24/216 [13:50<2:02:56, 38.42s/it]"
     ]
    },
    {
     "name": "stdout",
     "output_type": "stream",
     "text": [
      "RandomForestClassifier(max_depth=20, n_estimators=300) 0.6640762782372756\n",
      "---------\n",
      "Fitting...\n"
     ]
    },
    {
     "name": "stderr",
     "output_type": "stream",
     "text": [
      " 12%|█▏        | 25/216 [13:51<1:26:18, 27.11s/it]"
     ]
    },
    {
     "name": "stdout",
     "output_type": "stream",
     "text": [
      "Predicting...\n",
      "RandomForestClassifier(max_depth=20, max_features='log2', n_estimators=10) 0.5875776312867788\n",
      "---------\n",
      "Fitting...\n"
     ]
    },
    {
     "name": "stderr",
     "output_type": "stream",
     "text": [
      " 12%|█▏        | 26/216 [13:52<1:01:22, 19.38s/it]"
     ]
    },
    {
     "name": "stdout",
     "output_type": "stream",
     "text": [
      "Predicting...\n",
      "RandomForestClassifier(max_depth=20, max_features='log2', n_estimators=20) 0.6261658472400561\n",
      "---------\n",
      "Fitting...\n"
     ]
    },
    {
     "name": "stderr",
     "output_type": "stream",
     "text": [
      " 12%|█▎        | 27/216 [13:56<46:05, 14.63s/it]  "
     ]
    },
    {
     "name": "stdout",
     "output_type": "stream",
     "text": [
      "Predicting...\n",
      "RandomForestClassifier(max_depth=20, max_features='log2', n_estimators=50) 0.6513623205978722\n",
      "---------\n",
      "Fitting...\n"
     ]
    },
    {
     "name": "stderr",
     "output_type": "stream",
     "text": [
      " 13%|█▎        | 28/216 [14:02<38:20, 12.24s/it]"
     ]
    },
    {
     "name": "stdout",
     "output_type": "stream",
     "text": [
      "Predicting...\n",
      "RandomForestClassifier(max_depth=20, max_features='log2') 0.6530201206170047\n",
      "---------\n",
      "Fitting...\n",
      "Predicting...\n"
     ]
    },
    {
     "name": "stderr",
     "output_type": "stream",
     "text": [
      " 13%|█▎        | 29/216 [14:14<37:12, 11.94s/it]"
     ]
    },
    {
     "name": "stdout",
     "output_type": "stream",
     "text": [
      "RandomForestClassifier(max_depth=20, max_features='log2', n_estimators=150) 0.6618527129761077\n",
      "---------\n",
      "Fitting...\n",
      "Predicting...\n"
     ]
    },
    {
     "name": "stderr",
     "output_type": "stream",
     "text": [
      " 14%|█▍        | 30/216 [14:35<46:07, 14.88s/it]"
     ]
    },
    {
     "name": "stdout",
     "output_type": "stream",
     "text": [
      "RandomForestClassifier(max_depth=20, max_features='log2', n_estimators=300) 0.6622045346343672\n",
      "---------\n",
      "Fitting...\n"
     ]
    },
    {
     "name": "stderr",
     "output_type": "stream",
     "text": [
      " 14%|█▍        | 31/216 [14:56<50:51, 16.50s/it]"
     ]
    },
    {
     "name": "stdout",
     "output_type": "stream",
     "text": [
      "Predicting...\n",
      "RandomForestClassifier(max_depth=20, max_features=None, n_estimators=10) 0.6067463981988289\n",
      "---------\n",
      "Fitting...\n"
     ]
    },
    {
     "name": "stderr",
     "output_type": "stream",
     "text": [
      " 15%|█▍        | 32/216 [15:35<1:11:48, 23.41s/it]"
     ]
    },
    {
     "name": "stdout",
     "output_type": "stream",
     "text": [
      "Predicting...\n",
      "RandomForestClassifier(max_depth=20, max_features=None, n_estimators=20) 0.6360303724138859\n",
      "---------\n",
      "Fitting...\n"
     ]
    },
    {
     "name": "stderr",
     "output_type": "stream",
     "text": [
      " 15%|█▌        | 33/216 [17:17<2:22:44, 46.80s/it]"
     ]
    },
    {
     "name": "stdout",
     "output_type": "stream",
     "text": [
      "Predicting...\n",
      "RandomForestClassifier(max_depth=20, max_features=None, n_estimators=50) 0.6522777362918247\n",
      "---------\n",
      "Fitting...\n"
     ]
    },
    {
     "name": "stderr",
     "output_type": "stream",
     "text": [
      " 16%|█▌        | 34/216 [20:45<4:48:46, 95.20s/it]"
     ]
    },
    {
     "name": "stdout",
     "output_type": "stream",
     "text": [
      "Predicting...\n",
      "RandomForestClassifier(max_depth=20, max_features=None) 0.6535691247602132\n",
      "---------\n",
      "Fitting...\n"
     ]
    },
    {
     "name": "stderr",
     "output_type": "stream",
     "text": [
      " 16%|█▌        | 35/216 [25:54<8:00:48, 159.39s/it]"
     ]
    },
    {
     "name": "stdout",
     "output_type": "stream",
     "text": [
      "Predicting...\n",
      "RandomForestClassifier(max_depth=20, max_features=None, n_estimators=150) 0.6552201120172655\n",
      "---------\n",
      "Fitting...\n"
     ]
    },
    {
     "name": "stderr",
     "output_type": "stream",
     "text": [
      " 17%|█▋        | 36/216 [34:22<13:12:03, 264.02s/it]"
     ]
    },
    {
     "name": "stdout",
     "output_type": "stream",
     "text": [
      "Predicting...\n",
      "RandomForestClassifier(max_depth=20, max_features=None, n_estimators=300) 0.6560689272613063\n",
      "---------\n",
      "Fitting...\n"
     ]
    },
    {
     "name": "stderr",
     "output_type": "stream",
     "text": [
      " 17%|█▋        | 37/216 [34:23<9:12:10, 185.09s/it] "
     ]
    },
    {
     "name": "stdout",
     "output_type": "stream",
     "text": [
      "Predicting...\n",
      "RandomForestClassifier(max_depth=30, n_estimators=10) 0.6064638065646575\n",
      "---------\n",
      "Fitting...\n"
     ]
    },
    {
     "name": "stderr",
     "output_type": "stream",
     "text": [
      " 18%|█▊        | 38/216 [34:25<6:25:58, 130.11s/it]"
     ]
    },
    {
     "name": "stdout",
     "output_type": "stream",
     "text": [
      "Predicting...\n",
      "RandomForestClassifier(max_depth=30, n_estimators=20) 0.632406414973208\n",
      "---------\n",
      "Fitting...\n"
     ]
    },
    {
     "name": "stderr",
     "output_type": "stream",
     "text": [
      " 18%|█▊        | 39/216 [34:29<4:32:40, 92.43s/it] "
     ]
    },
    {
     "name": "stdout",
     "output_type": "stream",
     "text": [
      "Predicting...\n",
      "RandomForestClassifier(max_depth=30, n_estimators=50) 0.6469402589300197\n",
      "---------\n",
      "Fitting...\n"
     ]
    },
    {
     "name": "stderr",
     "output_type": "stream",
     "text": [
      " 19%|█▊        | 40/216 [34:38<3:17:40, 67.39s/it]"
     ]
    },
    {
     "name": "stdout",
     "output_type": "stream",
     "text": [
      "Predicting...\n",
      "RandomForestClassifier(max_depth=30) 0.6653169413451833\n",
      "---------\n",
      "Fitting...\n"
     ]
    },
    {
     "name": "stderr",
     "output_type": "stream",
     "text": [
      " 19%|█▉        | 41/216 [34:52<2:29:14, 51.17s/it]"
     ]
    },
    {
     "name": "stdout",
     "output_type": "stream",
     "text": [
      "Predicting...\n",
      "RandomForestClassifier(max_depth=30, n_estimators=150) 0.6685451668749648\n",
      "---------\n",
      "Fitting...\n"
     ]
    },
    {
     "name": "stderr",
     "output_type": "stream",
     "text": [
      " 19%|█▉        | 42/216 [35:18<2:07:00, 43.79s/it]"
     ]
    },
    {
     "name": "stdout",
     "output_type": "stream",
     "text": [
      "Predicting...\n",
      "RandomForestClassifier(max_depth=30, n_estimators=300) 0.6622257521725553\n",
      "---------\n",
      "Fitting...\n"
     ]
    },
    {
     "name": "stderr",
     "output_type": "stream",
     "text": [
      " 20%|█▉        | 43/216 [35:19<1:28:48, 30.80s/it]"
     ]
    },
    {
     "name": "stdout",
     "output_type": "stream",
     "text": [
      "Predicting...\n",
      "RandomForestClassifier(max_depth=30, max_features='log2', n_estimators=10) 0.5992023522220853\n",
      "---------\n",
      "Fitting...\n"
     ]
    },
    {
     "name": "stderr",
     "output_type": "stream",
     "text": [
      " 20%|██        | 44/216 [35:20<1:02:36, 21.84s/it]"
     ]
    },
    {
     "name": "stdout",
     "output_type": "stream",
     "text": [
      "Predicting...\n",
      "RandomForestClassifier(max_depth=30, max_features='log2', n_estimators=20) 0.6220829377336127\n",
      "---------\n",
      "Fitting...\n"
     ]
    },
    {
     "name": "stderr",
     "output_type": "stream",
     "text": [
      " 21%|██        | 45/216 [35:22<45:29, 15.96s/it]  "
     ]
    },
    {
     "name": "stdout",
     "output_type": "stream",
     "text": [
      "Predicting...\n",
      "RandomForestClassifier(max_depth=30, max_features='log2', n_estimators=50) 0.646719078639225\n",
      "---------\n",
      "Fitting...\n"
     ]
    },
    {
     "name": "stderr",
     "output_type": "stream",
     "text": [
      " 21%|██▏       | 46/216 [35:26<35:25, 12.50s/it]"
     ]
    },
    {
     "name": "stdout",
     "output_type": "stream",
     "text": [
      "Predicting...\n",
      "RandomForestClassifier(max_depth=30, max_features='log2') 0.6515937782731749\n",
      "---------\n",
      "Fitting...\n"
     ]
    },
    {
     "name": "stderr",
     "output_type": "stream",
     "text": [
      " 22%|██▏       | 47/216 [35:33<30:19, 10.76s/it]"
     ]
    },
    {
     "name": "stdout",
     "output_type": "stream",
     "text": [
      "Predicting...\n",
      "RandomForestClassifier(max_depth=30, max_features='log2', n_estimators=150) 0.6664935107130343\n",
      "---------\n",
      "Fitting...\n"
     ]
    },
    {
     "name": "stderr",
     "output_type": "stream",
     "text": [
      " 22%|██▏       | 48/216 [35:46<32:17, 11.53s/it]"
     ]
    },
    {
     "name": "stdout",
     "output_type": "stream",
     "text": [
      "Predicting...\n",
      "RandomForestClassifier(max_depth=30, max_features='log2', n_estimators=300) 0.6652967039751634\n",
      "---------\n",
      "Fitting...\n"
     ]
    },
    {
     "name": "stderr",
     "output_type": "stream",
     "text": [
      " 23%|██▎       | 49/216 [36:00<33:51, 12.17s/it]"
     ]
    },
    {
     "name": "stdout",
     "output_type": "stream",
     "text": [
      "Predicting...\n",
      "RandomForestClassifier(max_depth=30, max_features=None, n_estimators=10) 0.6202073978199679\n",
      "---------\n",
      "Fitting...\n"
     ]
    },
    {
     "name": "stderr",
     "output_type": "stream",
     "text": [
      " 23%|██▎       | 50/216 [36:27<46:14, 16.72s/it]"
     ]
    },
    {
     "name": "stdout",
     "output_type": "stream",
     "text": [
      "Predicting...\n",
      "RandomForestClassifier(max_depth=30, max_features=None, n_estimators=20) 0.6353810145540203\n",
      "---------\n",
      "Fitting...\n"
     ]
    },
    {
     "name": "stderr",
     "output_type": "stream",
     "text": [
      " 24%|██▎       | 51/216 [37:35<1:27:59, 32.00s/it]"
     ]
    },
    {
     "name": "stdout",
     "output_type": "stream",
     "text": [
      "Predicting...\n",
      "RandomForestClassifier(max_depth=30, max_features=None, n_estimators=50) 0.6496789526847632\n",
      "---------\n",
      "Fitting...\n"
     ]
    },
    {
     "name": "stderr",
     "output_type": "stream",
     "text": [
      " 24%|██▍       | 52/216 [39:51<2:52:54, 63.26s/it]"
     ]
    },
    {
     "name": "stdout",
     "output_type": "stream",
     "text": [
      "Predicting...\n",
      "RandomForestClassifier(max_depth=30, max_features=None) 0.6485690615253167\n",
      "---------\n",
      "Fitting...\n",
      "Predicting...\n"
     ]
    },
    {
     "name": "stderr",
     "output_type": "stream",
     "text": [
      " 25%|██▍       | 53/216 [44:01<5:24:15, 119.36s/it]"
     ]
    },
    {
     "name": "stdout",
     "output_type": "stream",
     "text": [
      "RandomForestClassifier(max_depth=30, max_features=None, n_estimators=150) 0.6601710038379768\n",
      "---------\n",
      "Fitting...\n"
     ]
    },
    {
     "name": "stderr",
     "output_type": "stream",
     "text": [
      " 25%|██▌       | 54/216 [52:27<10:35:25, 235.34s/it]"
     ]
    },
    {
     "name": "stdout",
     "output_type": "stream",
     "text": [
      "Predicting...\n",
      "RandomForestClassifier(max_depth=30, max_features=None, n_estimators=300) 0.6616515253611182\n",
      "---------\n",
      "Fitting...\n"
     ]
    },
    {
     "name": "stderr",
     "output_type": "stream",
     "text": [
      " 25%|██▌       | 55/216 [52:28<7:22:46, 165.01s/it] "
     ]
    },
    {
     "name": "stdout",
     "output_type": "stream",
     "text": [
      "Predicting...\n",
      "RandomForestClassifier(n_estimators=10) 0.606116780884065\n",
      "---------\n",
      "Fitting...\n"
     ]
    },
    {
     "name": "stderr",
     "output_type": "stream",
     "text": [
      " 26%|██▌       | 56/216 [52:30<5:09:27, 116.05s/it]"
     ]
    },
    {
     "name": "stdout",
     "output_type": "stream",
     "text": [
      "Predicting...\n",
      "RandomForestClassifier(n_estimators=20) 0.6280930749968051\n",
      "---------\n",
      "Fitting...\n"
     ]
    },
    {
     "name": "stderr",
     "output_type": "stream",
     "text": [
      " 26%|██▋       | 57/216 [52:35<3:38:54, 82.61s/it] "
     ]
    },
    {
     "name": "stdout",
     "output_type": "stream",
     "text": [
      "Predicting...\n",
      "RandomForestClassifier(n_estimators=50) 0.646328629485227\n",
      "---------\n",
      "Fitting...\n"
     ]
    },
    {
     "name": "stderr",
     "output_type": "stream",
     "text": [
      " 27%|██▋       | 58/216 [52:44<2:39:20, 60.51s/it]"
     ]
    },
    {
     "name": "stdout",
     "output_type": "stream",
     "text": [
      "Predicting...\n",
      "RandomForestClassifier() 0.6544490057672471\n",
      "---------\n",
      "Fitting...\n"
     ]
    },
    {
     "name": "stderr",
     "output_type": "stream",
     "text": [
      " 27%|██▋       | 59/216 [52:57<2:01:18, 46.36s/it]"
     ]
    },
    {
     "name": "stdout",
     "output_type": "stream",
     "text": [
      "Predicting...\n",
      "RandomForestClassifier(n_estimators=150) 0.6707640757712261\n",
      "---------\n",
      "Fitting...\n"
     ]
    },
    {
     "name": "stderr",
     "output_type": "stream",
     "text": [
      " 28%|██▊       | 60/216 [53:23<1:45:06, 40.43s/it]"
     ]
    },
    {
     "name": "stdout",
     "output_type": "stream",
     "text": [
      "Predicting...\n",
      "RandomForestClassifier(n_estimators=300) 0.6725438865177358\n",
      "---------\n",
      "Fitting...\n"
     ]
    },
    {
     "name": "stderr",
     "output_type": "stream",
     "text": [
      " 28%|██▊       | 61/216 [53:24<1:13:28, 28.44s/it]"
     ]
    },
    {
     "name": "stdout",
     "output_type": "stream",
     "text": [
      "Predicting...\n",
      "RandomForestClassifier(max_features='log2', n_estimators=10) 0.5892482013485214\n",
      "---------\n",
      "Fitting...\n"
     ]
    },
    {
     "name": "stderr",
     "output_type": "stream",
     "text": [
      " 29%|██▊       | 62/216 [53:25<51:49, 20.19s/it]  "
     ]
    },
    {
     "name": "stdout",
     "output_type": "stream",
     "text": [
      "Predicting...\n",
      "RandomForestClassifier(max_features='log2', n_estimators=20) 0.6260802666297393\n",
      "---------\n",
      "Fitting...\n"
     ]
    },
    {
     "name": "stderr",
     "output_type": "stream",
     "text": [
      " 29%|██▉       | 63/216 [53:27<37:48, 14.83s/it]"
     ]
    },
    {
     "name": "stdout",
     "output_type": "stream",
     "text": [
      "Predicting...\n",
      "RandomForestClassifier(max_features='log2', n_estimators=50) 0.6428996884590291\n",
      "---------\n",
      "Fitting...\n"
     ]
    },
    {
     "name": "stderr",
     "output_type": "stream",
     "text": [
      " 30%|██▉       | 64/216 [53:32<29:41, 11.72s/it]"
     ]
    },
    {
     "name": "stdout",
     "output_type": "stream",
     "text": [
      "Predicting...\n",
      "RandomForestClassifier(max_features='log2') 0.6613699047684355\n",
      "---------\n",
      "Fitting...\n"
     ]
    },
    {
     "name": "stderr",
     "output_type": "stream",
     "text": [
      " 30%|███       | 65/216 [53:38<25:42, 10.21s/it]"
     ]
    },
    {
     "name": "stdout",
     "output_type": "stream",
     "text": [
      "Predicting...\n",
      "RandomForestClassifier(max_features='log2', n_estimators=150) 0.662267613786945\n",
      "---------\n",
      "Fitting...\n"
     ]
    },
    {
     "name": "stderr",
     "output_type": "stream",
     "text": [
      " 31%|███       | 66/216 [53:52<27:51, 11.14s/it]"
     ]
    },
    {
     "name": "stdout",
     "output_type": "stream",
     "text": [
      "Predicting...\n",
      "RandomForestClassifier(max_features='log2', n_estimators=300) 0.6645684443799743\n",
      "---------\n",
      "Fitting...\n"
     ]
    },
    {
     "name": "stderr",
     "output_type": "stream",
     "text": [
      " 31%|███       | 67/216 [54:05<29:31, 11.89s/it]"
     ]
    },
    {
     "name": "stdout",
     "output_type": "stream",
     "text": [
      "Predicting...\n",
      "RandomForestClassifier(max_features=None, n_estimators=10) 0.6006813958075311\n",
      "---------\n",
      "Fitting...\n"
     ]
    },
    {
     "name": "stderr",
     "output_type": "stream",
     "text": [
      " 31%|███▏      | 68/216 [54:32<40:26, 16.40s/it]"
     ]
    },
    {
     "name": "stdout",
     "output_type": "stream",
     "text": [
      "Predicting...\n",
      "RandomForestClassifier(max_features=None, n_estimators=20) 0.6355656260160537\n",
      "---------\n",
      "Fitting...\n"
     ]
    },
    {
     "name": "stderr",
     "output_type": "stream",
     "text": [
      " 32%|███▏      | 69/216 [55:40<1:18:13, 31.93s/it]"
     ]
    },
    {
     "name": "stdout",
     "output_type": "stream",
     "text": [
      "Predicting...\n",
      "RandomForestClassifier(max_features=None, n_estimators=50) 0.6438593186052018\n",
      "---------\n",
      "Fitting...\n"
     ]
    },
    {
     "name": "stderr",
     "output_type": "stream",
     "text": [
      " 32%|███▏      | 70/216 [57:56<2:33:33, 63.11s/it]"
     ]
    },
    {
     "name": "stdout",
     "output_type": "stream",
     "text": [
      "Predicting...\n",
      "RandomForestClassifier(max_features=None) 0.6567309291442959\n",
      "---------\n",
      "Fitting...\n",
      "Predicting...\n"
     ]
    },
    {
     "name": "stderr",
     "output_type": "stream",
     "text": [
      " 33%|███▎      | 71/216 [1:02:18<4:56:36, 122.74s/it]"
     ]
    },
    {
     "name": "stdout",
     "output_type": "stream",
     "text": [
      "RandomForestClassifier(max_features=None, n_estimators=150) 0.6552287659931578\n",
      "---------\n",
      "Fitting...\n",
      "Predicting...\n"
     ]
    },
    {
     "name": "stderr",
     "output_type": "stream",
     "text": [
      " 33%|███▎      | 72/216 [1:12:39<10:53:20, 272.23s/it]"
     ]
    },
    {
     "name": "stdout",
     "output_type": "stream",
     "text": [
      "RandomForestClassifier(max_features=None, n_estimators=300) 0.6651099387424827\n",
      "---------\n",
      "Fitting...\n"
     ]
    },
    {
     "name": "stderr",
     "output_type": "stream",
     "text": [
      " 34%|███▍      | 73/216 [1:12:41<7:35:49, 191.25s/it] "
     ]
    },
    {
     "name": "stdout",
     "output_type": "stream",
     "text": [
      "Predicting...\n",
      "RandomForestClassifier(criterion='entropy', max_depth=10, n_estimators=10) 0.6032192529047797\n",
      "---------\n",
      "Fitting...\n"
     ]
    },
    {
     "name": "stderr",
     "output_type": "stream",
     "text": [
      " 34%|███▍      | 74/216 [1:12:46<5:19:46, 135.12s/it]"
     ]
    },
    {
     "name": "stdout",
     "output_type": "stream",
     "text": [
      "Predicting...\n",
      "RandomForestClassifier(criterion='entropy', max_depth=10, n_estimators=20) 0.6080548723582134\n",
      "---------\n",
      "Fitting...\n"
     ]
    },
    {
     "name": "stderr",
     "output_type": "stream",
     "text": [
      " 35%|███▍      | 75/216 [1:12:55<3:49:14, 97.55s/it] "
     ]
    },
    {
     "name": "stdout",
     "output_type": "stream",
     "text": [
      "Predicting...\n",
      "RandomForestClassifier(criterion='entropy', max_depth=10, n_estimators=50) 0.6332585561918979\n",
      "---------\n",
      "Fitting...\n"
     ]
    },
    {
     "name": "stderr",
     "output_type": "stream",
     "text": [
      " 35%|███▌      | 76/216 [1:13:15<2:53:15, 74.25s/it]"
     ]
    },
    {
     "name": "stdout",
     "output_type": "stream",
     "text": [
      "Predicting...\n",
      "RandomForestClassifier(criterion='entropy', max_depth=10) 0.6325518167480093\n",
      "---------\n",
      "Fitting...\n"
     ]
    },
    {
     "name": "stderr",
     "output_type": "stream",
     "text": [
      " 36%|███▌      | 77/216 [1:13:45<2:21:04, 60.89s/it]"
     ]
    },
    {
     "name": "stdout",
     "output_type": "stream",
     "text": [
      "Predicting...\n",
      "RandomForestClassifier(criterion='entropy', max_depth=10, n_estimators=150) 0.6387465801365232\n",
      "---------\n",
      "Fitting...\n",
      "Predicting...\n"
     ]
    },
    {
     "name": "stderr",
     "output_type": "stream",
     "text": [
      " 36%|███▌      | 78/216 [1:14:45<2:19:10, 60.51s/it]"
     ]
    },
    {
     "name": "stdout",
     "output_type": "stream",
     "text": [
      "RandomForestClassifier(criterion='entropy', max_depth=10, n_estimators=300) 0.6431877494108733\n",
      "---------\n",
      "Fitting...\n"
     ]
    },
    {
     "name": "stderr",
     "output_type": "stream",
     "text": [
      " 37%|███▋      | 79/216 [1:14:46<1:37:27, 42.68s/it]"
     ]
    },
    {
     "name": "stdout",
     "output_type": "stream",
     "text": [
      "Predicting...\n",
      "RandomForestClassifier(criterion='entropy', max_depth=10, max_features='log2',\n",
      "                       n_estimators=10) 0.5931046318002898\n",
      "---------\n",
      "Fitting...\n"
     ]
    },
    {
     "name": "stderr",
     "output_type": "stream",
     "text": [
      " 37%|███▋      | 80/216 [1:14:48<1:09:01, 30.45s/it]"
     ]
    },
    {
     "name": "stdout",
     "output_type": "stream",
     "text": [
      "Predicting...\n",
      "RandomForestClassifier(criterion='entropy', max_depth=10, max_features='log2',\n",
      "                       n_estimators=20) 0.6135618925198493\n",
      "---------\n",
      "Fitting...\n"
     ]
    },
    {
     "name": "stderr",
     "output_type": "stream",
     "text": [
      " 38%|███▊      | 81/216 [1:14:53<51:21, 22.82s/it]  "
     ]
    },
    {
     "name": "stdout",
     "output_type": "stream",
     "text": [
      "Predicting...\n",
      "RandomForestClassifier(criterion='entropy', max_depth=10, max_features='log2',\n",
      "                       n_estimators=50) 0.614809471585416\n",
      "---------\n",
      "Fitting...\n"
     ]
    },
    {
     "name": "stderr",
     "output_type": "stream",
     "text": [
      " 38%|███▊      | 82/216 [1:15:03<42:32, 19.05s/it]"
     ]
    },
    {
     "name": "stdout",
     "output_type": "stream",
     "text": [
      "Predicting...\n",
      "RandomForestClassifier(criterion='entropy', max_depth=10, max_features='log2') 0.62475566682883\n",
      "---------\n",
      "Fitting...\n"
     ]
    },
    {
     "name": "stderr",
     "output_type": "stream",
     "text": [
      " 38%|███▊      | 83/216 [1:15:18<39:19, 17.74s/it]"
     ]
    },
    {
     "name": "stdout",
     "output_type": "stream",
     "text": [
      "Predicting...\n",
      "RandomForestClassifier(criterion='entropy', max_depth=10, max_features='log2',\n",
      "                       n_estimators=150) 0.6328944957063796\n",
      "---------\n",
      "Fitting...\n",
      "Predicting...\n"
     ]
    },
    {
     "name": "stderr",
     "output_type": "stream",
     "text": [
      " 39%|███▉      | 84/216 [1:15:47<46:27, 21.12s/it]"
     ]
    },
    {
     "name": "stdout",
     "output_type": "stream",
     "text": [
      "RandomForestClassifier(criterion='entropy', max_depth=10, max_features='log2',\n",
      "                       n_estimators=300) 0.6357949929978657\n",
      "---------\n",
      "Fitting...\n"
     ]
    },
    {
     "name": "stderr",
     "output_type": "stream",
     "text": [
      " 39%|███▉      | 85/216 [1:16:16<51:25, 23.56s/it]"
     ]
    },
    {
     "name": "stdout",
     "output_type": "stream",
     "text": [
      "Predicting...\n",
      "RandomForestClassifier(criterion='entropy', max_depth=10, max_features=None,\n",
      "                       n_estimators=10) 0.6005638568140309\n",
      "---------\n",
      "Fitting...\n"
     ]
    },
    {
     "name": "stderr",
     "output_type": "stream",
     "text": [
      " 40%|███▉      | 86/216 [1:17:15<1:13:53, 34.11s/it]"
     ]
    },
    {
     "name": "stdout",
     "output_type": "stream",
     "text": [
      "Predicting...\n",
      "RandomForestClassifier(criterion='entropy', max_depth=10, max_features=None,\n",
      "                       n_estimators=20) 0.6114261644904861\n",
      "---------\n",
      "Fitting...\n"
     ]
    },
    {
     "name": "stderr",
     "output_type": "stream",
     "text": [
      " 40%|████      | 87/216 [1:19:41<2:25:43, 67.78s/it]"
     ]
    },
    {
     "name": "stdout",
     "output_type": "stream",
     "text": [
      "Predicting...\n",
      "RandomForestClassifier(criterion='entropy', max_depth=10, max_features=None,\n",
      "                       n_estimators=50) 0.6255788017790025\n",
      "---------\n",
      "Fitting...\n"
     ]
    },
    {
     "name": "stderr",
     "output_type": "stream",
     "text": [
      " 41%|████      | 88/216 [1:24:32<4:47:23, 134.71s/it]"
     ]
    },
    {
     "name": "stdout",
     "output_type": "stream",
     "text": [
      "Predicting...\n",
      "RandomForestClassifier(criterion='entropy', max_depth=10, max_features=None) 0.6383198435265085\n",
      "---------\n",
      "Fitting...\n"
     ]
    },
    {
     "name": "stderr",
     "output_type": "stream",
     "text": [
      " 41%|████      | 89/216 [1:31:51<7:58:18, 225.97s/it]"
     ]
    },
    {
     "name": "stdout",
     "output_type": "stream",
     "text": [
      "Predicting...\n",
      "RandomForestClassifier(criterion='entropy', max_depth=10, max_features=None,\n",
      "                       n_estimators=150) 0.6310277747002644\n",
      "---------\n",
      "Fitting...\n",
      "Predicting...\n"
     ]
    },
    {
     "name": "stderr",
     "output_type": "stream",
     "text": [
      " 42%|████▏     | 90/216 [1:46:28<14:44:54, 421.38s/it]"
     ]
    },
    {
     "name": "stdout",
     "output_type": "stream",
     "text": [
      "RandomForestClassifier(criterion='entropy', max_depth=10, max_features=None,\n",
      "                       n_estimators=300) 0.6364311442472731\n",
      "---------\n",
      "Fitting...\n"
     ]
    },
    {
     "name": "stderr",
     "output_type": "stream",
     "text": [
      " 42%|████▏     | 91/216 [1:46:30<10:15:56, 295.65s/it]"
     ]
    },
    {
     "name": "stdout",
     "output_type": "stream",
     "text": [
      "Predicting...\n",
      "RandomForestClassifier(criterion='entropy', max_depth=20, n_estimators=10) 0.607789665465892\n",
      "---------\n",
      "Fitting...\n"
     ]
    },
    {
     "name": "stderr",
     "output_type": "stream",
     "text": [
      " 43%|████▎     | 92/216 [1:46:35<7:10:39, 208.38s/it] "
     ]
    },
    {
     "name": "stdout",
     "output_type": "stream",
     "text": [
      "Predicting...\n",
      "RandomForestClassifier(criterion='entropy', max_depth=20, n_estimators=20) 0.6330564877781387\n",
      "---------\n",
      "Fitting...\n"
     ]
    },
    {
     "name": "stderr",
     "output_type": "stream",
     "text": [
      " 43%|████▎     | 93/216 [1:46:47<5:06:05, 149.31s/it]"
     ]
    },
    {
     "name": "stdout",
     "output_type": "stream",
     "text": [
      "Predicting...\n",
      "RandomForestClassifier(criterion='entropy', max_depth=20, n_estimators=50) 0.6465485773541453\n",
      "---------\n",
      "Fitting...\n"
     ]
    },
    {
     "name": "stderr",
     "output_type": "stream",
     "text": [
      " 44%|████▎     | 94/216 [1:47:10<3:46:37, 111.45s/it]"
     ]
    },
    {
     "name": "stdout",
     "output_type": "stream",
     "text": [
      "Predicting...\n",
      "RandomForestClassifier(criterion='entropy', max_depth=20) 0.6532539491019509\n",
      "---------\n",
      "Fitting...\n"
     ]
    },
    {
     "name": "stderr",
     "output_type": "stream",
     "text": [
      " 44%|████▍     | 95/216 [1:47:44<2:58:18, 88.41s/it] "
     ]
    },
    {
     "name": "stdout",
     "output_type": "stream",
     "text": [
      "Predicting...\n",
      "RandomForestClassifier(criterion='entropy', max_depth=20, n_estimators=150) 0.6665788082597199\n",
      "---------\n",
      "Fitting...\n",
      "Predicting...\n"
     ]
    },
    {
     "name": "stderr",
     "output_type": "stream",
     "text": [
      " 44%|████▍     | 96/216 [1:48:54<2:45:20, 82.67s/it]"
     ]
    },
    {
     "name": "stdout",
     "output_type": "stream",
     "text": [
      "RandomForestClassifier(criterion='entropy', max_depth=20, n_estimators=300) 0.6711677763311293\n",
      "---------\n",
      "Fitting...\n"
     ]
    },
    {
     "name": "stderr",
     "output_type": "stream",
     "text": [
      " 45%|████▍     | 97/216 [1:48:55<1:55:28, 58.22s/it]"
     ]
    },
    {
     "name": "stdout",
     "output_type": "stream",
     "text": [
      "Predicting...\n",
      "RandomForestClassifier(criterion='entropy', max_depth=20, max_features='log2',\n",
      "                       n_estimators=10) 0.6096098091303704\n",
      "---------\n",
      "Fitting...\n"
     ]
    },
    {
     "name": "stderr",
     "output_type": "stream",
     "text": [
      " 45%|████▌     | 98/216 [1:48:57<1:21:33, 41.47s/it]"
     ]
    },
    {
     "name": "stdout",
     "output_type": "stream",
     "text": [
      "Predicting...\n",
      "RandomForestClassifier(criterion='entropy', max_depth=20, max_features='log2',\n",
      "                       n_estimators=20) 0.6143215918054812\n",
      "---------\n",
      "Fitting...\n"
     ]
    },
    {
     "name": "stderr",
     "output_type": "stream",
     "text": [
      " 46%|████▌     | 99/216 [1:49:03<1:00:11, 30.87s/it]"
     ]
    },
    {
     "name": "stdout",
     "output_type": "stream",
     "text": [
      "Predicting...\n",
      "RandomForestClassifier(criterion='entropy', max_depth=20, max_features='log2',\n",
      "                       n_estimators=50) 0.641497724046789\n",
      "---------\n",
      "Fitting...\n"
     ]
    },
    {
     "name": "stderr",
     "output_type": "stream",
     "text": [
      " 46%|████▋     | 100/216 [1:49:15<48:34, 25.12s/it] "
     ]
    },
    {
     "name": "stdout",
     "output_type": "stream",
     "text": [
      "Predicting...\n",
      "RandomForestClassifier(criterion='entropy', max_depth=20, max_features='log2') 0.6640710703886248\n",
      "---------\n",
      "Fitting...\n"
     ]
    },
    {
     "name": "stderr",
     "output_type": "stream",
     "text": [
      " 47%|████▋     | 101/216 [1:49:33<43:47, 22.85s/it]"
     ]
    },
    {
     "name": "stdout",
     "output_type": "stream",
     "text": [
      "Predicting...\n",
      "RandomForestClassifier(criterion='entropy', max_depth=20, max_features='log2',\n",
      "                       n_estimators=150) 0.6599372399634438\n",
      "---------\n",
      "Fitting...\n",
      "Predicting...\n"
     ]
    },
    {
     "name": "stderr",
     "output_type": "stream",
     "text": [
      " 47%|████▋     | 102/216 [1:50:08<50:32, 26.60s/it]"
     ]
    },
    {
     "name": "stdout",
     "output_type": "stream",
     "text": [
      "RandomForestClassifier(criterion='entropy', max_depth=20, max_features='log2',\n",
      "                       n_estimators=300) 0.6620405002798563\n",
      "---------\n",
      "Fitting...\n"
     ]
    },
    {
     "name": "stderr",
     "output_type": "stream",
     "text": [
      " 48%|████▊     | 103/216 [1:50:41<53:26, 28.38s/it]"
     ]
    },
    {
     "name": "stdout",
     "output_type": "stream",
     "text": [
      "Predicting...\n",
      "RandomForestClassifier(criterion='entropy', max_depth=20, max_features=None,\n",
      "                       n_estimators=10) 0.6101592234540393\n",
      "---------\n",
      "Fitting...\n"
     ]
    },
    {
     "name": "stderr",
     "output_type": "stream",
     "text": [
      " 48%|████▊     | 104/216 [1:51:46<1:13:38, 39.45s/it]"
     ]
    },
    {
     "name": "stdout",
     "output_type": "stream",
     "text": [
      "Predicting...\n",
      "RandomForestClassifier(criterion='entropy', max_depth=20, max_features=None,\n",
      "                       n_estimators=20) 0.6339675812483393\n",
      "---------\n",
      "Fitting...\n"
     ]
    },
    {
     "name": "stderr",
     "output_type": "stream",
     "text": [
      " 49%|████▊     | 105/216 [1:54:30<2:22:02, 76.78s/it]"
     ]
    },
    {
     "name": "stdout",
     "output_type": "stream",
     "text": [
      "Predicting...\n",
      "RandomForestClassifier(criterion='entropy', max_depth=20, max_features=None,\n",
      "                       n_estimators=50) 0.6441180340988142\n",
      "---------\n",
      "Fitting...\n"
     ]
    },
    {
     "name": "stderr",
     "output_type": "stream",
     "text": [
      " 49%|████▉     | 106/216 [1:59:58<4:39:02, 152.21s/it]"
     ]
    },
    {
     "name": "stdout",
     "output_type": "stream",
     "text": [
      "Predicting...\n",
      "RandomForestClassifier(criterion='entropy', max_depth=20, max_features=None) 0.6552505608299883\n",
      "---------\n",
      "Fitting...\n",
      "Predicting...\n"
     ]
    },
    {
     "name": "stderr",
     "output_type": "stream",
     "text": [
      " 50%|████▉     | 107/216 [2:08:09<7:41:20, 253.95s/it]"
     ]
    },
    {
     "name": "stdout",
     "output_type": "stream",
     "text": [
      "RandomForestClassifier(criterion='entropy', max_depth=20, max_features=None,\n",
      "                       n_estimators=150) 0.6627704895087526\n",
      "---------\n",
      "Fitting...\n"
     ]
    },
    {
     "name": "stderr",
     "output_type": "stream",
     "text": [
      " 50%|█████     | 108/216 [2:21:12<12:22:35, 412.55s/it]"
     ]
    },
    {
     "name": "stdout",
     "output_type": "stream",
     "text": [
      "Predicting...\n",
      "RandomForestClassifier(criterion='entropy', max_depth=20, max_features=None,\n",
      "                       n_estimators=300) 0.6645087978765479\n",
      "---------\n",
      "Fitting...\n"
     ]
    },
    {
     "name": "stderr",
     "output_type": "stream",
     "text": [
      " 50%|█████     | 109/216 [2:21:13<8:35:50, 289.25s/it] "
     ]
    },
    {
     "name": "stdout",
     "output_type": "stream",
     "text": [
      "Predicting...\n",
      "RandomForestClassifier(criterion='entropy', max_depth=30, n_estimators=10) 0.6135613184639175\n",
      "---------\n",
      "Fitting...\n"
     ]
    },
    {
     "name": "stderr",
     "output_type": "stream",
     "text": [
      " 51%|█████     | 110/216 [2:21:17<5:59:23, 203.43s/it]"
     ]
    },
    {
     "name": "stdout",
     "output_type": "stream",
     "text": [
      "Predicting...\n",
      "RandomForestClassifier(criterion='entropy', max_depth=30, n_estimators=20) 0.6297658868600414\n",
      "---------\n",
      "Fitting...\n"
     ]
    },
    {
     "name": "stderr",
     "output_type": "stream",
     "text": [
      " 51%|█████▏    | 111/216 [2:21:24<4:13:19, 144.76s/it]"
     ]
    },
    {
     "name": "stdout",
     "output_type": "stream",
     "text": [
      "Predicting...\n",
      "RandomForestClassifier(criterion='entropy', max_depth=30, n_estimators=50) 0.657097056840107\n",
      "---------\n",
      "Fitting...\n"
     ]
    },
    {
     "name": "stderr",
     "output_type": "stream",
     "text": [
      " 52%|█████▏    | 112/216 [2:21:40<3:03:42, 105.98s/it]"
     ]
    },
    {
     "name": "stdout",
     "output_type": "stream",
     "text": [
      "Predicting...\n",
      "RandomForestClassifier(criterion='entropy', max_depth=30) 0.6577461190230469\n",
      "---------\n",
      "Fitting...\n"
     ]
    },
    {
     "name": "stderr",
     "output_type": "stream",
     "text": [
      " 52%|█████▏    | 113/216 [2:22:03<2:19:21, 81.18s/it] "
     ]
    },
    {
     "name": "stdout",
     "output_type": "stream",
     "text": [
      "Predicting...\n",
      "RandomForestClassifier(criterion='entropy', max_depth=30, n_estimators=150) 0.6693003948775585\n",
      "---------\n",
      "Fitting...\n"
     ]
    },
    {
     "name": "stderr",
     "output_type": "stream",
     "text": [
      " 53%|█████▎    | 114/216 [2:22:50<2:00:17, 70.76s/it]"
     ]
    },
    {
     "name": "stdout",
     "output_type": "stream",
     "text": [
      "Predicting...\n",
      "RandomForestClassifier(criterion='entropy', max_depth=30, n_estimators=300) 0.6719338466821714\n",
      "---------\n",
      "Fitting...\n"
     ]
    },
    {
     "name": "stderr",
     "output_type": "stream",
     "text": [
      " 53%|█████▎    | 115/216 [2:22:51<1:23:47, 49.78s/it]"
     ]
    },
    {
     "name": "stdout",
     "output_type": "stream",
     "text": [
      "Predicting...\n",
      "RandomForestClassifier(criterion='entropy', max_depth=30, max_features='log2',\n",
      "                       n_estimators=10) 0.6059520701349879\n",
      "---------\n",
      "Fitting...\n"
     ]
    },
    {
     "name": "stderr",
     "output_type": "stream",
     "text": [
      " 54%|█████▎    | 116/216 [2:22:52<58:50, 35.31s/it]  "
     ]
    },
    {
     "name": "stdout",
     "output_type": "stream",
     "text": [
      "Predicting...\n",
      "RandomForestClassifier(criterion='entropy', max_depth=30, max_features='log2',\n",
      "                       n_estimators=20) 0.6252945760875496\n",
      "---------\n",
      "Fitting...\n"
     ]
    },
    {
     "name": "stderr",
     "output_type": "stream",
     "text": [
      " 54%|█████▍    | 117/216 [2:22:56<42:42, 25.89s/it]"
     ]
    },
    {
     "name": "stdout",
     "output_type": "stream",
     "text": [
      "Predicting...\n",
      "RandomForestClassifier(criterion='entropy', max_depth=30, max_features='log2',\n",
      "                       n_estimators=50) 0.6524414150177202\n",
      "---------\n",
      "Fitting...\n"
     ]
    },
    {
     "name": "stderr",
     "output_type": "stream",
     "text": [
      " 55%|█████▍    | 118/216 [2:23:04<33:26, 20.47s/it]"
     ]
    },
    {
     "name": "stdout",
     "output_type": "stream",
     "text": [
      "Predicting...\n",
      "RandomForestClassifier(criterion='entropy', max_depth=30, max_features='log2') 0.6532769615446145\n",
      "---------\n",
      "Fitting...\n"
     ]
    },
    {
     "name": "stderr",
     "output_type": "stream",
     "text": [
      " 55%|█████▌    | 119/216 [2:23:16<28:50, 17.84s/it]"
     ]
    },
    {
     "name": "stdout",
     "output_type": "stream",
     "text": [
      "Predicting...\n",
      "RandomForestClassifier(criterion='entropy', max_depth=30, max_features='log2',\n",
      "                       n_estimators=150) 0.6560809061378251\n",
      "---------\n",
      "Fitting...\n"
     ]
    },
    {
     "name": "stderr",
     "output_type": "stream",
     "text": [
      " 56%|█████▌    | 120/216 [2:23:39<31:06, 19.44s/it]"
     ]
    },
    {
     "name": "stdout",
     "output_type": "stream",
     "text": [
      "Predicting...\n",
      "RandomForestClassifier(criterion='entropy', max_depth=30, max_features='log2',\n",
      "                       n_estimators=300) 0.6668705838154239\n",
      "---------\n",
      "Fitting...\n"
     ]
    },
    {
     "name": "stderr",
     "output_type": "stream",
     "text": [
      " 56%|█████▌    | 121/216 [2:24:01<31:59, 20.20s/it]"
     ]
    },
    {
     "name": "stdout",
     "output_type": "stream",
     "text": [
      "Predicting...\n",
      "RandomForestClassifier(criterion='entropy', max_depth=30, max_features=None,\n",
      "                       n_estimators=10) 0.6115956390056388\n",
      "---------\n",
      "Fitting...\n"
     ]
    },
    {
     "name": "stderr",
     "output_type": "stream",
     "text": [
      " 56%|█████▋    | 122/216 [2:24:45<42:48, 27.33s/it]"
     ]
    },
    {
     "name": "stdout",
     "output_type": "stream",
     "text": [
      "Predicting...\n",
      "RandomForestClassifier(criterion='entropy', max_depth=30, max_features=None,\n",
      "                       n_estimators=20) 0.6280789373349831\n",
      "---------\n",
      "Fitting...\n"
     ]
    },
    {
     "name": "stderr",
     "output_type": "stream",
     "text": [
      " 57%|█████▋    | 123/216 [2:26:33<1:20:13, 51.75s/it]"
     ]
    },
    {
     "name": "stdout",
     "output_type": "stream",
     "text": [
      "Predicting...\n",
      "RandomForestClassifier(criterion='entropy', max_depth=30, max_features=None,\n",
      "                       n_estimators=50) 0.6460569017394419\n",
      "---------\n",
      "Fitting...\n"
     ]
    },
    {
     "name": "stderr",
     "output_type": "stream",
     "text": [
      " 57%|█████▋    | 124/216 [2:30:41<2:49:20, 110.43s/it]"
     ]
    },
    {
     "name": "stdout",
     "output_type": "stream",
     "text": [
      "Predicting...\n",
      "RandomForestClassifier(criterion='entropy', max_depth=30, max_features=None) 0.6514229229276755\n",
      "---------\n",
      "Fitting...\n"
     ]
    },
    {
     "name": "stderr",
     "output_type": "stream",
     "text": [
      " 58%|█████▊    | 125/216 [2:38:51<5:40:10, 224.29s/it]"
     ]
    },
    {
     "name": "stdout",
     "output_type": "stream",
     "text": [
      "Predicting...\n",
      "RandomForestClassifier(criterion='entropy', max_depth=30, max_features=None,\n",
      "                       n_estimators=150) 0.6565186768088751\n",
      "---------\n",
      "Fitting...\n"
     ]
    },
    {
     "name": "stderr",
     "output_type": "stream",
     "text": [
      " 58%|█████▊    | 126/216 [2:50:37<9:13:30, 369.00s/it]"
     ]
    },
    {
     "name": "stdout",
     "output_type": "stream",
     "text": [
      "Predicting...\n",
      "RandomForestClassifier(criterion='entropy', max_depth=30, max_features=None,\n",
      "                       n_estimators=300) 0.6600231789662574\n",
      "---------\n",
      "Fitting...\n"
     ]
    },
    {
     "name": "stderr",
     "output_type": "stream",
     "text": [
      " 59%|█████▉    | 127/216 [2:50:39<6:23:51, 258.78s/it]"
     ]
    },
    {
     "name": "stdout",
     "output_type": "stream",
     "text": [
      "Predicting...\n",
      "RandomForestClassifier(criterion='entropy', n_estimators=10) 0.6071669416062838\n",
      "---------\n",
      "Fitting...\n"
     ]
    },
    {
     "name": "stderr",
     "output_type": "stream",
     "text": [
      " 59%|█████▉    | 128/216 [2:50:42<4:27:04, 182.10s/it]"
     ]
    },
    {
     "name": "stdout",
     "output_type": "stream",
     "text": [
      "Predicting...\n",
      "RandomForestClassifier(criterion='entropy', n_estimators=20) 0.6273225138857408\n",
      "---------\n",
      "Fitting...\n"
     ]
    },
    {
     "name": "stderr",
     "output_type": "stream",
     "text": [
      " 60%|█████▉    | 129/216 [2:50:50<3:08:18, 129.86s/it]"
     ]
    },
    {
     "name": "stdout",
     "output_type": "stream",
     "text": [
      "Predicting...\n",
      "RandomForestClassifier(criterion='entropy', n_estimators=50) 0.6495696251693185\n",
      "---------\n",
      "Fitting...\n"
     ]
    },
    {
     "name": "stderr",
     "output_type": "stream",
     "text": [
      " 60%|██████    | 130/216 [2:51:06<2:17:08, 95.68s/it] "
     ]
    },
    {
     "name": "stdout",
     "output_type": "stream",
     "text": [
      "Predicting...\n",
      "RandomForestClassifier(criterion='entropy') 0.6671119853977097\n",
      "---------\n",
      "Fitting...\n"
     ]
    },
    {
     "name": "stderr",
     "output_type": "stream",
     "text": [
      " 61%|██████    | 131/216 [2:51:30<1:44:55, 74.06s/it]"
     ]
    },
    {
     "name": "stdout",
     "output_type": "stream",
     "text": [
      "Predicting...\n",
      "RandomForestClassifier(criterion='entropy', n_estimators=150) 0.665743118136332\n",
      "---------\n",
      "Fitting...\n"
     ]
    },
    {
     "name": "stderr",
     "output_type": "stream",
     "text": [
      " 61%|██████    | 132/216 [2:52:17<1:32:29, 66.07s/it]"
     ]
    },
    {
     "name": "stdout",
     "output_type": "stream",
     "text": [
      "Predicting...\n",
      "RandomForestClassifier(criterion='entropy', n_estimators=300) 0.6700815561011612\n",
      "---------\n",
      "Fitting...\n"
     ]
    },
    {
     "name": "stderr",
     "output_type": "stream",
     "text": [
      " 62%|██████▏   | 133/216 [2:52:18<1:04:18, 46.48s/it]"
     ]
    },
    {
     "name": "stdout",
     "output_type": "stream",
     "text": [
      "Predicting...\n",
      "RandomForestClassifier(criterion='entropy', max_features='log2',\n",
      "                       n_estimators=10) 0.6042020158299446\n",
      "---------\n",
      "Fitting...\n"
     ]
    },
    {
     "name": "stderr",
     "output_type": "stream",
     "text": [
      " 62%|██████▏   | 134/216 [2:52:19<45:07, 33.02s/it]  "
     ]
    },
    {
     "name": "stdout",
     "output_type": "stream",
     "text": [
      "Predicting...\n",
      "RandomForestClassifier(criterion='entropy', max_features='log2',\n",
      "                       n_estimators=20) 0.6257806843480501\n",
      "---------\n",
      "Fitting...\n"
     ]
    },
    {
     "name": "stderr",
     "output_type": "stream",
     "text": [
      " 62%|██████▎   | 135/216 [2:52:23<32:46, 24.28s/it]"
     ]
    },
    {
     "name": "stdout",
     "output_type": "stream",
     "text": [
      "Predicting...\n",
      "RandomForestClassifier(criterion='entropy', max_features='log2',\n",
      "                       n_estimators=50) 0.6510432834488212\n",
      "---------\n",
      "Fitting...\n"
     ]
    },
    {
     "name": "stderr",
     "output_type": "stream",
     "text": [
      " 63%|██████▎   | 136/216 [2:52:32<26:07, 19.59s/it]"
     ]
    },
    {
     "name": "stdout",
     "output_type": "stream",
     "text": [
      "Predicting...\n",
      "RandomForestClassifier(criterion='entropy', max_features='log2') 0.6579589597346158\n",
      "---------\n",
      "Fitting...\n"
     ]
    },
    {
     "name": "stderr",
     "output_type": "stream",
     "text": [
      " 63%|██████▎   | 137/216 [2:52:45<23:12, 17.62s/it]"
     ]
    },
    {
     "name": "stdout",
     "output_type": "stream",
     "text": [
      "Predicting...\n",
      "RandomForestClassifier(criterion='entropy', max_features='log2',\n",
      "                       n_estimators=150) 0.655134569533791\n",
      "---------\n",
      "Fitting...\n"
     ]
    },
    {
     "name": "stderr",
     "output_type": "stream",
     "text": [
      " 64%|██████▍   | 138/216 [2:53:09<25:28, 19.60s/it]"
     ]
    },
    {
     "name": "stdout",
     "output_type": "stream",
     "text": [
      "Predicting...\n",
      "RandomForestClassifier(criterion='entropy', max_features='log2',\n",
      "                       n_estimators=300) 0.6611923655535922\n",
      "---------\n",
      "Fitting...\n"
     ]
    },
    {
     "name": "stderr",
     "output_type": "stream",
     "text": [
      " 64%|██████▍   | 139/216 [2:53:32<26:20, 20.52s/it]"
     ]
    },
    {
     "name": "stdout",
     "output_type": "stream",
     "text": [
      "Predicting...\n",
      "RandomForestClassifier(criterion='entropy', max_features=None, n_estimators=10) 0.6134227395769865\n",
      "---------\n",
      "Fitting...\n"
     ]
    },
    {
     "name": "stderr",
     "output_type": "stream",
     "text": [
      " 65%|██████▍   | 140/216 [2:54:17<35:15, 27.84s/it]"
     ]
    },
    {
     "name": "stdout",
     "output_type": "stream",
     "text": [
      "Predicting...\n",
      "RandomForestClassifier(criterion='entropy', max_features=None, n_estimators=20) 0.6216258995946587\n",
      "---------\n",
      "Fitting...\n"
     ]
    },
    {
     "name": "stderr",
     "output_type": "stream",
     "text": [
      " 65%|██████▌   | 141/216 [2:56:07<1:05:50, 52.68s/it]"
     ]
    },
    {
     "name": "stdout",
     "output_type": "stream",
     "text": [
      "Predicting...\n",
      "RandomForestClassifier(criterion='entropy', max_features=None, n_estimators=50) 0.6604713317108974\n",
      "---------\n",
      "Fitting...\n"
     ]
    },
    {
     "name": "stderr",
     "output_type": "stream",
     "text": [
      " 66%|██████▌   | 142/216 [2:59:58<2:10:47, 106.04s/it]"
     ]
    },
    {
     "name": "stdout",
     "output_type": "stream",
     "text": [
      "Predicting...\n",
      "RandomForestClassifier(criterion='entropy', max_features=None) 0.656565047301564\n",
      "---------\n",
      "Fitting...\n"
     ]
    },
    {
     "name": "stderr",
     "output_type": "stream",
     "text": [
      " 66%|██████▌   | 143/216 [3:05:49<3:38:25, 179.53s/it]"
     ]
    },
    {
     "name": "stdout",
     "output_type": "stream",
     "text": [
      "Predicting...\n",
      "RandomForestClassifier(criterion='entropy', max_features=None, n_estimators=150) 0.6520363065753025\n",
      "---------\n",
      "Fitting...\n",
      "Predicting...\n",
      "RandomForestClassifier(criterion='entropy', max_features=None, n_estimators=300) 0.6628145802941443\n",
      "---------\n"
     ]
    },
    {
     "name": "stderr",
     "output_type": "stream",
     "text": [
      " 67%|██████▋   | 144/216 [3:18:00<6:53:57, 344.96s/it]"
     ]
    },
    {
     "name": "stdout",
     "output_type": "stream",
     "text": [
      "Fitting...\n"
     ]
    },
    {
     "name": "stderr",
     "output_type": "stream",
     "text": [
      " 67%|██████▋   | 145/216 [3:18:01<4:46:17, 241.93s/it]"
     ]
    },
    {
     "name": "stdout",
     "output_type": "stream",
     "text": [
      "Predicting...\n",
      "RandomForestClassifier(criterion='log_loss', max_depth=10, n_estimators=10) 0.6011748570896419\n",
      "---------\n",
      "Fitting...\n"
     ]
    },
    {
     "name": "stderr",
     "output_type": "stream",
     "text": [
      " 68%|██████▊   | 146/216 [3:18:04<3:18:36, 170.24s/it]"
     ]
    },
    {
     "name": "stdout",
     "output_type": "stream",
     "text": [
      "Predicting...\n",
      "RandomForestClassifier(criterion='log_loss', max_depth=10, n_estimators=20) 0.6051440856112265\n",
      "---------\n",
      "Fitting...\n"
     ]
    },
    {
     "name": "stderr",
     "output_type": "stream",
     "text": [
      " 68%|██████▊   | 147/216 [3:18:12<2:19:33, 121.35s/it]"
     ]
    },
    {
     "name": "stdout",
     "output_type": "stream",
     "text": [
      "Predicting...\n",
      "RandomForestClassifier(criterion='log_loss', max_depth=10, n_estimators=50) 0.6283215561599216\n",
      "---------\n",
      "Fitting...\n"
     ]
    },
    {
     "name": "stderr",
     "output_type": "stream",
     "text": [
      " 69%|██████▊   | 148/216 [3:18:26<1:41:11, 89.28s/it] "
     ]
    },
    {
     "name": "stdout",
     "output_type": "stream",
     "text": [
      "Predicting...\n",
      "RandomForestClassifier(criterion='log_loss', max_depth=10) 0.6378967985449683\n",
      "---------\n",
      "Fitting...\n"
     ]
    },
    {
     "name": "stderr",
     "output_type": "stream",
     "text": [
      " 69%|██████▉   | 149/216 [3:18:48<1:17:01, 68.98s/it]"
     ]
    },
    {
     "name": "stdout",
     "output_type": "stream",
     "text": [
      "Predicting...\n",
      "RandomForestClassifier(criterion='log_loss', max_depth=10, n_estimators=150) 0.6363714775664949\n",
      "---------\n",
      "Fitting...\n"
     ]
    },
    {
     "name": "stderr",
     "output_type": "stream",
     "text": [
      " 69%|██████▉   | 150/216 [3:19:32<1:07:51, 61.69s/it]"
     ]
    },
    {
     "name": "stdout",
     "output_type": "stream",
     "text": [
      "Predicting...\n",
      "RandomForestClassifier(criterion='log_loss', max_depth=10, n_estimators=300) 0.6428233028576883\n",
      "---------\n",
      "Fitting...\n"
     ]
    },
    {
     "name": "stderr",
     "output_type": "stream",
     "text": [
      " 70%|██████▉   | 151/216 [3:19:33<47:01, 43.41s/it]  "
     ]
    },
    {
     "name": "stdout",
     "output_type": "stream",
     "text": [
      "Predicting...\n",
      "RandomForestClassifier(criterion='log_loss', max_depth=10, max_features='log2',\n",
      "                       n_estimators=10) 0.5965894776759616\n",
      "---------\n",
      "Fitting...\n"
     ]
    },
    {
     "name": "stderr",
     "output_type": "stream",
     "text": [
      " 70%|███████   | 152/216 [3:19:35<32:52, 30.82s/it]"
     ]
    },
    {
     "name": "stdout",
     "output_type": "stream",
     "text": [
      "Predicting...\n",
      "RandomForestClassifier(criterion='log_loss', max_depth=10, max_features='log2',\n",
      "                       n_estimators=20) 0.6039753622670491\n",
      "---------\n",
      "Fitting...\n"
     ]
    },
    {
     "name": "stderr",
     "output_type": "stream",
     "text": [
      " 71%|███████   | 153/216 [3:19:38<23:47, 22.66s/it]"
     ]
    },
    {
     "name": "stdout",
     "output_type": "stream",
     "text": [
      "Predicting...\n",
      "RandomForestClassifier(criterion='log_loss', max_depth=10, max_features='log2',\n",
      "                       n_estimators=50) 0.6211142245364139\n",
      "---------\n",
      "Fitting...\n"
     ]
    },
    {
     "name": "stderr",
     "output_type": "stream",
     "text": [
      " 71%|███████▏  | 154/216 [3:19:45<18:34, 17.98s/it]"
     ]
    },
    {
     "name": "stdout",
     "output_type": "stream",
     "text": [
      "Predicting...\n",
      "RandomForestClassifier(criterion='log_loss', max_depth=10, max_features='log2') 0.6304608938863433\n",
      "---------\n",
      "Fitting...\n"
     ]
    },
    {
     "name": "stderr",
     "output_type": "stream",
     "text": [
      " 72%|███████▏  | 155/216 [3:19:56<16:02, 15.78s/it]"
     ]
    },
    {
     "name": "stdout",
     "output_type": "stream",
     "text": [
      "Predicting...\n",
      "RandomForestClassifier(criterion='log_loss', max_depth=10, max_features='log2',\n",
      "                       n_estimators=150) 0.6321885265003555\n",
      "---------\n",
      "Fitting...\n"
     ]
    },
    {
     "name": "stderr",
     "output_type": "stream",
     "text": [
      " 72%|███████▏  | 156/216 [3:20:18<17:32, 17.54s/it]"
     ]
    },
    {
     "name": "stdout",
     "output_type": "stream",
     "text": [
      "Predicting...\n",
      "RandomForestClassifier(criterion='log_loss', max_depth=10, max_features='log2',\n",
      "                       n_estimators=300) 0.6333935122015504\n",
      "---------\n",
      "Fitting...\n"
     ]
    },
    {
     "name": "stderr",
     "output_type": "stream",
     "text": [
      " 73%|███████▎  | 157/216 [3:20:40<18:34, 18.88s/it]"
     ]
    },
    {
     "name": "stdout",
     "output_type": "stream",
     "text": [
      "Predicting...\n",
      "RandomForestClassifier(criterion='log_loss', max_depth=10, max_features=None,\n",
      "                       n_estimators=10) 0.6056454589941923\n",
      "---------\n",
      "Fitting...\n"
     ]
    },
    {
     "name": "stderr",
     "output_type": "stream",
     "text": [
      " 73%|███████▎  | 158/216 [3:21:23<25:19, 26.19s/it]"
     ]
    },
    {
     "name": "stdout",
     "output_type": "stream",
     "text": [
      "Predicting...\n",
      "RandomForestClassifier(criterion='log_loss', max_depth=10, max_features=None,\n",
      "                       n_estimators=20) 0.6102741931106871\n",
      "---------\n",
      "Fitting...\n"
     ]
    },
    {
     "name": "stderr",
     "output_type": "stream",
     "text": [
      " 74%|███████▎  | 159/216 [3:23:13<48:53, 51.46s/it]"
     ]
    },
    {
     "name": "stdout",
     "output_type": "stream",
     "text": [
      "Predicting...\n",
      "RandomForestClassifier(criterion='log_loss', max_depth=10, max_features=None,\n",
      "                       n_estimators=50) 0.6238121096346327\n",
      "---------\n",
      "Fitting...\n"
     ]
    },
    {
     "name": "stderr",
     "output_type": "stream",
     "text": [
      " 74%|███████▍  | 160/216 [3:26:48<1:33:44, 100.43s/it]"
     ]
    },
    {
     "name": "stdout",
     "output_type": "stream",
     "text": [
      "Predicting...\n",
      "RandomForestClassifier(criterion='log_loss', max_depth=10, max_features=None) 0.6286216973424861\n",
      "---------\n",
      "Fitting...\n"
     ]
    },
    {
     "name": "stderr",
     "output_type": "stream",
     "text": [
      " 75%|███████▍  | 161/216 [3:32:10<2:32:52, 166.77s/it]"
     ]
    },
    {
     "name": "stdout",
     "output_type": "stream",
     "text": [
      "Predicting...\n",
      "RandomForestClassifier(criterion='log_loss', max_depth=10, max_features=None,\n",
      "                       n_estimators=150) 0.6339243759774847\n",
      "---------\n",
      "Fitting...\n"
     ]
    },
    {
     "name": "stderr",
     "output_type": "stream",
     "text": [
      " 75%|███████▌  | 162/216 [3:42:25<4:31:08, 301.26s/it]"
     ]
    },
    {
     "name": "stdout",
     "output_type": "stream",
     "text": [
      "Predicting...\n",
      "RandomForestClassifier(criterion='log_loss', max_depth=10, max_features=None,\n",
      "                       n_estimators=300) 0.6342891173103727\n",
      "---------\n",
      "Fitting...\n"
     ]
    },
    {
     "name": "stderr",
     "output_type": "stream",
     "text": [
      " 75%|███████▌  | 163/216 [3:42:26<3:06:41, 211.36s/it]"
     ]
    },
    {
     "name": "stdout",
     "output_type": "stream",
     "text": [
      "Predicting...\n",
      "RandomForestClassifier(criterion='log_loss', max_depth=20, n_estimators=10) 0.6019356433654696\n",
      "---------\n",
      "Fitting...\n"
     ]
    },
    {
     "name": "stderr",
     "output_type": "stream",
     "text": [
      " 76%|███████▌  | 164/216 [3:42:29<2:09:02, 148.89s/it]"
     ]
    },
    {
     "name": "stdout",
     "output_type": "stream",
     "text": [
      "Predicting...\n",
      "RandomForestClassifier(criterion='log_loss', max_depth=20, n_estimators=20) 0.6235365230407327\n",
      "---------\n",
      "Fitting...\n"
     ]
    },
    {
     "name": "stderr",
     "output_type": "stream",
     "text": [
      " 76%|███████▋  | 165/216 [3:42:37<1:30:33, 106.54s/it]"
     ]
    },
    {
     "name": "stdout",
     "output_type": "stream",
     "text": [
      "Predicting...\n",
      "RandomForestClassifier(criterion='log_loss', max_depth=20, n_estimators=50) 0.6564137887723013\n",
      "---------\n",
      "Fitting...\n"
     ]
    },
    {
     "name": "stderr",
     "output_type": "stream",
     "text": [
      " 77%|███████▋  | 166/216 [3:42:53<1:06:04, 79.28s/it] "
     ]
    },
    {
     "name": "stdout",
     "output_type": "stream",
     "text": [
      "Predicting...\n",
      "RandomForestClassifier(criterion='log_loss', max_depth=20) 0.6618152787846304\n",
      "---------\n",
      "Fitting...\n"
     ]
    },
    {
     "name": "stderr",
     "output_type": "stream",
     "text": [
      " 77%|███████▋  | 167/216 [3:43:16<50:57, 62.41s/it]  "
     ]
    },
    {
     "name": "stdout",
     "output_type": "stream",
     "text": [
      "Predicting...\n",
      "RandomForestClassifier(criterion='log_loss', max_depth=20, n_estimators=150) 0.657142316964415\n",
      "---------\n",
      "Fitting...\n"
     ]
    },
    {
     "name": "stderr",
     "output_type": "stream",
     "text": [
      " 78%|███████▊  | 168/216 [3:44:03<46:10, 57.71s/it]"
     ]
    },
    {
     "name": "stdout",
     "output_type": "stream",
     "text": [
      "Predicting...\n",
      "RandomForestClassifier(criterion='log_loss', max_depth=20, n_estimators=300) 0.671149644482984\n",
      "---------\n",
      "Fitting...\n"
     ]
    },
    {
     "name": "stderr",
     "output_type": "stream",
     "text": [
      " 78%|███████▊  | 169/216 [3:44:03<31:50, 40.64s/it]"
     ]
    },
    {
     "name": "stdout",
     "output_type": "stream",
     "text": [
      "Predicting...\n",
      "RandomForestClassifier(criterion='log_loss', max_depth=20, max_features='log2',\n",
      "                       n_estimators=10) 0.6021730170334616\n",
      "---------\n",
      "Fitting...\n"
     ]
    },
    {
     "name": "stderr",
     "output_type": "stream",
     "text": [
      " 79%|███████▊  | 170/216 [3:44:05<22:10, 28.92s/it]"
     ]
    },
    {
     "name": "stdout",
     "output_type": "stream",
     "text": [
      "Predicting...\n",
      "RandomForestClassifier(criterion='log_loss', max_depth=20, max_features='log2',\n",
      "                       n_estimators=20) 0.6255755763195359\n",
      "---------\n",
      "Fitting...\n"
     ]
    },
    {
     "name": "stderr",
     "output_type": "stream",
     "text": [
      " 79%|███████▉  | 171/216 [3:44:09<16:04, 21.43s/it]"
     ]
    },
    {
     "name": "stdout",
     "output_type": "stream",
     "text": [
      "Predicting...\n",
      "RandomForestClassifier(criterion='log_loss', max_depth=20, max_features='log2',\n",
      "                       n_estimators=50) 0.6377261511236207\n",
      "---------\n",
      "Fitting...\n"
     ]
    },
    {
     "name": "stderr",
     "output_type": "stream",
     "text": [
      " 80%|███████▉  | 172/216 [3:44:17<12:43, 17.35s/it]"
     ]
    },
    {
     "name": "stdout",
     "output_type": "stream",
     "text": [
      "Predicting...\n",
      "RandomForestClassifier(criterion='log_loss', max_depth=20, max_features='log2') 0.6616015888991778\n",
      "---------\n",
      "Fitting...\n"
     ]
    },
    {
     "name": "stderr",
     "output_type": "stream",
     "text": [
      " 80%|████████  | 173/216 [3:44:29<11:15, 15.72s/it]"
     ]
    },
    {
     "name": "stdout",
     "output_type": "stream",
     "text": [
      "Predicting...\n",
      "RandomForestClassifier(criterion='log_loss', max_depth=20, max_features='log2',\n",
      "                       n_estimators=150) 0.6617324496927928\n",
      "---------\n",
      "Fitting...\n"
     ]
    },
    {
     "name": "stderr",
     "output_type": "stream",
     "text": [
      " 81%|████████  | 174/216 [3:44:52<12:36, 18.02s/it]"
     ]
    },
    {
     "name": "stdout",
     "output_type": "stream",
     "text": [
      "Predicting...\n",
      "RandomForestClassifier(criterion='log_loss', max_depth=20, max_features='log2',\n",
      "                       n_estimators=300) 0.6604393927754978\n",
      "---------\n",
      "Fitting...\n"
     ]
    },
    {
     "name": "stderr",
     "output_type": "stream",
     "text": [
      " 81%|████████  | 175/216 [3:45:15<13:15, 19.40s/it]"
     ]
    },
    {
     "name": "stdout",
     "output_type": "stream",
     "text": [
      "Predicting...\n",
      "RandomForestClassifier(criterion='log_loss', max_depth=20, max_features=None,\n",
      "                       n_estimators=10) 0.6234799150957478\n",
      "---------\n",
      "Fitting...\n"
     ]
    },
    {
     "name": "stderr",
     "output_type": "stream",
     "text": [
      " 81%|████████▏ | 176/216 [3:45:59<17:52, 26.82s/it]"
     ]
    },
    {
     "name": "stdout",
     "output_type": "stream",
     "text": [
      "Predicting...\n",
      "RandomForestClassifier(criterion='log_loss', max_depth=20, max_features=None,\n",
      "                       n_estimators=20) 0.6287146590583577\n",
      "---------\n",
      "Fitting...\n"
     ]
    },
    {
     "name": "stderr",
     "output_type": "stream",
     "text": [
      " 82%|████████▏ | 177/216 [3:47:49<33:47, 51.99s/it]"
     ]
    },
    {
     "name": "stdout",
     "output_type": "stream",
     "text": [
      "Predicting...\n",
      "RandomForestClassifier(criterion='log_loss', max_depth=20, max_features=None,\n",
      "                       n_estimators=50) 0.6483897830708928\n",
      "---------\n",
      "Fitting...\n"
     ]
    },
    {
     "name": "stderr",
     "output_type": "stream",
     "text": [
      " 82%|████████▏ | 178/216 [3:53:20<1:25:53, 135.62s/it]"
     ]
    },
    {
     "name": "stdout",
     "output_type": "stream",
     "text": [
      "Predicting...\n",
      "RandomForestClassifier(criterion='log_loss', max_depth=20, max_features=None) 0.6597756128174497\n",
      "---------\n",
      "Fitting...\n"
     ]
    },
    {
     "name": "stderr",
     "output_type": "stream",
     "text": [
      " 83%|████████▎ | 179/216 [4:00:28<2:17:41, 223.27s/it]"
     ]
    },
    {
     "name": "stdout",
     "output_type": "stream",
     "text": [
      "Predicting...\n",
      "RandomForestClassifier(criterion='log_loss', max_depth=20, max_features=None,\n",
      "                       n_estimators=150) 0.6587115891252939\n",
      "---------\n",
      "Fitting...\n"
     ]
    },
    {
     "name": "stderr",
     "output_type": "stream",
     "text": [
      " 83%|████████▎ | 180/216 [4:11:59<3:38:13, 363.71s/it]"
     ]
    },
    {
     "name": "stdout",
     "output_type": "stream",
     "text": [
      "Predicting...\n",
      "RandomForestClassifier(criterion='log_loss', max_depth=20, max_features=None,\n",
      "                       n_estimators=300) 0.6583604062548123\n",
      "---------\n",
      "Fitting...\n"
     ]
    },
    {
     "name": "stderr",
     "output_type": "stream",
     "text": [
      " 84%|████████▍ | 181/216 [4:12:01<2:28:48, 255.09s/it]"
     ]
    },
    {
     "name": "stdout",
     "output_type": "stream",
     "text": [
      "Predicting...\n",
      "RandomForestClassifier(criterion='log_loss', max_depth=30, n_estimators=10) 0.601812586474943\n",
      "---------\n",
      "Fitting...\n"
     ]
    },
    {
     "name": "stderr",
     "output_type": "stream",
     "text": [
      " 84%|████████▍ | 182/216 [4:12:04<1:41:43, 179.52s/it]"
     ]
    },
    {
     "name": "stdout",
     "output_type": "stream",
     "text": [
      "Predicting...\n",
      "RandomForestClassifier(criterion='log_loss', max_depth=30, n_estimators=20) 0.6241745015991632\n",
      "---------\n",
      "Fitting...\n"
     ]
    },
    {
     "name": "stderr",
     "output_type": "stream",
     "text": [
      " 85%|████████▍ | 183/216 [4:12:12<1:10:23, 127.99s/it]"
     ]
    },
    {
     "name": "stdout",
     "output_type": "stream",
     "text": [
      "Predicting...\n",
      "RandomForestClassifier(criterion='log_loss', max_depth=30, n_estimators=50) 0.6529235666481855\n",
      "---------\n",
      "Fitting...\n"
     ]
    },
    {
     "name": "stderr",
     "output_type": "stream",
     "text": [
      " 85%|████████▌ | 184/216 [4:12:28<50:22, 94.46s/it]   "
     ]
    },
    {
     "name": "stdout",
     "output_type": "stream",
     "text": [
      "Predicting...\n",
      "RandomForestClassifier(criterion='log_loss', max_depth=30) 0.652846364609705\n",
      "---------\n",
      "Fitting...\n"
     ]
    },
    {
     "name": "stderr",
     "output_type": "stream",
     "text": [
      " 86%|████████▌ | 185/216 [4:12:54<38:13, 74.00s/it]"
     ]
    },
    {
     "name": "stdout",
     "output_type": "stream",
     "text": [
      "Predicting...\n",
      "RandomForestClassifier(criterion='log_loss', max_depth=30, n_estimators=150) 0.6664674241610477\n",
      "---------\n",
      "Fitting...\n"
     ]
    },
    {
     "name": "stderr",
     "output_type": "stream",
     "text": [
      " 86%|████████▌ | 186/216 [4:13:43<33:14, 66.48s/it]"
     ]
    },
    {
     "name": "stdout",
     "output_type": "stream",
     "text": [
      "Predicting...\n",
      "RandomForestClassifier(criterion='log_loss', max_depth=30, n_estimators=300) 0.6731479274220945\n",
      "---------\n",
      "Fitting...\n"
     ]
    },
    {
     "name": "stderr",
     "output_type": "stream",
     "text": [
      " 87%|████████▋ | 187/216 [4:13:44<22:37, 46.82s/it]"
     ]
    },
    {
     "name": "stdout",
     "output_type": "stream",
     "text": [
      "Predicting...\n",
      "RandomForestClassifier(criterion='log_loss', max_depth=30, max_features='log2',\n",
      "                       n_estimators=10) 0.5953545633204815\n",
      "---------\n",
      "Fitting...\n"
     ]
    },
    {
     "name": "stderr",
     "output_type": "stream",
     "text": [
      " 87%|████████▋ | 188/216 [4:13:46<15:31, 33.26s/it]"
     ]
    },
    {
     "name": "stdout",
     "output_type": "stream",
     "text": [
      "Predicting...\n",
      "RandomForestClassifier(criterion='log_loss', max_depth=30, max_features='log2',\n",
      "                       n_estimators=20) 0.627337962268468\n",
      "---------\n",
      "Fitting...\n"
     ]
    },
    {
     "name": "stderr",
     "output_type": "stream",
     "text": [
      " 88%|████████▊ | 189/216 [4:13:50<11:00, 24.46s/it]"
     ]
    },
    {
     "name": "stdout",
     "output_type": "stream",
     "text": [
      "Predicting...\n",
      "RandomForestClassifier(criterion='log_loss', max_depth=30, max_features='log2',\n",
      "                       n_estimators=50) 0.6513723439032247\n",
      "---------\n",
      "Fitting...\n"
     ]
    },
    {
     "name": "stderr",
     "output_type": "stream",
     "text": [
      " 88%|████████▊ | 190/216 [4:13:58<08:25, 19.45s/it]"
     ]
    },
    {
     "name": "stdout",
     "output_type": "stream",
     "text": [
      "Predicting...\n",
      "RandomForestClassifier(criterion='log_loss', max_depth=30, max_features='log2') 0.64951389074689\n",
      "---------\n",
      "Fitting...\n"
     ]
    },
    {
     "name": "stderr",
     "output_type": "stream",
     "text": [
      " 88%|████████▊ | 191/216 [4:14:10<07:10, 17.21s/it]"
     ]
    },
    {
     "name": "stdout",
     "output_type": "stream",
     "text": [
      "Predicting...\n",
      "RandomForestClassifier(criterion='log_loss', max_depth=30, max_features='log2',\n",
      "                       n_estimators=150) 0.6539308205825725\n",
      "---------\n",
      "Fitting...\n"
     ]
    },
    {
     "name": "stderr",
     "output_type": "stream",
     "text": [
      " 89%|████████▉ | 192/216 [4:14:33<07:37, 19.07s/it]"
     ]
    },
    {
     "name": "stdout",
     "output_type": "stream",
     "text": [
      "Predicting...\n",
      "RandomForestClassifier(criterion='log_loss', max_depth=30, max_features='log2',\n",
      "                       n_estimators=300) 0.6604181471974939\n",
      "---------\n",
      "Fitting...\n"
     ]
    },
    {
     "name": "stderr",
     "output_type": "stream",
     "text": [
      " 89%|████████▉ | 193/216 [4:14:57<07:51, 20.51s/it]"
     ]
    },
    {
     "name": "stdout",
     "output_type": "stream",
     "text": [
      "Predicting...\n",
      "RandomForestClassifier(criterion='log_loss', max_depth=30, max_features=None,\n",
      "                       n_estimators=10) 0.6175074539435936\n",
      "---------\n",
      "Fitting...\n"
     ]
    },
    {
     "name": "stderr",
     "output_type": "stream",
     "text": [
      " 90%|████████▉ | 194/216 [4:15:47<10:43, 29.26s/it]"
     ]
    },
    {
     "name": "stdout",
     "output_type": "stream",
     "text": [
      "Predicting...\n",
      "RandomForestClassifier(criterion='log_loss', max_depth=30, max_features=None,\n",
      "                       n_estimators=20) 0.6298082049708361\n",
      "---------\n",
      "Fitting...\n"
     ]
    },
    {
     "name": "stderr",
     "output_type": "stream",
     "text": [
      " 90%|█████████ | 195/216 [4:17:46<19:40, 56.22s/it]"
     ]
    },
    {
     "name": "stdout",
     "output_type": "stream",
     "text": [
      "Predicting...\n",
      "RandomForestClassifier(criterion='log_loss', max_depth=30, max_features=None,\n",
      "                       n_estimators=50) 0.6537164697011557\n",
      "---------\n",
      "Fitting...\n"
     ]
    },
    {
     "name": "stderr",
     "output_type": "stream",
     "text": [
      " 91%|█████████ | 196/216 [4:21:41<36:36, 109.81s/it]"
     ]
    },
    {
     "name": "stdout",
     "output_type": "stream",
     "text": [
      "Predicting...\n",
      "RandomForestClassifier(criterion='log_loss', max_depth=30, max_features=None) 0.6563319160737808\n",
      "---------\n",
      "Fitting...\n"
     ]
    },
    {
     "name": "stderr",
     "output_type": "stream",
     "text": [
      " 91%|█████████ | 197/216 [4:27:31<57:38, 182.01s/it]"
     ]
    },
    {
     "name": "stdout",
     "output_type": "stream",
     "text": [
      "Predicting...\n",
      "RandomForestClassifier(criterion='log_loss', max_depth=30, max_features=None,\n",
      "                       n_estimators=150) 0.6539032996531128\n",
      "---------\n",
      "Fitting...\n",
      "Predicting...\n"
     ]
    },
    {
     "name": "stderr",
     "output_type": "stream",
     "text": [
      " 92%|█████████▏| 198/216 [4:42:12<1:57:32, 391.83s/it]"
     ]
    },
    {
     "name": "stdout",
     "output_type": "stream",
     "text": [
      "RandomForestClassifier(criterion='log_loss', max_depth=30, max_features=None,\n",
      "                       n_estimators=300) 0.6621962011105109\n",
      "---------\n",
      "Fitting...\n"
     ]
    },
    {
     "name": "stderr",
     "output_type": "stream",
     "text": [
      " 92%|█████████▏| 199/216 [4:42:15<1:17:55, 275.03s/it]"
     ]
    },
    {
     "name": "stdout",
     "output_type": "stream",
     "text": [
      "Predicting...\n",
      "RandomForestClassifier(criterion='log_loss', n_estimators=10) 0.6117468468709861\n",
      "---------\n",
      "Fitting...\n"
     ]
    },
    {
     "name": "stderr",
     "output_type": "stream",
     "text": [
      " 93%|█████████▎| 200/216 [4:42:20<51:42, 193.91s/it]  "
     ]
    },
    {
     "name": "stdout",
     "output_type": "stream",
     "text": [
      "Predicting...\n",
      "RandomForestClassifier(criterion='log_loss', n_estimators=20) 0.6356467215069126\n",
      "---------\n",
      "Fitting...\n"
     ]
    },
    {
     "name": "stderr",
     "output_type": "stream",
     "text": [
      " 93%|█████████▎| 201/216 [4:42:31<34:45, 139.05s/it]"
     ]
    },
    {
     "name": "stdout",
     "output_type": "stream",
     "text": [
      "Predicting...\n",
      "RandomForestClassifier(criterion='log_loss', n_estimators=50) 0.64993422515512\n",
      "---------\n",
      "Fitting...\n"
     ]
    },
    {
     "name": "stderr",
     "output_type": "stream",
     "text": [
      " 94%|█████████▎| 202/216 [4:42:54<24:20, 104.35s/it]"
     ]
    },
    {
     "name": "stdout",
     "output_type": "stream",
     "text": [
      "Predicting...\n",
      "RandomForestClassifier(criterion='log_loss') 0.6690165447998242\n",
      "---------\n",
      "Fitting...\n"
     ]
    },
    {
     "name": "stderr",
     "output_type": "stream",
     "text": [
      " 94%|█████████▍| 203/216 [4:43:28<18:03, 83.33s/it] "
     ]
    },
    {
     "name": "stdout",
     "output_type": "stream",
     "text": [
      "Predicting...\n",
      "RandomForestClassifier(criterion='log_loss', n_estimators=150) 0.669940479428307\n",
      "---------\n",
      "Fitting...\n",
      "Predicting...\n"
     ]
    },
    {
     "name": "stderr",
     "output_type": "stream",
     "text": [
      " 94%|█████████▍| 204/216 [4:44:38<15:50, 79.17s/it]"
     ]
    },
    {
     "name": "stdout",
     "output_type": "stream",
     "text": [
      "RandomForestClassifier(criterion='log_loss', n_estimators=300) 0.6679868467874158\n",
      "---------\n",
      "Fitting...\n"
     ]
    },
    {
     "name": "stderr",
     "output_type": "stream",
     "text": [
      " 95%|█████████▍| 205/216 [4:44:39<10:13, 55.77s/it]"
     ]
    },
    {
     "name": "stdout",
     "output_type": "stream",
     "text": [
      "Predicting...\n",
      "RandomForestClassifier(criterion='log_loss', max_features='log2',\n",
      "                       n_estimators=10) 0.6056535847306497\n",
      "---------\n",
      "Fitting...\n"
     ]
    },
    {
     "name": "stderr",
     "output_type": "stream",
     "text": [
      " 95%|█████████▌| 206/216 [4:44:41<06:37, 39.72s/it]"
     ]
    },
    {
     "name": "stdout",
     "output_type": "stream",
     "text": [
      "Predicting...\n",
      "RandomForestClassifier(criterion='log_loss', max_features='log2',\n",
      "                       n_estimators=20) 0.6348917033481992\n",
      "---------\n",
      "Fitting...\n"
     ]
    },
    {
     "name": "stderr",
     "output_type": "stream",
     "text": [
      " 96%|█████████▌| 207/216 [4:44:47<04:26, 29.57s/it]"
     ]
    },
    {
     "name": "stdout",
     "output_type": "stream",
     "text": [
      "Predicting...\n",
      "RandomForestClassifier(criterion='log_loss', max_features='log2',\n",
      "                       n_estimators=50) 0.6524934289475955\n",
      "---------\n",
      "Fitting...\n"
     ]
    },
    {
     "name": "stderr",
     "output_type": "stream",
     "text": [
      " 96%|█████████▋| 208/216 [4:45:00<03:15, 24.46s/it]"
     ]
    },
    {
     "name": "stdout",
     "output_type": "stream",
     "text": [
      "Predicting...\n",
      "RandomForestClassifier(criterion='log_loss', max_features='log2') 0.6522729353393221\n",
      "---------\n",
      "Fitting...\n"
     ]
    },
    {
     "name": "stderr",
     "output_type": "stream",
     "text": [
      " 97%|█████████▋| 209/216 [4:45:17<02:35, 22.27s/it]"
     ]
    },
    {
     "name": "stdout",
     "output_type": "stream",
     "text": [
      "Predicting...\n",
      "RandomForestClassifier(criterion='log_loss', max_features='log2',\n",
      "                       n_estimators=150) 0.6618891668202844\n",
      "---------\n",
      "Fitting...\n",
      "Predicting...\n"
     ]
    },
    {
     "name": "stderr",
     "output_type": "stream",
     "text": [
      " 97%|█████████▋| 210/216 [4:45:52<02:37, 26.21s/it]"
     ]
    },
    {
     "name": "stdout",
     "output_type": "stream",
     "text": [
      "RandomForestClassifier(criterion='log_loss', max_features='log2',\n",
      "                       n_estimators=300) 0.6606442374273482\n",
      "---------\n",
      "Fitting...\n"
     ]
    },
    {
     "name": "stderr",
     "output_type": "stream",
     "text": [
      " 98%|█████████▊| 211/216 [4:46:25<02:20, 28.05s/it]"
     ]
    },
    {
     "name": "stdout",
     "output_type": "stream",
     "text": [
      "Predicting...\n",
      "RandomForestClassifier(criterion='log_loss', max_features=None, n_estimators=10) 0.6095359823641964\n",
      "---------\n",
      "Fitting...\n"
     ]
    },
    {
     "name": "stderr",
     "output_type": "stream",
     "text": [
      " 98%|█████████▊| 212/216 [4:47:29<02:35, 38.90s/it]"
     ]
    },
    {
     "name": "stdout",
     "output_type": "stream",
     "text": [
      "Predicting...\n",
      "RandomForestClassifier(criterion='log_loss', max_features=None, n_estimators=20) 0.6317889471491498\n",
      "---------\n",
      "Fitting...\n"
     ]
    },
    {
     "name": "stderr",
     "output_type": "stream",
     "text": [
      " 99%|█████████▊| 213/216 [4:50:11<03:47, 75.79s/it]"
     ]
    },
    {
     "name": "stdout",
     "output_type": "stream",
     "text": [
      "Predicting...\n",
      "RandomForestClassifier(criterion='log_loss', max_features=None, n_estimators=50) 0.6497931329408699\n",
      "---------\n",
      "Fitting...\n"
     ]
    },
    {
     "name": "stderr",
     "output_type": "stream",
     "text": [
      " 99%|█████████▉| 214/216 [4:55:33<04:59, 149.77s/it]"
     ]
    },
    {
     "name": "stdout",
     "output_type": "stream",
     "text": [
      "Predicting...\n",
      "RandomForestClassifier(criterion='log_loss', max_features=None) 0.6634952291659479\n",
      "---------\n",
      "Fitting...\n"
     ]
    },
    {
     "name": "stderr",
     "output_type": "stream",
     "text": [
      "100%|█████████▉| 215/216 [5:03:36<04:09, 249.64s/it]"
     ]
    },
    {
     "name": "stdout",
     "output_type": "stream",
     "text": [
      "Predicting...\n",
      "RandomForestClassifier(criterion='log_loss', max_features=None,\n",
      "                       n_estimators=150) 0.656633471724383\n",
      "---------\n",
      "Fitting...\n"
     ]
    },
    {
     "name": "stderr",
     "output_type": "stream",
     "text": [
      "100%|██████████| 216/216 [5:17:19<00:00, 88.15s/it] "
     ]
    },
    {
     "name": "stdout",
     "output_type": "stream",
     "text": [
      "Predicting...\n",
      "RandomForestClassifier(criterion='log_loss', max_features=None,\n",
      "                       n_estimators=300) 0.667773123890659\n",
      "---------\n"
     ]
    },
    {
     "name": "stderr",
     "output_type": "stream",
     "text": [
      "\n"
     ]
    }
   ],
   "source": [
    "param_grid = {'n_estimators' : [10,20,50,100,150,300],\n",
    "              'criterion': ['gini', 'entropy', 'log_loss'],\n",
    "              'max_depth': [10,20,30,None],\n",
    "              'max_features': ['sqrt', 'log2', None]}\n",
    "\n",
    "clfs = []\n",
    "for configuration in tqdm(ParameterGrid(param_grid)):\n",
    "    print('Fitting...')\n",
    "    rf = RandomForestClassifier(**configuration).fit(X_train, y_train)\n",
    "    print('Predicting...')\n",
    "    preds = rf.predict(X_test)\n",
    "    score = f1_score(y_test, preds, average='macro')\n",
    "    clfs.append((rf, score))\n",
    "    print(rf, score)\n",
    "    print('---------')\n",
    "    "
   ]
  },
  {
   "cell_type": "code",
   "execution_count": 42,
   "metadata": {},
   "outputs": [
    {
     "data": {
      "text/plain": [
       "array([0.67076408, 0.67254389, 0.67116778, 0.67193385, 0.67008156,\n",
       "       0.67114964, 0.67314793])"
      ]
     },
     "execution_count": 42,
     "metadata": {},
     "output_type": "execute_result"
    }
   ],
   "source": [
    "a = [x[1] for x in clfs] \n",
    "mask = np.array(a) > 0.67\n",
    "b = np.array(a)[mask]\n",
    "b"
   ]
  },
  {
   "cell_type": "code",
   "execution_count": 51,
   "metadata": {},
   "outputs": [
    {
     "name": "stdout",
     "output_type": "stream",
     "text": [
      "(RandomForestClassifier(n_estimators=150), 0.6707640757712261)\n",
      "(RandomForestClassifier(n_estimators=300), 0.6725438865177358)\n",
      "(RandomForestClassifier(criterion='entropy', max_depth=20, n_estimators=300), 0.6711677763311293)\n",
      "(RandomForestClassifier(criterion='entropy', max_depth=30, n_estimators=300), 0.6719338466821714)\n",
      "(RandomForestClassifier(criterion='entropy', n_estimators=300), 0.6700815561011612)\n",
      "(RandomForestClassifier(criterion='log_loss', max_depth=20, n_estimators=300), 0.671149644482984)\n",
      "(RandomForestClassifier(criterion='log_loss', max_depth=30, n_estimators=300), 0.6731479274220945)\n"
     ]
    }
   ],
   "source": [
    "idxs = np.argwhere(mask == True)\n",
    "idxs = [i[0] for i in idxs]\n",
    "#print(idxs)\n",
    "for i in idxs:\n",
    "    print(clfs[i])"
   ]
  },
  {
   "cell_type": "code",
   "execution_count": 41,
   "metadata": {},
   "outputs": [
    {
     "data": {
      "text/plain": [
       "(RandomForestClassifier(criterion='log_loss', max_depth=30, n_estimators=300),\n",
       " 0.6731479274220945)"
      ]
     },
     "execution_count": 41,
     "metadata": {},
     "output_type": "execute_result"
    }
   ],
   "source": [
    "clfs[np.argmax(np.array(a))]"
   ]
  },
  {
   "cell_type": "code",
   "execution_count": 43,
   "metadata": {},
   "outputs": [
    {
     "name": "stdout",
     "output_type": "stream",
     "text": [
      "(RandomForestClassifier(max_depth=10, n_estimators=10), 0.5722473791749938)\n",
      "(RandomForestClassifier(max_depth=10, n_estimators=10), 0.5722473791749938)\n",
      "(RandomForestClassifier(max_depth=10, n_estimators=10), 0.5722473791749938)\n",
      "(RandomForestClassifier(max_depth=10, n_estimators=10), 0.5722473791749938)\n",
      "(RandomForestClassifier(max_depth=10, n_estimators=10), 0.5722473791749938)\n",
      "(RandomForestClassifier(max_depth=10, n_estimators=10), 0.5722473791749938)\n",
      "(RandomForestClassifier(max_depth=10, n_estimators=10), 0.5722473791749938)\n",
      "(RandomForestClassifier(max_depth=10, n_estimators=10), 0.5722473791749938)\n",
      "(RandomForestClassifier(max_depth=10, n_estimators=10), 0.5722473791749938)\n",
      "(RandomForestClassifier(max_depth=10, n_estimators=10), 0.5722473791749938)\n",
      "(RandomForestClassifier(max_depth=10, n_estimators=10), 0.5722473791749938)\n",
      "(RandomForestClassifier(max_depth=10, n_estimators=10), 0.5722473791749938)\n",
      "(RandomForestClassifier(max_depth=10, n_estimators=10), 0.5722473791749938)\n",
      "(RandomForestClassifier(max_depth=10, n_estimators=10), 0.5722473791749938)\n",
      "(RandomForestClassifier(max_depth=10, n_estimators=10), 0.5722473791749938)\n",
      "(RandomForestClassifier(max_depth=10, n_estimators=10), 0.5722473791749938)\n",
      "(RandomForestClassifier(max_depth=10, n_estimators=10), 0.5722473791749938)\n",
      "(RandomForestClassifier(max_depth=10, n_estimators=10), 0.5722473791749938)\n",
      "(RandomForestClassifier(max_depth=10, n_estimators=10), 0.5722473791749938)\n",
      "(RandomForestClassifier(max_depth=10, n_estimators=10), 0.5722473791749938)\n",
      "(RandomForestClassifier(max_depth=10, n_estimators=10), 0.5722473791749938)\n",
      "(RandomForestClassifier(max_depth=10, n_estimators=10), 0.5722473791749938)\n",
      "(RandomForestClassifier(max_depth=10, n_estimators=10), 0.5722473791749938)\n",
      "(RandomForestClassifier(max_depth=10, n_estimators=10), 0.5722473791749938)\n",
      "(RandomForestClassifier(max_depth=10, n_estimators=10), 0.5722473791749938)\n",
      "(RandomForestClassifier(max_depth=10, n_estimators=10), 0.5722473791749938)\n",
      "(RandomForestClassifier(max_depth=10, n_estimators=10), 0.5722473791749938)\n",
      "(RandomForestClassifier(max_depth=10, n_estimators=10), 0.5722473791749938)\n",
      "(RandomForestClassifier(max_depth=10, n_estimators=10), 0.5722473791749938)\n",
      "(RandomForestClassifier(max_depth=10, n_estimators=10), 0.5722473791749938)\n",
      "(RandomForestClassifier(max_depth=10, n_estimators=10), 0.5722473791749938)\n",
      "(RandomForestClassifier(max_depth=10, n_estimators=10), 0.5722473791749938)\n",
      "(RandomForestClassifier(max_depth=10, n_estimators=10), 0.5722473791749938)\n",
      "(RandomForestClassifier(max_depth=10, n_estimators=10), 0.5722473791749938)\n",
      "(RandomForestClassifier(max_depth=10, n_estimators=10), 0.5722473791749938)\n",
      "(RandomForestClassifier(max_depth=10, n_estimators=10), 0.5722473791749938)\n",
      "(RandomForestClassifier(max_depth=10, n_estimators=10), 0.5722473791749938)\n",
      "(RandomForestClassifier(max_depth=10, n_estimators=10), 0.5722473791749938)\n",
      "(RandomForestClassifier(max_depth=10, n_estimators=10), 0.5722473791749938)\n",
      "(RandomForestClassifier(max_depth=10, n_estimators=10), 0.5722473791749938)\n",
      "(RandomForestClassifier(max_depth=10, n_estimators=10), 0.5722473791749938)\n",
      "(RandomForestClassifier(max_depth=10, n_estimators=10), 0.5722473791749938)\n",
      "(RandomForestClassifier(max_depth=10, n_estimators=10), 0.5722473791749938)\n",
      "(RandomForestClassifier(max_depth=10, n_estimators=10), 0.5722473791749938)\n",
      "(RandomForestClassifier(max_depth=10, n_estimators=10), 0.5722473791749938)\n",
      "(RandomForestClassifier(max_depth=10, n_estimators=10), 0.5722473791749938)\n",
      "(RandomForestClassifier(max_depth=10, n_estimators=10), 0.5722473791749938)\n",
      "(RandomForestClassifier(max_depth=10, n_estimators=10), 0.5722473791749938)\n",
      "(RandomForestClassifier(max_depth=10, n_estimators=10), 0.5722473791749938)\n",
      "(RandomForestClassifier(max_depth=10, n_estimators=10), 0.5722473791749938)\n",
      "(RandomForestClassifier(max_depth=10, n_estimators=10), 0.5722473791749938)\n",
      "(RandomForestClassifier(max_depth=10, n_estimators=10), 0.5722473791749938)\n",
      "(RandomForestClassifier(max_depth=10, n_estimators=10), 0.5722473791749938)\n",
      "(RandomForestClassifier(max_depth=10, n_estimators=10), 0.5722473791749938)\n",
      "(RandomForestClassifier(max_depth=10, n_estimators=10), 0.5722473791749938)\n",
      "(RandomForestClassifier(max_depth=10, n_estimators=10), 0.5722473791749938)\n",
      "(RandomForestClassifier(max_depth=10, n_estimators=10), 0.5722473791749938)\n",
      "(RandomForestClassifier(max_depth=10, n_estimators=10), 0.5722473791749938)\n",
      "(RandomForestClassifier(max_depth=10, n_estimators=20), 0.6346609545227576)\n",
      "(RandomForestClassifier(max_depth=10, n_estimators=20), 0.6346609545227576)\n",
      "(RandomForestClassifier(max_depth=10, n_estimators=10), 0.5722473791749938)\n",
      "(RandomForestClassifier(max_depth=10, n_estimators=10), 0.5722473791749938)\n",
      "(RandomForestClassifier(max_depth=10, n_estimators=10), 0.5722473791749938)\n",
      "(RandomForestClassifier(max_depth=10, n_estimators=10), 0.5722473791749938)\n",
      "(RandomForestClassifier(max_depth=10, n_estimators=10), 0.5722473791749938)\n",
      "(RandomForestClassifier(max_depth=10, n_estimators=10), 0.5722473791749938)\n",
      "(RandomForestClassifier(max_depth=10, n_estimators=10), 0.5722473791749938)\n",
      "(RandomForestClassifier(max_depth=10, n_estimators=10), 0.5722473791749938)\n",
      "(RandomForestClassifier(max_depth=10, n_estimators=10), 0.5722473791749938)\n",
      "(RandomForestClassifier(max_depth=10, n_estimators=10), 0.5722473791749938)\n",
      "(RandomForestClassifier(max_depth=10, n_estimators=10), 0.5722473791749938)\n",
      "(RandomForestClassifier(max_depth=10, n_estimators=10), 0.5722473791749938)\n",
      "(RandomForestClassifier(max_depth=10, n_estimators=10), 0.5722473791749938)\n",
      "(RandomForestClassifier(max_depth=10, n_estimators=10), 0.5722473791749938)\n",
      "(RandomForestClassifier(max_depth=10, n_estimators=10), 0.5722473791749938)\n",
      "(RandomForestClassifier(max_depth=10, n_estimators=10), 0.5722473791749938)\n",
      "(RandomForestClassifier(max_depth=10, n_estimators=10), 0.5722473791749938)\n",
      "(RandomForestClassifier(max_depth=10, n_estimators=10), 0.5722473791749938)\n",
      "(RandomForestClassifier(max_depth=10, n_estimators=10), 0.5722473791749938)\n",
      "(RandomForestClassifier(max_depth=10, n_estimators=10), 0.5722473791749938)\n",
      "(RandomForestClassifier(max_depth=10, n_estimators=10), 0.5722473791749938)\n",
      "(RandomForestClassifier(max_depth=10, n_estimators=10), 0.5722473791749938)\n",
      "(RandomForestClassifier(max_depth=10, n_estimators=10), 0.5722473791749938)\n",
      "(RandomForestClassifier(max_depth=10, n_estimators=10), 0.5722473791749938)\n",
      "(RandomForestClassifier(max_depth=10, n_estimators=10), 0.5722473791749938)\n",
      "(RandomForestClassifier(max_depth=10, n_estimators=10), 0.5722473791749938)\n",
      "(RandomForestClassifier(max_depth=10, n_estimators=10), 0.5722473791749938)\n",
      "(RandomForestClassifier(max_depth=10, n_estimators=10), 0.5722473791749938)\n",
      "(RandomForestClassifier(max_depth=10, n_estimators=10), 0.5722473791749938)\n",
      "(RandomForestClassifier(max_depth=10, n_estimators=10), 0.5722473791749938)\n",
      "(RandomForestClassifier(max_depth=10, n_estimators=10), 0.5722473791749938)\n",
      "(RandomForestClassifier(max_depth=10, n_estimators=10), 0.5722473791749938)\n",
      "(RandomForestClassifier(max_depth=10, n_estimators=10), 0.5722473791749938)\n",
      "(RandomForestClassifier(max_depth=10, n_estimators=10), 0.5722473791749938)\n",
      "(RandomForestClassifier(max_depth=10, n_estimators=10), 0.5722473791749938)\n",
      "(RandomForestClassifier(max_depth=10, n_estimators=20), 0.6346609545227576)\n",
      "(RandomForestClassifier(max_depth=10, n_estimators=10), 0.5722473791749938)\n",
      "(RandomForestClassifier(max_depth=10, n_estimators=10), 0.5722473791749938)\n",
      "(RandomForestClassifier(max_depth=10, n_estimators=10), 0.5722473791749938)\n",
      "(RandomForestClassifier(max_depth=10, n_estimators=10), 0.5722473791749938)\n",
      "(RandomForestClassifier(max_depth=10, n_estimators=10), 0.5722473791749938)\n",
      "(RandomForestClassifier(max_depth=10, n_estimators=10), 0.5722473791749938)\n",
      "(RandomForestClassifier(max_depth=10, n_estimators=10), 0.5722473791749938)\n",
      "(RandomForestClassifier(max_depth=10, n_estimators=10), 0.5722473791749938)\n",
      "(RandomForestClassifier(max_depth=10, n_estimators=10), 0.5722473791749938)\n",
      "(RandomForestClassifier(max_depth=10, n_estimators=10), 0.5722473791749938)\n",
      "(RandomForestClassifier(max_depth=10, n_estimators=10), 0.5722473791749938)\n",
      "(RandomForestClassifier(max_depth=10, n_estimators=10), 0.5722473791749938)\n",
      "(RandomForestClassifier(max_depth=10, n_estimators=10), 0.5722473791749938)\n",
      "(RandomForestClassifier(max_depth=10, n_estimators=10), 0.5722473791749938)\n",
      "(RandomForestClassifier(max_depth=10, n_estimators=10), 0.5722473791749938)\n",
      "(RandomForestClassifier(max_depth=10, n_estimators=10), 0.5722473791749938)\n",
      "(RandomForestClassifier(max_depth=10, n_estimators=10), 0.5722473791749938)\n",
      "(RandomForestClassifier(max_depth=10, n_estimators=20), 0.6346609545227576)\n",
      "(RandomForestClassifier(max_depth=10, n_estimators=10), 0.5722473791749938)\n",
      "(RandomForestClassifier(max_depth=10, n_estimators=10), 0.5722473791749938)\n",
      "(RandomForestClassifier(max_depth=10, n_estimators=10), 0.5722473791749938)\n",
      "(RandomForestClassifier(max_depth=10, n_estimators=10), 0.5722473791749938)\n",
      "(RandomForestClassifier(max_depth=10, n_estimators=10), 0.5722473791749938)\n",
      "(RandomForestClassifier(max_depth=10, n_estimators=10), 0.5722473791749938)\n",
      "(RandomForestClassifier(max_depth=10, n_estimators=10), 0.5722473791749938)\n",
      "(RandomForestClassifier(max_depth=10, n_estimators=10), 0.5722473791749938)\n",
      "(RandomForestClassifier(max_depth=10, n_estimators=10), 0.5722473791749938)\n",
      "(RandomForestClassifier(max_depth=10, n_estimators=10), 0.5722473791749938)\n",
      "(RandomForestClassifier(max_depth=10, n_estimators=10), 0.5722473791749938)\n",
      "(RandomForestClassifier(max_depth=10, n_estimators=10), 0.5722473791749938)\n",
      "(RandomForestClassifier(max_depth=10, n_estimators=10), 0.5722473791749938)\n",
      "(RandomForestClassifier(max_depth=10, n_estimators=10), 0.5722473791749938)\n",
      "(RandomForestClassifier(max_depth=10, n_estimators=10), 0.5722473791749938)\n",
      "(RandomForestClassifier(max_depth=10, n_estimators=10), 0.5722473791749938)\n",
      "(RandomForestClassifier(max_depth=10, n_estimators=10), 0.5722473791749938)\n",
      "(RandomForestClassifier(max_depth=10, n_estimators=20), 0.6346609545227576)\n",
      "(RandomForestClassifier(max_depth=10, n_estimators=10), 0.5722473791749938)\n",
      "(RandomForestClassifier(max_depth=10, n_estimators=10), 0.5722473791749938)\n",
      "(RandomForestClassifier(max_depth=10, n_estimators=10), 0.5722473791749938)\n",
      "(RandomForestClassifier(max_depth=10, n_estimators=10), 0.5722473791749938)\n",
      "(RandomForestClassifier(max_depth=10, n_estimators=10), 0.5722473791749938)\n",
      "(RandomForestClassifier(max_depth=10, n_estimators=10), 0.5722473791749938)\n",
      "(RandomForestClassifier(max_depth=10, n_estimators=10), 0.5722473791749938)\n",
      "(RandomForestClassifier(max_depth=10, n_estimators=10), 0.5722473791749938)\n",
      "(RandomForestClassifier(max_depth=10, n_estimators=10), 0.5722473791749938)\n",
      "(RandomForestClassifier(max_depth=10, n_estimators=10), 0.5722473791749938)\n",
      "(RandomForestClassifier(max_depth=10, n_estimators=10), 0.5722473791749938)\n",
      "(RandomForestClassifier(max_depth=10, n_estimators=10), 0.5722473791749938)\n",
      "(RandomForestClassifier(max_depth=10, n_estimators=10), 0.5722473791749938)\n",
      "(RandomForestClassifier(max_depth=10, n_estimators=10), 0.5722473791749938)\n",
      "(RandomForestClassifier(max_depth=10, n_estimators=10), 0.5722473791749938)\n",
      "(RandomForestClassifier(max_depth=10, n_estimators=10), 0.5722473791749938)\n",
      "(RandomForestClassifier(max_depth=10, n_estimators=10), 0.5722473791749938)\n",
      "(RandomForestClassifier(max_depth=10, n_estimators=10), 0.5722473791749938)\n",
      "(RandomForestClassifier(max_depth=10, n_estimators=10), 0.5722473791749938)\n",
      "(RandomForestClassifier(max_depth=10, n_estimators=10), 0.5722473791749938)\n",
      "(RandomForestClassifier(max_depth=10, n_estimators=10), 0.5722473791749938)\n",
      "(RandomForestClassifier(max_depth=10, n_estimators=10), 0.5722473791749938)\n",
      "(RandomForestClassifier(max_depth=10, n_estimators=10), 0.5722473791749938)\n",
      "(RandomForestClassifier(max_depth=10, n_estimators=10), 0.5722473791749938)\n",
      "(RandomForestClassifier(max_depth=10, n_estimators=10), 0.5722473791749938)\n",
      "(RandomForestClassifier(max_depth=10, n_estimators=10), 0.5722473791749938)\n",
      "(RandomForestClassifier(max_depth=10, n_estimators=10), 0.5722473791749938)\n",
      "(RandomForestClassifier(max_depth=10, n_estimators=10), 0.5722473791749938)\n",
      "(RandomForestClassifier(max_depth=10, n_estimators=10), 0.5722473791749938)\n",
      "(RandomForestClassifier(max_depth=10, n_estimators=10), 0.5722473791749938)\n",
      "(RandomForestClassifier(max_depth=10, n_estimators=10), 0.5722473791749938)\n",
      "(RandomForestClassifier(max_depth=10, n_estimators=10), 0.5722473791749938)\n",
      "(RandomForestClassifier(max_depth=10, n_estimators=10), 0.5722473791749938)\n",
      "(RandomForestClassifier(max_depth=10, n_estimators=10), 0.5722473791749938)\n",
      "(RandomForestClassifier(max_depth=10, n_estimators=10), 0.5722473791749938)\n",
      "(RandomForestClassifier(max_depth=10, n_estimators=20), 0.6346609545227576)\n",
      "(RandomForestClassifier(max_depth=10, n_estimators=10), 0.5722473791749938)\n",
      "(RandomForestClassifier(max_depth=10, n_estimators=10), 0.5722473791749938)\n",
      "(RandomForestClassifier(max_depth=10, n_estimators=10), 0.5722473791749938)\n",
      "(RandomForestClassifier(max_depth=10, n_estimators=10), 0.5722473791749938)\n",
      "(RandomForestClassifier(max_depth=10, n_estimators=10), 0.5722473791749938)\n",
      "(RandomForestClassifier(max_depth=10, n_estimators=10), 0.5722473791749938)\n",
      "(RandomForestClassifier(max_depth=10, n_estimators=10), 0.5722473791749938)\n",
      "(RandomForestClassifier(max_depth=10, n_estimators=10), 0.5722473791749938)\n",
      "(RandomForestClassifier(max_depth=10, n_estimators=10), 0.5722473791749938)\n",
      "(RandomForestClassifier(max_depth=10, n_estimators=10), 0.5722473791749938)\n",
      "(RandomForestClassifier(max_depth=10, n_estimators=10), 0.5722473791749938)\n",
      "(RandomForestClassifier(max_depth=10, n_estimators=10), 0.5722473791749938)\n",
      "(RandomForestClassifier(max_depth=10, n_estimators=10), 0.5722473791749938)\n",
      "(RandomForestClassifier(max_depth=10, n_estimators=10), 0.5722473791749938)\n",
      "(RandomForestClassifier(max_depth=10, n_estimators=10), 0.5722473791749938)\n",
      "(RandomForestClassifier(max_depth=10, n_estimators=10), 0.5722473791749938)\n",
      "(RandomForestClassifier(max_depth=10, n_estimators=10), 0.5722473791749938)\n",
      "(RandomForestClassifier(max_depth=10, n_estimators=20), 0.6346609545227576)\n",
      "(RandomForestClassifier(max_depth=10, n_estimators=10), 0.5722473791749938)\n",
      "(RandomForestClassifier(max_depth=10, n_estimators=10), 0.5722473791749938)\n",
      "(RandomForestClassifier(max_depth=10, n_estimators=10), 0.5722473791749938)\n",
      "(RandomForestClassifier(max_depth=10, n_estimators=10), 0.5722473791749938)\n",
      "(RandomForestClassifier(max_depth=10, n_estimators=10), 0.5722473791749938)\n",
      "(RandomForestClassifier(max_depth=10, n_estimators=10), 0.5722473791749938)\n",
      "(RandomForestClassifier(max_depth=10, n_estimators=10), 0.5722473791749938)\n",
      "(RandomForestClassifier(max_depth=10, n_estimators=10), 0.5722473791749938)\n",
      "(RandomForestClassifier(max_depth=10, n_estimators=10), 0.5722473791749938)\n",
      "(RandomForestClassifier(max_depth=10, n_estimators=10), 0.5722473791749938)\n",
      "(RandomForestClassifier(max_depth=10, n_estimators=10), 0.5722473791749938)\n",
      "(RandomForestClassifier(max_depth=10, n_estimators=10), 0.5722473791749938)\n",
      "(RandomForestClassifier(max_depth=10, n_estimators=10), 0.5722473791749938)\n",
      "(RandomForestClassifier(max_depth=10, n_estimators=10), 0.5722473791749938)\n",
      "(RandomForestClassifier(max_depth=10, n_estimators=10), 0.5722473791749938)\n",
      "(RandomForestClassifier(max_depth=10, n_estimators=10), 0.5722473791749938)\n",
      "(RandomForestClassifier(max_depth=10, n_estimators=10), 0.5722473791749938)\n",
      "(RandomForestClassifier(max_depth=10, n_estimators=10), 0.5722473791749938)\n",
      "(RandomForestClassifier(max_depth=10, n_estimators=10), 0.5722473791749938)\n",
      "(RandomForestClassifier(max_depth=10, n_estimators=10), 0.5722473791749938)\n",
      "(RandomForestClassifier(max_depth=10, n_estimators=10), 0.5722473791749938)\n",
      "(RandomForestClassifier(max_depth=10, n_estimators=10), 0.5722473791749938)\n",
      "(RandomForestClassifier(max_depth=10, n_estimators=10), 0.5722473791749938)\n",
      "(RandomForestClassifier(max_depth=10, n_estimators=10), 0.5722473791749938)\n",
      "(RandomForestClassifier(max_depth=10, n_estimators=10), 0.5722473791749938)\n",
      "(RandomForestClassifier(max_depth=10, n_estimators=10), 0.5722473791749938)\n",
      "(RandomForestClassifier(max_depth=10, n_estimators=10), 0.5722473791749938)\n",
      "(RandomForestClassifier(max_depth=10, n_estimators=10), 0.5722473791749938)\n",
      "(RandomForestClassifier(max_depth=10, n_estimators=10), 0.5722473791749938)\n",
      "(RandomForestClassifier(max_depth=10, n_estimators=10), 0.5722473791749938)\n"
     ]
    },
    {
     "name": "stderr",
     "output_type": "stream",
     "text": [
      "/var/folders/2q/7qslh1r50qv5dxqpmmm9jcy00000gn/T/ipykernel_25683/1867443619.py:2: DeprecationWarning: In future, it will be an error for 'np.bool_' scalars to be interpreted as an index\n",
      "  print(clfs[i])\n"
     ]
    }
   ],
   "source": []
  },
  {
   "cell_type": "code",
   "execution_count": null,
   "metadata": {},
   "outputs": [],
   "source": []
  }
 ],
 "metadata": {
  "interpreter": {
   "hash": "afad3e5d60d609398ecce3ba468213674dfc27eda2bcdfe27a1dfdc5eca24277"
  },
  "kernelspec": {
   "display_name": "Python 3.10.2 ('data_science')",
   "language": "python",
   "name": "python3"
  },
  "language_info": {
   "codemirror_mode": {
    "name": "ipython",
    "version": 3
   },
   "file_extension": ".py",
   "mimetype": "text/x-python",
   "name": "python",
   "nbconvert_exporter": "python",
   "pygments_lexer": "ipython3",
   "version": "3.10.2"
  },
  "orig_nbformat": 4
 },
 "nbformat": 4,
 "nbformat_minor": 2
}
