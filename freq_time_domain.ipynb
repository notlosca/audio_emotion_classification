{
 "cells": [
  {
   "cell_type": "code",
   "execution_count": 1,
   "metadata": {},
   "outputs": [],
   "source": [
    "import librosa\n",
    "import numpy as np\n",
    "import pandas as pd\n",
    "import matplotlib.pyplot as plt\n",
    "import os\n",
    "import seaborn as sns\n",
    "from tqdm import tqdm"
   ]
  },
  {
   "cell_type": "code",
   "execution_count": 2,
   "metadata": {},
   "outputs": [
    {
     "data": {
      "text/html": [
       "<div>\n",
       "<style scoped>\n",
       "    .dataframe tbody tr th:only-of-type {\n",
       "        vertical-align: middle;\n",
       "    }\n",
       "\n",
       "    .dataframe tbody tr th {\n",
       "        vertical-align: top;\n",
       "    }\n",
       "\n",
       "    .dataframe thead th {\n",
       "        text-align: right;\n",
       "    }\n",
       "</style>\n",
       "<table border=\"1\" class=\"dataframe\">\n",
       "  <thead>\n",
       "    <tr style=\"text-align: right;\">\n",
       "      <th></th>\n",
       "      <th>emotion</th>\n",
       "      <th>filename</th>\n",
       "      <th>encoded_emotion</th>\n",
       "    </tr>\n",
       "  </thead>\n",
       "  <tbody>\n",
       "    <tr>\n",
       "      <th>0</th>\n",
       "      <td>Disgusted</td>\n",
       "      <td>0.wav</td>\n",
       "      <td>0</td>\n",
       "    </tr>\n",
       "    <tr>\n",
       "      <th>1</th>\n",
       "      <td>Fearful</td>\n",
       "      <td>1.wav</td>\n",
       "      <td>1</td>\n",
       "    </tr>\n",
       "    <tr>\n",
       "      <th>2</th>\n",
       "      <td>Neutral</td>\n",
       "      <td>2.wav</td>\n",
       "      <td>2</td>\n",
       "    </tr>\n",
       "    <tr>\n",
       "      <th>3</th>\n",
       "      <td>Happy</td>\n",
       "      <td>3.wav</td>\n",
       "      <td>3</td>\n",
       "    </tr>\n",
       "    <tr>\n",
       "      <th>4</th>\n",
       "      <td>Angry</td>\n",
       "      <td>4.wav</td>\n",
       "      <td>4</td>\n",
       "    </tr>\n",
       "  </tbody>\n",
       "</table>\n",
       "</div>"
      ],
      "text/plain": [
       "     emotion filename  encoded_emotion\n",
       "0  Disgusted    0.wav                0\n",
       "1    Fearful    1.wav                1\n",
       "2    Neutral    2.wav                2\n",
       "3      Happy    3.wav                3\n",
       "4      Angry    4.wav                4"
      ]
     },
     "execution_count": 2,
     "metadata": {},
     "output_type": "execute_result"
    }
   ],
   "source": [
    "path = './summer_2022_project/'\n",
    "audio_path = path + 'audio/'\n",
    "\n",
    "df = pd.read_csv(path+'development.csv', dtype={'filename':'string', 'emotion':'string'}) # set string as type\n",
    "eval_df = pd.read_csv(path+'evaluation.csv', dtype={'filename':'string'}) # set string as type\n",
    "\n",
    "labels = df.emotion.unique()\n",
    "labels_dict = {v:k for k,v in enumerate(labels)} #needed to transform categorical labels\n",
    "\n",
    "df['encoded_emotion'] = df['emotion'].map(labels_dict)\n",
    "df.head()"
   ]
  },
  {
   "cell_type": "markdown",
   "metadata": {},
   "source": [
    "--------\n",
    "# Librosa study"
   ]
  },
  {
   "cell_type": "code",
   "execution_count": 3,
   "metadata": {},
   "outputs": [
    {
     "data": {
      "text/plain": [
       "8000"
      ]
     },
     "execution_count": 3,
     "metadata": {},
     "output_type": "execute_result"
    }
   ],
   "source": [
    "y, sr = librosa.load(audio_path+'/0.wav', sr=None) # try to resample and see if it works better\n",
    "# y, sr = librosa.load(audio_path+'/0.wav') # resample to 22050\n",
    "sr"
   ]
  },
  {
   "cell_type": "code",
   "execution_count": 4,
   "metadata": {},
   "outputs": [
    {
     "data": {
      "text/plain": [
       "2.169"
      ]
     },
     "execution_count": 4,
     "metadata": {},
     "output_type": "execute_result"
    }
   ],
   "source": [
    "duration = y.shape[0]/sr\n",
    "duration"
   ]
  },
  {
   "cell_type": "code",
   "execution_count": 5,
   "metadata": {},
   "outputs": [
    {
     "data": {
      "text/plain": [
       "(13, 34)"
      ]
     },
     "execution_count": 5,
     "metadata": {},
     "output_type": "execute_result"
    }
   ],
   "source": [
    "mfccs = librosa.feature.mfcc(y=y, sr=sr, n_mfcc=13)\n",
    "mfccs.shape \n",
    "# shape[1] changes due to time.\n",
    "# Hence we need something that will be coherent between different audio files"
   ]
  },
  {
   "cell_type": "code",
   "execution_count": 6,
   "metadata": {},
   "outputs": [
    {
     "data": {
      "text/plain": [
       "array([121.12228  ,  14.878011 ,  43.41631  ,  10.420819 ,  19.91728  ,\n",
       "        12.009927 ,   7.8241935,   7.469521 ,  10.892664 ,  11.176961 ,\n",
       "         6.5190754,   6.111745 ,   5.827874 ], dtype=float32)"
      ]
     },
     "execution_count": 6,
     "metadata": {},
     "output_type": "execute_result"
    }
   ],
   "source": [
    "mfccs.mean(axis=1)\n",
    "mfccs.std(axis=1)"
   ]
  },
  {
   "cell_type": "code",
   "execution_count": 7,
   "metadata": {},
   "outputs": [
    {
     "data": {
      "text/plain": [
       "(13, 34)"
      ]
     },
     "execution_count": 7,
     "metadata": {},
     "output_type": "execute_result"
    }
   ],
   "source": [
    "delta_mfcc = librosa.feature.delta(mfccs, order=1)\n",
    "delta2_mfcc = librosa.feature.delta(mfccs, order=2)\n",
    "delta_mfcc.shape"
   ]
  },
  {
   "cell_type": "code",
   "execution_count": 8,
   "metadata": {},
   "outputs": [
    {
     "data": {
      "text/plain": [
       "(13,)"
      ]
     },
     "execution_count": 8,
     "metadata": {},
     "output_type": "execute_result"
    }
   ],
   "source": [
    "np.mean(delta_mfcc, axis=- 1).shape"
   ]
  },
  {
   "cell_type": "code",
   "execution_count": 9,
   "metadata": {},
   "outputs": [
    {
     "data": {
      "text/plain": [
       "(1, 34)"
      ]
     },
     "execution_count": 9,
     "metadata": {},
     "output_type": "execute_result"
    }
   ],
   "source": [
    "zcr = librosa.feature.zero_crossing_rate(y)\n",
    "zcr.shape"
   ]
  },
  {
   "cell_type": "code",
   "execution_count": 10,
   "metadata": {},
   "outputs": [
    {
     "data": {
      "text/plain": [
       "array([0.04388731])"
      ]
     },
     "execution_count": 10,
     "metadata": {},
     "output_type": "execute_result"
    }
   ],
   "source": [
    "zcr.mean(axis=1)\n",
    "zcr.std(axis=1)"
   ]
  },
  {
   "cell_type": "markdown",
   "metadata": {},
   "source": [
    "---------------"
   ]
  },
  {
   "cell_type": "markdown",
   "metadata": {},
   "source": [
    "# use mean and std of mfccs, delta, delta2 (mean along time axis) and zcr + duration"
   ]
  },
  {
   "cell_type": "code",
   "execution_count": 28,
   "metadata": {},
   "outputs": [
    {
     "name": "stderr",
     "output_type": "stream",
     "text": [
      "100%|██████████| 9597/9597 [01:51<00:00, 85.75it/s] \n"
     ]
    },
    {
     "data": {
      "text/html": [
       "<div>\n",
       "<style scoped>\n",
       "    .dataframe tbody tr th:only-of-type {\n",
       "        vertical-align: middle;\n",
       "    }\n",
       "\n",
       "    .dataframe tbody tr th {\n",
       "        vertical-align: top;\n",
       "    }\n",
       "\n",
       "    .dataframe thead th {\n",
       "        text-align: right;\n",
       "    }\n",
       "</style>\n",
       "<table border=\"1\" class=\"dataframe\">\n",
       "  <thead>\n",
       "    <tr style=\"text-align: right;\">\n",
       "      <th></th>\n",
       "      <th>duration</th>\n",
       "      <th>mfccs_mean</th>\n",
       "      <th>mfccs_std</th>\n",
       "      <th>delta_mfcc_mean</th>\n",
       "      <th>delta_mfcc_std</th>\n",
       "      <th>delta2_mfcc_mean</th>\n",
       "      <th>delta2_mfcc_std</th>\n",
       "      <th>zcr_mean</th>\n",
       "      <th>zcr_std</th>\n",
       "      <th>encoded_emotion</th>\n",
       "    </tr>\n",
       "  </thead>\n",
       "  <tbody>\n",
       "    <tr>\n",
       "      <th>0</th>\n",
       "      <td>2.169000</td>\n",
       "      <td>[-317.81097, 130.70448, -12.395517, 30.511158,...</td>\n",
       "      <td>[121.12228, 14.878011, 43.41631, 10.420819, 19...</td>\n",
       "      <td>[-0.8474461, 0.09749135, 0.33125877, -0.014412...</td>\n",
       "      <td>[27.83217, 2.1818287, 11.493292, 2.925932, 3.6...</td>\n",
       "      <td>[2.4709852, -0.6889033, -0.926084, -0.13175406...</td>\n",
       "      <td>[13.471112, 2.5428102, 5.78616, 1.4316927, 1.4...</td>\n",
       "      <td>0.101017</td>\n",
       "      <td>0.043887</td>\n",
       "      <td>0</td>\n",
       "    </tr>\n",
       "    <tr>\n",
       "      <th>1</th>\n",
       "      <td>2.669500</td>\n",
       "      <td>[-396.10388, 144.79655, 18.632975, 41.45097, -...</td>\n",
       "      <td>[56.79848, 17.845198, 25.344776, 11.786258, 14...</td>\n",
       "      <td>[0.15239239, -0.14539853, 0.1898662, -0.042617...</td>\n",
       "      <td>[9.222635, 3.3245676, 5.5552764, 2.3359957, 3....</td>\n",
       "      <td>[0.024261782, -0.22617248, 0.15344347, -0.0939...</td>\n",
       "      <td>[4.472004, 1.7439122, 3.423194, 1.8626183, 2.1...</td>\n",
       "      <td>0.067057</td>\n",
       "      <td>0.0188</td>\n",
       "      <td>1</td>\n",
       "    </tr>\n",
       "    <tr>\n",
       "      <th>2</th>\n",
       "      <td>3.837375</td>\n",
       "      <td>[-556.75964, 61.434036, -2.0914085, 13.791684,...</td>\n",
       "      <td>[204.68938, 48.95614, 32.23909, 19.827524, 20....</td>\n",
       "      <td>[0.05304133, 0.07402297, 0.07117597, 0.0667230...</td>\n",
       "      <td>[29.193336, 6.9536414, 6.429919, 4.2542844, 3....</td>\n",
       "      <td>[0.012825201, 0.017571567, 0.01579771, 0.01324...</td>\n",
       "      <td>[14.257467, 3.3208814, 5.055201, 2.933674, 2.2...</td>\n",
       "      <td>0.081445</td>\n",
       "      <td>0.052005</td>\n",
       "      <td>2</td>\n",
       "    </tr>\n",
       "    <tr>\n",
       "      <th>3</th>\n",
       "      <td>3.403625</td>\n",
       "      <td>[-570.33844, 53.714615, -5.7283487, 19.4942, -...</td>\n",
       "      <td>[229.19054, 38.00371, 32.08954, 20.652245, 27....</td>\n",
       "      <td>[-0.40987745, -0.12593555, 0.17347701, -0.0015...</td>\n",
       "      <td>[30.91453, 5.997112, 5.7959046, 4.2375636, 4.5...</td>\n",
       "      <td>[0.023708176, 0.0153127685, -0.0082633905, -0....</td>\n",
       "      <td>[12.5489645, 2.93022, 3.838187, 3.4667785, 2.7...</td>\n",
       "      <td>0.094916</td>\n",
       "      <td>0.048519</td>\n",
       "      <td>3</td>\n",
       "    </tr>\n",
       "    <tr>\n",
       "      <th>4</th>\n",
       "      <td>2.869750</td>\n",
       "      <td>[-167.22997, 97.66535, -14.925374, 16.654722, ...</td>\n",
       "      <td>[180.73991, 27.160816, 53.352364, 30.935242, 3...</td>\n",
       "      <td>[-0.4098132, -0.3095212, 0.13756083, 0.3111525...</td>\n",
       "      <td>[34.375626, 3.8496368, 11.931849, 7.0022345, 6...</td>\n",
       "      <td>[2.5584428, -0.2507055, -1.1245984, -0.2396748...</td>\n",
       "      <td>[16.160292, 2.720585, 6.601379, 3.5213737, 2.7...</td>\n",
       "      <td>0.123644</td>\n",
       "      <td>0.052133</td>\n",
       "      <td>4</td>\n",
       "    </tr>\n",
       "  </tbody>\n",
       "</table>\n",
       "</div>"
      ],
      "text/plain": [
       "   duration                                         mfccs_mean  \\\n",
       "0  2.169000  [-317.81097, 130.70448, -12.395517, 30.511158,...   \n",
       "1  2.669500  [-396.10388, 144.79655, 18.632975, 41.45097, -...   \n",
       "2  3.837375  [-556.75964, 61.434036, -2.0914085, 13.791684,...   \n",
       "3  3.403625  [-570.33844, 53.714615, -5.7283487, 19.4942, -...   \n",
       "4  2.869750  [-167.22997, 97.66535, -14.925374, 16.654722, ...   \n",
       "\n",
       "                                           mfccs_std  \\\n",
       "0  [121.12228, 14.878011, 43.41631, 10.420819, 19...   \n",
       "1  [56.79848, 17.845198, 25.344776, 11.786258, 14...   \n",
       "2  [204.68938, 48.95614, 32.23909, 19.827524, 20....   \n",
       "3  [229.19054, 38.00371, 32.08954, 20.652245, 27....   \n",
       "4  [180.73991, 27.160816, 53.352364, 30.935242, 3...   \n",
       "\n",
       "                                     delta_mfcc_mean  \\\n",
       "0  [-0.8474461, 0.09749135, 0.33125877, -0.014412...   \n",
       "1  [0.15239239, -0.14539853, 0.1898662, -0.042617...   \n",
       "2  [0.05304133, 0.07402297, 0.07117597, 0.0667230...   \n",
       "3  [-0.40987745, -0.12593555, 0.17347701, -0.0015...   \n",
       "4  [-0.4098132, -0.3095212, 0.13756083, 0.3111525...   \n",
       "\n",
       "                                      delta_mfcc_std  \\\n",
       "0  [27.83217, 2.1818287, 11.493292, 2.925932, 3.6...   \n",
       "1  [9.222635, 3.3245676, 5.5552764, 2.3359957, 3....   \n",
       "2  [29.193336, 6.9536414, 6.429919, 4.2542844, 3....   \n",
       "3  [30.91453, 5.997112, 5.7959046, 4.2375636, 4.5...   \n",
       "4  [34.375626, 3.8496368, 11.931849, 7.0022345, 6...   \n",
       "\n",
       "                                    delta2_mfcc_mean  \\\n",
       "0  [2.4709852, -0.6889033, -0.926084, -0.13175406...   \n",
       "1  [0.024261782, -0.22617248, 0.15344347, -0.0939...   \n",
       "2  [0.012825201, 0.017571567, 0.01579771, 0.01324...   \n",
       "3  [0.023708176, 0.0153127685, -0.0082633905, -0....   \n",
       "4  [2.5584428, -0.2507055, -1.1245984, -0.2396748...   \n",
       "\n",
       "                                     delta2_mfcc_std  zcr_mean   zcr_std  \\\n",
       "0  [13.471112, 2.5428102, 5.78616, 1.4316927, 1.4...  0.101017  0.043887   \n",
       "1  [4.472004, 1.7439122, 3.423194, 1.8626183, 2.1...  0.067057    0.0188   \n",
       "2  [14.257467, 3.3208814, 5.055201, 2.933674, 2.2...  0.081445  0.052005   \n",
       "3  [12.5489645, 2.93022, 3.838187, 3.4667785, 2.7...  0.094916  0.048519   \n",
       "4  [16.160292, 2.720585, 6.601379, 3.5213737, 2.7...  0.123644  0.052133   \n",
       "\n",
       "   encoded_emotion  \n",
       "0                0  \n",
       "1                1  \n",
       "2                2  \n",
       "3                3  \n",
       "4                4  "
      ]
     },
     "execution_count": 28,
     "metadata": {},
     "output_type": "execute_result"
    }
   ],
   "source": [
    "d = dict()\n",
    "for filename in tqdm(df.filename):\n",
    "    d1 = dict()\n",
    "    y, sr = librosa.load(audio_path+filename, sr=None)\n",
    "    d1['duration'] = y.shape[0]/sr\n",
    "    mfccs = librosa.feature.mfcc(y=y, sr=sr, n_mfcc=13)\n",
    "    d1['mfccs_mean'] = mfccs.mean(axis=-1)\n",
    "    d1['mfccs_std'] = mfccs.std(axis=-1)\n",
    "    d1['delta_mfcc_mean'] = librosa.feature.delta(mfccs, order=1).mean(axis=-1)\n",
    "    d1['delta_mfcc_std'] = librosa.feature.delta(mfccs, order=1).std(axis=-1)\n",
    "    d1['delta2_mfcc_mean'] = librosa.feature.delta(mfccs, order=2).mean(axis=-1)\n",
    "    d1['delta2_mfcc_std'] = librosa.feature.delta(mfccs, order=2).std(axis=-1)\n",
    "    d1['zcr_mean'] = librosa.feature.zero_crossing_rate(y).mean(axis=-1)[0]\n",
    "    d1['zcr_std'] = librosa.feature.zero_crossing_rate(y).std(axis=-1)[0]\n",
    "    d[(int)(filename.split('.')[0])] = d1\n",
    "\n",
    "temp_df = pd.DataFrame.from_dict(d).T    \n",
    "\n",
    "temp_df['encoded_emotion'] = df.encoded_emotion\n",
    "#temp_df['max_sample'] = temp_df['samples'].map(lambda x: max(x))\n",
    "temp_df = temp_df.astype({'duration':float})\n",
    "temp_df.head()"
   ]
  },
  {
   "cell_type": "code",
   "execution_count": 72,
   "metadata": {},
   "outputs": [
    {
     "data": {
      "text/plain": [
       "Index(['duration', 'mfccs_mean', 'mfccs_std', 'delta_mfcc_mean',\n",
       "       'delta_mfcc_std', 'delta2_mfcc_mean', 'delta2_mfcc_std', 'zcr_mean',\n",
       "       'zcr_std', 'encoded_emotion'],\n",
       "      dtype='object')"
      ]
     },
     "execution_count": 72,
     "metadata": {},
     "output_type": "execute_result"
    }
   ],
   "source": [
    "temp_df.columns"
   ]
  },
  {
   "cell_type": "code",
   "execution_count": 79,
   "metadata": {},
   "outputs": [
    {
     "data": {
      "text/html": [
       "<div>\n",
       "<style scoped>\n",
       "    .dataframe tbody tr th:only-of-type {\n",
       "        vertical-align: middle;\n",
       "    }\n",
       "\n",
       "    .dataframe tbody tr th {\n",
       "        vertical-align: top;\n",
       "    }\n",
       "\n",
       "    .dataframe thead th {\n",
       "        text-align: right;\n",
       "    }\n",
       "</style>\n",
       "<table border=\"1\" class=\"dataframe\">\n",
       "  <thead>\n",
       "    <tr style=\"text-align: right;\">\n",
       "      <th></th>\n",
       "      <th>mfccs_mean_0</th>\n",
       "      <th>mfccs_std_0</th>\n",
       "      <th>delta_mfcc_mean_0</th>\n",
       "      <th>delta_mfcc_std_0</th>\n",
       "      <th>delta2_mfcc_mean_0</th>\n",
       "      <th>delta2_mfcc_std_0</th>\n",
       "      <th>mfccs_mean_1</th>\n",
       "      <th>mfccs_std_1</th>\n",
       "      <th>delta_mfcc_mean_1</th>\n",
       "      <th>delta_mfcc_std_1</th>\n",
       "      <th>...</th>\n",
       "      <th>mfccs_mean_12</th>\n",
       "      <th>mfccs_std_12</th>\n",
       "      <th>delta_mfcc_mean_12</th>\n",
       "      <th>delta_mfcc_std_12</th>\n",
       "      <th>delta2_mfcc_mean_12</th>\n",
       "      <th>delta2_mfcc_std_12</th>\n",
       "      <th>duration</th>\n",
       "      <th>zcr_mean</th>\n",
       "      <th>zcr_std</th>\n",
       "      <th>encoded_emotion</th>\n",
       "    </tr>\n",
       "  </thead>\n",
       "  <tbody>\n",
       "    <tr>\n",
       "      <th>0</th>\n",
       "      <td>13.471112</td>\n",
       "      <td>13.471112</td>\n",
       "      <td>13.471112</td>\n",
       "      <td>13.471112</td>\n",
       "      <td>13.471112</td>\n",
       "      <td>13.471112</td>\n",
       "      <td>2.542810</td>\n",
       "      <td>2.542810</td>\n",
       "      <td>2.542810</td>\n",
       "      <td>2.542810</td>\n",
       "      <td>...</td>\n",
       "      <td>0.861669</td>\n",
       "      <td>0.861669</td>\n",
       "      <td>0.861669</td>\n",
       "      <td>0.861669</td>\n",
       "      <td>0.861669</td>\n",
       "      <td>0.861669</td>\n",
       "      <td>2.169000</td>\n",
       "      <td>0.101017</td>\n",
       "      <td>0.043887</td>\n",
       "      <td>0</td>\n",
       "    </tr>\n",
       "    <tr>\n",
       "      <th>1</th>\n",
       "      <td>4.472004</td>\n",
       "      <td>4.472004</td>\n",
       "      <td>4.472004</td>\n",
       "      <td>4.472004</td>\n",
       "      <td>4.472004</td>\n",
       "      <td>4.472004</td>\n",
       "      <td>1.743912</td>\n",
       "      <td>1.743912</td>\n",
       "      <td>1.743912</td>\n",
       "      <td>1.743912</td>\n",
       "      <td>...</td>\n",
       "      <td>0.782062</td>\n",
       "      <td>0.782062</td>\n",
       "      <td>0.782062</td>\n",
       "      <td>0.782062</td>\n",
       "      <td>0.782062</td>\n",
       "      <td>0.782062</td>\n",
       "      <td>2.669500</td>\n",
       "      <td>0.067057</td>\n",
       "      <td>0.0188</td>\n",
       "      <td>1</td>\n",
       "    </tr>\n",
       "    <tr>\n",
       "      <th>2</th>\n",
       "      <td>14.257467</td>\n",
       "      <td>14.257467</td>\n",
       "      <td>14.257467</td>\n",
       "      <td>14.257467</td>\n",
       "      <td>14.257467</td>\n",
       "      <td>14.257467</td>\n",
       "      <td>3.320881</td>\n",
       "      <td>3.320881</td>\n",
       "      <td>3.320881</td>\n",
       "      <td>3.320881</td>\n",
       "      <td>...</td>\n",
       "      <td>0.970723</td>\n",
       "      <td>0.970723</td>\n",
       "      <td>0.970723</td>\n",
       "      <td>0.970723</td>\n",
       "      <td>0.970723</td>\n",
       "      <td>0.970723</td>\n",
       "      <td>3.837375</td>\n",
       "      <td>0.081445</td>\n",
       "      <td>0.052005</td>\n",
       "      <td>2</td>\n",
       "    </tr>\n",
       "    <tr>\n",
       "      <th>3</th>\n",
       "      <td>12.548965</td>\n",
       "      <td>12.548965</td>\n",
       "      <td>12.548965</td>\n",
       "      <td>12.548965</td>\n",
       "      <td>12.548965</td>\n",
       "      <td>12.548965</td>\n",
       "      <td>2.930220</td>\n",
       "      <td>2.930220</td>\n",
       "      <td>2.930220</td>\n",
       "      <td>2.930220</td>\n",
       "      <td>...</td>\n",
       "      <td>0.902798</td>\n",
       "      <td>0.902798</td>\n",
       "      <td>0.902798</td>\n",
       "      <td>0.902798</td>\n",
       "      <td>0.902798</td>\n",
       "      <td>0.902798</td>\n",
       "      <td>3.403625</td>\n",
       "      <td>0.094916</td>\n",
       "      <td>0.048519</td>\n",
       "      <td>3</td>\n",
       "    </tr>\n",
       "    <tr>\n",
       "      <th>4</th>\n",
       "      <td>16.160292</td>\n",
       "      <td>16.160292</td>\n",
       "      <td>16.160292</td>\n",
       "      <td>16.160292</td>\n",
       "      <td>16.160292</td>\n",
       "      <td>16.160292</td>\n",
       "      <td>2.720585</td>\n",
       "      <td>2.720585</td>\n",
       "      <td>2.720585</td>\n",
       "      <td>2.720585</td>\n",
       "      <td>...</td>\n",
       "      <td>0.930767</td>\n",
       "      <td>0.930767</td>\n",
       "      <td>0.930767</td>\n",
       "      <td>0.930767</td>\n",
       "      <td>0.930767</td>\n",
       "      <td>0.930767</td>\n",
       "      <td>2.869750</td>\n",
       "      <td>0.123644</td>\n",
       "      <td>0.052133</td>\n",
       "      <td>4</td>\n",
       "    </tr>\n",
       "  </tbody>\n",
       "</table>\n",
       "<p>5 rows × 82 columns</p>\n",
       "</div>"
      ],
      "text/plain": [
       "   mfccs_mean_0  mfccs_std_0  delta_mfcc_mean_0  delta_mfcc_std_0  \\\n",
       "0     13.471112    13.471112          13.471112         13.471112   \n",
       "1      4.472004     4.472004           4.472004          4.472004   \n",
       "2     14.257467    14.257467          14.257467         14.257467   \n",
       "3     12.548965    12.548965          12.548965         12.548965   \n",
       "4     16.160292    16.160292          16.160292         16.160292   \n",
       "\n",
       "   delta2_mfcc_mean_0  delta2_mfcc_std_0  mfccs_mean_1  mfccs_std_1  \\\n",
       "0           13.471112          13.471112      2.542810     2.542810   \n",
       "1            4.472004           4.472004      1.743912     1.743912   \n",
       "2           14.257467          14.257467      3.320881     3.320881   \n",
       "3           12.548965          12.548965      2.930220     2.930220   \n",
       "4           16.160292          16.160292      2.720585     2.720585   \n",
       "\n",
       "   delta_mfcc_mean_1  delta_mfcc_std_1  ...  mfccs_mean_12  mfccs_std_12  \\\n",
       "0           2.542810          2.542810  ...       0.861669      0.861669   \n",
       "1           1.743912          1.743912  ...       0.782062      0.782062   \n",
       "2           3.320881          3.320881  ...       0.970723      0.970723   \n",
       "3           2.930220          2.930220  ...       0.902798      0.902798   \n",
       "4           2.720585          2.720585  ...       0.930767      0.930767   \n",
       "\n",
       "   delta_mfcc_mean_12  delta_mfcc_std_12  delta2_mfcc_mean_12  \\\n",
       "0            0.861669           0.861669             0.861669   \n",
       "1            0.782062           0.782062             0.782062   \n",
       "2            0.970723           0.970723             0.970723   \n",
       "3            0.902798           0.902798             0.902798   \n",
       "4            0.930767           0.930767             0.930767   \n",
       "\n",
       "   delta2_mfcc_std_12  duration  zcr_mean   zcr_std  encoded_emotion  \n",
       "0            0.861669  2.169000  0.101017  0.043887                0  \n",
       "1            0.782062  2.669500  0.067057    0.0188                1  \n",
       "2            0.970723  3.837375  0.081445  0.052005                2  \n",
       "3            0.902798  3.403625  0.094916  0.048519                3  \n",
       "4            0.930767  2.869750  0.123644  0.052133                4  \n",
       "\n",
       "[5 rows x 82 columns]"
      ]
     },
     "execution_count": 79,
     "metadata": {},
     "output_type": "execute_result"
    }
   ],
   "source": [
    "temp_df.columns\n",
    "col = ['mfccs_mean', 'mfccs_std', 'delta_mfcc_mean', 'delta_mfcc_std', 'delta2_mfcc_mean', 'delta2_mfcc_std']\n",
    "peffo = dict()\n",
    "sisghe = dict()\n",
    "for row in temp_df.index:\n",
    "    sisghe[row] = {f'{c}_{k}':v for k,v in enumerate(temp_df[c].loc[row]) for c in col}\n",
    "\n",
    "feature_df = pd.DataFrame.from_dict(sisghe).T\n",
    "feature_df['duration'] = temp_df.duration\n",
    "feature_df['zcr_mean'] = temp_df.zcr_mean\n",
    "feature_df['zcr_std'] = temp_df.zcr_std\n",
    "feature_df['encoded_emotion'] = temp_df.encoded_emotion\n",
    "\n",
    "feature_df.head()"
   ]
  },
  {
   "cell_type": "code",
   "execution_count": 77,
   "metadata": {},
   "outputs": [
    {
     "data": {
      "text/plain": [
       "82"
      ]
     },
     "execution_count": 77,
     "metadata": {},
     "output_type": "execute_result"
    }
   ],
   "source": [
    "tot_length = temp_df.mfccs_mean.loc[0].size + temp_df.mfccs_std.loc[0].size + temp_df.delta_mfcc_mean.loc[0].size + temp_df.delta_mfcc_std.loc[0].size + temp_df.delta2_mfcc_mean.loc[0].size + temp_df.delta2_mfcc_std.loc[0].size\n",
    "tot_length + 4 # checked"
   ]
  },
  {
   "cell_type": "code",
   "execution_count": 13,
   "metadata": {},
   "outputs": [],
   "source": [
    "from sklearn.model_selection import train_test_split, ParameterGrid\n",
    "from sklearn.ensemble import RandomForestClassifier\n",
    "\n",
    "from sklearn.metrics import f1_score\n",
    "\n",
    "np.random.seed(0) #to make experiments reproducible\n"
   ]
  },
  {
   "cell_type": "code",
   "execution_count": 88,
   "metadata": {},
   "outputs": [
    {
     "name": "stderr",
     "output_type": "stream",
     "text": [
      "  0%|          | 0/4 [00:00<?, ?it/s]"
     ]
    },
    {
     "name": "stdout",
     "output_type": "stream",
     "text": [
      "SMOTE(random_state=42)\n",
      "Fitting RF...\n",
      "Predicting using RF...\n",
      "RandomForestClassifier() 0.583017016084837\n",
      "Fitting SVC...\n",
      "Predicting using SVC...\n"
     ]
    },
    {
     "name": "stderr",
     "output_type": "stream",
     "text": [
      " 25%|██▌       | 1/4 [00:14<00:43, 14.43s/it]"
     ]
    },
    {
     "name": "stdout",
     "output_type": "stream",
     "text": [
      "SVC() 0.5270888576207117\n",
      "BorderlineSMOTE(random_state=42)\n",
      "Fitting RF...\n",
      "Predicting using RF...\n",
      "RandomForestClassifier() 0.5743402634472566\n",
      "Fitting SVC...\n",
      "Predicting using SVC...\n"
     ]
    },
    {
     "name": "stderr",
     "output_type": "stream",
     "text": [
      " 50%|█████     | 2/4 [00:29<00:30, 15.00s/it]"
     ]
    },
    {
     "name": "stdout",
     "output_type": "stream",
     "text": [
      "SVC() 0.5245943022498454\n",
      "SVMSMOTE(random_state=42)\n",
      "Fitting RF...\n",
      "Predicting using RF...\n",
      "RandomForestClassifier() 0.5774962454606364\n",
      "Fitting SVC...\n",
      "Predicting using SVC...\n"
     ]
    },
    {
     "name": "stderr",
     "output_type": "stream",
     "text": [
      " 75%|███████▌  | 3/4 [01:14<00:28, 28.60s/it]"
     ]
    },
    {
     "name": "stdout",
     "output_type": "stream",
     "text": [
      "SVC() 0.5240967349162368\n",
      "ADASYN(random_state=42, sampling_strategy='minority')\n",
      "Fitting RF...\n",
      "Predicting using RF...\n",
      "RandomForestClassifier() 0.5553939143279746\n",
      "Fitting SVC...\n",
      "Predicting using SVC...\n"
     ]
    },
    {
     "name": "stderr",
     "output_type": "stream",
     "text": [
      "100%|██████████| 4/4 [01:27<00:00, 21.89s/it]"
     ]
    },
    {
     "name": "stdout",
     "output_type": "stream",
     "text": [
      "SVC() 0.5250355019976605\n"
     ]
    },
    {
     "name": "stderr",
     "output_type": "stream",
     "text": [
      "\n"
     ]
    }
   ],
   "source": [
    "from imblearn.over_sampling import SMOTE\n",
    "from imblearn.over_sampling import BorderlineSMOTE\n",
    "from imblearn.over_sampling import SVMSMOTE\n",
    "from imblearn.over_sampling import ADASYN\n",
    "from imblearn.over_sampling import KMeansSMOTE\n",
    "\n",
    "from sklearn.preprocessing import MinMaxScaler\n",
    "from sklearn.svm import SVC \n",
    "\n",
    "np.random.seed(0) #to make experiments reproducible\n",
    "\n",
    "smote = SMOTE(random_state=42)\n",
    "blsmote = BorderlineSMOTE(random_state=42)\n",
    "svmsmote = SVMSMOTE(random_state=42)\n",
    "adasyn = ADASYN(random_state=42, sampling_strategy='minority')\n",
    "\n",
    "\n",
    "#print(ksmote.cluster_balance_threshold)\n",
    "#over_samplers = [smote, blsmote, svmsmote, adasyn, ksmote]\n",
    "over_samplers = [smote, blsmote, svmsmote, adasyn]\n",
    "\n",
    "for sm in tqdm(over_samplers):\n",
    "    print(sm)\n",
    "    X, y = feature_df[feature_df.columns[:-1]], feature_df[feature_df.columns[-1]]\n",
    "    X_res, y_res = sm.fit_resample(X,y)\n",
    "\n",
    "    minmax = MinMaxScaler()\n",
    "    svm_X_res = minmax.fit_transform(X_res)\n",
    "    \n",
    "    X_train, X_test, y_train, y_test = train_test_split(X_res, y_res, test_size=.2, random_state=42)\n",
    "    svm_X_train, svm_X_test, svm_y_train, svm_y_test = train_test_split(svm_X_res, y_res, test_size=.2, random_state=42)\n",
    "\n",
    "    y_train = y_train.astype(int)\n",
    "    y_test = y_test.astype(int)\n",
    "    \n",
    "    #rf = RandomForestClassifier(n_estimators=100, max_features='sqrt', max_depth=30).fit(X_train, y_train)\n",
    "    print('Fitting RF...')\n",
    "    rf = RandomForestClassifier().fit(X_train, y_train) # plain rf\n",
    "    print('Predicting using RF...')\n",
    "    preds = rf.predict(X_test)\n",
    "    score = f1_score(y_test, preds, average='macro')\n",
    "    print(rf, score)\n",
    "    \n",
    "    print('Fitting SVC...')\n",
    "    svm = SVC().fit(svm_X_train, y_train)\n",
    "    print('Predicting using SVC...')\n",
    "    svm_preds = svm.predict(svm_X_test)\n",
    "    svm_score = f1_score(y_test, svm_preds, average='macro')\n",
    "    print(svm, svm_score)"
   ]
  },
  {
   "cell_type": "markdown",
   "metadata": {},
   "source": [
    "--------------------\n",
    "# use mfccs as spectrograms and divide in blocks. Then mean and std"
   ]
  },
  {
   "cell_type": "code",
   "execution_count": 90,
   "metadata": {},
   "outputs": [
    {
     "name": "stderr",
     "output_type": "stream",
     "text": [
      "100%|██████████| 9597/9597 [01:41<00:00, 94.74it/s] \n"
     ]
    },
    {
     "data": {
      "text/html": [
       "<div>\n",
       "<style scoped>\n",
       "    .dataframe tbody tr th:only-of-type {\n",
       "        vertical-align: middle;\n",
       "    }\n",
       "\n",
       "    .dataframe tbody tr th {\n",
       "        vertical-align: top;\n",
       "    }\n",
       "\n",
       "    .dataframe thead th {\n",
       "        text-align: right;\n",
       "    }\n",
       "</style>\n",
       "<table border=\"1\" class=\"dataframe\">\n",
       "  <thead>\n",
       "    <tr style=\"text-align: right;\">\n",
       "      <th></th>\n",
       "      <th>duration</th>\n",
       "      <th>mfccs</th>\n",
       "      <th>delta_mfcc</th>\n",
       "      <th>delta2_mfcc</th>\n",
       "      <th>zcr</th>\n",
       "      <th>encoded_emotion</th>\n",
       "    </tr>\n",
       "  </thead>\n",
       "  <tbody>\n",
       "    <tr>\n",
       "      <th>0</th>\n",
       "      <td>2.169000</td>\n",
       "      <td>[[-493.01044, -460.0894, -458.284, -457.54904,...</td>\n",
       "      <td>[[20.930767, 20.930767, 20.930767, 20.930767, ...</td>\n",
       "      <td>[[11.189412, 11.189412, 11.189412, 11.189412, ...</td>\n",
       "      <td>[[0.02392578125, 0.0380859375, 0.05126953125, ...</td>\n",
       "      <td>0</td>\n",
       "    </tr>\n",
       "    <tr>\n",
       "      <th>1</th>\n",
       "      <td>2.669500</td>\n",
       "      <td>[[-463.8445, -448.02594, -447.8502, -450.42685...</td>\n",
       "      <td>[[3.9649913, 3.9649913, 3.9649913, 3.9649913, ...</td>\n",
       "      <td>[[2.1696234, 2.1696234, 2.1696234, 2.1696234, ...</td>\n",
       "      <td>[[0.02734375, 0.041015625, 0.05126953125, 0.05...</td>\n",
       "      <td>1</td>\n",
       "    </tr>\n",
       "    <tr>\n",
       "      <th>2</th>\n",
       "      <td>3.837375</td>\n",
       "      <td>[[-766.99445, -767.2107, -767.1353, -765.2035,...</td>\n",
       "      <td>[[0.9491689, 0.9491689, 0.9491689, 0.9491689, ...</td>\n",
       "      <td>[[0.090565205, 0.090565205, 0.090565205, 0.090...</td>\n",
       "      <td>[[0.0107421875, 0.0234375, 0.029296875, 0.0263...</td>\n",
       "      <td>2</td>\n",
       "    </tr>\n",
       "    <tr>\n",
       "      <th>3</th>\n",
       "      <td>3.403625</td>\n",
       "      <td>[[-798.0724, -794.187, -791.83185, -790.31226,...</td>\n",
       "      <td>[[0.39514363, 0.39514363, 0.39514363, 0.395143...</td>\n",
       "      <td>[[-0.49802417, -0.49802417, -0.49802417, -0.49...</td>\n",
       "      <td>[[0.0146484375, 0.02978515625, 0.0537109375, 0...</td>\n",
       "      <td>3</td>\n",
       "    </tr>\n",
       "    <tr>\n",
       "      <th>4</th>\n",
       "      <td>2.869750</td>\n",
       "      <td>[[-435.62903, -414.33167, -411.86377, -410.227...</td>\n",
       "      <td>[[21.180897, 21.180897, 21.180897, 21.180897, ...</td>\n",
       "      <td>[[14.337309, 14.337309, 14.337309, 14.337309, ...</td>\n",
       "      <td>[[0.02880859375, 0.04443359375, 0.0595703125, ...</td>\n",
       "      <td>4</td>\n",
       "    </tr>\n",
       "  </tbody>\n",
       "</table>\n",
       "</div>"
      ],
      "text/plain": [
       "   duration                                              mfccs  \\\n",
       "0  2.169000  [[-493.01044, -460.0894, -458.284, -457.54904,...   \n",
       "1  2.669500  [[-463.8445, -448.02594, -447.8502, -450.42685...   \n",
       "2  3.837375  [[-766.99445, -767.2107, -767.1353, -765.2035,...   \n",
       "3  3.403625  [[-798.0724, -794.187, -791.83185, -790.31226,...   \n",
       "4  2.869750  [[-435.62903, -414.33167, -411.86377, -410.227...   \n",
       "\n",
       "                                          delta_mfcc  \\\n",
       "0  [[20.930767, 20.930767, 20.930767, 20.930767, ...   \n",
       "1  [[3.9649913, 3.9649913, 3.9649913, 3.9649913, ...   \n",
       "2  [[0.9491689, 0.9491689, 0.9491689, 0.9491689, ...   \n",
       "3  [[0.39514363, 0.39514363, 0.39514363, 0.395143...   \n",
       "4  [[21.180897, 21.180897, 21.180897, 21.180897, ...   \n",
       "\n",
       "                                         delta2_mfcc  \\\n",
       "0  [[11.189412, 11.189412, 11.189412, 11.189412, ...   \n",
       "1  [[2.1696234, 2.1696234, 2.1696234, 2.1696234, ...   \n",
       "2  [[0.090565205, 0.090565205, 0.090565205, 0.090...   \n",
       "3  [[-0.49802417, -0.49802417, -0.49802417, -0.49...   \n",
       "4  [[14.337309, 14.337309, 14.337309, 14.337309, ...   \n",
       "\n",
       "                                                 zcr  encoded_emotion  \n",
       "0  [[0.02392578125, 0.0380859375, 0.05126953125, ...                0  \n",
       "1  [[0.02734375, 0.041015625, 0.05126953125, 0.05...                1  \n",
       "2  [[0.0107421875, 0.0234375, 0.029296875, 0.0263...                2  \n",
       "3  [[0.0146484375, 0.02978515625, 0.0537109375, 0...                3  \n",
       "4  [[0.02880859375, 0.04443359375, 0.0595703125, ...                4  "
      ]
     },
     "execution_count": 90,
     "metadata": {},
     "output_type": "execute_result"
    }
   ],
   "source": [
    "d = dict()\n",
    "for filename in tqdm(df.filename):\n",
    "    d1 = dict()\n",
    "    y, sr = librosa.load(audio_path+filename, sr=None)\n",
    "    d1['duration'] = y.shape[0]/sr\n",
    "    mfccs = librosa.feature.mfcc(y=y, sr=sr, n_mfcc=13)\n",
    "    d1['mfccs'] = mfccs\n",
    "    d1['delta_mfcc'] = librosa.feature.delta(mfccs, order=1)\n",
    "    d1['delta2_mfcc'] = librosa.feature.delta(mfccs, order=2)\n",
    "    d1['zcr'] = librosa.feature.zero_crossing_rate(y)    \n",
    "    d[(int)(filename.split('.')[0])] = d1\n",
    "\n",
    "temp_df = pd.DataFrame.from_dict(d).T    \n",
    "\n",
    "temp_df['encoded_emotion'] = df.encoded_emotion\n",
    "#temp_df['max_sample'] = temp_df['samples'].map(lambda x: max(x))\n",
    "temp_df = temp_df.astype({'duration':float})\n",
    "temp_df.head()"
   ]
  },
  {
   "cell_type": "code",
   "execution_count": 92,
   "metadata": {},
   "outputs": [
    {
     "name": "stdout",
     "output_type": "stream",
     "text": [
      "(13, 34)\n",
      "(13, 34)\n",
      "(13, 34)\n"
     ]
    }
   ],
   "source": [
    "print(temp_df.mfccs.map(lambda x: x.shape)[0])\n",
    "print(temp_df.delta_mfcc.map(lambda x: x.shape)[0])\n",
    "print(temp_df.delta2_mfcc.map(lambda x: x.shape)[0])"
   ]
  },
  {
   "cell_type": "code",
   "execution_count": 103,
   "metadata": {},
   "outputs": [],
   "source": [
    "def divide_matrix(ary:np.array, num_columns:int, num_rows:int):    \n",
    "    \n",
    "    if (num_columns > ary.shape[1] or num_rows > ary.shape[0]):\n",
    "        return 'Error, the requested number of columns or rows exceed dimensions!'\n",
    "    \n",
    "    first = np.array_split(ary, num_rows, axis=0) # num rows\n",
    "    second = []\n",
    "    for array in first:\n",
    "        second.append(np.array_split(array, num_columns, axis=1)) # num columns\n",
    "    flattened_list = flatten(second)\n",
    "    return flattened_list\n",
    "\n",
    "def flatten(l:list):\n",
    "    flattened_list = []\n",
    "    for item in l:\n",
    "        for i in item:\n",
    "            flattened_list.append(i)\n",
    "    return flattened_list\n",
    "    \n",
    "def compute_feature(list_of_arrays:list, prefix=None) -> dict:\n",
    "    \n",
    "    d = dict()\n",
    "    \n",
    "    if prefix == None:\n",
    "      for id in range(len(list_of_arrays)):\n",
    "          d[f'{id}_mean_feature'] = np.mean(list_of_arrays[id])\n",
    "          d[f'{id}_std_feature'] = np.std(list_of_arrays[id])\n",
    "    else:\n",
    "      for id in range(len(list_of_arrays)):\n",
    "          d[f'{id}_{prefix}_mean_feature'] = np.mean(list_of_arrays[id])\n",
    "          d[f'{id}_{prefix}_std_feature'] = np.std(list_of_arrays[id])\n",
    "\n",
    "    return d\n",
    "\n"
   ]
  },
  {
   "cell_type": "markdown",
   "metadata": {},
   "source": [
    "### MFCC non concatenati\n"
   ]
  },
  {
   "cell_type": "code",
   "execution_count": 127,
   "metadata": {},
   "outputs": [
    {
     "name": "stderr",
     "output_type": "stream",
     "text": [
      "100%|██████████| 9597/9597 [00:39<00:00, 241.42it/s]\n"
     ]
    },
    {
     "data": {
      "text/html": [
       "<div>\n",
       "<style scoped>\n",
       "    .dataframe tbody tr th:only-of-type {\n",
       "        vertical-align: middle;\n",
       "    }\n",
       "\n",
       "    .dataframe tbody tr th {\n",
       "        vertical-align: top;\n",
       "    }\n",
       "\n",
       "    .dataframe thead th {\n",
       "        text-align: right;\n",
       "    }\n",
       "</style>\n",
       "<table border=\"1\" class=\"dataframe\">\n",
       "  <thead>\n",
       "    <tr style=\"text-align: right;\">\n",
       "      <th></th>\n",
       "      <th>0_delta2_mfcc_mean_feature</th>\n",
       "      <th>0_delta2_mfcc_std_feature</th>\n",
       "      <th>1_delta2_mfcc_mean_feature</th>\n",
       "      <th>1_delta2_mfcc_std_feature</th>\n",
       "      <th>2_delta2_mfcc_mean_feature</th>\n",
       "      <th>2_delta2_mfcc_std_feature</th>\n",
       "      <th>3_delta2_mfcc_mean_feature</th>\n",
       "      <th>3_delta2_mfcc_std_feature</th>\n",
       "      <th>4_delta2_mfcc_mean_feature</th>\n",
       "      <th>4_delta2_mfcc_std_feature</th>\n",
       "      <th>...</th>\n",
       "      <th>22_delta2_mfcc_mean_feature</th>\n",
       "      <th>22_delta2_mfcc_std_feature</th>\n",
       "      <th>23_delta2_mfcc_mean_feature</th>\n",
       "      <th>23_delta2_mfcc_std_feature</th>\n",
       "      <th>24_delta2_mfcc_mean_feature</th>\n",
       "      <th>24_delta2_mfcc_std_feature</th>\n",
       "      <th>duration</th>\n",
       "      <th>min_zcr</th>\n",
       "      <th>max_zcr</th>\n",
       "      <th>encoded_emotion</th>\n",
       "    </tr>\n",
       "  </thead>\n",
       "  <tbody>\n",
       "    <tr>\n",
       "      <th>0</th>\n",
       "      <td>1.584157</td>\n",
       "      <td>7.133420</td>\n",
       "      <td>-1.294042</td>\n",
       "      <td>6.790268</td>\n",
       "      <td>0.305728</td>\n",
       "      <td>5.258142</td>\n",
       "      <td>-1.470796</td>\n",
       "      <td>11.668770</td>\n",
       "      <td>2.637663</td>\n",
       "      <td>10.655533</td>\n",
       "      <td>...</td>\n",
       "      <td>-0.492043</td>\n",
       "      <td>1.287269</td>\n",
       "      <td>0.512299</td>\n",
       "      <td>0.796199</td>\n",
       "      <td>-0.914486</td>\n",
       "      <td>0.114833</td>\n",
       "      <td>2.169000</td>\n",
       "      <td>0.023926</td>\n",
       "      <td>0.195312</td>\n",
       "      <td>0</td>\n",
       "    </tr>\n",
       "    <tr>\n",
       "      <th>1</th>\n",
       "      <td>0.664240</td>\n",
       "      <td>2.204984</td>\n",
       "      <td>-0.127156</td>\n",
       "      <td>4.379223</td>\n",
       "      <td>-0.377394</td>\n",
       "      <td>4.562441</td>\n",
       "      <td>-0.290630</td>\n",
       "      <td>3.393468</td>\n",
       "      <td>-0.021013</td>\n",
       "      <td>0.917018</td>\n",
       "      <td>...</td>\n",
       "      <td>-0.254022</td>\n",
       "      <td>0.933518</td>\n",
       "      <td>0.033549</td>\n",
       "      <td>0.750465</td>\n",
       "      <td>0.412188</td>\n",
       "      <td>0.142056</td>\n",
       "      <td>2.669500</td>\n",
       "      <td>0.027344</td>\n",
       "      <td>0.115234</td>\n",
       "      <td>1</td>\n",
       "    </tr>\n",
       "    <tr>\n",
       "      <th>2</th>\n",
       "      <td>0.262094</td>\n",
       "      <td>2.387905</td>\n",
       "      <td>-0.308649</td>\n",
       "      <td>10.726755</td>\n",
       "      <td>1.153995</td>\n",
       "      <td>11.086215</td>\n",
       "      <td>-2.696641</td>\n",
       "      <td>11.165792</td>\n",
       "      <td>1.666192</td>\n",
       "      <td>4.458411</td>\n",
       "      <td>...</td>\n",
       "      <td>-0.030803</td>\n",
       "      <td>1.396652</td>\n",
       "      <td>0.248478</td>\n",
       "      <td>0.851043</td>\n",
       "      <td>-0.181103</td>\n",
       "      <td>0.246956</td>\n",
       "      <td>3.837375</td>\n",
       "      <td>0.010742</td>\n",
       "      <td>0.175781</td>\n",
       "      <td>2</td>\n",
       "    </tr>\n",
       "    <tr>\n",
       "      <th>3</th>\n",
       "      <td>-0.174931</td>\n",
       "      <td>0.656531</td>\n",
       "      <td>0.224878</td>\n",
       "      <td>12.137231</td>\n",
       "      <td>-0.383463</td>\n",
       "      <td>5.391173</td>\n",
       "      <td>-0.052197</td>\n",
       "      <td>10.617236</td>\n",
       "      <td>0.479648</td>\n",
       "      <td>2.541689</td>\n",
       "      <td>...</td>\n",
       "      <td>0.110127</td>\n",
       "      <td>1.485579</td>\n",
       "      <td>0.102121</td>\n",
       "      <td>0.657516</td>\n",
       "      <td>-0.104862</td>\n",
       "      <td>0.550486</td>\n",
       "      <td>3.403625</td>\n",
       "      <td>0.014648</td>\n",
       "      <td>0.176758</td>\n",
       "      <td>3</td>\n",
       "    </tr>\n",
       "    <tr>\n",
       "      <th>4</th>\n",
       "      <td>2.565381</td>\n",
       "      <td>11.134707</td>\n",
       "      <td>-2.416049</td>\n",
       "      <td>10.358296</td>\n",
       "      <td>0.408938</td>\n",
       "      <td>4.787992</td>\n",
       "      <td>-2.054565</td>\n",
       "      <td>11.424722</td>\n",
       "      <td>3.468194</td>\n",
       "      <td>10.944690</td>\n",
       "      <td>...</td>\n",
       "      <td>0.043695</td>\n",
       "      <td>1.612709</td>\n",
       "      <td>0.212995</td>\n",
       "      <td>1.241706</td>\n",
       "      <td>-0.412430</td>\n",
       "      <td>0.579305</td>\n",
       "      <td>2.869750</td>\n",
       "      <td>0.028809</td>\n",
       "      <td>0.210938</td>\n",
       "      <td>4</td>\n",
       "    </tr>\n",
       "  </tbody>\n",
       "</table>\n",
       "<p>5 rows × 54 columns</p>\n",
       "</div>"
      ],
      "text/plain": [
       "   0_delta2_mfcc_mean_feature  0_delta2_mfcc_std_feature  \\\n",
       "0                    1.584157                   7.133420   \n",
       "1                    0.664240                   2.204984   \n",
       "2                    0.262094                   2.387905   \n",
       "3                   -0.174931                   0.656531   \n",
       "4                    2.565381                  11.134707   \n",
       "\n",
       "   1_delta2_mfcc_mean_feature  1_delta2_mfcc_std_feature  \\\n",
       "0                   -1.294042                   6.790268   \n",
       "1                   -0.127156                   4.379223   \n",
       "2                   -0.308649                  10.726755   \n",
       "3                    0.224878                  12.137231   \n",
       "4                   -2.416049                  10.358296   \n",
       "\n",
       "   2_delta2_mfcc_mean_feature  2_delta2_mfcc_std_feature  \\\n",
       "0                    0.305728                   5.258142   \n",
       "1                   -0.377394                   4.562441   \n",
       "2                    1.153995                  11.086215   \n",
       "3                   -0.383463                   5.391173   \n",
       "4                    0.408938                   4.787992   \n",
       "\n",
       "   3_delta2_mfcc_mean_feature  3_delta2_mfcc_std_feature  \\\n",
       "0                   -1.470796                  11.668770   \n",
       "1                   -0.290630                   3.393468   \n",
       "2                   -2.696641                  11.165792   \n",
       "3                   -0.052197                  10.617236   \n",
       "4                   -2.054565                  11.424722   \n",
       "\n",
       "   4_delta2_mfcc_mean_feature  4_delta2_mfcc_std_feature  ...  \\\n",
       "0                    2.637663                  10.655533  ...   \n",
       "1                   -0.021013                   0.917018  ...   \n",
       "2                    1.666192                   4.458411  ...   \n",
       "3                    0.479648                   2.541689  ...   \n",
       "4                    3.468194                  10.944690  ...   \n",
       "\n",
       "   22_delta2_mfcc_mean_feature  22_delta2_mfcc_std_feature  \\\n",
       "0                    -0.492043                    1.287269   \n",
       "1                    -0.254022                    0.933518   \n",
       "2                    -0.030803                    1.396652   \n",
       "3                     0.110127                    1.485579   \n",
       "4                     0.043695                    1.612709   \n",
       "\n",
       "   23_delta2_mfcc_mean_feature  23_delta2_mfcc_std_feature  \\\n",
       "0                     0.512299                    0.796199   \n",
       "1                     0.033549                    0.750465   \n",
       "2                     0.248478                    0.851043   \n",
       "3                     0.102121                    0.657516   \n",
       "4                     0.212995                    1.241706   \n",
       "\n",
       "   24_delta2_mfcc_mean_feature  24_delta2_mfcc_std_feature  duration  \\\n",
       "0                    -0.914486                    0.114833  2.169000   \n",
       "1                     0.412188                    0.142056  2.669500   \n",
       "2                    -0.181103                    0.246956  3.837375   \n",
       "3                    -0.104862                    0.550486  3.403625   \n",
       "4                    -0.412430                    0.579305  2.869750   \n",
       "\n",
       "    min_zcr   max_zcr  encoded_emotion  \n",
       "0  0.023926  0.195312                0  \n",
       "1  0.027344  0.115234                1  \n",
       "2  0.010742  0.175781                2  \n",
       "3  0.014648  0.176758                3  \n",
       "4  0.028809  0.210938                4  \n",
       "\n",
       "[5 rows x 54 columns]"
      ]
     },
     "execution_count": 127,
     "metadata": {},
     "output_type": "execute_result"
    }
   ],
   "source": [
    "features = ['mfccs', 'delta_mfcc', 'delta2_mfcc']\n",
    "\n",
    "n = 5\n",
    "\n",
    "prova = dict()\n",
    "for row in tqdm(temp_df.index):\n",
    "    for f in features:\n",
    "        prova[row] = compute_feature(divide_matrix(temp_df[f].loc[row], num_rows=min(n, 13), num_columns=n), prefix=f)\n",
    "    \n",
    "\n",
    "n_df = pd.DataFrame.from_dict(prova).T\n",
    "n_df['duration'] = temp_df.duration\n",
    "n_df['min_zcr'] = temp_df.zcr.map(lambda x: min(flatten(list(x))))\n",
    "n_df['max_zcr'] = temp_df.zcr.map(lambda x: max(flatten(list(x))))\n",
    "n_df['encoded_emotion'] = temp_df.encoded_emotion\n",
    "n_df.head()"
   ]
  },
  {
   "cell_type": "markdown",
   "metadata": {},
   "source": [
    "concatenate mfccs and deltas"
   ]
  },
  {
   "cell_type": "code",
   "execution_count": 133,
   "metadata": {},
   "outputs": [
    {
     "name": "stderr",
     "output_type": "stream",
     "text": [
      "100%|██████████| 9597/9597 [01:45<00:00, 91.06it/s] \n"
     ]
    },
    {
     "data": {
      "text/html": [
       "<div>\n",
       "<style scoped>\n",
       "    .dataframe tbody tr th:only-of-type {\n",
       "        vertical-align: middle;\n",
       "    }\n",
       "\n",
       "    .dataframe tbody tr th {\n",
       "        vertical-align: top;\n",
       "    }\n",
       "\n",
       "    .dataframe thead th {\n",
       "        text-align: right;\n",
       "    }\n",
       "</style>\n",
       "<table border=\"1\" class=\"dataframe\">\n",
       "  <thead>\n",
       "    <tr style=\"text-align: right;\">\n",
       "      <th></th>\n",
       "      <th>duration</th>\n",
       "      <th>mfccs</th>\n",
       "      <th>zcr</th>\n",
       "      <th>encoded_emotion</th>\n",
       "    </tr>\n",
       "  </thead>\n",
       "  <tbody>\n",
       "    <tr>\n",
       "      <th>0</th>\n",
       "      <td>2.169000</td>\n",
       "      <td>[[-493.01044, -460.0894, -458.284, -457.54904,...</td>\n",
       "      <td>[[0.02392578125, 0.0380859375, 0.05126953125, ...</td>\n",
       "      <td>0</td>\n",
       "    </tr>\n",
       "    <tr>\n",
       "      <th>1</th>\n",
       "      <td>2.669500</td>\n",
       "      <td>[[-463.8445, -448.02594, -447.8502, -450.42685...</td>\n",
       "      <td>[[0.02734375, 0.041015625, 0.05126953125, 0.05...</td>\n",
       "      <td>1</td>\n",
       "    </tr>\n",
       "    <tr>\n",
       "      <th>2</th>\n",
       "      <td>3.837375</td>\n",
       "      <td>[[-766.99445, -767.2107, -767.1353, -765.2035,...</td>\n",
       "      <td>[[0.0107421875, 0.0234375, 0.029296875, 0.0263...</td>\n",
       "      <td>2</td>\n",
       "    </tr>\n",
       "    <tr>\n",
       "      <th>3</th>\n",
       "      <td>3.403625</td>\n",
       "      <td>[[-798.0724, -794.187, -791.83185, -790.31226,...</td>\n",
       "      <td>[[0.0146484375, 0.02978515625, 0.0537109375, 0...</td>\n",
       "      <td>3</td>\n",
       "    </tr>\n",
       "    <tr>\n",
       "      <th>4</th>\n",
       "      <td>2.869750</td>\n",
       "      <td>[[-435.62903, -414.33167, -411.86377, -410.227...</td>\n",
       "      <td>[[0.02880859375, 0.04443359375, 0.0595703125, ...</td>\n",
       "      <td>4</td>\n",
       "    </tr>\n",
       "  </tbody>\n",
       "</table>\n",
       "</div>"
      ],
      "text/plain": [
       "   duration                                              mfccs  \\\n",
       "0  2.169000  [[-493.01044, -460.0894, -458.284, -457.54904,...   \n",
       "1  2.669500  [[-463.8445, -448.02594, -447.8502, -450.42685...   \n",
       "2  3.837375  [[-766.99445, -767.2107, -767.1353, -765.2035,...   \n",
       "3  3.403625  [[-798.0724, -794.187, -791.83185, -790.31226,...   \n",
       "4  2.869750  [[-435.62903, -414.33167, -411.86377, -410.227...   \n",
       "\n",
       "                                                 zcr  encoded_emotion  \n",
       "0  [[0.02392578125, 0.0380859375, 0.05126953125, ...                0  \n",
       "1  [[0.02734375, 0.041015625, 0.05126953125, 0.05...                1  \n",
       "2  [[0.0107421875, 0.0234375, 0.029296875, 0.0263...                2  \n",
       "3  [[0.0146484375, 0.02978515625, 0.0537109375, 0...                3  \n",
       "4  [[0.02880859375, 0.04443359375, 0.0595703125, ...                4  "
      ]
     },
     "execution_count": 133,
     "metadata": {},
     "output_type": "execute_result"
    }
   ],
   "source": [
    "d = dict()\n",
    "for filename in tqdm(df.filename):\n",
    "    d1 = dict()\n",
    "    y, sr = librosa.load(audio_path+filename, sr=None)\n",
    "    d1['duration'] = y.shape[0]/sr\n",
    "    mfccs = librosa.feature.mfcc(y=y, sr=sr, n_mfcc=13)\n",
    "    delta_mfcc = librosa.feature.delta(mfccs, order=1)\n",
    "    delta2_mfcc = librosa.feature.delta(mfccs, order=2)\n",
    "    d1['mfccs'] = np.concatenate([mfccs, delta_mfcc, delta2_mfcc])\n",
    "    \n",
    "    d1['zcr'] = librosa.feature.zero_crossing_rate(y)    \n",
    "    d[(int)(filename.split('.')[0])] = d1\n",
    "\n",
    "temp_df = pd.DataFrame.from_dict(d).T    \n",
    "\n",
    "temp_df['encoded_emotion'] = df.encoded_emotion\n",
    "#temp_df['max_sample'] = temp_df['samples'].map(lambda x: max(x))\n",
    "temp_df = temp_df.astype({'duration':float})\n",
    "temp_df.head()"
   ]
  },
  {
   "cell_type": "code",
   "execution_count": 139,
   "metadata": {},
   "outputs": [
    {
     "name": "stderr",
     "output_type": "stream",
     "text": [
      "  0%|          | 0/7 [00:00<?, ?it/s]"
     ]
    },
    {
     "name": "stdout",
     "output_type": "stream",
     "text": [
      "1\n",
      "Fitting RF...\n",
      "Predicting using RF...\n",
      "RandomForestClassifier() 0.6897385405632084\n",
      "Fitting SVC...\n",
      "Predicting using SVC...\n"
     ]
    },
    {
     "name": "stderr",
     "output_type": "stream",
     "text": [
      " 14%|█▍        | 1/7 [00:28<02:51, 28.50s/it]"
     ]
    },
    {
     "name": "stdout",
     "output_type": "stream",
     "text": [
      "SVC() 0.6540802763363625\n",
      "2\n",
      "Fitting RF...\n",
      "Predicting using RF...\n",
      "RandomForestClassifier() 0.7075009851022404\n",
      "Fitting SVC...\n",
      "Predicting using SVC...\n"
     ]
    },
    {
     "name": "stderr",
     "output_type": "stream",
     "text": [
      " 29%|██▊       | 2/7 [01:14<03:12, 38.52s/it]"
     ]
    },
    {
     "name": "stdout",
     "output_type": "stream",
     "text": [
      "SVC() 0.6919189226013225\n",
      "3\n",
      "Fitting RF...\n",
      "Predicting using RF...\n",
      "RandomForestClassifier() 0.6905144502925519\n",
      "Fitting SVC...\n",
      "Predicting using SVC...\n"
     ]
    },
    {
     "name": "stderr",
     "output_type": "stream",
     "text": [
      " 43%|████▎     | 3/7 [02:18<03:22, 50.55s/it]"
     ]
    },
    {
     "name": "stdout",
     "output_type": "stream",
     "text": [
      "SVC() 0.6838447398586797\n",
      "4\n",
      "Fitting RF...\n",
      "Predicting using RF...\n",
      "RandomForestClassifier() 0.7013258819354036\n",
      "Fitting SVC...\n",
      "Predicting using SVC...\n"
     ]
    },
    {
     "name": "stderr",
     "output_type": "stream",
     "text": [
      " 57%|█████▋    | 4/7 [03:43<03:11, 63.88s/it]"
     ]
    },
    {
     "name": "stdout",
     "output_type": "stream",
     "text": [
      "SVC() 0.6662674557980139\n",
      "5\n",
      "Fitting RF...\n",
      "Predicting using RF...\n",
      "RandomForestClassifier() 0.6905975870037391\n",
      "Fitting SVC...\n",
      "Predicting using SVC...\n"
     ]
    },
    {
     "name": "stderr",
     "output_type": "stream",
     "text": [
      " 71%|███████▏  | 5/7 [05:25<02:35, 77.75s/it]"
     ]
    },
    {
     "name": "stdout",
     "output_type": "stream",
     "text": [
      "SVC() 0.674800230202633\n",
      "6\n",
      "Fitting RF...\n",
      "Predicting using RF...\n",
      "RandomForestClassifier() 0.6926575549499345\n",
      "Fitting SVC...\n",
      "Predicting using SVC...\n"
     ]
    },
    {
     "name": "stderr",
     "output_type": "stream",
     "text": [
      " 86%|████████▌ | 6/7 [07:35<01:35, 95.51s/it]"
     ]
    },
    {
     "name": "stdout",
     "output_type": "stream",
     "text": [
      "SVC() 0.6718178648096657\n",
      "7\n",
      "Fitting RF...\n",
      "Predicting using RF...\n",
      "RandomForestClassifier() 0.6864763433340685\n",
      "Fitting SVC...\n",
      "Predicting using SVC...\n"
     ]
    },
    {
     "name": "stderr",
     "output_type": "stream",
     "text": [
      "100%|██████████| 7/7 [09:56<00:00, 85.18s/it] "
     ]
    },
    {
     "name": "stdout",
     "output_type": "stream",
     "text": [
      "SVC() 0.6620651620079757\n"
     ]
    },
    {
     "name": "stderr",
     "output_type": "stream",
     "text": [
      "\n"
     ]
    },
    {
     "data": {
      "text/plain": [
       "[<matplotlib.lines.Line2D at 0x2d333ed70>]"
      ]
     },
     "execution_count": 139,
     "metadata": {},
     "output_type": "execute_result"
    },
    {
     "data": {
      "image/png": "[encoded data removed]",
      "text/plain": [
       "<Figure size 864x720 with 1 Axes>"
      ]
     },
     "metadata": {
      "needs_background": "light"
     },
     "output_type": "display_data"
    }
   ],
   "source": [
    "\n",
    "\n",
    "# ns = list(range(4,41,4))\n",
    "ns = list(range(1,8))\n",
    "scores_rf = []\n",
    "scores_svm = []\n",
    "for n in tqdm(ns):\n",
    "    print(n)\n",
    "    dictionary = dict()\n",
    "    features = ['mfccs']\n",
    "\n",
    "    prova = dict()\n",
    "    for row in temp_df.index:\n",
    "        for f in features:\n",
    "            prova[row] = compute_feature(flatten(divide_matrix(temp_df[f].loc[row], num_rows=n, num_columns=n)), prefix=f)\n",
    "        \n",
    "\n",
    "    n_df = pd.DataFrame.from_dict(prova).T\n",
    "    n_df['duration'] = temp_df.duration\n",
    "    n_df['min_zcr'] = temp_df.zcr.map(lambda x: min(flatten(list(x))))\n",
    "    n_df['max_zcr'] = temp_df.zcr.map(lambda x: max(flatten(list(x))))\n",
    "    n_df['encoded_emotion'] = temp_df.encoded_emotion\n",
    "    n_df.head()\n",
    "    \n",
    "    np.random.seed(0) #to make experiments reproducible\n",
    "\n",
    "\n",
    "    smote = SMOTE(random_state=42)\n",
    "\n",
    "    X, y = n_df[n_df.columns[:-1]], n_df[n_df.columns[-1]]\n",
    "    X_res, y_res = smote.fit_resample(X,y)\n",
    "\n",
    "    minmax = MinMaxScaler()\n",
    "    svm_X_res = minmax.fit_transform(X_res)\n",
    "\n",
    "    X_train, X_test, y_train, y_test = train_test_split(X_res, y_res, test_size=.2, random_state=42)\n",
    "    svm_X_train, svm_X_test, svm_y_train, svm_y_test = train_test_split(svm_X_res, y_res, test_size=.2, random_state=42)\n",
    "\n",
    "    y_train = y_train.astype(int)\n",
    "    y_test = y_test.astype(int)\n",
    "\n",
    "    print('Fitting RF...')\n",
    "    rf = RandomForestClassifier().fit(X_train, y_train) # plain rf\n",
    "    print('Predicting using RF...')\n",
    "    preds = rf.predict(X_test)\n",
    "    score = f1_score(y_test, preds, average='macro')\n",
    "    scores_rf.append(score)\n",
    "    print(rf, score)\n",
    "\n",
    "    print('Fitting SVC...')\n",
    "    svm = SVC().fit(svm_X_train, y_train)\n",
    "    print('Predicting using SVC...')\n",
    "    svm_preds = svm.predict(svm_X_test)\n",
    "    svm_score = f1_score(y_test, svm_preds, average='macro')\n",
    "    scores_svm.append(svm_score)\n",
    "    print(svm, svm_score)\n",
    "    \n",
    "plt.figure(figsize=(12,10))\n",
    "plt.title('F1 macro')\n",
    "plt.plot(ns, scores_rf, label='RF')\n",
    "plt.plot(ns, scores_svm, label='SVM')"
   ]
  },
  {
   "cell_type": "code",
   "execution_count": 138,
   "metadata": {},
   "outputs": [
    {
     "data": {
      "text/plain": [
       "[<matplotlib.lines.Line2D at 0x2d008bdc0>]"
      ]
     },
     "execution_count": 138,
     "metadata": {},
     "output_type": "execute_result"
    },
    {
     "data": {
      "image/png": "[encoded data removed]",
      "text/plain": [
       "<Figure size 864x720 with 1 Axes>"
      ]
     },
     "metadata": {
      "needs_background": "light"
     },
     "output_type": "display_data"
    }
   ],
   "source": [
    "plt.figure(figsize=(12,10))\n",
    "plt.title('F1 macro')\n",
    "plt.plot(ns[:-1], scores_rf, label='RF')\n",
    "plt.plot(ns[:-1], scores_svm, label='SVM')"
   ]
  },
  {
   "cell_type": "code",
   "execution_count": 141,
   "metadata": {},
   "outputs": [
    {
     "data": {
      "text/plain": [
       "0.7075009851022404"
      ]
     },
     "execution_count": 141,
     "metadata": {},
     "output_type": "execute_result"
    }
   ],
   "source": [
    "idx = np.argmax(scores_rf)\n",
    "scores_rf[idx]"
   ]
  },
  {
   "cell_type": "code",
   "execution_count": 142,
   "metadata": {},
   "outputs": [
    {
     "name": "stdout",
     "output_type": "stream",
     "text": [
      "Fitting RF...\n",
      "Predicting using RF...\n",
      "RandomForestClassifier() 0.7075009851022404\n"
     ]
    }
   ],
   "source": [
    "# grid search\n",
    "\n",
    "n = 2\n",
    "\n",
    "dictionary = dict()\n",
    "features = ['mfccs']\n",
    "\n",
    "prova = dict()\n",
    "for row in temp_df.index:\n",
    "    for f in features:\n",
    "        prova[row] = compute_feature(flatten(divide_matrix(temp_df[f].loc[row], num_rows=n, num_columns=n)), prefix=f)\n",
    "    \n",
    "\n",
    "n_df = pd.DataFrame.from_dict(prova).T\n",
    "n_df['duration'] = temp_df.duration\n",
    "n_df['min_zcr'] = temp_df.zcr.map(lambda x: min(flatten(list(x))))\n",
    "n_df['max_zcr'] = temp_df.zcr.map(lambda x: max(flatten(list(x))))\n",
    "n_df['encoded_emotion'] = temp_df.encoded_emotion\n",
    "n_df.head()\n",
    "\n",
    "np.random.seed(0) #to make experiments reproducible\n",
    "\n",
    "\n",
    "smote = SMOTE(random_state=42)\n",
    "\n",
    "X, y = n_df[n_df.columns[:-1]], n_df[n_df.columns[-1]]\n",
    "X_res, y_res = smote.fit_resample(X,y)\n",
    "\n",
    "X_train, X_test, y_train, y_test = train_test_split(X_res, y_res, test_size=.2, random_state=42)\n",
    "\n",
    "y_train = y_train.astype(int)\n",
    "y_test = y_test.astype(int)\n",
    "\n",
    "print('Fitting RF...')\n",
    "rf = RandomForestClassifier().fit(X_train, y_train) # plain rf\n",
    "print('Predicting using RF...')\n",
    "preds = rf.predict(X_test)\n",
    "score = f1_score(y_test, preds, average='macro')\n",
    "scores_rf.append(score)\n",
    "print(rf, score)\n"
   ]
  },
  {
   "cell_type": "code",
   "execution_count": 143,
   "metadata": {},
   "outputs": [
    {
     "name": "stderr",
     "output_type": "stream",
     "text": [
      "  0%|          | 0/27 [00:00<?, ?it/s]"
     ]
    },
    {
     "name": "stdout",
     "output_type": "stream",
     "text": [
      "Fitting...\n"
     ]
    },
    {
     "name": "stderr",
     "output_type": "stream",
     "text": [
      "  4%|▎         | 1/27 [00:07<03:21,  7.76s/it]"
     ]
    },
    {
     "name": "stdout",
     "output_type": "stream",
     "text": [
      "Predicting...\n",
      "RandomForestClassifier() 0.7077048535071128\n",
      "---------\n",
      "Fitting...\n"
     ]
    },
    {
     "name": "stderr",
     "output_type": "stream",
     "text": [
      "  7%|▋         | 2/27 [00:19<04:12, 10.11s/it]"
     ]
    },
    {
     "name": "stdout",
     "output_type": "stream",
     "text": [
      "Predicting...\n",
      "RandomForestClassifier(n_estimators=150) 0.7110177508829274\n",
      "---------\n",
      "Fitting...\n"
     ]
    },
    {
     "name": "stderr",
     "output_type": "stream",
     "text": [
      " 11%|█         | 3/27 [00:42<06:25, 16.08s/it]"
     ]
    },
    {
     "name": "stdout",
     "output_type": "stream",
     "text": [
      "Predicting...\n",
      "RandomForestClassifier(n_estimators=300) 0.7069850975956192\n",
      "---------\n",
      "Fitting...\n"
     ]
    },
    {
     "name": "stderr",
     "output_type": "stream",
     "text": [
      " 15%|█▍        | 4/27 [00:47<04:27, 11.62s/it]"
     ]
    },
    {
     "name": "stdout",
     "output_type": "stream",
     "text": [
      "Predicting...\n",
      "RandomForestClassifier(max_features='log2') 0.7086209491623029\n",
      "---------\n",
      "Fitting...\n"
     ]
    },
    {
     "name": "stderr",
     "output_type": "stream",
     "text": [
      " 19%|█▊        | 5/27 [00:54<03:39,  9.99s/it]"
     ]
    },
    {
     "name": "stdout",
     "output_type": "stream",
     "text": [
      "Predicting...\n",
      "RandomForestClassifier(max_features='log2', n_estimators=150) 0.708595416403315\n",
      "---------\n",
      "Fitting...\n"
     ]
    },
    {
     "name": "stderr",
     "output_type": "stream",
     "text": [
      " 22%|██▏       | 6/27 [01:08<03:58, 11.37s/it]"
     ]
    },
    {
     "name": "stdout",
     "output_type": "stream",
     "text": [
      "Predicting...\n",
      "RandomForestClassifier(max_features='log2', n_estimators=300) 0.7090672618656464\n",
      "---------\n",
      "Fitting...\n"
     ]
    },
    {
     "name": "stderr",
     "output_type": "stream",
     "text": [
      " 26%|██▌       | 7/27 [02:49<13:32, 40.62s/it]"
     ]
    },
    {
     "name": "stdout",
     "output_type": "stream",
     "text": [
      "Predicting...\n",
      "RandomForestClassifier(max_features=None) 0.6928198680604115\n",
      "---------\n",
      "Fitting...\n"
     ]
    },
    {
     "name": "stderr",
     "output_type": "stream",
     "text": [
      " 30%|██▉       | 8/27 [05:22<24:12, 76.43s/it]"
     ]
    },
    {
     "name": "stdout",
     "output_type": "stream",
     "text": [
      "Predicting...\n",
      "RandomForestClassifier(max_features=None, n_estimators=150) 0.6933813344659058\n",
      "---------\n",
      "Fitting...\n"
     ]
    },
    {
     "name": "stderr",
     "output_type": "stream",
     "text": [
      " 33%|███▎      | 9/27 [10:27<44:21, 147.88s/it]"
     ]
    },
    {
     "name": "stdout",
     "output_type": "stream",
     "text": [
      "Predicting...\n",
      "RandomForestClassifier(max_features=None, n_estimators=300) 0.6976402715062194\n",
      "---------\n",
      "Fitting...\n"
     ]
    },
    {
     "name": "stderr",
     "output_type": "stream",
     "text": [
      " 37%|███▋      | 10/27 [10:41<30:10, 106.51s/it]"
     ]
    },
    {
     "name": "stdout",
     "output_type": "stream",
     "text": [
      "Predicting...\n",
      "RandomForestClassifier(criterion='entropy') 0.7055245737615579\n",
      "---------\n",
      "Fitting...\n"
     ]
    },
    {
     "name": "stderr",
     "output_type": "stream",
     "text": [
      " 41%|████      | 11/27 [11:02<21:24, 80.25s/it] "
     ]
    },
    {
     "name": "stdout",
     "output_type": "stream",
     "text": [
      "Predicting...\n",
      "RandomForestClassifier(criterion='entropy', n_estimators=150) 0.7046745641783707\n",
      "---------\n",
      "Fitting...\n"
     ]
    },
    {
     "name": "stderr",
     "output_type": "stream",
     "text": [
      " 44%|████▍     | 12/27 [11:43<17:06, 68.41s/it]"
     ]
    },
    {
     "name": "stdout",
     "output_type": "stream",
     "text": [
      "Predicting...\n",
      "RandomForestClassifier(criterion='entropy', n_estimators=300) 0.7070394510475267\n",
      "---------\n",
      "Fitting...\n"
     ]
    },
    {
     "name": "stderr",
     "output_type": "stream",
     "text": [
      " 48%|████▊     | 13/27 [11:52<11:43, 50.27s/it]"
     ]
    },
    {
     "name": "stdout",
     "output_type": "stream",
     "text": [
      "Predicting...\n",
      "RandomForestClassifier(criterion='entropy', max_features='log2') 0.7092651883149934\n",
      "---------\n",
      "Fitting...\n"
     ]
    },
    {
     "name": "stderr",
     "output_type": "stream",
     "text": [
      " 52%|█████▏    | 14/27 [12:04<08:26, 38.98s/it]"
     ]
    },
    {
     "name": "stdout",
     "output_type": "stream",
     "text": [
      "Predicting...\n",
      "RandomForestClassifier(criterion='entropy', max_features='log2',\n",
      "                       n_estimators=150) 0.7077335604630317\n",
      "---------\n",
      "Fitting...\n"
     ]
    },
    {
     "name": "stderr",
     "output_type": "stream",
     "text": [
      " 56%|█████▌    | 15/27 [12:30<06:58, 34.87s/it]"
     ]
    },
    {
     "name": "stdout",
     "output_type": "stream",
     "text": [
      "Predicting...\n",
      "RandomForestClassifier(criterion='entropy', max_features='log2',\n",
      "                       n_estimators=300) 0.7121621367044788\n",
      "---------\n",
      "Fitting...\n"
     ]
    },
    {
     "name": "stderr",
     "output_type": "stream",
     "text": [
      " 59%|█████▉    | 16/27 [15:13<13:29, 73.57s/it]"
     ]
    },
    {
     "name": "stdout",
     "output_type": "stream",
     "text": [
      "Predicting...\n",
      "RandomForestClassifier(criterion='entropy', max_features=None) 0.6935611311245246\n",
      "---------\n",
      "Fitting...\n"
     ]
    },
    {
     "name": "stderr",
     "output_type": "stream",
     "text": [
      " 63%|██████▎   | 17/27 [19:19<20:53, 125.31s/it]"
     ]
    },
    {
     "name": "stdout",
     "output_type": "stream",
     "text": [
      "Predicting...\n",
      "RandomForestClassifier(criterion='entropy', max_features=None, n_estimators=150) 0.6964345540168093\n",
      "---------\n",
      "Fitting...\n"
     ]
    },
    {
     "name": "stderr",
     "output_type": "stream",
     "text": [
      " 67%|██████▋   | 18/27 [27:28<35:10, 234.50s/it]"
     ]
    },
    {
     "name": "stdout",
     "output_type": "stream",
     "text": [
      "Predicting...\n",
      "RandomForestClassifier(criterion='entropy', max_features=None, n_estimators=300) 0.700405777293273\n",
      "---------\n",
      "Fitting...\n"
     ]
    },
    {
     "name": "stderr",
     "output_type": "stream",
     "text": [
      " 70%|███████   | 19/27 [27:41<22:25, 168.19s/it]"
     ]
    },
    {
     "name": "stdout",
     "output_type": "stream",
     "text": [
      "Predicting...\n",
      "RandomForestClassifier(criterion='log_loss') 0.6959487088538417\n",
      "---------\n",
      "Fitting...\n"
     ]
    },
    {
     "name": "stderr",
     "output_type": "stream",
     "text": [
      " 74%|███████▍  | 20/27 [28:02<14:26, 123.81s/it]"
     ]
    },
    {
     "name": "stdout",
     "output_type": "stream",
     "text": [
      "Predicting...\n",
      "RandomForestClassifier(criterion='log_loss', n_estimators=150) 0.7049558234420553\n",
      "---------\n",
      "Fitting...\n",
      "Predicting...\n"
     ]
    },
    {
     "name": "stderr",
     "output_type": "stream",
     "text": [
      " 78%|███████▊  | 21/27 [28:51<10:08, 101.36s/it]"
     ]
    },
    {
     "name": "stdout",
     "output_type": "stream",
     "text": [
      "RandomForestClassifier(criterion='log_loss', n_estimators=300) 0.7114806774281558\n",
      "---------\n",
      "Fitting...\n"
     ]
    },
    {
     "name": "stderr",
     "output_type": "stream",
     "text": [
      " 81%|████████▏ | 22/27 [29:03<06:12, 74.60s/it] "
     ]
    },
    {
     "name": "stdout",
     "output_type": "stream",
     "text": [
      "Predicting...\n",
      "RandomForestClassifier(criterion='log_loss', max_features='log2') 0.7033337724823128\n",
      "---------\n",
      "Fitting...\n"
     ]
    },
    {
     "name": "stderr",
     "output_type": "stream",
     "text": [
      " 85%|████████▌ | 23/27 [29:22<03:51, 57.83s/it]"
     ]
    },
    {
     "name": "stdout",
     "output_type": "stream",
     "text": [
      "Predicting...\n",
      "RandomForestClassifier(criterion='log_loss', max_features='log2',\n",
      "                       n_estimators=150) 0.6988519603390095\n",
      "---------\n",
      "Fitting...\n",
      "Predicting...\n"
     ]
    },
    {
     "name": "stderr",
     "output_type": "stream",
     "text": [
      " 89%|████████▉ | 24/27 [29:59<02:35, 51.84s/it]"
     ]
    },
    {
     "name": "stdout",
     "output_type": "stream",
     "text": [
      "RandomForestClassifier(criterion='log_loss', max_features='log2',\n",
      "                       n_estimators=300) 0.7100248857764307\n",
      "---------\n",
      "Fitting...\n"
     ]
    },
    {
     "name": "stderr",
     "output_type": "stream",
     "text": [
      " 93%|█████████▎| 25/27 [34:08<03:41, 110.76s/it]"
     ]
    },
    {
     "name": "stdout",
     "output_type": "stream",
     "text": [
      "Predicting...\n",
      "RandomForestClassifier(criterion='log_loss', max_features=None) 0.7041066178706185\n",
      "---------\n",
      "Fitting...\n"
     ]
    },
    {
     "name": "stderr",
     "output_type": "stream",
     "text": [
      " 96%|█████████▋| 26/27 [40:12<03:06, 186.89s/it]"
     ]
    },
    {
     "name": "stdout",
     "output_type": "stream",
     "text": [
      "Predicting...\n",
      "RandomForestClassifier(criterion='log_loss', max_features=None,\n",
      "                       n_estimators=150) 0.7033067257593781\n",
      "---------\n",
      "Fitting...\n",
      "Predicting...\n"
     ]
    },
    {
     "name": "stderr",
     "output_type": "stream",
     "text": [
      "100%|██████████| 27/27 [52:27<00:00, 116.58s/it]"
     ]
    },
    {
     "name": "stdout",
     "output_type": "stream",
     "text": [
      "RandomForestClassifier(criterion='log_loss', max_features=None,\n",
      "                       n_estimators=300) 0.7068016038273696\n",
      "---------\n"
     ]
    },
    {
     "name": "stderr",
     "output_type": "stream",
     "text": [
      "\n"
     ]
    }
   ],
   "source": [
    "param_grid = {'n_estimators' : [100,150,300],\n",
    "              'criterion': ['gini', 'entropy', 'log_loss'],\n",
    "              #'max_depth': [10,20,30,None],\n",
    "              'max_features': ['sqrt', 'log2', None]}\n",
    "\n",
    "clfs = []\n",
    "for configuration in tqdm(ParameterGrid(param_grid)):\n",
    "    print('Fitting...')\n",
    "    rf = RandomForestClassifier(**configuration).fit(X_train, y_train)\n",
    "    print('Predicting...')\n",
    "    preds = rf.predict(X_test)\n",
    "    score = f1_score(y_test, preds, average='macro')\n",
    "    clfs.append((rf, score))\n",
    "    print(rf, score)\n",
    "    print('---------')"
   ]
  },
  {
   "cell_type": "code",
   "execution_count": 145,
   "metadata": {},
   "outputs": [
    {
     "data": {
      "text/plain": [
       "14"
      ]
     },
     "execution_count": 145,
     "metadata": {},
     "output_type": "execute_result"
    }
   ],
   "source": [
    "np.argmax([clf[-1] for clf in clfs])"
   ]
  },
  {
   "cell_type": "code",
   "execution_count": 146,
   "metadata": {},
   "outputs": [
    {
     "data": {
      "text/plain": [
       "(RandomForestClassifier(criterion='entropy', max_features='log2',\n",
       "                        n_estimators=300),\n",
       " 0.7121621367044788)"
      ]
     },
     "execution_count": 146,
     "metadata": {},
     "output_type": "execute_result"
    }
   ],
   "source": [
    "clfs[14]"
   ]
  },
  {
   "cell_type": "code",
   "execution_count": 175,
   "metadata": {},
   "outputs": [
    {
     "data": {
      "text/plain": [
       "((0.7195604395604396,), 0.7194650457477163, array([0.71951274]))"
      ]
     },
     "execution_count": 175,
     "metadata": {},
     "output_type": "execute_result"
    }
   ],
   "source": [
    "from sklearn.metrics import accuracy_score, recall_score\n",
    "preds = clfs[14][0].predict(X_test)\n",
    "a = accuracy_score(y_test, preds),\n",
    "r = recall_score(y_test, preds, average='macro')\n",
    "a, r, 2*(np.dot(a,r))/(a+r)"
   ]
  },
  {
   "cell_type": "code",
   "execution_count": 176,
   "metadata": {},
   "outputs": [
    {
     "name": "stdout",
     "output_type": "stream",
     "text": [
      "MLPClassifier(hidden_layer_sizes=(100, 5), random_state=42) 0.6664869226744735\n"
     ]
    },
    {
     "name": "stderr",
     "output_type": "stream",
     "text": [
      "/Users/lorenzo/opt/anaconda3/envs/data_science/lib/python3.10/site-packages/sklearn/neural_network/_multilayer_perceptron.py:702: ConvergenceWarning: Stochastic Optimizer: Maximum iterations (200) reached and the optimization hasn't converged yet.\n",
      "  warnings.warn(\n"
     ]
    }
   ],
   "source": [
    "from sklearn.neural_network import MLPClassifier\n",
    "mlp = MLPClassifier(hidden_layer_sizes=(100,5), random_state=42).fit(svm_X_train, svm_y_train)\n",
    "\n",
    "preds = mlp.predict(svm_X_test)\n",
    "score = f1_score(y_test, preds, average='macro')\n",
    "\n",
    "print(mlp, score)"
   ]
  },
  {
   "cell_type": "code",
   "execution_count": 168,
   "metadata": {},
   "outputs": [
    {
     "name": "stdout",
     "output_type": "stream",
     "text": [
      "KNeighborsClassifier(n_neighbors=1, weights='distance') 0.644797259748087\n"
     ]
    }
   ],
   "source": [
    "from sklearn.neighbors import KNeighborsClassifier\n",
    "\n",
    "knn = KNeighborsClassifier(n_neighbors=1, weights='distance').fit(X_train, y_train)\n",
    "\n",
    "preds = knn.predict(X_test)\n",
    "\n",
    "score = f1_score(y_test, preds, average = 'macro')\n",
    "\n",
    "print(knn, score)"
   ]
  },
  {
   "cell_type": "markdown",
   "metadata": {},
   "source": [
    "# prova one hot encoding"
   ]
  },
  {
   "cell_type": "code",
   "execution_count": 1,
   "metadata": {},
   "outputs": [
    {
     "data": {
      "text/html": [
       "<div>\n",
       "<style scoped>\n",
       "    .dataframe tbody tr th:only-of-type {\n",
       "        vertical-align: middle;\n",
       "    }\n",
       "\n",
       "    .dataframe tbody tr th {\n",
       "        vertical-align: top;\n",
       "    }\n",
       "\n",
       "    .dataframe thead th {\n",
       "        text-align: right;\n",
       "    }\n",
       "</style>\n",
       "<table border=\"1\" class=\"dataframe\">\n",
       "  <thead>\n",
       "    <tr style=\"text-align: right;\">\n",
       "      <th></th>\n",
       "      <th>emotion</th>\n",
       "      <th>filename</th>\n",
       "      <th>encoded_emotion</th>\n",
       "    </tr>\n",
       "  </thead>\n",
       "  <tbody>\n",
       "    <tr>\n",
       "      <th>0</th>\n",
       "      <td>Disgusted</td>\n",
       "      <td>0.wav</td>\n",
       "      <td>0</td>\n",
       "    </tr>\n",
       "    <tr>\n",
       "      <th>1</th>\n",
       "      <td>Fearful</td>\n",
       "      <td>1.wav</td>\n",
       "      <td>1</td>\n",
       "    </tr>\n",
       "    <tr>\n",
       "      <th>2</th>\n",
       "      <td>Neutral</td>\n",
       "      <td>2.wav</td>\n",
       "      <td>2</td>\n",
       "    </tr>\n",
       "    <tr>\n",
       "      <th>3</th>\n",
       "      <td>Happy</td>\n",
       "      <td>3.wav</td>\n",
       "      <td>3</td>\n",
       "    </tr>\n",
       "    <tr>\n",
       "      <th>4</th>\n",
       "      <td>Angry</td>\n",
       "      <td>4.wav</td>\n",
       "      <td>4</td>\n",
       "    </tr>\n",
       "  </tbody>\n",
       "</table>\n",
       "</div>"
      ],
      "text/plain": [
       "     emotion filename  encoded_emotion\n",
       "0  Disgusted    0.wav                0\n",
       "1    Fearful    1.wav                1\n",
       "2    Neutral    2.wav                2\n",
       "3      Happy    3.wav                3\n",
       "4      Angry    4.wav                4"
      ]
     },
     "execution_count": 1,
     "metadata": {},
     "output_type": "execute_result"
    }
   ],
   "source": [
    "import librosa\n",
    "import numpy as np\n",
    "import pandas as pd\n",
    "import matplotlib.pyplot as plt\n",
    "import os\n",
    "import seaborn as sns\n",
    "from tqdm import tqdm\n",
    "\n",
    "import utils\n",
    "\n",
    "path = './summer_2022_project/'\n",
    "audio_path = path + 'audio/'\n",
    "\n",
    "df = pd.read_csv(path+'development.csv', dtype={'filename':'string', 'emotion':'string'}) # set string as type\n",
    "eval_df = pd.read_csv(path+'evaluation.csv', dtype={'filename':'string'}) # set string as type\n",
    "\n",
    "labels = df.emotion.unique()\n",
    "labels_dict = {v:k for k,v in enumerate(labels)} #needed to transform categorical labels\n",
    "one_hot = utils.one_hot_encoder(labels.size)\n",
    "\n",
    "df['encoded_emotion'] = df['emotion'].map(labels_dict)\n",
    "df.head()"
   ]
  },
  {
   "cell_type": "code",
   "execution_count": 221,
   "metadata": {},
   "outputs": [
    {
     "name": "stderr",
     "output_type": "stream",
     "text": [
      "100%|██████████| 9597/9597 [02:11<00:00, 73.11it/s]\n"
     ]
    },
    {
     "data": {
      "text/html": [
       "<div>\n",
       "<style scoped>\n",
       "    .dataframe tbody tr th:only-of-type {\n",
       "        vertical-align: middle;\n",
       "    }\n",
       "\n",
       "    .dataframe tbody tr th {\n",
       "        vertical-align: top;\n",
       "    }\n",
       "\n",
       "    .dataframe thead th {\n",
       "        text-align: right;\n",
       "    }\n",
       "</style>\n",
       "<table border=\"1\" class=\"dataframe\">\n",
       "  <thead>\n",
       "    <tr style=\"text-align: right;\">\n",
       "      <th></th>\n",
       "      <th>duration</th>\n",
       "      <th>mfccs_mean</th>\n",
       "      <th>mfccs_std</th>\n",
       "      <th>delta_mfcc_mean</th>\n",
       "      <th>delta_mfcc_std</th>\n",
       "      <th>delta2_mfcc_mean</th>\n",
       "      <th>delta2_mfcc_std</th>\n",
       "      <th>zcr_mean</th>\n",
       "      <th>zcr_std</th>\n",
       "      <th>encoded_emotion</th>\n",
       "    </tr>\n",
       "  </thead>\n",
       "  <tbody>\n",
       "    <tr>\n",
       "      <th>0</th>\n",
       "      <td>2.169000</td>\n",
       "      <td>[-317.81097, 130.70448, -12.395517, 30.511158,...</td>\n",
       "      <td>[121.12228, 14.878011, 43.41631, 10.420819, 19...</td>\n",
       "      <td>[-0.8474461, 0.09749135, 0.33125877, -0.014412...</td>\n",
       "      <td>[27.83217, 2.1818287, 11.493292, 2.925932, 3.6...</td>\n",
       "      <td>[2.4709852, -0.6889033, -0.926084, -0.13175406...</td>\n",
       "      <td>[13.471112, 2.5428102, 5.78616, 1.4316927, 1.4...</td>\n",
       "      <td>0.101017</td>\n",
       "      <td>0.043887</td>\n",
       "      <td>[1.0, 0.0, 0.0, 0.0, 0.0, 0.0, 0.0]</td>\n",
       "    </tr>\n",
       "    <tr>\n",
       "      <th>1</th>\n",
       "      <td>2.669500</td>\n",
       "      <td>[-396.10388, 144.79655, 18.632975, 41.45097, -...</td>\n",
       "      <td>[56.79848, 17.845198, 25.344776, 11.786258, 14...</td>\n",
       "      <td>[0.15239239, -0.14539853, 0.1898662, -0.042617...</td>\n",
       "      <td>[9.222635, 3.3245676, 5.5552764, 2.3359957, 3....</td>\n",
       "      <td>[0.024261782, -0.22617248, 0.15344347, -0.0939...</td>\n",
       "      <td>[4.472004, 1.7439122, 3.423194, 1.8626183, 2.1...</td>\n",
       "      <td>0.067057</td>\n",
       "      <td>0.0188</td>\n",
       "      <td>[0.0, 1.0, 0.0, 0.0, 0.0, 0.0, 0.0]</td>\n",
       "    </tr>\n",
       "    <tr>\n",
       "      <th>2</th>\n",
       "      <td>3.837375</td>\n",
       "      <td>[-556.75964, 61.434036, -2.0914085, 13.791684,...</td>\n",
       "      <td>[204.68938, 48.95614, 32.23909, 19.827524, 20....</td>\n",
       "      <td>[0.05304133, 0.07402297, 0.07117597, 0.0667230...</td>\n",
       "      <td>[29.193336, 6.9536414, 6.429919, 4.2542844, 3....</td>\n",
       "      <td>[0.012825201, 0.017571567, 0.01579771, 0.01324...</td>\n",
       "      <td>[14.257467, 3.3208814, 5.055201, 2.933674, 2.2...</td>\n",
       "      <td>0.081445</td>\n",
       "      <td>0.052005</td>\n",
       "      <td>[0.0, 0.0, 1.0, 0.0, 0.0, 0.0, 0.0]</td>\n",
       "    </tr>\n",
       "    <tr>\n",
       "      <th>3</th>\n",
       "      <td>3.403625</td>\n",
       "      <td>[-570.33844, 53.714615, -5.7283487, 19.4942, -...</td>\n",
       "      <td>[229.19054, 38.00371, 32.08954, 20.652245, 27....</td>\n",
       "      <td>[-0.40987745, -0.12593555, 0.17347701, -0.0015...</td>\n",
       "      <td>[30.91453, 5.997112, 5.7959046, 4.2375636, 4.5...</td>\n",
       "      <td>[0.023708176, 0.0153127685, -0.0082633905, -0....</td>\n",
       "      <td>[12.5489645, 2.93022, 3.838187, 3.4667785, 2.7...</td>\n",
       "      <td>0.094916</td>\n",
       "      <td>0.048519</td>\n",
       "      <td>[0.0, 0.0, 0.0, 1.0, 0.0, 0.0, 0.0]</td>\n",
       "    </tr>\n",
       "    <tr>\n",
       "      <th>4</th>\n",
       "      <td>2.869750</td>\n",
       "      <td>[-167.22997, 97.66535, -14.925374, 16.654722, ...</td>\n",
       "      <td>[180.73991, 27.160816, 53.352364, 30.935242, 3...</td>\n",
       "      <td>[-0.4098132, -0.3095212, 0.13756083, 0.3111525...</td>\n",
       "      <td>[34.375626, 3.8496368, 11.931849, 7.0022345, 6...</td>\n",
       "      <td>[2.5584428, -0.2507055, -1.1245984, -0.2396748...</td>\n",
       "      <td>[16.160292, 2.720585, 6.601379, 3.5213737, 2.7...</td>\n",
       "      <td>0.123644</td>\n",
       "      <td>0.052133</td>\n",
       "      <td>[0.0, 0.0, 0.0, 0.0, 1.0, 0.0, 0.0]</td>\n",
       "    </tr>\n",
       "  </tbody>\n",
       "</table>\n",
       "</div>"
      ],
      "text/plain": [
       "   duration                                         mfccs_mean  \\\n",
       "0  2.169000  [-317.81097, 130.70448, -12.395517, 30.511158,...   \n",
       "1  2.669500  [-396.10388, 144.79655, 18.632975, 41.45097, -...   \n",
       "2  3.837375  [-556.75964, 61.434036, -2.0914085, 13.791684,...   \n",
       "3  3.403625  [-570.33844, 53.714615, -5.7283487, 19.4942, -...   \n",
       "4  2.869750  [-167.22997, 97.66535, -14.925374, 16.654722, ...   \n",
       "\n",
       "                                           mfccs_std  \\\n",
       "0  [121.12228, 14.878011, 43.41631, 10.420819, 19...   \n",
       "1  [56.79848, 17.845198, 25.344776, 11.786258, 14...   \n",
       "2  [204.68938, 48.95614, 32.23909, 19.827524, 20....   \n",
       "3  [229.19054, 38.00371, 32.08954, 20.652245, 27....   \n",
       "4  [180.73991, 27.160816, 53.352364, 30.935242, 3...   \n",
       "\n",
       "                                     delta_mfcc_mean  \\\n",
       "0  [-0.8474461, 0.09749135, 0.33125877, -0.014412...   \n",
       "1  [0.15239239, -0.14539853, 0.1898662, -0.042617...   \n",
       "2  [0.05304133, 0.07402297, 0.07117597, 0.0667230...   \n",
       "3  [-0.40987745, -0.12593555, 0.17347701, -0.0015...   \n",
       "4  [-0.4098132, -0.3095212, 0.13756083, 0.3111525...   \n",
       "\n",
       "                                      delta_mfcc_std  \\\n",
       "0  [27.83217, 2.1818287, 11.493292, 2.925932, 3.6...   \n",
       "1  [9.222635, 3.3245676, 5.5552764, 2.3359957, 3....   \n",
       "2  [29.193336, 6.9536414, 6.429919, 4.2542844, 3....   \n",
       "3  [30.91453, 5.997112, 5.7959046, 4.2375636, 4.5...   \n",
       "4  [34.375626, 3.8496368, 11.931849, 7.0022345, 6...   \n",
       "\n",
       "                                    delta2_mfcc_mean  \\\n",
       "0  [2.4709852, -0.6889033, -0.926084, -0.13175406...   \n",
       "1  [0.024261782, -0.22617248, 0.15344347, -0.0939...   \n",
       "2  [0.012825201, 0.017571567, 0.01579771, 0.01324...   \n",
       "3  [0.023708176, 0.0153127685, -0.0082633905, -0....   \n",
       "4  [2.5584428, -0.2507055, -1.1245984, -0.2396748...   \n",
       "\n",
       "                                     delta2_mfcc_std  zcr_mean   zcr_std  \\\n",
       "0  [13.471112, 2.5428102, 5.78616, 1.4316927, 1.4...  0.101017  0.043887   \n",
       "1  [4.472004, 1.7439122, 3.423194, 1.8626183, 2.1...  0.067057    0.0188   \n",
       "2  [14.257467, 3.3208814, 5.055201, 2.933674, 2.2...  0.081445  0.052005   \n",
       "3  [12.5489645, 2.93022, 3.838187, 3.4667785, 2.7...  0.094916  0.048519   \n",
       "4  [16.160292, 2.720585, 6.601379, 3.5213737, 2.7...  0.123644  0.052133   \n",
       "\n",
       "                       encoded_emotion  \n",
       "0  [1.0, 0.0, 0.0, 0.0, 0.0, 0.0, 0.0]  \n",
       "1  [0.0, 1.0, 0.0, 0.0, 0.0, 0.0, 0.0]  \n",
       "2  [0.0, 0.0, 1.0, 0.0, 0.0, 0.0, 0.0]  \n",
       "3  [0.0, 0.0, 0.0, 1.0, 0.0, 0.0, 0.0]  \n",
       "4  [0.0, 0.0, 0.0, 0.0, 1.0, 0.0, 0.0]  "
      ]
     },
     "execution_count": 221,
     "metadata": {},
     "output_type": "execute_result"
    }
   ],
   "source": [
    "# MEAN and STD no concatenation\n",
    "d = dict()\n",
    "for filename in tqdm(df.filename):\n",
    "    d1 = dict()\n",
    "    y, sr = librosa.load(audio_path+filename, sr=None)\n",
    "    d1['duration'] = y.shape[0]/sr\n",
    "    mfccs = librosa.feature.mfcc(y=y, sr=sr, n_mfcc=13)\n",
    "    d1['mfccs_mean'] = mfccs.mean(axis=-1)\n",
    "    d1['mfccs_std'] = mfccs.std(axis=-1)\n",
    "    d1['delta_mfcc_mean'] = librosa.feature.delta(mfccs, order=1).mean(axis=-1)\n",
    "    d1['delta_mfcc_std'] = librosa.feature.delta(mfccs, order=1).std(axis=-1)\n",
    "    d1['delta2_mfcc_mean'] = librosa.feature.delta(mfccs, order=2).mean(axis=-1)\n",
    "    d1['delta2_mfcc_std'] = librosa.feature.delta(mfccs, order=2).std(axis=-1)\n",
    "    d1['zcr_mean'] = librosa.feature.zero_crossing_rate(y).mean(axis=-1)[0]\n",
    "    d1['zcr_std'] = librosa.feature.zero_crossing_rate(y).std(axis=-1)[0]\n",
    "    d[(int)(filename.split('.')[0])] = d1\n",
    "\n",
    "temp_df = pd.DataFrame.from_dict(d).T    \n",
    "\n",
    "temp_df['encoded_emotion'] = df.encoded_emotion\n",
    "#temp_df['max_sample'] = temp_df['samples'].map(lambda x: max(x))\n",
    "temp_df = temp_df.astype({'duration':float})\n",
    "temp_df.head()\n",
    "    "
   ]
  },
  {
   "cell_type": "code",
   "execution_count": 2,
   "metadata": {},
   "outputs": [
    {
     "name": "stderr",
     "output_type": "stream",
     "text": [
      "100%|██████████| 9597/9597 [01:31<00:00, 104.44it/s]\n"
     ]
    },
    {
     "data": {
      "text/html": [
       "<div>\n",
       "<style scoped>\n",
       "    .dataframe tbody tr th:only-of-type {\n",
       "        vertical-align: middle;\n",
       "    }\n",
       "\n",
       "    .dataframe tbody tr th {\n",
       "        vertical-align: top;\n",
       "    }\n",
       "\n",
       "    .dataframe thead th {\n",
       "        text-align: right;\n",
       "    }\n",
       "</style>\n",
       "<table border=\"1\" class=\"dataframe\">\n",
       "  <thead>\n",
       "    <tr style=\"text-align: right;\">\n",
       "      <th></th>\n",
       "      <th>duration</th>\n",
       "      <th>mfccs</th>\n",
       "      <th>delta_mfcc</th>\n",
       "      <th>delta2_mfcc</th>\n",
       "      <th>zcr</th>\n",
       "      <th>encoded_emotion</th>\n",
       "    </tr>\n",
       "  </thead>\n",
       "  <tbody>\n",
       "    <tr>\n",
       "      <th>0</th>\n",
       "      <td>2.169000</td>\n",
       "      <td>[[-493.01044, -460.0894, -458.284, -457.54904,...</td>\n",
       "      <td>[[20.930767, 20.930767, 20.930767, 20.930767, ...</td>\n",
       "      <td>[[11.189412, 11.189412, 11.189412, 11.189412, ...</td>\n",
       "      <td>[[0.02392578125, 0.0380859375, 0.05126953125, ...</td>\n",
       "      <td>0</td>\n",
       "    </tr>\n",
       "    <tr>\n",
       "      <th>1</th>\n",
       "      <td>2.669500</td>\n",
       "      <td>[[-463.8445, -448.02594, -447.8502, -450.42685...</td>\n",
       "      <td>[[3.9649913, 3.9649913, 3.9649913, 3.9649913, ...</td>\n",
       "      <td>[[2.1696234, 2.1696234, 2.1696234, 2.1696234, ...</td>\n",
       "      <td>[[0.02734375, 0.041015625, 0.05126953125, 0.05...</td>\n",
       "      <td>1</td>\n",
       "    </tr>\n",
       "    <tr>\n",
       "      <th>2</th>\n",
       "      <td>3.837375</td>\n",
       "      <td>[[-766.99445, -767.2107, -767.1353, -765.2035,...</td>\n",
       "      <td>[[0.9491689, 0.9491689, 0.9491689, 0.9491689, ...</td>\n",
       "      <td>[[0.090565205, 0.090565205, 0.090565205, 0.090...</td>\n",
       "      <td>[[0.0107421875, 0.0234375, 0.029296875, 0.0263...</td>\n",
       "      <td>2</td>\n",
       "    </tr>\n",
       "    <tr>\n",
       "      <th>3</th>\n",
       "      <td>3.403625</td>\n",
       "      <td>[[-798.0724, -794.187, -791.83185, -790.31226,...</td>\n",
       "      <td>[[0.39514363, 0.39514363, 0.39514363, 0.395143...</td>\n",
       "      <td>[[-0.49802417, -0.49802417, -0.49802417, -0.49...</td>\n",
       "      <td>[[0.0146484375, 0.02978515625, 0.0537109375, 0...</td>\n",
       "      <td>3</td>\n",
       "    </tr>\n",
       "    <tr>\n",
       "      <th>4</th>\n",
       "      <td>2.869750</td>\n",
       "      <td>[[-435.62903, -414.33167, -411.86377, -410.227...</td>\n",
       "      <td>[[21.180897, 21.180897, 21.180897, 21.180897, ...</td>\n",
       "      <td>[[14.337309, 14.337309, 14.337309, 14.337309, ...</td>\n",
       "      <td>[[0.02880859375, 0.04443359375, 0.0595703125, ...</td>\n",
       "      <td>4</td>\n",
       "    </tr>\n",
       "  </tbody>\n",
       "</table>\n",
       "</div>"
      ],
      "text/plain": [
       "   duration                                              mfccs  \\\n",
       "0  2.169000  [[-493.01044, -460.0894, -458.284, -457.54904,...   \n",
       "1  2.669500  [[-463.8445, -448.02594, -447.8502, -450.42685...   \n",
       "2  3.837375  [[-766.99445, -767.2107, -767.1353, -765.2035,...   \n",
       "3  3.403625  [[-798.0724, -794.187, -791.83185, -790.31226,...   \n",
       "4  2.869750  [[-435.62903, -414.33167, -411.86377, -410.227...   \n",
       "\n",
       "                                          delta_mfcc  \\\n",
       "0  [[20.930767, 20.930767, 20.930767, 20.930767, ...   \n",
       "1  [[3.9649913, 3.9649913, 3.9649913, 3.9649913, ...   \n",
       "2  [[0.9491689, 0.9491689, 0.9491689, 0.9491689, ...   \n",
       "3  [[0.39514363, 0.39514363, 0.39514363, 0.395143...   \n",
       "4  [[21.180897, 21.180897, 21.180897, 21.180897, ...   \n",
       "\n",
       "                                         delta2_mfcc  \\\n",
       "0  [[11.189412, 11.189412, 11.189412, 11.189412, ...   \n",
       "1  [[2.1696234, 2.1696234, 2.1696234, 2.1696234, ...   \n",
       "2  [[0.090565205, 0.090565205, 0.090565205, 0.090...   \n",
       "3  [[-0.49802417, -0.49802417, -0.49802417, -0.49...   \n",
       "4  [[14.337309, 14.337309, 14.337309, 14.337309, ...   \n",
       "\n",
       "                                                 zcr  encoded_emotion  \n",
       "0  [[0.02392578125, 0.0380859375, 0.05126953125, ...                0  \n",
       "1  [[0.02734375, 0.041015625, 0.05126953125, 0.05...                1  \n",
       "2  [[0.0107421875, 0.0234375, 0.029296875, 0.0263...                2  \n",
       "3  [[0.0146484375, 0.02978515625, 0.0537109375, 0...                3  \n",
       "4  [[0.02880859375, 0.04443359375, 0.0595703125, ...                4  "
      ]
     },
     "execution_count": 2,
     "metadata": {},
     "output_type": "execute_result"
    }
   ],
   "source": [
    "d = dict()\n",
    "for filename in tqdm(df.filename):\n",
    "    d1 = dict()\n",
    "    y, sr = librosa.load(audio_path+filename, sr=None)\n",
    "    d1['duration'] = y.shape[0]/sr\n",
    "    mfccs = librosa.feature.mfcc(y=y, sr=sr, n_mfcc=13)\n",
    "    d1['mfccs'] = mfccs\n",
    "    d1['delta_mfcc'] = librosa.feature.delta(mfccs, order=1)\n",
    "    d1['delta2_mfcc'] = librosa.feature.delta(mfccs, order=2)\n",
    "    d1['zcr'] = librosa.feature.zero_crossing_rate(y)    \n",
    "    d[(int)(filename.split('.')[0])] = d1\n",
    "\n",
    "temp_df = pd.DataFrame.from_dict(d).T    \n",
    "\n",
    "temp_df['encoded_emotion'] = df.encoded_emotion\n",
    "#temp_df['max_sample'] = temp_df['samples'].map(lambda x: max(x))\n",
    "temp_df = temp_df.astype({'duration':float})\n",
    "temp_df.head()"
   ]
  },
  {
   "cell_type": "code",
   "execution_count": 5,
   "metadata": {},
   "outputs": [
    {
     "name": "stderr",
     "output_type": "stream",
     "text": [
      "  0%|          | 0/2 [00:00<?, ?it/s]"
     ]
    },
    {
     "name": "stdout",
     "output_type": "stream",
     "text": [
      "2\n"
     ]
    },
    {
     "name": "stderr",
     "output_type": "stream",
     "text": [
      "  0%|          | 0/2 [00:11<?, ?it/s]"
     ]
    },
    {
     "name": "stdout",
     "output_type": "stream",
     "text": [
      "0    [1, 0, 0, 0, 0, 0, 0]\n",
      "1    [0, 1, 0, 0, 0, 0, 0]\n",
      "2    [0, 0, 1, 0, 0, 0, 0]\n",
      "Name: encoded_emotion, dtype: object\n",
      "Fitting SVC...\n"
     ]
    },
    {
     "name": "stderr",
     "output_type": "stream",
     "text": [
      "\n"
     ]
    },
    {
     "ename": "AttributeError",
     "evalue": "'bool' object has no attribute 'any'",
     "output_type": "error",
     "traceback": [
      "\u001b[0;31m---------------------------------------------------------------------------\u001b[0m",
      "\u001b[0;31mAttributeError\u001b[0m                            Traceback (most recent call last)",
      "\u001b[1;32m/Users/lorenzo/Documents/Lorenzo/Università/Magistrale/I anno/00_Data Science Lab/2021_2022/audio_emotion_classification/freq_time_domain.ipynb Cell 42'\u001b[0m in \u001b[0;36m<cell line: 15>\u001b[0;34m()\u001b[0m\n\u001b[1;32m     <a href='vscode-notebook-cell:/Users/lorenzo/Documents/Lorenzo/Universit%C3%A0/Magistrale/I%20anno/00_Data%20Science%20Lab/2021_2022/audio_emotion_classification/freq_time_domain.ipynb#ch0000065?line=69'>70</a>\u001b[0m \u001b[39m# scaled data\u001b[39;00m\n\u001b[1;32m     <a href='vscode-notebook-cell:/Users/lorenzo/Documents/Lorenzo/Universit%C3%A0/Magistrale/I%20anno/00_Data%20Science%20Lab/2021_2022/audio_emotion_classification/freq_time_domain.ipynb#ch0000065?line=70'>71</a>\u001b[0m \u001b[39mprint\u001b[39m(\u001b[39m'\u001b[39m\u001b[39mFitting SVC...\u001b[39m\u001b[39m'\u001b[39m)\n\u001b[0;32m---> <a href='vscode-notebook-cell:/Users/lorenzo/Documents/Lorenzo/Universit%C3%A0/Magistrale/I%20anno/00_Data%20Science%20Lab/2021_2022/audio_emotion_classification/freq_time_domain.ipynb#ch0000065?line=71'>72</a>\u001b[0m svm \u001b[39m=\u001b[39m SVC()\u001b[39m.\u001b[39;49mfit(svm_X_train, y_train)\n\u001b[1;32m     <a href='vscode-notebook-cell:/Users/lorenzo/Documents/Lorenzo/Universit%C3%A0/Magistrale/I%20anno/00_Data%20Science%20Lab/2021_2022/audio_emotion_classification/freq_time_domain.ipynb#ch0000065?line=72'>73</a>\u001b[0m \u001b[39mprint\u001b[39m(\u001b[39m'\u001b[39m\u001b[39mPredicting using SVC...\u001b[39m\u001b[39m'\u001b[39m)\n\u001b[1;32m     <a href='vscode-notebook-cell:/Users/lorenzo/Documents/Lorenzo/Universit%C3%A0/Magistrale/I%20anno/00_Data%20Science%20Lab/2021_2022/audio_emotion_classification/freq_time_domain.ipynb#ch0000065?line=73'>74</a>\u001b[0m svm_preds \u001b[39m=\u001b[39m svm\u001b[39m.\u001b[39mpredict(svm_X_test)\n",
      "File \u001b[0;32m~/opt/anaconda3/envs/data_science/lib/python3.10/site-packages/sklearn/svm/_base.py:173\u001b[0m, in \u001b[0;36mBaseLibSVM.fit\u001b[0;34m(self, X, y, sample_weight)\u001b[0m\n\u001b[1;32m    <a href='file:///Users/lorenzo/opt/anaconda3/envs/data_science/lib/python3.10/site-packages/sklearn/svm/_base.py?line=170'>171</a>\u001b[0m     check_consistent_length(X, y)\n\u001b[1;32m    <a href='file:///Users/lorenzo/opt/anaconda3/envs/data_science/lib/python3.10/site-packages/sklearn/svm/_base.py?line=171'>172</a>\u001b[0m \u001b[39melse\u001b[39;00m:\n\u001b[0;32m--> <a href='file:///Users/lorenzo/opt/anaconda3/envs/data_science/lib/python3.10/site-packages/sklearn/svm/_base.py?line=172'>173</a>\u001b[0m     X, y \u001b[39m=\u001b[39m \u001b[39mself\u001b[39;49m\u001b[39m.\u001b[39;49m_validate_data(\n\u001b[1;32m    <a href='file:///Users/lorenzo/opt/anaconda3/envs/data_science/lib/python3.10/site-packages/sklearn/svm/_base.py?line=173'>174</a>\u001b[0m         X,\n\u001b[1;32m    <a href='file:///Users/lorenzo/opt/anaconda3/envs/data_science/lib/python3.10/site-packages/sklearn/svm/_base.py?line=174'>175</a>\u001b[0m         y,\n\u001b[1;32m    <a href='file:///Users/lorenzo/opt/anaconda3/envs/data_science/lib/python3.10/site-packages/sklearn/svm/_base.py?line=175'>176</a>\u001b[0m         dtype\u001b[39m=\u001b[39;49mnp\u001b[39m.\u001b[39;49mfloat64,\n\u001b[1;32m    <a href='file:///Users/lorenzo/opt/anaconda3/envs/data_science/lib/python3.10/site-packages/sklearn/svm/_base.py?line=176'>177</a>\u001b[0m         order\u001b[39m=\u001b[39;49m\u001b[39m\"\u001b[39;49m\u001b[39mC\u001b[39;49m\u001b[39m\"\u001b[39;49m,\n\u001b[1;32m    <a href='file:///Users/lorenzo/opt/anaconda3/envs/data_science/lib/python3.10/site-packages/sklearn/svm/_base.py?line=177'>178</a>\u001b[0m         accept_sparse\u001b[39m=\u001b[39;49m\u001b[39m\"\u001b[39;49m\u001b[39mcsr\u001b[39;49m\u001b[39m\"\u001b[39;49m,\n\u001b[1;32m    <a href='file:///Users/lorenzo/opt/anaconda3/envs/data_science/lib/python3.10/site-packages/sklearn/svm/_base.py?line=178'>179</a>\u001b[0m         accept_large_sparse\u001b[39m=\u001b[39;49m\u001b[39mFalse\u001b[39;49;00m,\n\u001b[1;32m    <a href='file:///Users/lorenzo/opt/anaconda3/envs/data_science/lib/python3.10/site-packages/sklearn/svm/_base.py?line=179'>180</a>\u001b[0m     )\n\u001b[1;32m    <a href='file:///Users/lorenzo/opt/anaconda3/envs/data_science/lib/python3.10/site-packages/sklearn/svm/_base.py?line=181'>182</a>\u001b[0m y \u001b[39m=\u001b[39m \u001b[39mself\u001b[39m\u001b[39m.\u001b[39m_validate_targets(y)\n\u001b[1;32m    <a href='file:///Users/lorenzo/opt/anaconda3/envs/data_science/lib/python3.10/site-packages/sklearn/svm/_base.py?line=183'>184</a>\u001b[0m sample_weight \u001b[39m=\u001b[39m np\u001b[39m.\u001b[39masarray(\n\u001b[1;32m    <a href='file:///Users/lorenzo/opt/anaconda3/envs/data_science/lib/python3.10/site-packages/sklearn/svm/_base.py?line=184'>185</a>\u001b[0m     [] \u001b[39mif\u001b[39;00m sample_weight \u001b[39mis\u001b[39;00m \u001b[39mNone\u001b[39;00m \u001b[39melse\u001b[39;00m sample_weight, dtype\u001b[39m=\u001b[39mnp\u001b[39m.\u001b[39mfloat64\n\u001b[1;32m    <a href='file:///Users/lorenzo/opt/anaconda3/envs/data_science/lib/python3.10/site-packages/sklearn/svm/_base.py?line=185'>186</a>\u001b[0m )\n",
      "File \u001b[0;32m~/opt/anaconda3/envs/data_science/lib/python3.10/site-packages/sklearn/base.py:596\u001b[0m, in \u001b[0;36mBaseEstimator._validate_data\u001b[0;34m(self, X, y, reset, validate_separately, **check_params)\u001b[0m\n\u001b[1;32m    <a href='file:///Users/lorenzo/opt/anaconda3/envs/data_science/lib/python3.10/site-packages/sklearn/base.py?line=593'>594</a>\u001b[0m         y \u001b[39m=\u001b[39m check_array(y, input_name\u001b[39m=\u001b[39m\u001b[39m\"\u001b[39m\u001b[39my\u001b[39m\u001b[39m\"\u001b[39m, \u001b[39m*\u001b[39m\u001b[39m*\u001b[39mcheck_y_params)\n\u001b[1;32m    <a href='file:///Users/lorenzo/opt/anaconda3/envs/data_science/lib/python3.10/site-packages/sklearn/base.py?line=594'>595</a>\u001b[0m     \u001b[39melse\u001b[39;00m:\n\u001b[0;32m--> <a href='file:///Users/lorenzo/opt/anaconda3/envs/data_science/lib/python3.10/site-packages/sklearn/base.py?line=595'>596</a>\u001b[0m         X, y \u001b[39m=\u001b[39m check_X_y(X, y, \u001b[39m*\u001b[39;49m\u001b[39m*\u001b[39;49mcheck_params)\n\u001b[1;32m    <a href='file:///Users/lorenzo/opt/anaconda3/envs/data_science/lib/python3.10/site-packages/sklearn/base.py?line=596'>597</a>\u001b[0m     out \u001b[39m=\u001b[39m X, y\n\u001b[1;32m    <a href='file:///Users/lorenzo/opt/anaconda3/envs/data_science/lib/python3.10/site-packages/sklearn/base.py?line=598'>599</a>\u001b[0m \u001b[39mif\u001b[39;00m \u001b[39mnot\u001b[39;00m no_val_X \u001b[39mand\u001b[39;00m check_params\u001b[39m.\u001b[39mget(\u001b[39m\"\u001b[39m\u001b[39mensure_2d\u001b[39m\u001b[39m\"\u001b[39m, \u001b[39mTrue\u001b[39;00m):\n",
      "File \u001b[0;32m~/opt/anaconda3/envs/data_science/lib/python3.10/site-packages/sklearn/utils/validation.py:1090\u001b[0m, in \u001b[0;36mcheck_X_y\u001b[0;34m(X, y, accept_sparse, accept_large_sparse, dtype, order, copy, force_all_finite, ensure_2d, allow_nd, multi_output, ensure_min_samples, ensure_min_features, y_numeric, estimator)\u001b[0m\n\u001b[1;32m   <a href='file:///Users/lorenzo/opt/anaconda3/envs/data_science/lib/python3.10/site-packages/sklearn/utils/validation.py?line=1069'>1070</a>\u001b[0m     \u001b[39mraise\u001b[39;00m \u001b[39mValueError\u001b[39;00m(\n\u001b[1;32m   <a href='file:///Users/lorenzo/opt/anaconda3/envs/data_science/lib/python3.10/site-packages/sklearn/utils/validation.py?line=1070'>1071</a>\u001b[0m         \u001b[39mf\u001b[39m\u001b[39m\"\u001b[39m\u001b[39m{\u001b[39;00mestimator_name\u001b[39m}\u001b[39;00m\u001b[39m requires y to be passed, but the target y is None\u001b[39m\u001b[39m\"\u001b[39m\n\u001b[1;32m   <a href='file:///Users/lorenzo/opt/anaconda3/envs/data_science/lib/python3.10/site-packages/sklearn/utils/validation.py?line=1071'>1072</a>\u001b[0m     )\n\u001b[1;32m   <a href='file:///Users/lorenzo/opt/anaconda3/envs/data_science/lib/python3.10/site-packages/sklearn/utils/validation.py?line=1073'>1074</a>\u001b[0m X \u001b[39m=\u001b[39m check_array(\n\u001b[1;32m   <a href='file:///Users/lorenzo/opt/anaconda3/envs/data_science/lib/python3.10/site-packages/sklearn/utils/validation.py?line=1074'>1075</a>\u001b[0m     X,\n\u001b[1;32m   <a href='file:///Users/lorenzo/opt/anaconda3/envs/data_science/lib/python3.10/site-packages/sklearn/utils/validation.py?line=1075'>1076</a>\u001b[0m     accept_sparse\u001b[39m=\u001b[39maccept_sparse,\n\u001b[0;32m   (...)\u001b[0m\n\u001b[1;32m   <a href='file:///Users/lorenzo/opt/anaconda3/envs/data_science/lib/python3.10/site-packages/sklearn/utils/validation.py?line=1086'>1087</a>\u001b[0m     input_name\u001b[39m=\u001b[39m\u001b[39m\"\u001b[39m\u001b[39mX\u001b[39m\u001b[39m\"\u001b[39m,\n\u001b[1;32m   <a href='file:///Users/lorenzo/opt/anaconda3/envs/data_science/lib/python3.10/site-packages/sklearn/utils/validation.py?line=1087'>1088</a>\u001b[0m )\n\u001b[0;32m-> <a href='file:///Users/lorenzo/opt/anaconda3/envs/data_science/lib/python3.10/site-packages/sklearn/utils/validation.py?line=1089'>1090</a>\u001b[0m y \u001b[39m=\u001b[39m _check_y(y, multi_output\u001b[39m=\u001b[39;49mmulti_output, y_numeric\u001b[39m=\u001b[39;49my_numeric, estimator\u001b[39m=\u001b[39;49mestimator)\n\u001b[1;32m   <a href='file:///Users/lorenzo/opt/anaconda3/envs/data_science/lib/python3.10/site-packages/sklearn/utils/validation.py?line=1091'>1092</a>\u001b[0m check_consistent_length(X, y)\n\u001b[1;32m   <a href='file:///Users/lorenzo/opt/anaconda3/envs/data_science/lib/python3.10/site-packages/sklearn/utils/validation.py?line=1093'>1094</a>\u001b[0m \u001b[39mreturn\u001b[39;00m X, y\n",
      "File \u001b[0;32m~/opt/anaconda3/envs/data_science/lib/python3.10/site-packages/sklearn/utils/validation.py:1112\u001b[0m, in \u001b[0;36m_check_y\u001b[0;34m(y, multi_output, y_numeric, estimator)\u001b[0m\n\u001b[1;32m   <a href='file:///Users/lorenzo/opt/anaconda3/envs/data_science/lib/python3.10/site-packages/sklearn/utils/validation.py?line=1109'>1110</a>\u001b[0m     estimator_name \u001b[39m=\u001b[39m _check_estimator_name(estimator)\n\u001b[1;32m   <a href='file:///Users/lorenzo/opt/anaconda3/envs/data_science/lib/python3.10/site-packages/sklearn/utils/validation.py?line=1110'>1111</a>\u001b[0m     y \u001b[39m=\u001b[39m column_or_1d(y, warn\u001b[39m=\u001b[39m\u001b[39mTrue\u001b[39;00m)\n\u001b[0;32m-> <a href='file:///Users/lorenzo/opt/anaconda3/envs/data_science/lib/python3.10/site-packages/sklearn/utils/validation.py?line=1111'>1112</a>\u001b[0m     _assert_all_finite(y, input_name\u001b[39m=\u001b[39;49m\u001b[39m\"\u001b[39;49m\u001b[39my\u001b[39;49m\u001b[39m\"\u001b[39;49m, estimator_name\u001b[39m=\u001b[39;49mestimator_name)\n\u001b[1;32m   <a href='file:///Users/lorenzo/opt/anaconda3/envs/data_science/lib/python3.10/site-packages/sklearn/utils/validation.py?line=1112'>1113</a>\u001b[0m     _ensure_no_complex_data(y)\n\u001b[1;32m   <a href='file:///Users/lorenzo/opt/anaconda3/envs/data_science/lib/python3.10/site-packages/sklearn/utils/validation.py?line=1113'>1114</a>\u001b[0m \u001b[39mif\u001b[39;00m y_numeric \u001b[39mand\u001b[39;00m y\u001b[39m.\u001b[39mdtype\u001b[39m.\u001b[39mkind \u001b[39m==\u001b[39m \u001b[39m\"\u001b[39m\u001b[39mO\u001b[39m\u001b[39m\"\u001b[39m:\n",
      "File \u001b[0;32m~/opt/anaconda3/envs/data_science/lib/python3.10/site-packages/sklearn/utils/validation.py:150\u001b[0m, in \u001b[0;36m_assert_all_finite\u001b[0;34m(X, allow_nan, msg_dtype, estimator_name, input_name)\u001b[0m\n\u001b[1;32m    <a href='file:///Users/lorenzo/opt/anaconda3/envs/data_science/lib/python3.10/site-packages/sklearn/utils/validation.py?line=147'>148</a>\u001b[0m \u001b[39m# for object dtype data, we only check for NaNs (GH-13254)\u001b[39;00m\n\u001b[1;32m    <a href='file:///Users/lorenzo/opt/anaconda3/envs/data_science/lib/python3.10/site-packages/sklearn/utils/validation.py?line=148'>149</a>\u001b[0m \u001b[39melif\u001b[39;00m X\u001b[39m.\u001b[39mdtype \u001b[39m==\u001b[39m np\u001b[39m.\u001b[39mdtype(\u001b[39m\"\u001b[39m\u001b[39mobject\u001b[39m\u001b[39m\"\u001b[39m) \u001b[39mand\u001b[39;00m \u001b[39mnot\u001b[39;00m allow_nan:\n\u001b[0;32m--> <a href='file:///Users/lorenzo/opt/anaconda3/envs/data_science/lib/python3.10/site-packages/sklearn/utils/validation.py?line=149'>150</a>\u001b[0m     \u001b[39mif\u001b[39;00m _object_dtype_isnan(X)\u001b[39m.\u001b[39;49many():\n\u001b[1;32m    <a href='file:///Users/lorenzo/opt/anaconda3/envs/data_science/lib/python3.10/site-packages/sklearn/utils/validation.py?line=150'>151</a>\u001b[0m         \u001b[39mraise\u001b[39;00m \u001b[39mValueError\u001b[39;00m(\u001b[39m\"\u001b[39m\u001b[39mInput contains NaN\u001b[39m\u001b[39m\"\u001b[39m)\n",
      "\u001b[0;31mAttributeError\u001b[0m: 'bool' object has no attribute 'any'"
     ]
    }
   ],
   "source": [
    "from sklearn.preprocessing import MinMaxScaler\n",
    "from sklearn.neural_network import MLPClassifier\n",
    "from sklearn.svm import SVC\n",
    "from sklearn.neighbors import KNeighborsClassifier\n",
    "from sklearn.model_selection import train_test_split\n",
    "from sklearn.metrics import f1_score\n",
    "from imblearn.over_sampling import SMOTE\n",
    "\n",
    "# ns = list(range(4,41,4))\n",
    "ns = list(range(2,9, 2))\n",
    "scores_rf = []\n",
    "scores_svm = []\n",
    "scores_mlp = []\n",
    "scores_knn = []\n",
    "for n in tqdm(ns[:2]):\n",
    "    print(n)\n",
    "    dictionary = dict()\n",
    "    features = ['mfccs']\n",
    "\n",
    "    prova = dict()\n",
    "    for row in temp_df.index:\n",
    "        for f in features:\n",
    "            prova[row] = utils.compute_feature(utils.flatten(utils.divide_matrix(temp_df[f].loc[row], num_rows=n, num_columns=n)), prefix=f)\n",
    "        \n",
    "\n",
    "    n_df = pd.DataFrame.from_dict(prova).T\n",
    "    n_df['duration'] = temp_df.duration\n",
    "    n_df['min_zcr'] = temp_df.zcr.map(lambda x: min(utils.flatten(list(x))))\n",
    "    n_df['max_zcr'] = temp_df.zcr.map(lambda x: max(utils.flatten(list(x))))\n",
    "    n_df['encoded_emotion'] = temp_df.encoded_emotion\n",
    "    n_df.head()\n",
    "    \n",
    "    np.random.seed(0) #to make experiments reproducible\n",
    "\n",
    "\n",
    "    smote = SMOTE(random_state=42)\n",
    "\n",
    "    X, y = n_df[n_df.columns[:-1]], n_df[n_df.columns[-1]]\n",
    "    X_res, y_res = smote.fit_resample(X,y)\n",
    "    \n",
    "    y_res = y_res.map(one_hot)\n",
    "    print(y_res[:3])\n",
    "    minmax = MinMaxScaler()\n",
    "    svm_X_res = minmax.fit_transform(X_res)\n",
    "\n",
    "    X_train, X_test, y_train, y_test = train_test_split(X_res, y_res, test_size=.2, random_state=42)\n",
    "    svm_X_train, svm_X_test, svm_y_train, svm_y_test = train_test_split(svm_X_res, y_res, test_size=.2, random_state=42)\n",
    "\n",
    "    #y_train = y_train.astype(int)\n",
    "    #y_test = y_test.astype(int)\n",
    "\n",
    "    # no scaled data\n",
    "    '''print('Fitting RF...')\n",
    "    rf = RandomForestClassifier().fit(X_train, y_train) # plain rf\n",
    "    print('Predicting using RF...')\n",
    "    preds = rf.predict(X_test)\n",
    "    score = f1_score(y_test, preds, average='macro')\n",
    "    scores_rf.append(score)\n",
    "    print(rf, score)\n",
    "    \n",
    "    knn = KNeighborsClassifier().fit(X_train, y_train)\n",
    "\n",
    "    preds = knn.predict(X_test)\n",
    "\n",
    "    score = f1_score(y_test, preds, average = 'macro')\n",
    "    scores_knn.append((knn, score))\n",
    "    print(knn, score)\n",
    "    '''\n",
    "\n",
    "    # scaled data\n",
    "    print('Fitting SVC...')\n",
    "    svm = SVC().fit(svm_X_train, y_train)\n",
    "    print('Predicting using SVC...')\n",
    "    svm_preds = svm.predict(svm_X_test)\n",
    "    svm_score = f1_score(y_test, svm_preds, average='macro')\n",
    "    scores_svm.append(svm_score)\n",
    "    print(svm, svm_score)\n",
    "    \n",
    "    mlp = MLPClassifier(random_state=42).fit(svm_X_train, svm_y_train)\n",
    "\n",
    "    preds = mlp.predict(svm_X_test)\n",
    "    score = f1_score(y_test, preds, average='macro')\n",
    "    scores_mlp.append((mlp, score))\n",
    "    print(mlp, score)\n",
    "    \n",
    "plt.figure(figsize=(12,10))\n",
    "plt.title('F1 macro')\n",
    "#plt.plot(ns, scores_rf, label='RF')\n",
    "plt.plot(ns, scores_knn, label='KNN')\n",
    "plt.plot(ns, scores_svm, label='SVM')\n",
    "plt.plot(ns, scores_mlp, label='MLP')\n",
    "plt.legend()\n",
    "plt.show()"
   ]
  },
  {
   "cell_type": "code",
   "execution_count": null,
   "metadata": {},
   "outputs": [],
   "source": []
  },
  {
   "cell_type": "code",
   "execution_count": null,
   "metadata": {},
   "outputs": [],
   "source": []
  },
  {
   "cell_type": "code",
   "execution_count": null,
   "metadata": {},
   "outputs": [],
   "source": []
  },
  {
   "cell_type": "code",
   "execution_count": null,
   "metadata": {},
   "outputs": [],
   "source": []
  },
  {
   "cell_type": "code",
   "execution_count": null,
   "metadata": {},
   "outputs": [],
   "source": []
  },
  {
   "cell_type": "code",
   "execution_count": null,
   "metadata": {},
   "outputs": [],
   "source": []
  },
  {
   "cell_type": "code",
   "execution_count": null,
   "metadata": {},
   "outputs": [],
   "source": []
  },
  {
   "cell_type": "code",
   "execution_count": null,
   "metadata": {},
   "outputs": [],
   "source": []
  },
  {
   "cell_type": "markdown",
   "metadata": {},
   "source": [
    "# TRIAL WITH n MFCCs where every coefficient is averaged along time axis"
   ]
  },
  {
   "cell_type": "code",
   "execution_count": 3,
   "metadata": {},
   "outputs": [
    {
     "data": {
      "text/html": [
       "<div>\n",
       "<style scoped>\n",
       "    .dataframe tbody tr th:only-of-type {\n",
       "        vertical-align: middle;\n",
       "    }\n",
       "\n",
       "    .dataframe tbody tr th {\n",
       "        vertical-align: top;\n",
       "    }\n",
       "\n",
       "    .dataframe thead th {\n",
       "        text-align: right;\n",
       "    }\n",
       "</style>\n",
       "<table border=\"1\" class=\"dataframe\">\n",
       "  <thead>\n",
       "    <tr style=\"text-align: right;\">\n",
       "      <th></th>\n",
       "      <th>emotion</th>\n",
       "      <th>filename</th>\n",
       "      <th>encoded_emotion</th>\n",
       "    </tr>\n",
       "  </thead>\n",
       "  <tbody>\n",
       "    <tr>\n",
       "      <th>0</th>\n",
       "      <td>Disgusted</td>\n",
       "      <td>0.wav</td>\n",
       "      <td>0</td>\n",
       "    </tr>\n",
       "    <tr>\n",
       "      <th>1</th>\n",
       "      <td>Fearful</td>\n",
       "      <td>1.wav</td>\n",
       "      <td>1</td>\n",
       "    </tr>\n",
       "    <tr>\n",
       "      <th>2</th>\n",
       "      <td>Neutral</td>\n",
       "      <td>2.wav</td>\n",
       "      <td>2</td>\n",
       "    </tr>\n",
       "    <tr>\n",
       "      <th>3</th>\n",
       "      <td>Happy</td>\n",
       "      <td>3.wav</td>\n",
       "      <td>3</td>\n",
       "    </tr>\n",
       "    <tr>\n",
       "      <th>4</th>\n",
       "      <td>Angry</td>\n",
       "      <td>4.wav</td>\n",
       "      <td>4</td>\n",
       "    </tr>\n",
       "  </tbody>\n",
       "</table>\n",
       "</div>"
      ],
      "text/plain": [
       "     emotion filename  encoded_emotion\n",
       "0  Disgusted    0.wav                0\n",
       "1    Fearful    1.wav                1\n",
       "2    Neutral    2.wav                2\n",
       "3      Happy    3.wav                3\n",
       "4      Angry    4.wav                4"
      ]
     },
     "execution_count": 3,
     "metadata": {},
     "output_type": "execute_result"
    }
   ],
   "source": [
    "import librosa\n",
    "import numpy as np\n",
    "import pandas as pd\n",
    "import matplotlib.pyplot as plt\n",
    "import os\n",
    "import seaborn as sns\n",
    "from tqdm import tqdm\n",
    "\n",
    "path = './summer_2022_project/'\n",
    "audio_path = path + 'audio/'\n",
    "\n",
    "df = pd.read_csv(path+'development.csv', dtype={'filename':'string', 'emotion':'string'}) # set string as type\n",
    "eval_df = pd.read_csv(path+'evaluation.csv', dtype={'filename':'string'}) # set string as type\n",
    "\n",
    "labels = df.emotion.unique()\n",
    "labels_dict = {v:k for k,v in enumerate(labels)} #needed to transform categorical labels\n",
    "\n",
    "df['encoded_emotion'] = df['emotion'].map(labels_dict)\n",
    "df.head()"
   ]
  },
  {
   "cell_type": "code",
   "execution_count": 4,
   "metadata": {},
   "outputs": [
    {
     "name": "stderr",
     "output_type": "stream",
     "text": [
      "100%|██████████| 9597/9597 [05:13<00:00, 30.59it/s]\n"
     ]
    },
    {
     "data": {
      "text/html": [
       "<div>\n",
       "<style scoped>\n",
       "    .dataframe tbody tr th:only-of-type {\n",
       "        vertical-align: middle;\n",
       "    }\n",
       "\n",
       "    .dataframe tbody tr th {\n",
       "        vertical-align: top;\n",
       "    }\n",
       "\n",
       "    .dataframe thead th {\n",
       "        text-align: right;\n",
       "    }\n",
       "</style>\n",
       "<table border=\"1\" class=\"dataframe\">\n",
       "  <thead>\n",
       "    <tr style=\"text-align: right;\">\n",
       "      <th></th>\n",
       "      <th>feature_0</th>\n",
       "      <th>feature_1</th>\n",
       "      <th>feature_2</th>\n",
       "      <th>feature_3</th>\n",
       "      <th>feature_4</th>\n",
       "      <th>feature_5</th>\n",
       "      <th>feature_6</th>\n",
       "      <th>feature_7</th>\n",
       "      <th>feature_8</th>\n",
       "      <th>feature_9</th>\n",
       "      <th>...</th>\n",
       "      <th>feature_74</th>\n",
       "      <th>feature_75</th>\n",
       "      <th>feature_76</th>\n",
       "      <th>feature_77</th>\n",
       "      <th>feature_78</th>\n",
       "      <th>feature_79</th>\n",
       "      <th>duration</th>\n",
       "      <th>zcr_std</th>\n",
       "      <th>rms</th>\n",
       "      <th>encoded_emotion</th>\n",
       "    </tr>\n",
       "  </thead>\n",
       "  <tbody>\n",
       "    <tr>\n",
       "      <th>0</th>\n",
       "      <td>-434.947296</td>\n",
       "      <td>185.994385</td>\n",
       "      <td>8.123805</td>\n",
       "      <td>1.312057</td>\n",
       "      <td>29.068993</td>\n",
       "      <td>-3.046537</td>\n",
       "      <td>-10.406385</td>\n",
       "      <td>3.722903</td>\n",
       "      <td>-5.322249</td>\n",
       "      <td>-4.508665</td>\n",
       "      <td>...</td>\n",
       "      <td>5.227819</td>\n",
       "      <td>6.553337</td>\n",
       "      <td>5.952510</td>\n",
       "      <td>5.221297</td>\n",
       "      <td>4.624387</td>\n",
       "      <td>4.986556</td>\n",
       "      <td>2.169025</td>\n",
       "      <td>0.019185</td>\n",
       "      <td>0.020513</td>\n",
       "      <td>0</td>\n",
       "    </tr>\n",
       "    <tr>\n",
       "      <th>1</th>\n",
       "      <td>-514.145386</td>\n",
       "      <td>204.003021</td>\n",
       "      <td>16.829206</td>\n",
       "      <td>19.108717</td>\n",
       "      <td>42.536209</td>\n",
       "      <td>-0.292804</td>\n",
       "      <td>-3.393496</td>\n",
       "      <td>11.592195</td>\n",
       "      <td>-6.035374</td>\n",
       "      <td>-6.461175</td>\n",
       "      <td>...</td>\n",
       "      <td>6.279913</td>\n",
       "      <td>6.123712</td>\n",
       "      <td>4.965415</td>\n",
       "      <td>3.992120</td>\n",
       "      <td>3.572726</td>\n",
       "      <td>3.190157</td>\n",
       "      <td>2.669524</td>\n",
       "      <td>0.007790</td>\n",
       "      <td>0.011426</td>\n",
       "      <td>1</td>\n",
       "    </tr>\n",
       "    <tr>\n",
       "      <th>2</th>\n",
       "      <td>-621.917908</td>\n",
       "      <td>97.479301</td>\n",
       "      <td>-2.298154</td>\n",
       "      <td>5.042550</td>\n",
       "      <td>17.563442</td>\n",
       "      <td>-4.418389</td>\n",
       "      <td>-1.871202</td>\n",
       "      <td>2.579817</td>\n",
       "      <td>-8.780476</td>\n",
       "      <td>-2.857770</td>\n",
       "      <td>...</td>\n",
       "      <td>2.898494</td>\n",
       "      <td>3.125617</td>\n",
       "      <td>3.140290</td>\n",
       "      <td>3.014594</td>\n",
       "      <td>3.610637</td>\n",
       "      <td>3.346452</td>\n",
       "      <td>3.837415</td>\n",
       "      <td>0.025663</td>\n",
       "      <td>0.005510</td>\n",
       "      <td>2</td>\n",
       "    </tr>\n",
       "    <tr>\n",
       "      <th>3</th>\n",
       "      <td>-645.285950</td>\n",
       "      <td>102.834763</td>\n",
       "      <td>-13.571407</td>\n",
       "      <td>3.195033</td>\n",
       "      <td>22.753162</td>\n",
       "      <td>-6.143329</td>\n",
       "      <td>-4.344266</td>\n",
       "      <td>4.997008</td>\n",
       "      <td>-6.846626</td>\n",
       "      <td>-2.106956</td>\n",
       "      <td>...</td>\n",
       "      <td>3.135259</td>\n",
       "      <td>3.516814</td>\n",
       "      <td>2.899847</td>\n",
       "      <td>3.395291</td>\n",
       "      <td>3.941095</td>\n",
       "      <td>4.559505</td>\n",
       "      <td>3.403628</td>\n",
       "      <td>0.022393</td>\n",
       "      <td>0.005071</td>\n",
       "      <td>3</td>\n",
       "    </tr>\n",
       "    <tr>\n",
       "      <th>4</th>\n",
       "      <td>-296.718048</td>\n",
       "      <td>168.091614</td>\n",
       "      <td>-8.414569</td>\n",
       "      <td>3.255484</td>\n",
       "      <td>26.507524</td>\n",
       "      <td>-19.189367</td>\n",
       "      <td>-18.001055</td>\n",
       "      <td>4.069260</td>\n",
       "      <td>-10.768345</td>\n",
       "      <td>-11.851526</td>\n",
       "      <td>...</td>\n",
       "      <td>4.606706</td>\n",
       "      <td>4.388369</td>\n",
       "      <td>4.437510</td>\n",
       "      <td>4.270164</td>\n",
       "      <td>4.379461</td>\n",
       "      <td>4.369060</td>\n",
       "      <td>2.869751</td>\n",
       "      <td>0.022243</td>\n",
       "      <td>0.143314</td>\n",
       "      <td>4</td>\n",
       "    </tr>\n",
       "  </tbody>\n",
       "</table>\n",
       "<p>5 rows × 84 columns</p>\n",
       "</div>"
      ],
      "text/plain": [
       "    feature_0   feature_1  feature_2  feature_3  feature_4  feature_5  \\\n",
       "0 -434.947296  185.994385   8.123805   1.312057  29.068993  -3.046537   \n",
       "1 -514.145386  204.003021  16.829206  19.108717  42.536209  -0.292804   \n",
       "2 -621.917908   97.479301  -2.298154   5.042550  17.563442  -4.418389   \n",
       "3 -645.285950  102.834763 -13.571407   3.195033  22.753162  -6.143329   \n",
       "4 -296.718048  168.091614  -8.414569   3.255484  26.507524 -19.189367   \n",
       "\n",
       "   feature_6  feature_7  feature_8  feature_9  ...  feature_74  feature_75  \\\n",
       "0 -10.406385   3.722903  -5.322249  -4.508665  ...    5.227819    6.553337   \n",
       "1  -3.393496  11.592195  -6.035374  -6.461175  ...    6.279913    6.123712   \n",
       "2  -1.871202   2.579817  -8.780476  -2.857770  ...    2.898494    3.125617   \n",
       "3  -4.344266   4.997008  -6.846626  -2.106956  ...    3.135259    3.516814   \n",
       "4 -18.001055   4.069260 -10.768345 -11.851526  ...    4.606706    4.388369   \n",
       "\n",
       "   feature_76  feature_77  feature_78  feature_79  duration   zcr_std  \\\n",
       "0    5.952510    5.221297    4.624387    4.986556  2.169025  0.019185   \n",
       "1    4.965415    3.992120    3.572726    3.190157  2.669524  0.007790   \n",
       "2    3.140290    3.014594    3.610637    3.346452  3.837415  0.025663   \n",
       "3    2.899847    3.395291    3.941095    4.559505  3.403628  0.022393   \n",
       "4    4.437510    4.270164    4.379461    4.369060  2.869751  0.022243   \n",
       "\n",
       "        rms  encoded_emotion  \n",
       "0  0.020513                0  \n",
       "1  0.011426                1  \n",
       "2  0.005510                2  \n",
       "3  0.005071                3  \n",
       "4  0.143314                4  \n",
       "\n",
       "[5 rows x 84 columns]"
      ]
     },
     "execution_count": 4,
     "metadata": {},
     "output_type": "execute_result"
    }
   ],
   "source": [
    "d = dict()\n",
    "for filename in tqdm(df.filename):\n",
    "    d1 = dict()\n",
    "    signal, sr = librosa.load(audio_path + filename, res_type='kaiser_fast')\n",
    "    mfccs = librosa.feature.mfcc(y=signal, sr=sr, n_mfcc=40)\n",
    "    mfccs_mean = np.mean(mfccs, axis=-1) #mean along time axis. 1 value for each coefficient, the mean one\n",
    "    mfccs_std = np.std(mfccs, axis=-1) #std along time axis. 1 value for each coefficient, the std one\n",
    "    # delta_mfccs_mean = np.mean(librosa.feature.delta(mfccs), axis=-1)\n",
    "    # delta_mfccs_std = np.std(librosa.feature.delta(mfccs), axis=-1)\n",
    "    # delta2_mfccs_mean = np.mean(librosa.feature.delta(mfccs, order=2), axis=-1)\n",
    "    # delta2_mfccs_std = np.std(librosa.feature.delta(mfccs, order=2), axis=-1)\n",
    "    \n",
    "    #mel_mean = np.mean(librosa.feature.melspectrogram(signal, sr), axis=-1)\n",
    "    #mel_std = np.std(librosa.feature.melspectrogram(signal, sr), axis=-1)\n",
    "    #stft = np.abs(librosa.stft(signal))\n",
    "    #chroma_stft = np.mean(librosa.feature.chroma_stft(S=stft, sr=sr), axis=-1)\n",
    "    \n",
    "    \n",
    "    d1 = {f'feature_{k}':v for k,v in enumerate(\n",
    "        np.concatenate(\n",
    "            [\n",
    "             mfccs_mean, mfccs_std,\n",
    "             #stft,\n",
    "             #rms,\n",
    "             #mel_mean, mel_std,\n",
    "             # delta_mfccs_mean, delta_mfccs_std,\n",
    "             # delta2_mfccs_mean, delta2_mfccs_std\n",
    "             ]\n",
    "            )\n",
    "        )\n",
    "          } # extract mfccs\n",
    "    \n",
    "    d1['duration'] = signal.shape[0]/sr\n",
    "    d1['zcr_std'] = np.mean(librosa.feature.zero_crossing_rate(y=signal), axis=-1)[0]\n",
    "    d1['zcr_std'] = np.std(librosa.feature.zero_crossing_rate(y=signal), axis=-1)[0]\n",
    "    d1['rms'] = np.mean(librosa.feature.rms(y=signal), axis=-1)[0]\n",
    "    d[(int)(filename.split('.')[0])] = d1\n",
    "    \n",
    "temp_df = pd.DataFrame.from_dict(d).T    \n",
    "\n",
    "temp_df['encoded_emotion'] = df.encoded_emotion\n",
    "#temp_df['max_sample'] = temp_df['samples'].map(lambda x: max(x))\n",
    "temp_df = temp_df.astype({'duration':float})\n",
    "temp_df.head()"
   ]
  },
  {
   "cell_type": "code",
   "execution_count": 5,
   "metadata": {},
   "outputs": [
    {
     "name": "stdout",
     "output_type": "stream",
     "text": [
      "Fitting RF...\n",
      "Predicting using RF...\n",
      "RandomForestClassifier() 0.7212321560524815\n",
      "Fitting SVC...\n",
      "Predicting using SVC...\n",
      "SVC() 0.696574617177442\n"
     ]
    }
   ],
   "source": [
    "from sklearn.preprocessing import MinMaxScaler\n",
    "from sklearn.neural_network import MLPClassifier\n",
    "from sklearn.svm import SVC\n",
    "from sklearn.ensemble import RandomForestClassifier\n",
    "from sklearn.neighbors import KNeighborsClassifier\n",
    "from sklearn.model_selection import train_test_split\n",
    "from sklearn.metrics import f1_score\n",
    "from imblearn.over_sampling import SMOTE\n",
    "\n",
    "\n",
    "scores_rf = []\n",
    "scores_svm = []\n",
    "\n",
    "np.random.seed(0) #to make experiments reproducible\n",
    "\n",
    "\n",
    "smote = SMOTE(random_state=42)\n",
    "\n",
    "X, y = temp_df[temp_df.columns[:-1]], temp_df[temp_df.columns[-1]]\n",
    "X_res, y_res = smote.fit_resample(X,y)\n",
    "\n",
    "minmax = MinMaxScaler()\n",
    "svm_X_res = minmax.fit_transform(X_res)\n",
    "\n",
    "X_train, X_test, y_train, y_test = train_test_split(X_res, y_res, test_size=.2, random_state=42)\n",
    "svm_X_train, svm_X_test, svm_y_train, svm_y_test = train_test_split(svm_X_res, y_res, test_size=.2, random_state=42)\n",
    "\n",
    "y_train = y_train.astype(int)\n",
    "y_test = y_test.astype(int)\n",
    "\n",
    "print('Fitting RF...')\n",
    "rf = RandomForestClassifier().fit(X_train, y_train) # plain rf\n",
    "print('Predicting using RF...')\n",
    "preds = rf.predict(X_test)\n",
    "score = f1_score(y_test, preds, average='macro')\n",
    "scores_rf.append(score)\n",
    "print(rf, score)\n",
    "\n",
    "print('Fitting SVC...')\n",
    "svm = SVC().fit(svm_X_train, y_train)\n",
    "print('Predicting using SVC...')\n",
    "svm_preds = svm.predict(svm_X_test)\n",
    "svm_score = f1_score(y_test, svm_preds, average='macro')\n",
    "scores_svm.append(svm_score)\n",
    "print(svm, svm_score)\n",
    "\n"
   ]
  },
  {
   "cell_type": "markdown",
   "metadata": {},
   "source": [
    "|TYPE                      |  RF   |  SVM    |\n",
    "|--------------------------|-------|---------|\n",
    "|13 mfccs_mean + duration |0.64 | 0.57 |\n",
    "|40 mfccs_mean + duration|0.68 | 0.60 |\n",
    "|13 mfccs_mean + mfccs_std + duration| 0.685| 0.647|\n",
    "|40 mfccs_mean + mfccs_std + duration| 0.7181| 0.694|\n",
    "|13 {mfccs, delta e delta2} con mean e std + duration| 0.684| 0.657|\n",
    "|40 {mfccs, delta e delta2} con mean e std + duration| 0.711| 0.689|\n",
    "|13 mfccs_mean + mfccs_std + duration + zcr_mean + zcr_std|0.693|0.653|\n",
    "|40 mfccs_mean + mfccs_std + duration + zcr_mean + zcr_std|0.7188|0.697|\n",
    "|13 mfccs_mean + mfccs_std + duration + zcr_mean + zcr_std + RMS|0.6956|0.6512|\n",
    "|40 mfccs_mean + mfccs_std + duration + zcr_mean + zcr_std + RMS|0.7212|0.6966|\n",
    "\n",
    "_considerazioni_: \n",
    "  - mfccs, delta e delta2 peggiorano\n",
    "  - zcr è praticamente inutile. Forse perché ho già la durata "
   ]
  },
  {
   "cell_type": "code",
   "execution_count": 10,
   "metadata": {},
   "outputs": [
    {
     "name": "stderr",
     "output_type": "stream",
     "text": [
      "  0%|          | 0/9597 [00:00<?, ?it/s]/var/folders/2q/7qslh1r50qv5dxqpmmm9jcy00000gn/T/ipykernel_40620/4064337092.py:12: FutureWarning: Pass y=[-1.4814901e-03 -2.2505317e-03 -2.8206983e-03 ...  2.5998993e-06\n",
      "  1.7716397e-06  0.0000000e+00], sr=22050 as keyword args. From version 0.10 passing these as positional arguments will result in an error\n",
      "  mel_mean = np.mean(librosa.feature.melspectrogram(signal, sr), axis=-1)\n",
      "  0%|          | 0/9597 [00:00<?, ?it/s]\n"
     ]
    }
   ],
   "source": [
    "for filename in tqdm(df.filename):\n",
    "    d1 = dict()\n",
    "    signal, sr = librosa.load(audio_path + filename, res_type='kaiser_fast')\n",
    "    mfccs = librosa.feature.mfcc(y=signal, sr=sr, n_mfcc=13)\n",
    "    mfccs_mean = np.mean(mfccs, axis=-1) #mean along time axis. 1 value for each coefficient, the mean one\n",
    "    mfccs_std = np.std(mfccs, axis=-1) #std along time axis. 1 value for each coefficient, the std one\n",
    "    # delta_mfccs_mean = np.mean(librosa.feature.delta(mfccs), axis=-1)\n",
    "    # delta_mfccs_std = np.std(librosa.feature.delta(mfccs), axis=-1)\n",
    "    # delta2_mfccs_mean = np.mean(librosa.feature.delta(mfccs, order=2), axis=-1)\n",
    "    # delta2_mfccs_std = np.std(librosa.feature.delta(mfccs, order=2), axis=-1)\n",
    "    \n",
    "    mel_mean = np.mean(librosa.feature.melspectrogram(signal, sr), axis=-1)\n",
    "    #mel_std = np.std(librosa.feature.melspectrogram(signal, sr), axis=-1)\n",
    "    stft = np.abs(librosa.stft(signal))\n",
    "    chroma_stft = np.mean(librosa.feature.chroma_stft(S=stft, sr=sr), axis=-1)\n",
    "    break"
   ]
  },
  {
   "cell_type": "code",
   "execution_count": 6,
   "metadata": {},
   "outputs": [
    {
     "data": {
      "text/plain": [
       "(1025, 94)"
      ]
     },
     "execution_count": 6,
     "metadata": {},
     "output_type": "execute_result"
    }
   ],
   "source": [
    "stft.shape"
   ]
  },
  {
   "cell_type": "code",
   "execution_count": 9,
   "metadata": {},
   "outputs": [
    {
     "data": {
      "text/plain": [
       "(12,)"
      ]
     },
     "execution_count": 9,
     "metadata": {},
     "output_type": "execute_result"
    }
   ],
   "source": [
    "chroma_stft.shape"
   ]
  },
  {
   "cell_type": "code",
   "execution_count": 13,
   "metadata": {},
   "outputs": [
    {
     "name": "stderr",
     "output_type": "stream",
     "text": [
      "/var/folders/2q/7qslh1r50qv5dxqpmmm9jcy00000gn/T/ipykernel_40620/3066047194.py:1: FutureWarning: Pass y=[-1.4814901e-03 -2.2505317e-03 -2.8206983e-03 ...  2.5998993e-06\n",
      "  1.7716397e-06  0.0000000e+00], sr=22050 as keyword args. From version 0.10 passing these as positional arguments will result in an error\n",
      "  librosa.feature.melspectrogram(signal, sr)\n"
     ]
    },
    {
     "data": {
      "text/plain": [
       "array([[3.09983604e-02, 8.36301818e-02, 1.12023361e-01, ...,\n",
       "        4.16047908e-02, 6.11599796e-02, 8.03303272e-02],\n",
       "       [1.33671565e-02, 1.50624355e-02, 2.44162157e-02, ...,\n",
       "        1.77538563e-02, 6.27904711e-03, 1.39583787e-02],\n",
       "       [5.24798455e-03, 2.03774013e-02, 4.39825505e-02, ...,\n",
       "        1.52479792e-02, 9.73870791e-03, 7.55444216e-03],\n",
       "       ...,\n",
       "       [2.70752487e-08, 6.74173339e-09, 1.52858867e-12, ...,\n",
       "        1.89065191e-12, 1.76952192e-12, 8.40034151e-13],\n",
       "       [2.68111418e-08, 6.67458400e-09, 6.09769071e-13, ...,\n",
       "        5.79072272e-13, 4.19104774e-13, 2.68664675e-13],\n",
       "       [2.66668909e-08, 6.63849464e-09, 1.51537962e-13, ...,\n",
       "        1.75928811e-13, 1.73674944e-13, 1.27037446e-13]], dtype=float32)"
      ]
     },
     "execution_count": 13,
     "metadata": {},
     "output_type": "execute_result"
    }
   ],
   "source": [
    "librosa.feature.melspectrogram(signal, sr)"
   ]
  },
  {
   "cell_type": "code",
   "execution_count": 6,
   "metadata": {},
   "outputs": [],
   "source": [
    "from lightgbm import LGBMClassifier\n",
    "l = LGBMClassifier().fit(X_train, y_train)\n",
    "preds = l.predict(X_test)\n",
    "f1_score(y_test, preds, average='macro')"
   ]
  },
  {
   "cell_type": "code",
   "execution_count": null,
   "metadata": {},
   "outputs": [],
   "source": []
  }
 ],
 "metadata": {
  "interpreter": {
   "hash": "afad3e5d60d609398ecce3ba468213674dfc27eda2bcdfe27a1dfdc5eca24277"
  },
  "kernelspec": {
   "display_name": "Python 3.10.2 ('data_science')",
   "language": "python",
   "name": "python3"
  },
  "language_info": {
   "codemirror_mode": {
    "name": "ipython",
    "version": 3
   },
   "file_extension": ".py",
   "mimetype": "text/x-python",
   "name": "python",
   "nbconvert_exporter": "python",
   "pygments_lexer": "ipython3",
   "version": "3.10.2"
  },
  "orig_nbformat": 4
 },
 "nbformat": 4,
 "nbformat_minor": 2
}
